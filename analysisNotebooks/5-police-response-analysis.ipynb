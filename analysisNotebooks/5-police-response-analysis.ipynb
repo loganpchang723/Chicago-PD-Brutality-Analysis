{
 "cells": [
  {
   "cell_type": "markdown",
   "metadata": {
    "papermill": {
     "duration": 0.013416,
     "end_time": "2021-01-03T01:56:59.064754",
     "exception": false,
     "start_time": "2021-01-03T01:56:59.051338",
     "status": "completed"
    },
    "tags": []
   },
   "source": [
    "# Police Response Analysis\n",
    "## Logan Chang and Robert Yu\n",
    "## 12/12/20\n",
    "\n",
    "In this notebook, we examine how police response varies by resistance level faced. We stratify these analysis by race and create charts and output tables along with  some of our own insights. Most of the data covered here was done in the first 'Baseline EDA' notebook, but we add some new analysis here focusing on race and resistance level."
   ]
  },
  {
   "cell_type": "code",
   "execution_count": 1,
   "metadata": {
    "_cell_guid": "b1076dfc-b9ad-4769-8c92-a6c4dae69d19",
    "_uuid": "8f2839f25d086af736a60e9eeb907d3b93b6e0e5",
    "execution": {
     "iopub.execute_input": "2021-01-03T01:56:59.095761Z",
     "iopub.status.busy": "2021-01-03T01:56:59.095168Z",
     "iopub.status.idle": "2021-01-03T01:57:00.302193Z",
     "shell.execute_reply": "2021-01-03T01:57:00.301503Z"
    },
    "papermill": {
     "duration": 1.227037,
     "end_time": "2021-01-03T01:57:00.302318",
     "exception": false,
     "start_time": "2021-01-03T01:56:59.075281",
     "status": "completed"
    },
    "tags": []
   },
   "outputs": [
    {
     "name": "stdout",
     "output_type": "stream",
     "text": [
      "/kaggle/input/cpd-subjects-with-pb/subjects_with_PB.csv\n",
      "/kaggle/input/chicago-pd-police-brutality/TRR_FINAL_WITH_PB.csv\n"
     ]
    }
   ],
   "source": [
    "# This Python 3 environment comes with many helpful analytics libraries installed\n",
    "# It is defined by the kaggle/python Docker image: https://github.com/kaggle/docker-python\n",
    "# For example, here's several helpful packages to load\n",
    "\n",
    "import pandas as pd\n",
    "import matplotlib.pyplot as plt\n",
    "import seaborn as sns\n",
    "import math\n",
    "import json\n",
    "import numpy as np\n",
    "from scipy.stats import norm\n",
    "from sklearn.preprocessing import StandardScaler\n",
    "from scipy import stats\n",
    "import warnings\n",
    "warnings.filterwarnings('ignore')\n",
    "%matplotlib inline\n",
    "\n",
    "# Input data files are available in the read-only \"../input/\" directory\n",
    "# For example, running this (by clicking run or pressing Shift+Enter) will list all files under the input directory\n",
    "\n",
    "import os\n",
    "for dirname, _, filenames in os.walk('/kaggle/input'):\n",
    "    for filename in filenames:\n",
    "        print(os.path.join(dirname, filename))\n",
    "\n",
    "# You can write up to 20GB to the current directory (/kaggle/working/) that gets preserved as output when you create a version using \"Save & Run All\" \n",
    "# You can also write temporary files to /kaggle/temp/, but they won't be saved outside of the current session"
   ]
  },
  {
   "cell_type": "markdown",
   "metadata": {
    "papermill": {
     "duration": 0.01058,
     "end_time": "2021-01-03T01:57:00.324605",
     "exception": false,
     "start_time": "2021-01-03T01:57:00.314025",
     "status": "completed"
    },
    "tags": []
   },
   "source": [
    "Input reading:"
   ]
  },
  {
   "cell_type": "code",
   "execution_count": 2,
   "metadata": {
    "_cell_guid": "79c7e3d0-c299-4dcb-8224-4455121ee9b0",
    "_uuid": "d629ff2d2480ee46fbb7e2d37f6b5fab8052498a",
    "execution": {
     "iopub.execute_input": "2021-01-03T01:57:00.352783Z",
     "iopub.status.busy": "2021-01-03T01:57:00.352196Z",
     "iopub.status.idle": "2021-01-03T01:57:00.894518Z",
     "shell.execute_reply": "2021-01-03T01:57:00.893461Z"
    },
    "papermill": {
     "duration": 0.559025,
     "end_time": "2021-01-03T01:57:00.894642",
     "exception": false,
     "start_time": "2021-01-03T01:57:00.335617",
     "status": "completed"
    },
    "tags": []
   },
   "outputs": [],
   "source": [
    "#input reading\n",
    "df_trr = pd.read_csv('/kaggle/input/chicago-pd-police-brutality/TRR_FINAL_WITH_PB.csv')\n",
    "df_subjects = pd.read_csv('/kaggle/input/cpd-subjects-with-pb/subjects_with_PB.csv')"
   ]
  },
  {
   "cell_type": "code",
   "execution_count": 3,
   "metadata": {
    "execution": {
     "iopub.execute_input": "2021-01-03T01:57:00.937354Z",
     "iopub.status.busy": "2021-01-03T01:57:00.926026Z",
     "iopub.status.idle": "2021-01-03T01:57:00.957250Z",
     "shell.execute_reply": "2021-01-03T01:57:00.957694Z"
    },
    "papermill": {
     "duration": 0.052188,
     "end_time": "2021-01-03T01:57:00.957823",
     "exception": false,
     "start_time": "2021-01-03T01:57:00.905635",
     "status": "completed"
    },
    "tags": []
   },
   "outputs": [
    {
     "data": {
      "text/html": [
       "<div>\n",
       "<style scoped>\n",
       "    .dataframe tbody tr th:only-of-type {\n",
       "        vertical-align: middle;\n",
       "    }\n",
       "\n",
       "    .dataframe tbody tr th {\n",
       "        vertical-align: top;\n",
       "    }\n",
       "\n",
       "    .dataframe thead th {\n",
       "        text-align: right;\n",
       "    }\n",
       "</style>\n",
       "<table border=\"1\" class=\"dataframe\">\n",
       "  <thead>\n",
       "    <tr style=\"text-align: right;\">\n",
       "      <th></th>\n",
       "      <th>trr_id</th>\n",
       "      <th>sr_no</th>\n",
       "      <th>se_no</th>\n",
       "      <th>beat</th>\n",
       "      <th>party_fired_first</th>\n",
       "      <th>taser</th>\n",
       "      <th>firearm_used</th>\n",
       "      <th>trr_year</th>\n",
       "      <th>weapon_discharge_yn</th>\n",
       "      <th>list_of_subcats</th>\n",
       "      <th>...</th>\n",
       "      <th>subject_armed</th>\n",
       "      <th>injured</th>\n",
       "      <th>alleged_injury</th>\n",
       "      <th>subject_no</th>\n",
       "      <th>event_id</th>\n",
       "      <th>race</th>\n",
       "      <th>pb_1</th>\n",
       "      <th>pb_2</th>\n",
       "      <th>max_officer_action</th>\n",
       "      <th>pb_3</th>\n",
       "    </tr>\n",
       "  </thead>\n",
       "  <tbody>\n",
       "    <tr>\n",
       "      <th>0</th>\n",
       "      <td>4</td>\n",
       "      <td>1.0</td>\n",
       "      <td>1.0</td>\n",
       "      <td>1322</td>\n",
       "      <td>NaN</td>\n",
       "      <td>0</td>\n",
       "      <td>0</td>\n",
       "      <td>2004</td>\n",
       "      <td>0</td>\n",
       "      <td>4.2,</td>\n",
       "      <td>...</td>\n",
       "      <td>0</td>\n",
       "      <td>1</td>\n",
       "      <td>1</td>\n",
       "      <td>1.0</td>\n",
       "      <td>1</td>\n",
       "      <td>HISPANIC</td>\n",
       "      <td>1</td>\n",
       "      <td>1</td>\n",
       "      <td>4.0</td>\n",
       "      <td>1</td>\n",
       "    </tr>\n",
       "    <tr>\n",
       "      <th>1</th>\n",
       "      <td>5</td>\n",
       "      <td>1.0</td>\n",
       "      <td>1.0</td>\n",
       "      <td>1322</td>\n",
       "      <td>NaN</td>\n",
       "      <td>0</td>\n",
       "      <td>0</td>\n",
       "      <td>2004</td>\n",
       "      <td>0</td>\n",
       "      <td>4.2,</td>\n",
       "      <td>...</td>\n",
       "      <td>0</td>\n",
       "      <td>1</td>\n",
       "      <td>1</td>\n",
       "      <td>1.0</td>\n",
       "      <td>1</td>\n",
       "      <td>HISPANIC</td>\n",
       "      <td>1</td>\n",
       "      <td>1</td>\n",
       "      <td>4.0</td>\n",
       "      <td>1</td>\n",
       "    </tr>\n",
       "    <tr>\n",
       "      <th>2</th>\n",
       "      <td>7</td>\n",
       "      <td>2.0</td>\n",
       "      <td>2.0</td>\n",
       "      <td>1131</td>\n",
       "      <td>NaN</td>\n",
       "      <td>0</td>\n",
       "      <td>0</td>\n",
       "      <td>2004</td>\n",
       "      <td>1</td>\n",
       "      <td>4.1,4.2,</td>\n",
       "      <td>...</td>\n",
       "      <td>0</td>\n",
       "      <td>0</td>\n",
       "      <td>0</td>\n",
       "      <td>2.0</td>\n",
       "      <td>2</td>\n",
       "      <td>BLACK</td>\n",
       "      <td>1</td>\n",
       "      <td>0</td>\n",
       "      <td>4.0</td>\n",
       "      <td>1</td>\n",
       "    </tr>\n",
       "    <tr>\n",
       "      <th>3</th>\n",
       "      <td>8</td>\n",
       "      <td>2.0</td>\n",
       "      <td>2.0</td>\n",
       "      <td>1131</td>\n",
       "      <td>NaN</td>\n",
       "      <td>0</td>\n",
       "      <td>0</td>\n",
       "      <td>2004</td>\n",
       "      <td>0</td>\n",
       "      <td>4.2,</td>\n",
       "      <td>...</td>\n",
       "      <td>0</td>\n",
       "      <td>0</td>\n",
       "      <td>0</td>\n",
       "      <td>2.0</td>\n",
       "      <td>2</td>\n",
       "      <td>BLACK</td>\n",
       "      <td>1</td>\n",
       "      <td>0</td>\n",
       "      <td>4.0</td>\n",
       "      <td>1</td>\n",
       "    </tr>\n",
       "    <tr>\n",
       "      <th>4</th>\n",
       "      <td>9</td>\n",
       "      <td>3.0</td>\n",
       "      <td>3.0</td>\n",
       "      <td>1112</td>\n",
       "      <td>NaN</td>\n",
       "      <td>0</td>\n",
       "      <td>0</td>\n",
       "      <td>2004</td>\n",
       "      <td>0</td>\n",
       "      <td>4.2,3.3,</td>\n",
       "      <td>...</td>\n",
       "      <td>0</td>\n",
       "      <td>0</td>\n",
       "      <td>0</td>\n",
       "      <td>3.0</td>\n",
       "      <td>3</td>\n",
       "      <td>BLACK</td>\n",
       "      <td>1</td>\n",
       "      <td>0</td>\n",
       "      <td>4.0</td>\n",
       "      <td>1</td>\n",
       "    </tr>\n",
       "  </tbody>\n",
       "</table>\n",
       "<p>5 rows × 35 columns</p>\n",
       "</div>"
      ],
      "text/plain": [
       "   trr_id  sr_no  se_no  beat party_fired_first  taser  firearm_used  \\\n",
       "0       4    1.0    1.0  1322               NaN      0             0   \n",
       "1       5    1.0    1.0  1322               NaN      0             0   \n",
       "2       7    2.0    2.0  1131               NaN      0             0   \n",
       "3       8    2.0    2.0  1131               NaN      0             0   \n",
       "4       9    3.0    3.0  1112               NaN      0             0   \n",
       "\n",
       "   trr_year  weapon_discharge_yn list_of_subcats  ... subject_armed  injured  \\\n",
       "0      2004                    0            4.2,  ...             0        1   \n",
       "1      2004                    0            4.2,  ...             0        1   \n",
       "2      2004                    1        4.1,4.2,  ...             0        0   \n",
       "3      2004                    0            4.2,  ...             0        0   \n",
       "4      2004                    0        4.2,3.3,  ...             0        0   \n",
       "\n",
       "   alleged_injury  subject_no event_id      race  pb_1  pb_2  \\\n",
       "0               1         1.0        1  HISPANIC     1     1   \n",
       "1               1         1.0        1  HISPANIC     1     1   \n",
       "2               0         2.0        2     BLACK     1     0   \n",
       "3               0         2.0        2     BLACK     1     0   \n",
       "4               0         3.0        3     BLACK     1     0   \n",
       "\n",
       "   max_officer_action  pb_3  \n",
       "0                 4.0     1  \n",
       "1                 4.0     1  \n",
       "2                 4.0     1  \n",
       "3                 4.0     1  \n",
       "4                 4.0     1  \n",
       "\n",
       "[5 rows x 35 columns]"
      ]
     },
     "execution_count": 3,
     "metadata": {},
     "output_type": "execute_result"
    }
   ],
   "source": [
    "#just peek at the data we have\n",
    "df_trr.head()"
   ]
  },
  {
   "cell_type": "code",
   "execution_count": 4,
   "metadata": {
    "execution": {
     "iopub.execute_input": "2021-01-03T01:57:00.986257Z",
     "iopub.status.busy": "2021-01-03T01:57:00.985585Z",
     "iopub.status.idle": "2021-01-03T01:57:00.988558Z",
     "shell.execute_reply": "2021-01-03T01:57:00.988992Z"
    },
    "papermill": {
     "duration": 0.019765,
     "end_time": "2021-01-03T01:57:00.989135",
     "exception": false,
     "start_time": "2021-01-03T01:57:00.969370",
     "status": "completed"
    },
    "tags": []
   },
   "outputs": [
    {
     "data": {
      "text/plain": [
       "Index(['trr_id', 'sr_no', 'se_no', 'beat', 'party_fired_first', 'taser',\n",
       "       'firearm_used', 'trr_year', 'weapon_discharge_yn', 'list_of_subcats',\n",
       "       'list_of_cats', 'number_of_member_actions', 'number_of_subject_actions',\n",
       "       'highest_resistance_level', 'list_of_subject_actions',\n",
       "       'subject_pulled_away', 'subject_disobey_verbal', 'subject_stiffened',\n",
       "       'subject_fled', 'subject_attack_no_weapon', 'subject_battery_threat',\n",
       "       'subject_had_weapon', 'subject_attack_with_weapon',\n",
       "       'subject_deadly_force', 'subject_other', 'subject_armed', 'injured',\n",
       "       'alleged_injury', 'subject_no', 'event_id', 'race', 'pb_1', 'pb_2',\n",
       "       'max_officer_action', 'pb_3'],\n",
       "      dtype='object')"
      ]
     },
     "execution_count": 4,
     "metadata": {},
     "output_type": "execute_result"
    }
   ],
   "source": [
    "#looking at what kind of data we have to work with\n",
    "df_trr.columns"
   ]
  },
  {
   "cell_type": "markdown",
   "metadata": {
    "papermill": {
     "duration": 0.011575,
     "end_time": "2021-01-03T01:57:01.012842",
     "exception": false,
     "start_time": "2021-01-03T01:57:01.001267",
     "status": "completed"
    },
    "tags": []
   },
   "source": [
    "We need to add level of reported police resistance to each subject entry from df_trr to df_subjects:"
   ]
  },
  {
   "cell_type": "code",
   "execution_count": 5,
   "metadata": {
    "execution": {
     "iopub.execute_input": "2021-01-03T01:57:01.039536Z",
     "iopub.status.busy": "2021-01-03T01:57:01.038955Z",
     "iopub.status.idle": "2021-01-03T01:57:52.977759Z",
     "shell.execute_reply": "2021-01-03T01:57:52.976715Z"
    },
    "papermill": {
     "duration": 51.953106,
     "end_time": "2021-01-03T01:57:52.977890",
     "exception": false,
     "start_time": "2021-01-03T01:57:01.024784",
     "status": "completed"
    },
    "tags": []
   },
   "outputs": [],
   "source": [
    "#adding highest level of resistance for each\n",
    "def get_res(trr_list, df_trr):\n",
    "    biggest = -1\n",
    "    for trr in trr_list:\n",
    "        trr_entry = df_trr.loc[df_trr['trr_id'] == trr]\n",
    "#         print(trr_entry['highest_resistance_level'].values)\n",
    "        try:\n",
    "            biggest = max(biggest, int(trr_entry['highest_resistance_level'].values))\n",
    "        except ValueError:\n",
    "            continue\n",
    "#         print(biggest)\n",
    "    return biggest\n",
    "\n",
    "highest_res_level = {}\n",
    "for i in range (0, len(df_subjects)):\n",
    "    trrs = df_subjects['list_of_trr_id'][i]\n",
    "    trr_list = list(map(int, trrs[:-1].split(\",\")))\n",
    "    highest_res_level[i] = get_res(trr_list, df_trr)"
   ]
  },
  {
   "cell_type": "code",
   "execution_count": 6,
   "metadata": {
    "execution": {
     "iopub.execute_input": "2021-01-03T01:57:53.009324Z",
     "iopub.status.busy": "2021-01-03T01:57:53.008734Z",
     "iopub.status.idle": "2021-01-03T01:57:53.048845Z",
     "shell.execute_reply": "2021-01-03T01:57:53.048292Z"
    },
    "papermill": {
     "duration": 0.058402,
     "end_time": "2021-01-03T01:57:53.048953",
     "exception": false,
     "start_time": "2021-01-03T01:57:52.990551",
     "status": "completed"
    },
    "tags": []
   },
   "outputs": [
    {
     "data": {
      "text/html": [
       "<div>\n",
       "<style scoped>\n",
       "    .dataframe tbody tr th:only-of-type {\n",
       "        vertical-align: middle;\n",
       "    }\n",
       "\n",
       "    .dataframe tbody tr th {\n",
       "        vertical-align: top;\n",
       "    }\n",
       "\n",
       "    .dataframe thead th {\n",
       "        text-align: right;\n",
       "    }\n",
       "</style>\n",
       "<table border=\"1\" class=\"dataframe\">\n",
       "  <thead>\n",
       "    <tr style=\"text-align: right;\">\n",
       "      <th></th>\n",
       "      <th>subject_ID</th>\n",
       "      <th>list_of_trr_id</th>\n",
       "      <th>gender</th>\n",
       "      <th>race</th>\n",
       "      <th>age</th>\n",
       "      <th>pb</th>\n",
       "      <th>subcats</th>\n",
       "      <th>age_band</th>\n",
       "      <th>highest_resistance_level</th>\n",
       "    </tr>\n",
       "  </thead>\n",
       "  <tbody>\n",
       "    <tr>\n",
       "      <th>0</th>\n",
       "      <td>1.0</td>\n",
       "      <td>4,5,</td>\n",
       "      <td>MALE</td>\n",
       "      <td>HISPANIC</td>\n",
       "      <td>38.0</td>\n",
       "      <td>1.0</td>\n",
       "      <td>4.2</td>\n",
       "      <td>30-39</td>\n",
       "      <td>1</td>\n",
       "    </tr>\n",
       "    <tr>\n",
       "      <th>1</th>\n",
       "      <td>2.0</td>\n",
       "      <td>7,8,</td>\n",
       "      <td>MALE</td>\n",
       "      <td>BLACK</td>\n",
       "      <td>25.0</td>\n",
       "      <td>0.0</td>\n",
       "      <td>4.2, 4.1</td>\n",
       "      <td>20-29</td>\n",
       "      <td>1</td>\n",
       "    </tr>\n",
       "    <tr>\n",
       "      <th>2</th>\n",
       "      <td>3.0</td>\n",
       "      <td>9,</td>\n",
       "      <td>MALE</td>\n",
       "      <td>BLACK</td>\n",
       "      <td>24.0</td>\n",
       "      <td>0.0</td>\n",
       "      <td>4.2, 3.3</td>\n",
       "      <td>20-29</td>\n",
       "      <td>1</td>\n",
       "    </tr>\n",
       "    <tr>\n",
       "      <th>3</th>\n",
       "      <td>4.0</td>\n",
       "      <td>10,</td>\n",
       "      <td>MALE</td>\n",
       "      <td>BLACK</td>\n",
       "      <td>21.0</td>\n",
       "      <td>0.0</td>\n",
       "      <td>3.3</td>\n",
       "      <td>20-29</td>\n",
       "      <td>0</td>\n",
       "    </tr>\n",
       "    <tr>\n",
       "      <th>4</th>\n",
       "      <td>5.0</td>\n",
       "      <td>11,12,</td>\n",
       "      <td>MALE</td>\n",
       "      <td>BLACK</td>\n",
       "      <td>21.0</td>\n",
       "      <td>1.0</td>\n",
       "      <td>4.2, 3.3</td>\n",
       "      <td>20-29</td>\n",
       "      <td>0</td>\n",
       "    </tr>\n",
       "  </tbody>\n",
       "</table>\n",
       "</div>"
      ],
      "text/plain": [
       "   subject_ID list_of_trr_id gender      race   age   pb   subcats age_band  \\\n",
       "0         1.0           4,5,   MALE  HISPANIC  38.0  1.0       4.2    30-39   \n",
       "1         2.0           7,8,   MALE     BLACK  25.0  0.0  4.2, 4.1    20-29   \n",
       "2         3.0             9,   MALE     BLACK  24.0  0.0  4.2, 3.3    20-29   \n",
       "3         4.0            10,   MALE     BLACK  21.0  0.0       3.3    20-29   \n",
       "4         5.0         11,12,   MALE     BLACK  21.0  1.0  4.2, 3.3    20-29   \n",
       "\n",
       "   highest_resistance_level  \n",
       "0                         1  \n",
       "1                         1  \n",
       "2                         1  \n",
       "3                         0  \n",
       "4                         0  "
      ]
     },
     "execution_count": 6,
     "metadata": {},
     "output_type": "execute_result"
    }
   ],
   "source": [
    "#put highest_res_level into df_subjects\n",
    "df_temp = pd.DataFrame.from_dict(highest_res_level, orient = 'index')\n",
    "df_temp.columns = ['highest_resistance_level']\n",
    "df_subjects = pd.concat([df_subjects, df_temp], axis=1)\n",
    "# new_columns = []\n",
    "# for column in df_subjects.columns:\n",
    "#     new_columns.append(column)\n",
    "# new_columns.append(\"highest_resistance_level\")\n",
    "# df_subjects.columns = new_columns\n",
    "df_subjects.head()"
   ]
  },
  {
   "cell_type": "markdown",
   "metadata": {
    "papermill": {
     "duration": 0.012294,
     "end_time": "2021-01-03T01:57:53.074457",
     "exception": false,
     "start_time": "2021-01-03T01:57:53.062163",
     "status": "completed"
    },
    "tags": []
   },
   "source": [
    "We did this already in a previous notebook, but let's look at the breakdown of resistance level by race again:"
   ]
  },
  {
   "cell_type": "code",
   "execution_count": 7,
   "metadata": {
    "execution": {
     "iopub.execute_input": "2021-01-03T01:57:53.110045Z",
     "iopub.status.busy": "2021-01-03T01:57:53.104177Z",
     "iopub.status.idle": "2021-01-03T01:57:53.113717Z",
     "shell.execute_reply": "2021-01-03T01:57:53.114128Z"
    },
    "papermill": {
     "duration": 0.027238,
     "end_time": "2021-01-03T01:57:53.114264",
     "exception": false,
     "start_time": "2021-01-03T01:57:53.087026",
     "status": "completed"
    },
    "tags": []
   },
   "outputs": [
    {
     "name": "stdout",
     "output_type": "stream",
     "text": [
      "Breakdown of Total Subjects by Race: \n",
      "BLACK                             30211\n",
      "HISPANIC                           5653\n",
      "WHITE                              4065\n",
      "ASIAN/PACIFIC ISLANDER              292\n",
      "NATIVE AMERICAN/ALASKAN NATIVE       35\n",
      "Name: race, dtype: int64\n"
     ]
    }
   ],
   "source": [
    "#breakdown of races of all subjects\n",
    "print('Breakdown of Total Subjects by Race: ')\n",
    "print(df_subjects.race.value_counts())"
   ]
  },
  {
   "cell_type": "code",
   "execution_count": 8,
   "metadata": {
    "execution": {
     "iopub.execute_input": "2021-01-03T01:57:53.146284Z",
     "iopub.status.busy": "2021-01-03T01:57:53.145183Z",
     "iopub.status.idle": "2021-01-03T01:57:53.184686Z",
     "shell.execute_reply": "2021-01-03T01:57:53.185121Z"
    },
    "papermill": {
     "duration": 0.058251,
     "end_time": "2021-01-03T01:57:53.185260",
     "exception": false,
     "start_time": "2021-01-03T01:57:53.127009",
     "status": "completed"
    },
    "tags": []
   },
   "outputs": [
    {
     "name": "stdout",
     "output_type": "stream",
     "text": [
      "Number of Subjects with Resitance Level of -1 by Race:\n",
      "BLACK    3\n",
      "WHITE    2\n",
      "Name: race, dtype: int64\n",
      "-------------------------------------------------------\n",
      "Number of Subjects with Resitance Level of 0 by Race:\n",
      "BLACK                     290\n",
      "HISPANIC                   69\n",
      "WHITE                      64\n",
      "ASIAN/PACIFIC ISLANDER      4\n",
      "Name: race, dtype: int64\n",
      "-------------------------------------------------------\n",
      "Number of Subjects with Resitance Level of 1 by Race:\n",
      "BLACK                             12948\n",
      "HISPANIC                           2278\n",
      "WHITE                              1536\n",
      "ASIAN/PACIFIC ISLANDER              132\n",
      "NATIVE AMERICAN/ALASKAN NATIVE       11\n",
      "Name: race, dtype: int64\n",
      "-------------------------------------------------------\n",
      "Number of Subjects with Resitance Level of 2 by Race:\n",
      "BLACK                             4161\n",
      "HISPANIC                           797\n",
      "WHITE                              574\n",
      "ASIAN/PACIFIC ISLANDER              45\n",
      "NATIVE AMERICAN/ALASKAN NATIVE       5\n",
      "Name: race, dtype: int64\n",
      "-------------------------------------------------------\n",
      "Number of Subjects with Resitance Level of 3 by Race:\n",
      "BLACK                             2093\n",
      "HISPANIC                           445\n",
      "WHITE                              239\n",
      "ASIAN/PACIFIC ISLANDER              12\n",
      "NATIVE AMERICAN/ALASKAN NATIVE       2\n",
      "Name: race, dtype: int64\n",
      "-------------------------------------------------------\n",
      "Number of Subjects with Resitance Level of 4 by Race:\n",
      "BLACK                             9595\n",
      "HISPANIC                          1825\n",
      "WHITE                             1511\n",
      "ASIAN/PACIFIC ISLANDER              79\n",
      "NATIVE AMERICAN/ALASKAN NATIVE      16\n",
      "Name: race, dtype: int64\n",
      "-------------------------------------------------------\n",
      "Number of Subjects with Resitance Level of 5 by Race:\n",
      "BLACK                             1121\n",
      "HISPANIC                           239\n",
      "WHITE                              139\n",
      "ASIAN/PACIFIC ISLANDER              20\n",
      "NATIVE AMERICAN/ALASKAN NATIVE       1\n",
      "Name: race, dtype: int64\n",
      "-------------------------------------------------------\n"
     ]
    }
   ],
   "source": [
    "#breakdown of race of subjects at each resitance level\n",
    "for res_level in sorted(df_subjects.highest_resistance_level.unique()):\n",
    "    temp = df_subjects.loc[df_subjects.highest_resistance_level == res_level]\n",
    "    print('Number of Subjects with Resitance Level of '+str(res_level)+' by Race:')\n",
    "    print(temp.race.value_counts())\n",
    "    print('-'*55)"
   ]
  },
  {
   "cell_type": "code",
   "execution_count": 9,
   "metadata": {
    "execution": {
     "iopub.execute_input": "2021-01-03T01:57:53.219281Z",
     "iopub.status.busy": "2021-01-03T01:57:53.218684Z",
     "iopub.status.idle": "2021-01-03T01:57:53.725217Z",
     "shell.execute_reply": "2021-01-03T01:57:53.725849Z"
    },
    "papermill": {
     "duration": 0.527228,
     "end_time": "2021-01-03T01:57:53.726014",
     "exception": false,
     "start_time": "2021-01-03T01:57:53.198786",
     "status": "completed"
    },
    "tags": []
   },
   "outputs": [
    {
     "data": {
      "image/png": "[encoded data removed]",
      "text/plain": [
       "<Figure size 1080x1080 with 6 Axes>"
      ]
     },
     "metadata": {},
     "output_type": "display_data"
    }
   ],
   "source": [
    "#PIE CHARTS\n",
    "fig, axs = plt.subplots(6, figsize = (15,15))\n",
    "fig.suptitle('Pie Charts of Race Breakdown of Subjects in Each Resistance Level', fontsize = 14)\n",
    "for i in range(0,6):\n",
    "    axs[i].set_title('Number of Subjects with a Resistance Level of '+str(i))\n",
    "    data = json.loads(df_subjects.loc[df_subjects.highest_resistance_level == i].race.value_counts().to_json())\n",
    "    axs[i].pie(data.values(), autopct =' %1.1f%%')\n",
    "    axs[i].legend(data.keys(), bbox_to_anchor = (1.05,1))\n",
    "# plt.tight_layout()\n",
    "plt.show()"
   ]
  },
  {
   "cell_type": "markdown",
   "metadata": {
    "papermill": {
     "duration": 0.016222,
     "end_time": "2021-01-03T01:57:53.760106",
     "exception": false,
     "start_time": "2021-01-03T01:57:53.743884",
     "status": "completed"
    },
    "tags": []
   },
   "source": [
    "Notes on this data:\n",
    "* -1 resitance means no resistance measured\n",
    "* Blacks make up the most number of subjects at all levels of resistance. This is not surprising given the sheer volume of Black subjects\n",
    "* All of the resistance levels follow the same \"ranking\" of number of subjects by race at each resistance level (Black, Hispanic, White, Asian, Native American)\n",
    "* The number of black subjects is usually ~4x-8x the number of Hispanic subjects, which is usually ~1.5x the number of White subjects at each resistance level. This matches the differences between the same race groups among total subjects"
   ]
  },
  {
   "cell_type": "markdown",
   "metadata": {
    "papermill": {
     "duration": 0.016345,
     "end_time": "2021-01-03T01:57:53.793110",
     "exception": false,
     "start_time": "2021-01-03T01:57:53.776765",
     "status": "completed"
    },
    "tags": []
   },
   "source": [
    "Now, let's isolate each subject by resistance level and see what happens:"
   ]
  },
  {
   "cell_type": "code",
   "execution_count": 10,
   "metadata": {
    "execution": {
     "iopub.execute_input": "2021-01-03T01:57:53.835978Z",
     "iopub.status.busy": "2021-01-03T01:57:53.835276Z",
     "iopub.status.idle": "2021-01-03T01:57:57.182157Z",
     "shell.execute_reply": "2021-01-03T01:57:57.181669Z"
    },
    "papermill": {
     "duration": 3.37143,
     "end_time": "2021-01-03T01:57:57.182263",
     "exception": false,
     "start_time": "2021-01-03T01:57:53.810833",
     "status": "completed"
    },
    "tags": []
   },
   "outputs": [
    {
     "data": {
      "text/html": [
       "<div>\n",
       "<style scoped>\n",
       "    .dataframe tbody tr th:only-of-type {\n",
       "        vertical-align: middle;\n",
       "    }\n",
       "\n",
       "    .dataframe tbody tr th {\n",
       "        vertical-align: top;\n",
       "    }\n",
       "\n",
       "    .dataframe thead th {\n",
       "        text-align: right;\n",
       "    }\n",
       "</style>\n",
       "<table border=\"1\" class=\"dataframe\">\n",
       "  <thead>\n",
       "    <tr style=\"text-align: right;\">\n",
       "      <th></th>\n",
       "      <th>subject_ID</th>\n",
       "      <th>list_of_trr_id</th>\n",
       "      <th>gender</th>\n",
       "      <th>race</th>\n",
       "      <th>age</th>\n",
       "      <th>pb</th>\n",
       "      <th>subcats</th>\n",
       "      <th>age_band</th>\n",
       "      <th>highest_resistance_level</th>\n",
       "      <th>max_force</th>\n",
       "    </tr>\n",
       "  </thead>\n",
       "  <tbody>\n",
       "    <tr>\n",
       "      <th>0</th>\n",
       "      <td>1.0</td>\n",
       "      <td>4,5,</td>\n",
       "      <td>MALE</td>\n",
       "      <td>HISPANIC</td>\n",
       "      <td>38.0</td>\n",
       "      <td>1.0</td>\n",
       "      <td>4.2</td>\n",
       "      <td>30-39</td>\n",
       "      <td>1</td>\n",
       "      <td>4.0</td>\n",
       "    </tr>\n",
       "    <tr>\n",
       "      <th>1</th>\n",
       "      <td>2.0</td>\n",
       "      <td>7,8,</td>\n",
       "      <td>MALE</td>\n",
       "      <td>BLACK</td>\n",
       "      <td>25.0</td>\n",
       "      <td>0.0</td>\n",
       "      <td>4.2, 4.1</td>\n",
       "      <td>20-29</td>\n",
       "      <td>1</td>\n",
       "      <td>4.0</td>\n",
       "    </tr>\n",
       "    <tr>\n",
       "      <th>2</th>\n",
       "      <td>3.0</td>\n",
       "      <td>9,</td>\n",
       "      <td>MALE</td>\n",
       "      <td>BLACK</td>\n",
       "      <td>24.0</td>\n",
       "      <td>0.0</td>\n",
       "      <td>4.2, 3.3</td>\n",
       "      <td>20-29</td>\n",
       "      <td>1</td>\n",
       "      <td>4.0</td>\n",
       "    </tr>\n",
       "    <tr>\n",
       "      <th>3</th>\n",
       "      <td>4.0</td>\n",
       "      <td>10,</td>\n",
       "      <td>MALE</td>\n",
       "      <td>BLACK</td>\n",
       "      <td>21.0</td>\n",
       "      <td>0.0</td>\n",
       "      <td>3.3</td>\n",
       "      <td>20-29</td>\n",
       "      <td>0</td>\n",
       "      <td>3.0</td>\n",
       "    </tr>\n",
       "    <tr>\n",
       "      <th>4</th>\n",
       "      <td>5.0</td>\n",
       "      <td>11,12,</td>\n",
       "      <td>MALE</td>\n",
       "      <td>BLACK</td>\n",
       "      <td>21.0</td>\n",
       "      <td>1.0</td>\n",
       "      <td>4.2, 3.3</td>\n",
       "      <td>20-29</td>\n",
       "      <td>0</td>\n",
       "      <td>4.0</td>\n",
       "    </tr>\n",
       "  </tbody>\n",
       "</table>\n",
       "</div>"
      ],
      "text/plain": [
       "   subject_ID list_of_trr_id gender      race   age   pb   subcats age_band  \\\n",
       "0         1.0           4,5,   MALE  HISPANIC  38.0  1.0       4.2    30-39   \n",
       "1         2.0           7,8,   MALE     BLACK  25.0  0.0  4.2, 4.1    20-29   \n",
       "2         3.0             9,   MALE     BLACK  24.0  0.0  4.2, 3.3    20-29   \n",
       "3         4.0            10,   MALE     BLACK  21.0  0.0       3.3    20-29   \n",
       "4         5.0         11,12,   MALE     BLACK  21.0  1.0  4.2, 3.3    20-29   \n",
       "\n",
       "   highest_resistance_level  max_force  \n",
       "0                         1        4.0  \n",
       "1                         1        4.0  \n",
       "2                         1        4.0  \n",
       "3                         0        3.0  \n",
       "4                         0        4.0  "
      ]
     },
     "execution_count": 10,
     "metadata": {},
     "output_type": "execute_result"
    }
   ],
   "source": [
    "#add a new column that's the maximum level of police force used\n",
    "max_force = {}\n",
    "i = 0\n",
    "def get_max_force(df_subjects):\n",
    "    global i\n",
    "    for index, row in df_subjects.iterrows():\n",
    "        if pd.isnull(row['subcats']):\n",
    "            max_force[i] = 0.0\n",
    "        else:\n",
    "            subcats = list(map(float, row['subcats'].split(\", \")))\n",
    "            max_force[i] = math.floor(max(subcats))\n",
    "        i += 1\n",
    "get_max_force(df_subjects)\n",
    "df_temp = pd.DataFrame.from_dict(max_force, orient = 'index')\n",
    "df_temp.columns = ['max_force']\n",
    "df_subjects = pd.concat([df_subjects, df_temp], axis=1)\n",
    "df_subjects.head()"
   ]
  },
  {
   "cell_type": "markdown",
   "metadata": {
    "papermill": {
     "duration": 0.016762,
     "end_time": "2021-01-03T01:57:57.216135",
     "exception": false,
     "start_time": "2021-01-03T01:57:57.199373",
     "status": "completed"
    },
    "tags": []
   },
   "source": [
    "We will now investigate the level of \"excessive\" force. We beleive \"excessive\" force to be defined as the level of police force (its integer value) being 2 levels greater than the level of subject resistance or the officer using a firearm and if the subject was injured. This is all encapsulated in the '*pb*' column of the subjects dataframe\n",
    "\n",
    "***For reference the levels of subject resistance are as follows:***\n",
    "\n",
    "*Passive Resister = 0*\n",
    "\n",
    "*Active Resister = 1*\n",
    "\n",
    "*Assailant Assault = 2*\n",
    "\n",
    "*Assailant Assault/Battery = 3*\n",
    "\n",
    "*Assailant Battery = 4*\n",
    "\n",
    "*Assailant Deadly Force = 5*\n",
    "\n",
    "***For reference, the levels of police force are as follows***\n",
    "\n",
    "*2.0: Other Force (the level of forces varies)*\n",
    "\n",
    "*3.0: Physical Force - Holding, Taser Display*\n",
    "\n",
    "*4.0: Physical Force - Stunning, Chemical*\n",
    "\n",
    "*5.0: Impact Weapon, Taser, Physical Force - Direct Mechanical*\n",
    "\n",
    "*6.0: Firearm*"
   ]
  },
  {
   "cell_type": "code",
   "execution_count": 11,
   "metadata": {
    "execution": {
     "iopub.execute_input": "2021-01-03T01:57:57.259431Z",
     "iopub.status.busy": "2021-01-03T01:57:57.258831Z",
     "iopub.status.idle": "2021-01-03T01:57:57.302606Z",
     "shell.execute_reply": "2021-01-03T01:57:57.301829Z"
    },
    "papermill": {
     "duration": 0.069631,
     "end_time": "2021-01-03T01:57:57.302732",
     "exception": false,
     "start_time": "2021-01-03T01:57:57.233101",
     "status": "completed"
    },
    "tags": []
   },
   "outputs": [
    {
     "name": "stdout",
     "output_type": "stream",
     "text": [
      "Number of Subjects Experiencing 'Excessive Force' at Each Level of Subject Resistance by Race: \n",
      "------------------------------------------------------------\n",
      "\n",
      "Resistance Level: Passive Resistor\n",
      "BLACK: 52\n",
      "WHITE: 10\n",
      "HISPANIC: 10\n",
      "--------------------------------------------------\n",
      "Resistance Level: Active Resistor\n",
      "BLACK: 2388\n",
      "HISPANIC: 416\n",
      "WHITE: 299\n",
      "ASIAN/PACIFIC ISLANDER: 17\n",
      "NATIVE AMERICAN/ALASKAN NATIVE: 1\n",
      "--------------------------------------------------\n",
      "Resistance Level: Assailant Assault\n",
      "BLACK: 795\n",
      "HISPANIC: 133\n",
      "WHITE: 118\n",
      "ASIAN/PACIFIC ISLANDER: 7\n",
      "--------------------------------------------------\n",
      "Resistance Level: Assailant Assault/Battery\n",
      "BLACK: 396\n",
      "HISPANIC: 82\n",
      "WHITE: 44\n",
      "ASIAN/PACIFIC ISLANDER: 2\n",
      "--------------------------------------------------\n",
      "Resistance Level: Assailant Battery\n",
      "BLACK: 1819\n",
      "HISPANIC: 341\n",
      "WHITE: 313\n",
      "ASIAN/PACIFIC ISLANDER: 15\n",
      "--------------------------------------------------\n",
      "Resistance Level: Assailant Deadly Force\n",
      "BLACK: 213\n",
      "HISPANIC: 47\n",
      "WHITE: 28\n",
      "ASIAN/PACIFIC ISLANDER: 4\n",
      "--------------------------------------------------\n"
     ]
    }
   ],
   "source": [
    "#get aggreagate totals of police brutality by race\n",
    "resistances = ['Passive Resistor', 'Active Resistor', 'Assailant Assault', 'Assailant Assault/Battery', 'Assailant Battery', 'Assailant Deadly Force']\n",
    "print('Number of Subjects Experiencing \\'Excessive Force\\' at Each Level of Subject Resistance by Race: ')\n",
    "print('-'*60 + '\\n')\n",
    "for i in range(0,6):\n",
    "    print('Resistance Level: '+ resistances[i])\n",
    "    df_res_level = df_subjects[(df_subjects['highest_resistance_level'] == i) & (df_subjects['pb'] == 1)]\n",
    "    totals = df_res_level.race.value_counts().to_dict()\n",
    "    totals = dict(sorted(totals.items(), key=lambda item: item[1]))\n",
    "    for race in reversed(list(totals.keys())):\n",
    "        print(race + \": \"+ str(totals[race]))\n",
    "    print('-'*50)"
   ]
  },
  {
   "cell_type": "markdown",
   "metadata": {
    "papermill": {
     "duration": 0.017612,
     "end_time": "2021-01-03T01:57:57.338425",
     "exception": false,
     "start_time": "2021-01-03T01:57:57.320813",
     "status": "completed"
    },
    "tags": []
   },
   "source": [
    "Now, let's look at the percentage of citizens at each resistance level experiencing police brutality by race. The purpose of this analysis is to see if police have a bias towards subjects by race. For example, a high percentage means that police show a pattern of being more brutal to suspects of that race more often compared to suspects of other races who show the same level of resistance: "
   ]
  },
  {
   "cell_type": "code",
   "execution_count": 12,
   "metadata": {
    "execution": {
     "iopub.execute_input": "2021-01-03T01:57:57.381530Z",
     "iopub.status.busy": "2021-01-03T01:57:57.380661Z",
     "iopub.status.idle": "2021-01-03T01:57:57.383423Z",
     "shell.execute_reply": "2021-01-03T01:57:57.383871Z"
    },
    "papermill": {
     "duration": 0.027842,
     "end_time": "2021-01-03T01:57:57.384000",
     "exception": false,
     "start_time": "2021-01-03T01:57:57.356158",
     "status": "completed"
    },
    "tags": []
   },
   "outputs": [],
   "source": [
    "#helper method to do analysis\n",
    "def get_excess_force(df):\n",
    "    percentage_dict = {}\n",
    "    race_totals = json.loads(df.race.value_counts().to_json())\n",
    "    df_force = df[(df.pb == 1)]\n",
    "#     print(df_force.head())\n",
    "    force_race_totals = json.loads(df_force.race.value_counts().to_json())\n",
    "    for race in race_totals.keys():\n",
    "        try:\n",
    "            percentage_dict[race] = force_race_totals[race]/race_totals[race]*100\n",
    "        except:\n",
    "            # -1 placeholder to swap w/ nan\n",
    "            percentage_dict[race] = -1\n",
    "    return percentage_dict"
   ]
  },
  {
   "cell_type": "code",
   "execution_count": 13,
   "metadata": {
    "execution": {
     "iopub.execute_input": "2021-01-03T01:57:57.429436Z",
     "iopub.status.busy": "2021-01-03T01:57:57.428512Z",
     "iopub.status.idle": "2021-01-03T01:57:57.479351Z",
     "shell.execute_reply": "2021-01-03T01:57:57.478867Z"
    },
    "papermill": {
     "duration": 0.07753,
     "end_time": "2021-01-03T01:57:57.479459",
     "exception": false,
     "start_time": "2021-01-03T01:57:57.401929",
     "status": "completed"
    },
    "tags": []
   },
   "outputs": [
    {
     "name": "stdout",
     "output_type": "stream",
     "text": [
      "Percent of Subjects at Each Level of Subject Resistance Experiencing 'Excessive Force' by Race: \n",
      "------------------------------------------------------------\n",
      "\n",
      "Resistance Level: Passive Resistor\n",
      "BLACK: 17.93103448275862\n",
      "WHITE: 15.625\n",
      "HISPANIC: 14.492753623188406\n",
      "ASIAN/PACIFIC ISLANDER: nan\n",
      "--------------------------------------------------\n",
      "Resistance Level: Active Resistor\n",
      "WHITE: 19.466145833333336\n",
      "BLACK: 18.443002780352177\n",
      "HISPANIC: 18.26163301141352\n",
      "ASIAN/PACIFIC ISLANDER: 12.878787878787879\n",
      "NATIVE AMERICAN/ALASKAN NATIVE: 9.090909090909092\n",
      "--------------------------------------------------\n",
      "Resistance Level: Assailant Assault\n",
      "WHITE: 20.557491289198605\n",
      "BLACK: 19.105984138428262\n",
      "HISPANIC: 16.68757841907152\n",
      "ASIAN/PACIFIC ISLANDER: 15.555555555555555\n",
      "NATIVE AMERICAN/ALASKAN NATIVE: nan\n",
      "--------------------------------------------------\n",
      "Resistance Level: Assailant Assault/Battery\n",
      "BLACK: 18.92021022455805\n",
      "HISPANIC: 18.426966292134832\n",
      "WHITE: 18.410041841004183\n",
      "ASIAN/PACIFIC ISLANDER: 16.666666666666664\n",
      "NATIVE AMERICAN/ALASKAN NATIVE: nan\n",
      "--------------------------------------------------\n",
      "Resistance Level: Assailant Battery\n",
      "WHITE: 20.71475843812045\n",
      "ASIAN/PACIFIC ISLANDER: 18.9873417721519\n",
      "BLACK: 18.957790515893695\n",
      "HISPANIC: 18.684931506849313\n",
      "NATIVE AMERICAN/ALASKAN NATIVE: nan\n",
      "--------------------------------------------------\n",
      "Resistance Level: Assailant Deadly Force\n",
      "WHITE: 20.14388489208633\n",
      "ASIAN/PACIFIC ISLANDER: 20.0\n",
      "HISPANIC: 19.665271966527197\n",
      "BLACK: 19.000892060660124\n",
      "NATIVE AMERICAN/ALASKAN NATIVE: nan\n",
      "--------------------------------------------------\n"
     ]
    }
   ],
   "source": [
    "#format percentages output nicely \n",
    "resistances = ['Passive Resistor', 'Active Resistor', 'Assailant Assault', 'Assailant Assault/Battery', 'Assailant Battery', 'Assailant Deadly Force']\n",
    "print('Percent of Subjects at Each Level of Subject Resistance Experiencing \\'Excessive Force\\' by Race: ')\n",
    "print('-'*60 + '\\n')\n",
    "for i in range(0,6):\n",
    "    print('Resistance Level: '+ resistances[i])\n",
    "    df_res_level = df_subjects[(df_subjects['highest_resistance_level'] == i)]\n",
    "    percentages = get_excess_force(df_res_level)\n",
    "    percentages = dict(sorted(percentages.items(), key=lambda item: item[1]))\n",
    "    for race in reversed(list(percentages.keys())):\n",
    "        if percentages[race] == -1:\n",
    "            percentages[race] = np.nan\n",
    "        print(race + \": \"+ str(percentages[race]))\n",
    "    print('-'*50)"
   ]
  },
  {
   "cell_type": "markdown",
   "metadata": {
    "papermill": {
     "duration": 0.018233,
     "end_time": "2021-01-03T01:57:57.516274",
     "exception": false,
     "start_time": "2021-01-03T01:57:57.498041",
     "status": "completed"
    },
    "tags": []
   },
   "source": [
    "Obersvations:\n",
    "* Among all levels of subject resistance, Black subjects have the most number of subjects experiencing police brutality as we have defined the term. This is often followed by Hispanic subjects having the second most number of subjects experiencing police brutality at each level of subject resistance and then White subjects\n",
    "* Black subjects also typically experience a much greater amount of brutality at each resistance level, often 6x-8x more than Hispanic subjects of the same resistance level and more than all other racial groups combined at the same level of resistance\n",
    "* This would tend to point that Blacks are involved in more police confrontations than all other racial groups, despite only making up 30% of Chicago's population and not being the city's most populous racial group. Thus, Black citizens have an increased likelihood of being victims of police brutality simply due to sheer volume \n",
    "* Across all levels of subject resistance, the percentages of subjects experiencing police brutality by race had very little variance within each level of resistance. This suggests that all race groups experience around the same rate of police brutality (as we have defined it) at all levels of subject resistance\n",
    "* In 4 out of the 6 resistance levels, White subjects had the greatest percentage of subjects experencing police brutality with Black subjects always within 2 percenatage points\n",
    "* These percentages suggest that Chicago police officers perform brutality at equal rates to all subjects of similar resistance, regardless of race. Often, White citizens of each resistance level experience a marginally greater percentage of subjects being victims of police brutality"
   ]
  },
  {
   "cell_type": "code",
   "execution_count": null,
   "metadata": {
    "papermill": {
     "duration": 0.017866,
     "end_time": "2021-01-03T01:57:57.552347",
     "exception": false,
     "start_time": "2021-01-03T01:57:57.534481",
     "status": "completed"
    },
    "tags": []
   },
   "outputs": [],
   "source": []
  }
 ],
 "metadata": {
  "kernelspec": {
   "display_name": "Python 3",
   "language": "python",
   "name": "python3"
  },
  "language_info": {
   "codemirror_mode": {
    "name": "ipython",
    "version": 3
   },
   "file_extension": ".py",
   "mimetype": "text/x-python",
   "name": "python",
   "nbconvert_exporter": "python",
   "pygments_lexer": "ipython3",
   "version": "3.7.6"
  },
  "papermill": {
   "duration": 63.400248,
   "end_time": "2021-01-03T01:57:57.678794",
   "environment_variables": {},
   "exception": null,
   "input_path": "__notebook__.ipynb",
   "output_path": "__notebook__.ipynb",
   "parameters": {},
   "start_time": "2021-01-03T01:56:54.278546",
   "version": "2.1.0"
  }
 },
 "nbformat": 4,
 "nbformat_minor": 4
}
