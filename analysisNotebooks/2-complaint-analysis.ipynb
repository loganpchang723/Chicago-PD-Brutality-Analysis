{
 "cells": [
  {
   "cell_type": "markdown",
   "metadata": {
    "papermill": {
     "duration": 0.096446,
     "end_time": "2021-01-06T18:21:31.652732",
     "exception": false,
     "start_time": "2021-01-06T18:21:31.556286",
     "status": "completed"
    },
    "tags": []
   },
   "source": [
    "# CPD Complaints Analysis\n",
    "In this notebook, we examine (mostly civilian) complaints filed against the Chicago Police Department from 2006 to 2016. This supplements our efforts in our previous notebook: [1. Baseline EDA](https://www.kaggle.com/loganchang/baseline-eda), where we analyze more detailed, but officer-reported tactical response reports (TRRs). Our goal here is to compare and contrast the data from both perspectives, perhaps uncovering patterns such as police underreporting."
   ]
  },
  {
   "cell_type": "code",
   "execution_count": 1,
   "metadata": {
    "_cell_guid": "b1076dfc-b9ad-4769-8c92-a6c4dae69d19",
    "_uuid": "8f2839f25d086af736a60e9eeb907d3b93b6e0e5",
    "execution": {
     "iopub.execute_input": "2021-01-06T18:21:31.844891Z",
     "iopub.status.busy": "2021-01-06T18:21:31.843869Z",
     "iopub.status.idle": "2021-01-06T18:21:32.737524Z",
     "shell.execute_reply": "2021-01-06T18:21:32.736306Z"
    },
    "papermill": {
     "duration": 0.991095,
     "end_time": "2021-01-06T18:21:32.737751",
     "exception": false,
     "start_time": "2021-01-06T18:21:31.746656",
     "status": "completed"
    },
    "tags": []
   },
   "outputs": [
    {
     "name": "stdout",
     "output_type": "stream",
     "text": [
      "/kaggle/input/complaints-data/complaints-accused_2000-2016_2016-11.csv\n",
      "/kaggle/input/complaints-data/complaints-victims_2000-2016_2016-11.csv\n",
      "/kaggle/input/complaints-data/beatlist.txt\n",
      "/kaggle/input/complaints-data/complaints-complaints_2000-2016_2016-11.csv\n"
     ]
    }
   ],
   "source": [
    "# This Python 3 environment comes with many helpful analytics libraries installed\n",
    "# It is defined by the kaggle/python Docker image: https://github.com/kaggle/docker-python\n",
    "# For example, here's several helpful packages to load\n",
    "\n",
    "import numpy as np # linear algebra\n",
    "import pandas as pd # data processing, CSV file I/O (e.g. pd.read_csv)\n",
    "import math\n",
    "# visualization\n",
    "import seaborn as sns\n",
    "import matplotlib.pyplot as plt\n",
    "%matplotlib inline\n",
    "\n",
    "#ignore warnings\n",
    "import warnings\n",
    "warnings.filterwarnings('ignore')\n",
    "\n",
    "# Input data files are available in the read-only \"../input/\" directory\n",
    "# For example, running this (by clicking run or pressing Shift+Enter) will list all files under the input directory\n",
    "\n",
    "import os\n",
    "for dirname, _, filenames in os.walk('/kaggle/input'):\n",
    "    for filename in filenames:\n",
    "        print(os.path.join(dirname, filename))\n",
    "\n",
    "# You can write up to 5GB to the current directory (/kaggle/working/) that gets preserved as output when you create a version using \"Save & Run All\" \n",
    "# You can also write temporary files to /kaggle/temp/, but they won't be saved outside of the current session"
   ]
  },
  {
   "cell_type": "code",
   "execution_count": 2,
   "metadata": {
    "execution": {
     "iopub.execute_input": "2021-01-06T18:21:32.935744Z",
     "iopub.status.busy": "2021-01-06T18:21:32.935043Z",
     "iopub.status.idle": "2021-01-06T18:21:33.927517Z",
     "shell.execute_reply": "2021-01-06T18:21:33.928045Z"
    },
    "papermill": {
     "duration": 1.095145,
     "end_time": "2021-01-06T18:21:33.928273",
     "exception": false,
     "start_time": "2021-01-06T18:21:32.833128",
     "status": "completed"
    },
    "tags": []
   },
   "outputs": [],
   "source": [
    "df_detail = pd.read_csv(\"/kaggle/input/complaints-data/complaints-accused_2000-2016_2016-11.csv\")\n",
    "df_victims = pd.read_csv(\"/kaggle/input/complaints-data/complaints-victims_2000-2016_2016-11.csv\")\n",
    "df_main = pd.read_csv(\"/kaggle/input/complaints-data/complaints-complaints_2000-2016_2016-11.csv\")"
   ]
  },
  {
   "cell_type": "markdown",
   "metadata": {
    "papermill": {
     "duration": 0.093938,
     "end_time": "2021-01-06T18:21:34.116109",
     "exception": false,
     "start_time": "2021-01-06T18:21:34.022171",
     "status": "completed"
    },
    "tags": []
   },
   "source": [
    "## DF_MAIN Processed Below"
   ]
  },
  {
   "cell_type": "code",
   "execution_count": 3,
   "metadata": {
    "execution": {
     "iopub.execute_input": "2021-01-06T18:21:34.322054Z",
     "iopub.status.busy": "2021-01-06T18:21:34.321390Z",
     "iopub.status.idle": "2021-01-06T18:21:34.333326Z",
     "shell.execute_reply": "2021-01-06T18:21:34.333843Z"
    },
    "papermill": {
     "duration": 0.123131,
     "end_time": "2021-01-06T18:21:34.333983",
     "exception": false,
     "start_time": "2021-01-06T18:21:34.210852",
     "status": "completed"
    },
    "tags": []
   },
   "outputs": [
    {
     "data": {
      "text/html": [
       "<div>\n",
       "<style scoped>\n",
       "    .dataframe tbody tr th:only-of-type {\n",
       "        vertical-align: middle;\n",
       "    }\n",
       "\n",
       "    .dataframe tbody tr th {\n",
       "        vertical-align: top;\n",
       "    }\n",
       "\n",
       "    .dataframe thead th {\n",
       "        text-align: right;\n",
       "    }\n",
       "</style>\n",
       "<table border=\"1\" class=\"dataframe\">\n",
       "  <thead>\n",
       "    <tr style=\"text-align: right;\">\n",
       "      <th></th>\n",
       "      <th>row_id</th>\n",
       "      <th>cr_id</th>\n",
       "      <th>beat</th>\n",
       "      <th>location_code</th>\n",
       "      <th>address_number</th>\n",
       "      <th>street</th>\n",
       "      <th>apartment_number</th>\n",
       "      <th>city_state</th>\n",
       "      <th>incident_date</th>\n",
       "      <th>incident_time</th>\n",
       "      <th>complaint_date</th>\n",
       "      <th>closed_date</th>\n",
       "    </tr>\n",
       "  </thead>\n",
       "  <tbody>\n",
       "    <tr>\n",
       "      <th>0</th>\n",
       "      <td>1</td>\n",
       "      <td>258996</td>\n",
       "      <td>1524</td>\n",
       "      <td>04</td>\n",
       "      <td>5327</td>\n",
       "      <td>W CHICAGO</td>\n",
       "      <td>NaN</td>\n",
       "      <td>CHICAGO IL</td>\n",
       "      <td>2000-01-01</td>\n",
       "      <td>01:20:00</td>\n",
       "      <td>2000-01-01</td>\n",
       "      <td>2001-01-26</td>\n",
       "    </tr>\n",
       "    <tr>\n",
       "      <th>1</th>\n",
       "      <td>2</td>\n",
       "      <td>258997</td>\n",
       "      <td>1115</td>\n",
       "      <td>17</td>\n",
       "      <td>4316</td>\n",
       "      <td>W JACKSON</td>\n",
       "      <td>NaN</td>\n",
       "      <td>CHICAGO IL</td>\n",
       "      <td>2000-01-01</td>\n",
       "      <td>01:30:00</td>\n",
       "      <td>2000-01-01</td>\n",
       "      <td>2000-10-14</td>\n",
       "    </tr>\n",
       "    <tr>\n",
       "      <th>2</th>\n",
       "      <td>3</td>\n",
       "      <td>258998</td>\n",
       "      <td>1834</td>\n",
       "      <td>17</td>\n",
       "      <td>500</td>\n",
       "      <td>W ILLINOIS</td>\n",
       "      <td>NaN</td>\n",
       "      <td>CHICAGO IL</td>\n",
       "      <td>2000-01-01</td>\n",
       "      <td>00:28:00</td>\n",
       "      <td>2000-01-01</td>\n",
       "      <td>2001-01-18</td>\n",
       "    </tr>\n",
       "    <tr>\n",
       "      <th>3</th>\n",
       "      <td>4</td>\n",
       "      <td>258999</td>\n",
       "      <td>0</td>\n",
       "      <td>17</td>\n",
       "      <td>NaN</td>\n",
       "      <td>NaN</td>\n",
       "      <td>NaN</td>\n",
       "      <td>CHICAGO IL</td>\n",
       "      <td>2000-01-01</td>\n",
       "      <td>03:30:00</td>\n",
       "      <td>2000-01-01</td>\n",
       "      <td>2000-03-23</td>\n",
       "    </tr>\n",
       "    <tr>\n",
       "      <th>4</th>\n",
       "      <td>5</td>\n",
       "      <td>259000</td>\n",
       "      <td>1524</td>\n",
       "      <td>04</td>\n",
       "      <td>5327</td>\n",
       "      <td>W CHICAGO AVE</td>\n",
       "      <td>NaN</td>\n",
       "      <td>CHICAGO IL</td>\n",
       "      <td>2000-01-01</td>\n",
       "      <td>05:00:00</td>\n",
       "      <td>2000-01-01</td>\n",
       "      <td>2001-01-17</td>\n",
       "    </tr>\n",
       "  </tbody>\n",
       "</table>\n",
       "</div>"
      ],
      "text/plain": [
       "   row_id   cr_id  beat location_code address_number         street  \\\n",
       "0       1  258996  1524            04           5327      W CHICAGO   \n",
       "1       2  258997  1115            17           4316      W JACKSON   \n",
       "2       3  258998  1834            17            500     W ILLINOIS   \n",
       "3       4  258999     0            17            NaN            NaN   \n",
       "4       5  259000  1524            04           5327  W CHICAGO AVE   \n",
       "\n",
       "  apartment_number  city_state incident_date incident_time complaint_date  \\\n",
       "0              NaN  CHICAGO IL    2000-01-01      01:20:00     2000-01-01   \n",
       "1              NaN  CHICAGO IL    2000-01-01      01:30:00     2000-01-01   \n",
       "2              NaN  CHICAGO IL    2000-01-01      00:28:00     2000-01-01   \n",
       "3              NaN  CHICAGO IL    2000-01-01      03:30:00     2000-01-01   \n",
       "4              NaN  CHICAGO IL    2000-01-01      05:00:00     2000-01-01   \n",
       "\n",
       "  closed_date  \n",
       "0  2001-01-26  \n",
       "1  2000-10-14  \n",
       "2  2001-01-18  \n",
       "3  2000-03-23  \n",
       "4  2001-01-17  "
      ]
     },
     "execution_count": 3,
     "metadata": {},
     "output_type": "execute_result"
    }
   ],
   "source": [
    "df_main.head()"
   ]
  },
  {
   "cell_type": "code",
   "execution_count": 4,
   "metadata": {
    "execution": {
     "iopub.execute_input": "2021-01-06T18:21:34.525162Z",
     "iopub.status.busy": "2021-01-06T18:21:34.524530Z",
     "iopub.status.idle": "2021-01-06T18:21:34.529784Z",
     "shell.execute_reply": "2021-01-06T18:21:34.530252Z"
    },
    "papermill": {
     "duration": 0.102673,
     "end_time": "2021-01-06T18:21:34.530404",
     "exception": false,
     "start_time": "2021-01-06T18:21:34.427731",
     "status": "completed"
    },
    "tags": []
   },
   "outputs": [
    {
     "data": {
      "text/plain": [
       "Index(['row_id', 'cr_id', 'beat', 'location_code', 'address_number', 'street',\n",
       "       'apartment_number', 'city_state', 'incident_date', 'incident_time',\n",
       "       'complaint_date', 'closed_date'],\n",
       "      dtype='object')"
      ]
     },
     "execution_count": 4,
     "metadata": {},
     "output_type": "execute_result"
    }
   ],
   "source": [
    "df_main.columns"
   ]
  },
  {
   "cell_type": "code",
   "execution_count": 5,
   "metadata": {
    "execution": {
     "iopub.execute_input": "2021-01-06T18:21:34.726242Z",
     "iopub.status.busy": "2021-01-06T18:21:34.725514Z",
     "iopub.status.idle": "2021-01-06T18:21:34.740432Z",
     "shell.execute_reply": "2021-01-06T18:21:34.739856Z"
    },
    "papermill": {
     "duration": 0.114129,
     "end_time": "2021-01-06T18:21:34.740580",
     "exception": false,
     "start_time": "2021-01-06T18:21:34.626451",
     "status": "completed"
    },
    "tags": []
   },
   "outputs": [],
   "source": [
    "#remove unnecessary info\n",
    "df_main = df_main.drop([\"row_id\", \"location_code\", \"address_number\", \"street\", \"apartment_number\", \"incident_time\", \"complaint_date\",\"closed_date\"], axis=1)"
   ]
  },
  {
   "cell_type": "markdown",
   "metadata": {
    "papermill": {
     "duration": 0.095439,
     "end_time": "2021-01-06T18:21:34.931083",
     "exception": false,
     "start_time": "2021-01-06T18:21:34.835644",
     "status": "completed"
    },
    "tags": []
   },
   "source": [
    "Create a year category as specific dates are superfluous..."
   ]
  },
  {
   "cell_type": "code",
   "execution_count": 6,
   "metadata": {
    "execution": {
     "iopub.execute_input": "2021-01-06T18:21:35.129600Z",
     "iopub.status.busy": "2021-01-06T18:21:35.128903Z",
     "iopub.status.idle": "2021-01-06T18:21:35.257025Z",
     "shell.execute_reply": "2021-01-06T18:21:35.256446Z"
    },
    "papermill": {
     "duration": 0.231002,
     "end_time": "2021-01-06T18:21:35.257149",
     "exception": false,
     "start_time": "2021-01-06T18:21:35.026147",
     "status": "completed"
    },
    "tags": []
   },
   "outputs": [],
   "source": [
    "#creating year and dropping date columns\n",
    "df_main['incident_year'] = df_main['incident_date'].apply(lambda x: int(x[0:4]))\n",
    "df_main.drop(['incident_date'], axis = 1, inplace = True)"
   ]
  },
  {
   "cell_type": "markdown",
   "metadata": {
    "papermill": {
     "duration": 0.095258,
     "end_time": "2021-01-06T18:21:35.448687",
     "exception": false,
     "start_time": "2021-01-06T18:21:35.353429",
     "status": "completed"
    },
    "tags": []
   },
   "source": [
    "In previously previewing our data, we found that only CR_ID's greater than or equal to 1000000 were present across all data sets. Let's take out the data that doesn't apply..."
   ]
  },
  {
   "cell_type": "code",
   "execution_count": 7,
   "metadata": {
    "execution": {
     "iopub.execute_input": "2021-01-06T18:21:35.644871Z",
     "iopub.status.busy": "2021-01-06T18:21:35.644000Z",
     "iopub.status.idle": "2021-01-06T18:21:35.652725Z",
     "shell.execute_reply": "2021-01-06T18:21:35.652045Z"
    },
    "papermill": {
     "duration": 0.10923,
     "end_time": "2021-01-06T18:21:35.652840",
     "exception": false,
     "start_time": "2021-01-06T18:21:35.543610",
     "status": "completed"
    },
    "tags": []
   },
   "outputs": [],
   "source": [
    "#pruning our data to only contain CR_ID's >= 1000000 as these are the CR_ID's present across all data sets\n",
    "df_main = df_main[df_main.cr_id >= 1000000]"
   ]
  },
  {
   "cell_type": "code",
   "execution_count": 8,
   "metadata": {
    "execution": {
     "iopub.execute_input": "2021-01-06T18:21:35.847920Z",
     "iopub.status.busy": "2021-01-06T18:21:35.847179Z",
     "iopub.status.idle": "2021-01-06T18:21:35.859420Z",
     "shell.execute_reply": "2021-01-06T18:21:35.858748Z"
    },
    "papermill": {
     "duration": 0.110598,
     "end_time": "2021-01-06T18:21:35.859550",
     "exception": false,
     "start_time": "2021-01-06T18:21:35.748952",
     "status": "completed"
    },
    "tags": []
   },
   "outputs": [
    {
     "data": {
      "text/html": [
       "<div>\n",
       "<style scoped>\n",
       "    .dataframe tbody tr th:only-of-type {\n",
       "        vertical-align: middle;\n",
       "    }\n",
       "\n",
       "    .dataframe tbody tr th {\n",
       "        vertical-align: top;\n",
       "    }\n",
       "\n",
       "    .dataframe thead th {\n",
       "        text-align: right;\n",
       "    }\n",
       "</style>\n",
       "<table border=\"1\" class=\"dataframe\">\n",
       "  <thead>\n",
       "    <tr style=\"text-align: right;\">\n",
       "      <th></th>\n",
       "      <th>cr_id</th>\n",
       "      <th>beat</th>\n",
       "      <th>city_state</th>\n",
       "      <th>incident_year</th>\n",
       "    </tr>\n",
       "  </thead>\n",
       "  <tbody>\n",
       "    <tr>\n",
       "      <th>27715</th>\n",
       "      <td>1000258</td>\n",
       "      <td>1324</td>\n",
       "      <td>CHICAGO IL</td>\n",
       "      <td>2002</td>\n",
       "    </tr>\n",
       "    <tr>\n",
       "      <th>27716</th>\n",
       "      <td>1000564</td>\n",
       "      <td>1722</td>\n",
       "      <td>CHICAGO IL</td>\n",
       "      <td>2002</td>\n",
       "    </tr>\n",
       "    <tr>\n",
       "      <th>27717</th>\n",
       "      <td>1002540</td>\n",
       "      <td>1024</td>\n",
       "      <td>CHICAGO IL</td>\n",
       "      <td>2002</td>\n",
       "    </tr>\n",
       "    <tr>\n",
       "      <th>27718</th>\n",
       "      <td>1004717</td>\n",
       "      <td>1121</td>\n",
       "      <td>CHICAGO IL</td>\n",
       "      <td>2002</td>\n",
       "    </tr>\n",
       "    <tr>\n",
       "      <th>27719</th>\n",
       "      <td>1005444</td>\n",
       "      <td>2532</td>\n",
       "      <td>-----</td>\n",
       "      <td>2002</td>\n",
       "    </tr>\n",
       "  </tbody>\n",
       "</table>\n",
       "</div>"
      ],
      "text/plain": [
       "         cr_id  beat  city_state  incident_year\n",
       "27715  1000258  1324  CHICAGO IL           2002\n",
       "27716  1000564  1722  CHICAGO IL           2002\n",
       "27717  1002540  1024  CHICAGO IL           2002\n",
       "27718  1004717  1121  CHICAGO IL           2002\n",
       "27719  1005444  2532       -----           2002"
      ]
     },
     "execution_count": 8,
     "metadata": {},
     "output_type": "execute_result"
    }
   ],
   "source": [
    "df_main.head()"
   ]
  },
  {
   "cell_type": "markdown",
   "metadata": {
    "papermill": {
     "duration": 0.09685,
     "end_time": "2021-01-06T18:21:36.054037",
     "exception": false,
     "start_time": "2021-01-06T18:21:35.957187",
     "status": "completed"
    },
    "tags": []
   },
   "source": [
    "We have a file that contains the name of each beat in the CPD. We will use it to make sure each complaint occurs in a relevatn beat...."
   ]
  },
  {
   "cell_type": "code",
   "execution_count": 9,
   "metadata": {
    "execution": {
     "iopub.execute_input": "2021-01-06T18:21:36.258446Z",
     "iopub.status.busy": "2021-01-06T18:21:36.257717Z",
     "iopub.status.idle": "2021-01-06T18:21:36.265652Z",
     "shell.execute_reply": "2021-01-06T18:21:36.266184Z"
    },
    "papermill": {
     "duration": 0.114259,
     "end_time": "2021-01-06T18:21:36.266325",
     "exception": false,
     "start_time": "2021-01-06T18:21:36.152066",
     "status": "completed"
    },
    "tags": []
   },
   "outputs": [],
   "source": [
    "#open and read CPD beats file\n",
    "beatset = set([])\n",
    "beatf = open(\"/kaggle/input/complaints-data/beatlist.txt\",'r')\n",
    "N = int(beatf.readline()[:-1])\n",
    "for i in range(N):\n",
    "    beatset.add(beatf.readline()[:-1])"
   ]
  },
  {
   "cell_type": "code",
   "execution_count": 10,
   "metadata": {
    "execution": {
     "iopub.execute_input": "2021-01-06T18:21:36.463337Z",
     "iopub.status.busy": "2021-01-06T18:21:36.462338Z",
     "iopub.status.idle": "2021-01-06T18:21:36.470967Z",
     "shell.execute_reply": "2021-01-06T18:21:36.470320Z"
    },
    "papermill": {
     "duration": 0.107229,
     "end_time": "2021-01-06T18:21:36.471076",
     "exception": false,
     "start_time": "2021-01-06T18:21:36.363847",
     "status": "completed"
    },
    "tags": []
   },
   "outputs": [],
   "source": [
    "#helper func to easily pull beat names and ensure that each beat is a part of the beats file we previously opened and read\n",
    "def pad0(string, length):\n",
    "    if (type(string) != str):\n",
    "        string = str(int(string))\n",
    "    ans = \"\"\n",
    "    for i in range(length-len(string)):\n",
    "        ans += '0'\n",
    "    ans += string\n",
    "    if (ans in beatset):\n",
    "        return ans\n",
    "    else:\n",
    "        return \"asdf\"\n",
    "\n",
    "#helper func to ensure all complaints in the Chicago-Metro Area\n",
    "def city_state_checker(string):\n",
    "    if string[:2] != \"CH\" or string == \"CHICAGO RIDG IL\":\n",
    "        return \"bAd\"\n",
    "    return \"gOOd\""
   ]
  },
  {
   "cell_type": "code",
   "execution_count": 11,
   "metadata": {
    "execution": {
     "iopub.execute_input": "2021-01-06T18:21:36.674628Z",
     "iopub.status.busy": "2021-01-06T18:21:36.673410Z",
     "iopub.status.idle": "2021-01-06T18:21:36.808994Z",
     "shell.execute_reply": "2021-01-06T18:21:36.809693Z"
    },
    "papermill": {
     "duration": 0.243075,
     "end_time": "2021-01-06T18:21:36.809845",
     "exception": false,
     "start_time": "2021-01-06T18:21:36.566770",
     "status": "completed"
    },
    "tags": []
   },
   "outputs": [],
   "source": [
    "#applying above funcs to data for removing data with irrelevant beats and formatting exisiting beats\n",
    "df_main = df_main[~pd.isna(df_main.beat)]\n",
    "df_main.beat = df_main.beat.apply(lambda x: pad0(x, 4))\n",
    "df_main = df_main[df_main.beat != \"asdf\"]"
   ]
  },
  {
   "cell_type": "code",
   "execution_count": 12,
   "metadata": {
    "execution": {
     "iopub.execute_input": "2021-01-06T18:21:37.066803Z",
     "iopub.status.busy": "2021-01-06T18:21:37.066001Z",
     "iopub.status.idle": "2021-01-06T18:21:37.119712Z",
     "shell.execute_reply": "2021-01-06T18:21:37.119004Z"
    },
    "papermill": {
     "duration": 0.212622,
     "end_time": "2021-01-06T18:21:37.119829",
     "exception": false,
     "start_time": "2021-01-06T18:21:36.907207",
     "status": "completed"
    },
    "tags": []
   },
   "outputs": [],
   "source": [
    "#applying above helper funcs to remove all complaints not in our geographic area of interests\n",
    "df_main = df_main[~pd.isna(df_main.city_state)]\n",
    "df_main.city_state = df_main.city_state.apply(lambda x: city_state_checker(x))\n",
    "df_main = df_main[df_main.city_state != \"bAd\"]"
   ]
  },
  {
   "cell_type": "code",
   "execution_count": 13,
   "metadata": {
    "execution": {
     "iopub.execute_input": "2021-01-06T18:21:37.323076Z",
     "iopub.status.busy": "2021-01-06T18:21:37.322376Z",
     "iopub.status.idle": "2021-01-06T18:21:37.325603Z",
     "shell.execute_reply": "2021-01-06T18:21:37.325033Z"
    },
    "papermill": {
     "duration": 0.10819,
     "end_time": "2021-01-06T18:21:37.325720",
     "exception": false,
     "start_time": "2021-01-06T18:21:37.217530",
     "status": "completed"
    },
    "tags": []
   },
   "outputs": [],
   "source": [
    "#the above function removed need for 'city_state' column so let's drop\n",
    "df_main = df_main.drop([\"city_state\"], axis=1)"
   ]
  },
  {
   "cell_type": "code",
   "execution_count": 14,
   "metadata": {
    "execution": {
     "iopub.execute_input": "2021-01-06T18:21:37.524405Z",
     "iopub.status.busy": "2021-01-06T18:21:37.523128Z",
     "iopub.status.idle": "2021-01-06T18:21:37.529222Z",
     "shell.execute_reply": "2021-01-06T18:21:37.528573Z"
    },
    "papermill": {
     "duration": 0.106727,
     "end_time": "2021-01-06T18:21:37.529340",
     "exception": false,
     "start_time": "2021-01-06T18:21:37.422613",
     "status": "completed"
    },
    "tags": []
   },
   "outputs": [],
   "source": [
    "#index by CR ID for easy sorting/combining\n",
    "df_main = df_main.set_index(\"cr_id\")"
   ]
  },
  {
   "cell_type": "code",
   "execution_count": 15,
   "metadata": {
    "execution": {
     "iopub.execute_input": "2021-01-06T18:21:37.732771Z",
     "iopub.status.busy": "2021-01-06T18:21:37.731976Z",
     "iopub.status.idle": "2021-01-06T18:21:37.736833Z",
     "shell.execute_reply": "2021-01-06T18:21:37.736277Z"
    },
    "papermill": {
     "duration": 0.111093,
     "end_time": "2021-01-06T18:21:37.736951",
     "exception": false,
     "start_time": "2021-01-06T18:21:37.625858",
     "status": "completed"
    },
    "tags": []
   },
   "outputs": [
    {
     "data": {
      "text/html": [
       "<div>\n",
       "<style scoped>\n",
       "    .dataframe tbody tr th:only-of-type {\n",
       "        vertical-align: middle;\n",
       "    }\n",
       "\n",
       "    .dataframe tbody tr th {\n",
       "        vertical-align: top;\n",
       "    }\n",
       "\n",
       "    .dataframe thead th {\n",
       "        text-align: right;\n",
       "    }\n",
       "</style>\n",
       "<table border=\"1\" class=\"dataframe\">\n",
       "  <thead>\n",
       "    <tr style=\"text-align: right;\">\n",
       "      <th></th>\n",
       "      <th>beat</th>\n",
       "      <th>incident_year</th>\n",
       "    </tr>\n",
       "    <tr>\n",
       "      <th>cr_id</th>\n",
       "      <th></th>\n",
       "      <th></th>\n",
       "    </tr>\n",
       "  </thead>\n",
       "  <tbody>\n",
       "    <tr>\n",
       "      <th>1000564</th>\n",
       "      <td>1722</td>\n",
       "      <td>2002</td>\n",
       "    </tr>\n",
       "    <tr>\n",
       "      <th>1002540</th>\n",
       "      <td>1024</td>\n",
       "      <td>2002</td>\n",
       "    </tr>\n",
       "    <tr>\n",
       "      <th>1004717</th>\n",
       "      <td>1121</td>\n",
       "      <td>2002</td>\n",
       "    </tr>\n",
       "    <tr>\n",
       "      <th>1006193</th>\n",
       "      <td>0531</td>\n",
       "      <td>2000</td>\n",
       "    </tr>\n",
       "    <tr>\n",
       "      <th>1012608</th>\n",
       "      <td>0726</td>\n",
       "      <td>2001</td>\n",
       "    </tr>\n",
       "  </tbody>\n",
       "</table>\n",
       "</div>"
      ],
      "text/plain": [
       "         beat  incident_year\n",
       "cr_id                       \n",
       "1000564  1722           2002\n",
       "1002540  1024           2002\n",
       "1004717  1121           2002\n",
       "1006193  0531           2000\n",
       "1012608  0726           2001"
      ]
     },
     "execution_count": 15,
     "metadata": {},
     "output_type": "execute_result"
    }
   ],
   "source": [
    "df_main.head()"
   ]
  },
  {
   "cell_type": "markdown",
   "metadata": {
    "papermill": {
     "duration": 0.099001,
     "end_time": "2021-01-06T18:21:37.935058",
     "exception": false,
     "start_time": "2021-01-06T18:21:37.836057",
     "status": "completed"
    },
    "tags": []
   },
   "source": [
    "## DF_VICTIMS Processed Below"
   ]
  },
  {
   "cell_type": "code",
   "execution_count": 16,
   "metadata": {
    "execution": {
     "iopub.execute_input": "2021-01-06T18:21:38.142574Z",
     "iopub.status.busy": "2021-01-06T18:21:38.141888Z",
     "iopub.status.idle": "2021-01-06T18:21:38.145674Z",
     "shell.execute_reply": "2021-01-06T18:21:38.144993Z"
    },
    "papermill": {
     "duration": 0.111821,
     "end_time": "2021-01-06T18:21:38.145792",
     "exception": false,
     "start_time": "2021-01-06T18:21:38.033971",
     "status": "completed"
    },
    "tags": []
   },
   "outputs": [
    {
     "data": {
      "text/html": [
       "<div>\n",
       "<style scoped>\n",
       "    .dataframe tbody tr th:only-of-type {\n",
       "        vertical-align: middle;\n",
       "    }\n",
       "\n",
       "    .dataframe tbody tr th {\n",
       "        vertical-align: top;\n",
       "    }\n",
       "\n",
       "    .dataframe thead th {\n",
       "        text-align: right;\n",
       "    }\n",
       "</style>\n",
       "<table border=\"1\" class=\"dataframe\">\n",
       "  <thead>\n",
       "    <tr style=\"text-align: right;\">\n",
       "      <th></th>\n",
       "      <th>cr_id</th>\n",
       "      <th>gender</th>\n",
       "      <th>age</th>\n",
       "      <th>race</th>\n",
       "    </tr>\n",
       "  </thead>\n",
       "  <tbody>\n",
       "    <tr>\n",
       "      <th>0</th>\n",
       "      <td>1000009</td>\n",
       "      <td>FEMALE</td>\n",
       "      <td>37.0</td>\n",
       "      <td>HISPANIC</td>\n",
       "    </tr>\n",
       "    <tr>\n",
       "      <th>1</th>\n",
       "      <td>1000015</td>\n",
       "      <td>FEMALE</td>\n",
       "      <td>35.0</td>\n",
       "      <td>BLACK</td>\n",
       "    </tr>\n",
       "    <tr>\n",
       "      <th>2</th>\n",
       "      <td>1000015</td>\n",
       "      <td>FEMALE</td>\n",
       "      <td>24.0</td>\n",
       "      <td>BLACK</td>\n",
       "    </tr>\n",
       "    <tr>\n",
       "      <th>3</th>\n",
       "      <td>1000020</td>\n",
       "      <td>MALE</td>\n",
       "      <td>27.0</td>\n",
       "      <td>BLACK</td>\n",
       "    </tr>\n",
       "    <tr>\n",
       "      <th>4</th>\n",
       "      <td>1000021</td>\n",
       "      <td>MALE</td>\n",
       "      <td>26.0</td>\n",
       "      <td>BLACK</td>\n",
       "    </tr>\n",
       "  </tbody>\n",
       "</table>\n",
       "</div>"
      ],
      "text/plain": [
       "     cr_id  gender   age      race\n",
       "0  1000009  FEMALE  37.0  HISPANIC\n",
       "1  1000015  FEMALE  35.0     BLACK\n",
       "2  1000015  FEMALE  24.0     BLACK\n",
       "3  1000020    MALE  27.0     BLACK\n",
       "4  1000021    MALE  26.0     BLACK"
      ]
     },
     "execution_count": 16,
     "metadata": {},
     "output_type": "execute_result"
    }
   ],
   "source": [
    "df_victims.head()"
   ]
  },
  {
   "cell_type": "code",
   "execution_count": 17,
   "metadata": {
    "execution": {
     "iopub.execute_input": "2021-01-06T18:21:38.354002Z",
     "iopub.status.busy": "2021-01-06T18:21:38.352317Z",
     "iopub.status.idle": "2021-01-06T18:21:38.356346Z",
     "shell.execute_reply": "2021-01-06T18:21:38.356977Z"
    },
    "papermill": {
     "duration": 0.112092,
     "end_time": "2021-01-06T18:21:38.357119",
     "exception": false,
     "start_time": "2021-01-06T18:21:38.245027",
     "status": "completed"
    },
    "tags": []
   },
   "outputs": [],
   "source": [
    "#remove null values for race\n",
    "df_victims = df_victims[~pd.isna(df_victims[\"race\"])]"
   ]
  },
  {
   "cell_type": "code",
   "execution_count": 18,
   "metadata": {
    "execution": {
     "iopub.execute_input": "2021-01-06T18:21:38.557075Z",
     "iopub.status.busy": "2021-01-06T18:21:38.556040Z",
     "iopub.status.idle": "2021-01-06T18:21:38.563000Z",
     "shell.execute_reply": "2021-01-06T18:21:38.562355Z"
    },
    "papermill": {
     "duration": 0.107767,
     "end_time": "2021-01-06T18:21:38.563127",
     "exception": false,
     "start_time": "2021-01-06T18:21:38.455360",
     "status": "completed"
    },
    "tags": []
   },
   "outputs": [],
   "source": [
    "#set index to CR ID for easy sorting/combining\n",
    "df_victims = df_victims.set_index(\"cr_id\")"
   ]
  },
  {
   "cell_type": "code",
   "execution_count": 19,
   "metadata": {
    "execution": {
     "iopub.execute_input": "2021-01-06T18:21:38.771164Z",
     "iopub.status.busy": "2021-01-06T18:21:38.770355Z",
     "iopub.status.idle": "2021-01-06T18:21:38.773207Z",
     "shell.execute_reply": "2021-01-06T18:21:38.773722Z"
    },
    "papermill": {
     "duration": 0.11263,
     "end_time": "2021-01-06T18:21:38.773862",
     "exception": false,
     "start_time": "2021-01-06T18:21:38.661232",
     "status": "completed"
    },
    "tags": []
   },
   "outputs": [
    {
     "data": {
      "text/html": [
       "<div>\n",
       "<style scoped>\n",
       "    .dataframe tbody tr th:only-of-type {\n",
       "        vertical-align: middle;\n",
       "    }\n",
       "\n",
       "    .dataframe tbody tr th {\n",
       "        vertical-align: top;\n",
       "    }\n",
       "\n",
       "    .dataframe thead th {\n",
       "        text-align: right;\n",
       "    }\n",
       "</style>\n",
       "<table border=\"1\" class=\"dataframe\">\n",
       "  <thead>\n",
       "    <tr style=\"text-align: right;\">\n",
       "      <th></th>\n",
       "      <th>gender</th>\n",
       "      <th>age</th>\n",
       "      <th>race</th>\n",
       "    </tr>\n",
       "    <tr>\n",
       "      <th>cr_id</th>\n",
       "      <th></th>\n",
       "      <th></th>\n",
       "      <th></th>\n",
       "    </tr>\n",
       "  </thead>\n",
       "  <tbody>\n",
       "    <tr>\n",
       "      <th>1000009</th>\n",
       "      <td>FEMALE</td>\n",
       "      <td>37.0</td>\n",
       "      <td>HISPANIC</td>\n",
       "    </tr>\n",
       "    <tr>\n",
       "      <th>1000015</th>\n",
       "      <td>FEMALE</td>\n",
       "      <td>35.0</td>\n",
       "      <td>BLACK</td>\n",
       "    </tr>\n",
       "    <tr>\n",
       "      <th>1000015</th>\n",
       "      <td>FEMALE</td>\n",
       "      <td>24.0</td>\n",
       "      <td>BLACK</td>\n",
       "    </tr>\n",
       "    <tr>\n",
       "      <th>1000020</th>\n",
       "      <td>MALE</td>\n",
       "      <td>27.0</td>\n",
       "      <td>BLACK</td>\n",
       "    </tr>\n",
       "    <tr>\n",
       "      <th>1000021</th>\n",
       "      <td>MALE</td>\n",
       "      <td>26.0</td>\n",
       "      <td>BLACK</td>\n",
       "    </tr>\n",
       "  </tbody>\n",
       "</table>\n",
       "</div>"
      ],
      "text/plain": [
       "         gender   age      race\n",
       "cr_id                          \n",
       "1000009  FEMALE  37.0  HISPANIC\n",
       "1000015  FEMALE  35.0     BLACK\n",
       "1000015  FEMALE  24.0     BLACK\n",
       "1000020    MALE  27.0     BLACK\n",
       "1000021    MALE  26.0     BLACK"
      ]
     },
     "execution_count": 19,
     "metadata": {},
     "output_type": "execute_result"
    }
   ],
   "source": [
    "df_victims.head()"
   ]
  },
  {
   "cell_type": "markdown",
   "metadata": {
    "papermill": {
     "duration": 0.098313,
     "end_time": "2021-01-06T18:21:38.972518",
     "exception": false,
     "start_time": "2021-01-06T18:21:38.874205",
     "status": "completed"
    },
    "tags": []
   },
   "source": [
    "# DF_DETAIL Processed Below"
   ]
  },
  {
   "cell_type": "code",
   "execution_count": 20,
   "metadata": {
    "execution": {
     "iopub.execute_input": "2021-01-06T18:21:39.173260Z",
     "iopub.status.busy": "2021-01-06T18:21:39.172527Z",
     "iopub.status.idle": "2021-01-06T18:21:39.187867Z",
     "shell.execute_reply": "2021-01-06T18:21:39.187297Z"
    },
    "papermill": {
     "duration": 0.117227,
     "end_time": "2021-01-06T18:21:39.187978",
     "exception": false,
     "start_time": "2021-01-06T18:21:39.070751",
     "status": "completed"
    },
    "tags": []
   },
   "outputs": [
    {
     "data": {
      "text/html": [
       "<div>\n",
       "<style scoped>\n",
       "    .dataframe tbody tr th:only-of-type {\n",
       "        vertical-align: middle;\n",
       "    }\n",
       "\n",
       "    .dataframe tbody tr th {\n",
       "        vertical-align: top;\n",
       "    }\n",
       "\n",
       "    .dataframe thead th {\n",
       "        text-align: right;\n",
       "    }\n",
       "</style>\n",
       "<table border=\"1\" class=\"dataframe\">\n",
       "  <thead>\n",
       "    <tr style=\"text-align: right;\">\n",
       "      <th></th>\n",
       "      <th>row_id</th>\n",
       "      <th>complaints-accused_2000-2016_2016-11_ID</th>\n",
       "      <th>cr_id</th>\n",
       "      <th>complaint_category</th>\n",
       "      <th>recommended_discipline</th>\n",
       "      <th>final_discipline</th>\n",
       "      <th>recommended_finding</th>\n",
       "      <th>final_finding</th>\n",
       "      <th>UID</th>\n",
       "    </tr>\n",
       "  </thead>\n",
       "  <tbody>\n",
       "    <tr>\n",
       "      <th>0</th>\n",
       "      <td>1</td>\n",
       "      <td>15646.0</td>\n",
       "      <td>258996</td>\n",
       "      <td>01A-USE OF PROFANITY</td>\n",
       "      <td>600.0</td>\n",
       "      <td>600.0</td>\n",
       "      <td>NS</td>\n",
       "      <td>NS</td>\n",
       "      <td>130754</td>\n",
       "    </tr>\n",
       "    <tr>\n",
       "      <th>1</th>\n",
       "      <td>2</td>\n",
       "      <td>8602.0</td>\n",
       "      <td>258997</td>\n",
       "      <td>01A-USE OF PROFANITY</td>\n",
       "      <td>600.0</td>\n",
       "      <td>600.0</td>\n",
       "      <td>UN</td>\n",
       "      <td>UN</td>\n",
       "      <td>117163</td>\n",
       "    </tr>\n",
       "    <tr>\n",
       "      <th>2</th>\n",
       "      <td>3</td>\n",
       "      <td>6951.0</td>\n",
       "      <td>258997</td>\n",
       "      <td>01A-USE OF PROFANITY</td>\n",
       "      <td>600.0</td>\n",
       "      <td>600.0</td>\n",
       "      <td>UN</td>\n",
       "      <td>UN</td>\n",
       "      <td>113991</td>\n",
       "    </tr>\n",
       "    <tr>\n",
       "      <th>3</th>\n",
       "      <td>4</td>\n",
       "      <td>13745.0</td>\n",
       "      <td>258998</td>\n",
       "      <td>10J-NEGLECT OF DUTY/CONDUCT UNBECOMING - ON DUTY</td>\n",
       "      <td>600.0</td>\n",
       "      <td>600.0</td>\n",
       "      <td>EX</td>\n",
       "      <td>EX</td>\n",
       "      <td>127168</td>\n",
       "    </tr>\n",
       "    <tr>\n",
       "      <th>4</th>\n",
       "      <td>5</td>\n",
       "      <td>918.0</td>\n",
       "      <td>259001</td>\n",
       "      <td>10U-INADEQUATE/FAILURE TO PROVIDE SERVICE</td>\n",
       "      <td>600.0</td>\n",
       "      <td>600.0</td>\n",
       "      <td>UN</td>\n",
       "      <td>UN</td>\n",
       "      <td>101654</td>\n",
       "    </tr>\n",
       "  </tbody>\n",
       "</table>\n",
       "</div>"
      ],
      "text/plain": [
       "   row_id  complaints-accused_2000-2016_2016-11_ID   cr_id  \\\n",
       "0       1                                  15646.0  258996   \n",
       "1       2                                   8602.0  258997   \n",
       "2       3                                   6951.0  258997   \n",
       "3       4                                  13745.0  258998   \n",
       "4       5                                    918.0  259001   \n",
       "\n",
       "                                 complaint_category  recommended_discipline  \\\n",
       "0                              01A-USE OF PROFANITY                   600.0   \n",
       "1                              01A-USE OF PROFANITY                   600.0   \n",
       "2                              01A-USE OF PROFANITY                   600.0   \n",
       "3  10J-NEGLECT OF DUTY/CONDUCT UNBECOMING - ON DUTY                   600.0   \n",
       "4         10U-INADEQUATE/FAILURE TO PROVIDE SERVICE                   600.0   \n",
       "\n",
       "   final_discipline recommended_finding final_finding     UID  \n",
       "0             600.0                  NS            NS  130754  \n",
       "1             600.0                  UN            UN  117163  \n",
       "2             600.0                  UN            UN  113991  \n",
       "3             600.0                  EX            EX  127168  \n",
       "4             600.0                  UN            UN  101654  "
      ]
     },
     "execution_count": 20,
     "metadata": {},
     "output_type": "execute_result"
    }
   ],
   "source": [
    "df_detail.head()"
   ]
  },
  {
   "cell_type": "markdown",
   "metadata": {
    "papermill": {
     "duration": 0.111213,
     "end_time": "2021-01-06T18:21:39.422491",
     "exception": false,
     "start_time": "2021-01-06T18:21:39.311278",
     "status": "completed"
    },
    "tags": []
   },
   "source": [
    "Again, the only overlapping data across all three datasets is for CR IDs greater than or equal to 1000000, so let's get rid of all CR IDs that don't fit this criteria..."
   ]
  },
  {
   "cell_type": "code",
   "execution_count": 21,
   "metadata": {
    "execution": {
     "iopub.execute_input": "2021-01-06T18:21:39.628263Z",
     "iopub.status.busy": "2021-01-06T18:21:39.627566Z",
     "iopub.status.idle": "2021-01-06T18:21:39.634028Z",
     "shell.execute_reply": "2021-01-06T18:21:39.634494Z"
    },
    "papermill": {
     "duration": 0.112514,
     "end_time": "2021-01-06T18:21:39.634830",
     "exception": false,
     "start_time": "2021-01-06T18:21:39.522316",
     "status": "completed"
    },
    "tags": []
   },
   "outputs": [],
   "source": [
    "#removing all CR ID < 1000000\n",
    "df_detail = df_detail[df_detail[\"cr_id\"] >= 1000000]"
   ]
  },
  {
   "cell_type": "code",
   "execution_count": 22,
   "metadata": {
    "execution": {
     "iopub.execute_input": "2021-01-06T18:21:39.854497Z",
     "iopub.status.busy": "2021-01-06T18:21:39.853799Z",
     "iopub.status.idle": "2021-01-06T18:21:39.862970Z",
     "shell.execute_reply": "2021-01-06T18:21:39.862359Z"
    },
    "papermill": {
     "duration": 0.115874,
     "end_time": "2021-01-06T18:21:39.863095",
     "exception": false,
     "start_time": "2021-01-06T18:21:39.747221",
     "status": "completed"
    },
    "tags": []
   },
   "outputs": [],
   "source": [
    "#set index to CR ID for easy sorting/combining\n",
    "df_detail = df_detail.set_index(\"cr_id\")"
   ]
  },
  {
   "cell_type": "code",
   "execution_count": 23,
   "metadata": {
    "execution": {
     "iopub.execute_input": "2021-01-06T18:21:40.068027Z",
     "iopub.status.busy": "2021-01-06T18:21:40.067346Z",
     "iopub.status.idle": "2021-01-06T18:21:40.074574Z",
     "shell.execute_reply": "2021-01-06T18:21:40.075060Z"
    },
    "papermill": {
     "duration": 0.110965,
     "end_time": "2021-01-06T18:21:40.075213",
     "exception": false,
     "start_time": "2021-01-06T18:21:39.964248",
     "status": "completed"
    },
    "tags": []
   },
   "outputs": [],
   "source": [
    "#drop an unnecessary column\n",
    "df_detail = df_detail.drop([\"complaints-accused_2000-2016_2016-11_ID\", \"UID\"], axis=1)"
   ]
  },
  {
   "cell_type": "code",
   "execution_count": 24,
   "metadata": {
    "execution": {
     "iopub.execute_input": "2021-01-06T18:21:40.289885Z",
     "iopub.status.busy": "2021-01-06T18:21:40.289155Z",
     "iopub.status.idle": "2021-01-06T18:21:40.293482Z",
     "shell.execute_reply": "2021-01-06T18:21:40.292963Z"
    },
    "papermill": {
     "duration": 0.118247,
     "end_time": "2021-01-06T18:21:40.293615",
     "exception": false,
     "start_time": "2021-01-06T18:21:40.175368",
     "status": "completed"
    },
    "tags": []
   },
   "outputs": [
    {
     "data": {
      "text/html": [
       "<div>\n",
       "<style scoped>\n",
       "    .dataframe tbody tr th:only-of-type {\n",
       "        vertical-align: middle;\n",
       "    }\n",
       "\n",
       "    .dataframe tbody tr th {\n",
       "        vertical-align: top;\n",
       "    }\n",
       "\n",
       "    .dataframe thead th {\n",
       "        text-align: right;\n",
       "    }\n",
       "</style>\n",
       "<table border=\"1\" class=\"dataframe\">\n",
       "  <thead>\n",
       "    <tr style=\"text-align: right;\">\n",
       "      <th></th>\n",
       "      <th>row_id</th>\n",
       "      <th>complaint_category</th>\n",
       "      <th>recommended_discipline</th>\n",
       "      <th>final_discipline</th>\n",
       "      <th>recommended_finding</th>\n",
       "      <th>final_finding</th>\n",
       "    </tr>\n",
       "    <tr>\n",
       "      <th>cr_id</th>\n",
       "      <th></th>\n",
       "      <th></th>\n",
       "      <th></th>\n",
       "      <th></th>\n",
       "      <th></th>\n",
       "      <th></th>\n",
       "    </tr>\n",
       "  </thead>\n",
       "  <tbody>\n",
       "    <tr>\n",
       "      <th>1000258</th>\n",
       "      <td>33057</td>\n",
       "      <td>03D-ILLEGAL ARREST</td>\n",
       "      <td>600.0</td>\n",
       "      <td>600.0</td>\n",
       "      <td>UN</td>\n",
       "      <td>UN</td>\n",
       "    </tr>\n",
       "    <tr>\n",
       "      <th>1000258</th>\n",
       "      <td>33058</td>\n",
       "      <td>03D-ILLEGAL ARREST</td>\n",
       "      <td>600.0</td>\n",
       "      <td>600.0</td>\n",
       "      <td>UN</td>\n",
       "      <td>UN</td>\n",
       "    </tr>\n",
       "    <tr>\n",
       "      <th>1000258</th>\n",
       "      <td>33059</td>\n",
       "      <td>03D-ILLEGAL ARREST</td>\n",
       "      <td>600.0</td>\n",
       "      <td>600.0</td>\n",
       "      <td>UN</td>\n",
       "      <td>UN</td>\n",
       "    </tr>\n",
       "    <tr>\n",
       "      <th>1000258</th>\n",
       "      <td>33060</td>\n",
       "      <td>03D-ILLEGAL ARREST</td>\n",
       "      <td>600.0</td>\n",
       "      <td>600.0</td>\n",
       "      <td>UN</td>\n",
       "      <td>UN</td>\n",
       "    </tr>\n",
       "    <tr>\n",
       "      <th>1000258</th>\n",
       "      <td>33061</td>\n",
       "      <td>03D-ILLEGAL ARREST</td>\n",
       "      <td>600.0</td>\n",
       "      <td>600.0</td>\n",
       "      <td>UN</td>\n",
       "      <td>UN</td>\n",
       "    </tr>\n",
       "  </tbody>\n",
       "</table>\n",
       "</div>"
      ],
      "text/plain": [
       "         row_id  complaint_category  recommended_discipline  final_discipline  \\\n",
       "cr_id                                                                           \n",
       "1000258   33057  03D-ILLEGAL ARREST                   600.0             600.0   \n",
       "1000258   33058  03D-ILLEGAL ARREST                   600.0             600.0   \n",
       "1000258   33059  03D-ILLEGAL ARREST                   600.0             600.0   \n",
       "1000258   33060  03D-ILLEGAL ARREST                   600.0             600.0   \n",
       "1000258   33061  03D-ILLEGAL ARREST                   600.0             600.0   \n",
       "\n",
       "        recommended_finding final_finding  \n",
       "cr_id                                      \n",
       "1000258                  UN            UN  \n",
       "1000258                  UN            UN  \n",
       "1000258                  UN            UN  \n",
       "1000258                  UN            UN  \n",
       "1000258                  UN            UN  "
      ]
     },
     "execution_count": 24,
     "metadata": {},
     "output_type": "execute_result"
    }
   ],
   "source": [
    "df_detail.head()"
   ]
  },
  {
   "cell_type": "markdown",
   "metadata": {
    "papermill": {
     "duration": 0.100269,
     "end_time": "2021-01-06T18:21:40.495322",
     "exception": false,
     "start_time": "2021-01-06T18:21:40.395053",
     "status": "completed"
    },
    "tags": []
   },
   "source": [
    "## Looking at all dataframes simulatenously:"
   ]
  },
  {
   "cell_type": "code",
   "execution_count": 25,
   "metadata": {
    "execution": {
     "iopub.execute_input": "2021-01-06T18:21:40.709373Z",
     "iopub.status.busy": "2021-01-06T18:21:40.708658Z",
     "iopub.status.idle": "2021-01-06T18:21:40.724286Z",
     "shell.execute_reply": "2021-01-06T18:21:40.724860Z"
    },
    "papermill": {
     "duration": 0.128653,
     "end_time": "2021-01-06T18:21:40.725009",
     "exception": false,
     "start_time": "2021-01-06T18:21:40.596356",
     "status": "completed"
    },
    "tags": []
   },
   "outputs": [],
   "source": [
    "df_main = df_main.sort_index()\n",
    "df_victims = df_victims.sort_index()\n",
    "df_detail = df_detail.sort_index()"
   ]
  },
  {
   "cell_type": "code",
   "execution_count": 26,
   "metadata": {
    "execution": {
     "iopub.execute_input": "2021-01-06T18:21:40.937431Z",
     "iopub.status.busy": "2021-01-06T18:21:40.936391Z",
     "iopub.status.idle": "2021-01-06T18:21:40.988199Z",
     "shell.execute_reply": "2021-01-06T18:21:40.987496Z"
    },
    "papermill": {
     "duration": 0.161706,
     "end_time": "2021-01-06T18:21:40.988325",
     "exception": false,
     "start_time": "2021-01-06T18:21:40.826619",
     "status": "completed"
    },
    "tags": []
   },
   "outputs": [],
   "source": [
    "df_main.drop_duplicates(inplace = True)\n",
    "df_detail.drop_duplicates(inplace = True)"
   ]
  },
  {
   "cell_type": "code",
   "execution_count": 27,
   "metadata": {
    "execution": {
     "iopub.execute_input": "2021-01-06T18:21:41.204399Z",
     "iopub.status.busy": "2021-01-06T18:21:41.203580Z",
     "iopub.status.idle": "2021-01-06T18:21:41.207353Z",
     "shell.execute_reply": "2021-01-06T18:21:41.206717Z"
    },
    "papermill": {
     "duration": 0.115183,
     "end_time": "2021-01-06T18:21:41.207467",
     "exception": false,
     "start_time": "2021-01-06T18:21:41.092284",
     "status": "completed"
    },
    "tags": []
   },
   "outputs": [
    {
     "data": {
      "text/html": [
       "<div>\n",
       "<style scoped>\n",
       "    .dataframe tbody tr th:only-of-type {\n",
       "        vertical-align: middle;\n",
       "    }\n",
       "\n",
       "    .dataframe tbody tr th {\n",
       "        vertical-align: top;\n",
       "    }\n",
       "\n",
       "    .dataframe thead th {\n",
       "        text-align: right;\n",
       "    }\n",
       "</style>\n",
       "<table border=\"1\" class=\"dataframe\">\n",
       "  <thead>\n",
       "    <tr style=\"text-align: right;\">\n",
       "      <th></th>\n",
       "      <th>beat</th>\n",
       "      <th>incident_year</th>\n",
       "    </tr>\n",
       "    <tr>\n",
       "      <th>cr_id</th>\n",
       "      <th></th>\n",
       "      <th></th>\n",
       "    </tr>\n",
       "  </thead>\n",
       "  <tbody>\n",
       "    <tr>\n",
       "      <th>1000001</th>\n",
       "      <td>1014</td>\n",
       "      <td>2006</td>\n",
       "    </tr>\n",
       "    <tr>\n",
       "      <th>1000004</th>\n",
       "      <td>0821</td>\n",
       "      <td>2006</td>\n",
       "    </tr>\n",
       "    <tr>\n",
       "      <th>1000006</th>\n",
       "      <td>0712</td>\n",
       "      <td>2006</td>\n",
       "    </tr>\n",
       "    <tr>\n",
       "      <th>1000007</th>\n",
       "      <td>1022</td>\n",
       "      <td>2006</td>\n",
       "    </tr>\n",
       "    <tr>\n",
       "      <th>1000010</th>\n",
       "      <td>0323</td>\n",
       "      <td>2006</td>\n",
       "    </tr>\n",
       "  </tbody>\n",
       "</table>\n",
       "</div>"
      ],
      "text/plain": [
       "         beat  incident_year\n",
       "cr_id                       \n",
       "1000001  1014           2006\n",
       "1000004  0821           2006\n",
       "1000006  0712           2006\n",
       "1000007  1022           2006\n",
       "1000010  0323           2006"
      ]
     },
     "execution_count": 27,
     "metadata": {},
     "output_type": "execute_result"
    }
   ],
   "source": [
    "df_main.head()"
   ]
  },
  {
   "cell_type": "code",
   "execution_count": 28,
   "metadata": {
    "execution": {
     "iopub.execute_input": "2021-01-06T18:21:41.417673Z",
     "iopub.status.busy": "2021-01-06T18:21:41.416920Z",
     "iopub.status.idle": "2021-01-06T18:21:41.427911Z",
     "shell.execute_reply": "2021-01-06T18:21:41.428468Z"
    },
    "papermill": {
     "duration": 0.117974,
     "end_time": "2021-01-06T18:21:41.428630",
     "exception": false,
     "start_time": "2021-01-06T18:21:41.310656",
     "status": "completed"
    },
    "tags": []
   },
   "outputs": [
    {
     "data": {
      "text/html": [
       "<div>\n",
       "<style scoped>\n",
       "    .dataframe tbody tr th:only-of-type {\n",
       "        vertical-align: middle;\n",
       "    }\n",
       "\n",
       "    .dataframe tbody tr th {\n",
       "        vertical-align: top;\n",
       "    }\n",
       "\n",
       "    .dataframe thead th {\n",
       "        text-align: right;\n",
       "    }\n",
       "</style>\n",
       "<table border=\"1\" class=\"dataframe\">\n",
       "  <thead>\n",
       "    <tr style=\"text-align: right;\">\n",
       "      <th></th>\n",
       "      <th>gender</th>\n",
       "      <th>age</th>\n",
       "      <th>race</th>\n",
       "    </tr>\n",
       "    <tr>\n",
       "      <th>cr_id</th>\n",
       "      <th></th>\n",
       "      <th></th>\n",
       "      <th></th>\n",
       "    </tr>\n",
       "  </thead>\n",
       "  <tbody>\n",
       "    <tr>\n",
       "      <th>1000009</th>\n",
       "      <td>FEMALE</td>\n",
       "      <td>37.0</td>\n",
       "      <td>HISPANIC</td>\n",
       "    </tr>\n",
       "    <tr>\n",
       "      <th>1000015</th>\n",
       "      <td>FEMALE</td>\n",
       "      <td>35.0</td>\n",
       "      <td>BLACK</td>\n",
       "    </tr>\n",
       "    <tr>\n",
       "      <th>1000015</th>\n",
       "      <td>FEMALE</td>\n",
       "      <td>24.0</td>\n",
       "      <td>BLACK</td>\n",
       "    </tr>\n",
       "    <tr>\n",
       "      <th>1000020</th>\n",
       "      <td>MALE</td>\n",
       "      <td>27.0</td>\n",
       "      <td>BLACK</td>\n",
       "    </tr>\n",
       "    <tr>\n",
       "      <th>1000021</th>\n",
       "      <td>MALE</td>\n",
       "      <td>26.0</td>\n",
       "      <td>BLACK</td>\n",
       "    </tr>\n",
       "  </tbody>\n",
       "</table>\n",
       "</div>"
      ],
      "text/plain": [
       "         gender   age      race\n",
       "cr_id                          \n",
       "1000009  FEMALE  37.0  HISPANIC\n",
       "1000015  FEMALE  35.0     BLACK\n",
       "1000015  FEMALE  24.0     BLACK\n",
       "1000020    MALE  27.0     BLACK\n",
       "1000021    MALE  26.0     BLACK"
      ]
     },
     "execution_count": 28,
     "metadata": {},
     "output_type": "execute_result"
    }
   ],
   "source": [
    "df_victims.head()"
   ]
  },
  {
   "cell_type": "code",
   "execution_count": 29,
   "metadata": {
    "execution": {
     "iopub.execute_input": "2021-01-06T18:21:41.640798Z",
     "iopub.status.busy": "2021-01-06T18:21:41.640139Z",
     "iopub.status.idle": "2021-01-06T18:21:41.654056Z",
     "shell.execute_reply": "2021-01-06T18:21:41.654619Z"
    },
    "papermill": {
     "duration": 0.121927,
     "end_time": "2021-01-06T18:21:41.654767",
     "exception": false,
     "start_time": "2021-01-06T18:21:41.532840",
     "status": "completed"
    },
    "tags": []
   },
   "outputs": [
    {
     "data": {
      "text/html": [
       "<div>\n",
       "<style scoped>\n",
       "    .dataframe tbody tr th:only-of-type {\n",
       "        vertical-align: middle;\n",
       "    }\n",
       "\n",
       "    .dataframe tbody tr th {\n",
       "        vertical-align: top;\n",
       "    }\n",
       "\n",
       "    .dataframe thead th {\n",
       "        text-align: right;\n",
       "    }\n",
       "</style>\n",
       "<table border=\"1\" class=\"dataframe\">\n",
       "  <thead>\n",
       "    <tr style=\"text-align: right;\">\n",
       "      <th></th>\n",
       "      <th>row_id</th>\n",
       "      <th>complaint_category</th>\n",
       "      <th>recommended_discipline</th>\n",
       "      <th>final_discipline</th>\n",
       "      <th>recommended_finding</th>\n",
       "      <th>final_finding</th>\n",
       "    </tr>\n",
       "    <tr>\n",
       "      <th>cr_id</th>\n",
       "      <th></th>\n",
       "      <th></th>\n",
       "      <th></th>\n",
       "      <th></th>\n",
       "      <th></th>\n",
       "      <th></th>\n",
       "    </tr>\n",
       "  </thead>\n",
       "  <tbody>\n",
       "    <tr>\n",
       "      <th>1000002</th>\n",
       "      <td>62185</td>\n",
       "      <td>05M-UNNECESSARY PHYSICAL CONTACT - OFF DUTY</td>\n",
       "      <td>600.0</td>\n",
       "      <td>600.0</td>\n",
       "      <td>UN</td>\n",
       "      <td>UN</td>\n",
       "    </tr>\n",
       "    <tr>\n",
       "      <th>1000002</th>\n",
       "      <td>62186</td>\n",
       "      <td>05M-UNNECESSARY PHYSICAL CONTACT - OFF DUTY</td>\n",
       "      <td>600.0</td>\n",
       "      <td>600.0</td>\n",
       "      <td>UN</td>\n",
       "      <td>UN</td>\n",
       "    </tr>\n",
       "    <tr>\n",
       "      <th>1000004</th>\n",
       "      <td>62188</td>\n",
       "      <td>05N-WEAPON - UNNECESSARY DISPLAY OF</td>\n",
       "      <td>5.0</td>\n",
       "      <td>5.0</td>\n",
       "      <td>SU</td>\n",
       "      <td>SU</td>\n",
       "    </tr>\n",
       "    <tr>\n",
       "      <th>1000004</th>\n",
       "      <td>62187</td>\n",
       "      <td>05N-WEAPON - UNNECESSARY DISPLAY OF</td>\n",
       "      <td>5.0</td>\n",
       "      <td>1.0</td>\n",
       "      <td>SU</td>\n",
       "      <td>SU</td>\n",
       "    </tr>\n",
       "    <tr>\n",
       "      <th>1000006</th>\n",
       "      <td>62189</td>\n",
       "      <td>05A-ARRESTEE - DURING ARREST</td>\n",
       "      <td>600.0</td>\n",
       "      <td>600.0</td>\n",
       "      <td>NS</td>\n",
       "      <td>NS</td>\n",
       "    </tr>\n",
       "  </tbody>\n",
       "</table>\n",
       "</div>"
      ],
      "text/plain": [
       "         row_id                           complaint_category  \\\n",
       "cr_id                                                          \n",
       "1000002   62185  05M-UNNECESSARY PHYSICAL CONTACT - OFF DUTY   \n",
       "1000002   62186  05M-UNNECESSARY PHYSICAL CONTACT - OFF DUTY   \n",
       "1000004   62188          05N-WEAPON - UNNECESSARY DISPLAY OF   \n",
       "1000004   62187          05N-WEAPON - UNNECESSARY DISPLAY OF   \n",
       "1000006   62189                 05A-ARRESTEE - DURING ARREST   \n",
       "\n",
       "         recommended_discipline  final_discipline recommended_finding  \\\n",
       "cr_id                                                                   \n",
       "1000002                   600.0             600.0                  UN   \n",
       "1000002                   600.0             600.0                  UN   \n",
       "1000004                     5.0               5.0                  SU   \n",
       "1000004                     5.0               1.0                  SU   \n",
       "1000006                   600.0             600.0                  NS   \n",
       "\n",
       "        final_finding  \n",
       "cr_id                  \n",
       "1000002            UN  \n",
       "1000002            UN  \n",
       "1000004            SU  \n",
       "1000004            SU  \n",
       "1000006            NS  "
      ]
     },
     "execution_count": 29,
     "metadata": {},
     "output_type": "execute_result"
    }
   ],
   "source": [
    "df_detail.head()"
   ]
  },
  {
   "cell_type": "code",
   "execution_count": 30,
   "metadata": {
    "execution": {
     "iopub.execute_input": "2021-01-06T18:21:41.877514Z",
     "iopub.status.busy": "2021-01-06T18:21:41.876868Z",
     "iopub.status.idle": "2021-01-06T18:21:41.881737Z",
     "shell.execute_reply": "2021-01-06T18:21:41.882273Z"
    },
    "papermill": {
     "duration": 0.121026,
     "end_time": "2021-01-06T18:21:41.882470",
     "exception": false,
     "start_time": "2021-01-06T18:21:41.761444",
     "status": "completed"
    },
    "tags": []
   },
   "outputs": [
    {
     "data": {
      "text/plain": [
       "(3057, 2)"
      ]
     },
     "execution_count": 30,
     "metadata": {},
     "output_type": "execute_result"
    }
   ],
   "source": [
    "df_main.shape"
   ]
  },
  {
   "cell_type": "code",
   "execution_count": 31,
   "metadata": {
    "execution": {
     "iopub.execute_input": "2021-01-06T18:21:42.093965Z",
     "iopub.status.busy": "2021-01-06T18:21:42.093288Z",
     "iopub.status.idle": "2021-01-06T18:21:42.099356Z",
     "shell.execute_reply": "2021-01-06T18:21:42.098804Z"
    },
    "papermill": {
     "duration": 0.112888,
     "end_time": "2021-01-06T18:21:42.099479",
     "exception": false,
     "start_time": "2021-01-06T18:21:41.986591",
     "status": "completed"
    },
    "tags": []
   },
   "outputs": [
    {
     "data": {
      "text/plain": [
       "(19103, 3)"
      ]
     },
     "execution_count": 31,
     "metadata": {},
     "output_type": "execute_result"
    }
   ],
   "source": [
    "df_victims.shape"
   ]
  },
  {
   "cell_type": "code",
   "execution_count": 32,
   "metadata": {
    "execution": {
     "iopub.execute_input": "2021-01-06T18:21:42.313993Z",
     "iopub.status.busy": "2021-01-06T18:21:42.313332Z",
     "iopub.status.idle": "2021-01-06T18:21:42.318014Z",
     "shell.execute_reply": "2021-01-06T18:21:42.318728Z"
    },
    "papermill": {
     "duration": 0.113857,
     "end_time": "2021-01-06T18:21:42.318882",
     "exception": false,
     "start_time": "2021-01-06T18:21:42.205025",
     "status": "completed"
    },
    "tags": []
   },
   "outputs": [
    {
     "data": {
      "text/plain": [
       "(63719, 6)"
      ]
     },
     "execution_count": 32,
     "metadata": {},
     "output_type": "execute_result"
    }
   ],
   "source": [
    "df_detail.shape"
   ]
  },
  {
   "cell_type": "markdown",
   "metadata": {
    "papermill": {
     "duration": 0.103831,
     "end_time": "2021-01-06T18:21:42.528722",
     "exception": false,
     "start_time": "2021-01-06T18:21:42.424891",
     "status": "completed"
    },
    "tags": []
   },
   "source": [
    "# Starting some EDA..."
   ]
  },
  {
   "cell_type": "markdown",
   "metadata": {
    "papermill": {
     "duration": 0.104257,
     "end_time": "2021-01-06T18:21:42.737054",
     "exception": false,
     "start_time": "2021-01-06T18:21:42.632797",
     "status": "completed"
    },
    "tags": []
   },
   "source": [
    "**DF_MAIN:**"
   ]
  },
  {
   "cell_type": "code",
   "execution_count": 33,
   "metadata": {
    "execution": {
     "iopub.execute_input": "2021-01-06T18:21:42.952865Z",
     "iopub.status.busy": "2021-01-06T18:21:42.952205Z",
     "iopub.status.idle": "2021-01-06T18:21:42.961875Z",
     "shell.execute_reply": "2021-01-06T18:21:42.962393Z"
    },
    "papermill": {
     "duration": 0.120522,
     "end_time": "2021-01-06T18:21:42.962550",
     "exception": false,
     "start_time": "2021-01-06T18:21:42.842028",
     "status": "completed"
    },
    "tags": []
   },
   "outputs": [
    {
     "data": {
      "text/html": [
       "<div>\n",
       "<style scoped>\n",
       "    .dataframe tbody tr th:only-of-type {\n",
       "        vertical-align: middle;\n",
       "    }\n",
       "\n",
       "    .dataframe tbody tr th {\n",
       "        vertical-align: top;\n",
       "    }\n",
       "\n",
       "    .dataframe thead th {\n",
       "        text-align: right;\n",
       "    }\n",
       "</style>\n",
       "<table border=\"1\" class=\"dataframe\">\n",
       "  <thead>\n",
       "    <tr style=\"text-align: right;\">\n",
       "      <th></th>\n",
       "      <th>beat</th>\n",
       "      <th>incident_year</th>\n",
       "    </tr>\n",
       "    <tr>\n",
       "      <th>cr_id</th>\n",
       "      <th></th>\n",
       "      <th></th>\n",
       "    </tr>\n",
       "  </thead>\n",
       "  <tbody>\n",
       "    <tr>\n",
       "      <th>1000001</th>\n",
       "      <td>1014</td>\n",
       "      <td>2006</td>\n",
       "    </tr>\n",
       "    <tr>\n",
       "      <th>1000004</th>\n",
       "      <td>0821</td>\n",
       "      <td>2006</td>\n",
       "    </tr>\n",
       "    <tr>\n",
       "      <th>1000006</th>\n",
       "      <td>0712</td>\n",
       "      <td>2006</td>\n",
       "    </tr>\n",
       "    <tr>\n",
       "      <th>1000007</th>\n",
       "      <td>1022</td>\n",
       "      <td>2006</td>\n",
       "    </tr>\n",
       "    <tr>\n",
       "      <th>1000010</th>\n",
       "      <td>0323</td>\n",
       "      <td>2006</td>\n",
       "    </tr>\n",
       "  </tbody>\n",
       "</table>\n",
       "</div>"
      ],
      "text/plain": [
       "         beat  incident_year\n",
       "cr_id                       \n",
       "1000001  1014           2006\n",
       "1000004  0821           2006\n",
       "1000006  0712           2006\n",
       "1000007  1022           2006\n",
       "1000010  0323           2006"
      ]
     },
     "execution_count": 33,
     "metadata": {},
     "output_type": "execute_result"
    }
   ],
   "source": [
    "df_main.head()"
   ]
  },
  {
   "cell_type": "markdown",
   "metadata": {
    "papermill": {
     "duration": 0.105414,
     "end_time": "2021-01-06T18:21:43.173270",
     "exception": false,
     "start_time": "2021-01-06T18:21:43.067856",
     "status": "completed"
    },
    "tags": []
   },
   "source": [
    "Let's see which beats and which districts had the highest and lowest number of complaints..."
   ]
  },
  {
   "cell_type": "code",
   "execution_count": 34,
   "metadata": {
    "execution": {
     "iopub.execute_input": "2021-01-06T18:21:43.389074Z",
     "iopub.status.busy": "2021-01-06T18:21:43.388423Z",
     "iopub.status.idle": "2021-01-06T18:21:43.813331Z",
     "shell.execute_reply": "2021-01-06T18:21:43.812676Z"
    },
    "papermill": {
     "duration": 0.53415,
     "end_time": "2021-01-06T18:21:43.813443",
     "exception": false,
     "start_time": "2021-01-06T18:21:43.279293",
     "status": "completed"
    },
    "tags": []
   },
   "outputs": [
    {
     "data": {
      "image/png": "[encoded data removed]",
      "text/plain": [
       "<Figure size 432x288 with 1 Axes>"
      ]
     },
     "metadata": {},
     "output_type": "display_data"
    }
   ],
   "source": [
    "#graph for beats with most complaints\n",
    "beatFreq = df_main.beat.value_counts()[:20]\n",
    "beatFreq_beats = beatFreq.index\n",
    "sns.set(font_scale = 1)\n",
    "ax = sns.barplot(x = beatFreq_beats, y = beatFreq, order = beatFreq_beats, label = 'small')\n",
    "ax.set_title('20 Beats with HIGHEST Number of Complaint Reports')\n",
    "ax.set_xticklabels(ax.get_xticklabels(),rotation=90)\n",
    "ax.set(xlabel='Beats', ylabel='Number of Complaints')\n",
    "ax.tick_params(labelsize=8.5)\n",
    "plt.show()"
   ]
  },
  {
   "cell_type": "code",
   "execution_count": 35,
   "metadata": {
    "execution": {
     "iopub.execute_input": "2021-01-06T18:21:44.061841Z",
     "iopub.status.busy": "2021-01-06T18:21:44.056480Z",
     "iopub.status.idle": "2021-01-06T18:21:44.396761Z",
     "shell.execute_reply": "2021-01-06T18:21:44.396018Z"
    },
    "papermill": {
     "duration": 0.476519,
     "end_time": "2021-01-06T18:21:44.396883",
     "exception": false,
     "start_time": "2021-01-06T18:21:43.920364",
     "status": "completed"
    },
    "tags": []
   },
   "outputs": [
    {
     "data": {
      "image/png": "[encoded data removed]",
      "text/plain": [
       "<Figure size 432x288 with 1 Axes>"
      ]
     },
     "metadata": {},
     "output_type": "display_data"
    }
   ],
   "source": [
    "#graph for beats with least complaints\n",
    "beatFreq_low = df_main.beat.value_counts()[-20:]\n",
    "beatFreq_low_beats = beatFreq_low.index\n",
    "sns.set(font_scale = 1)\n",
    "ax = sns.barplot(x = beatFreq_low_beats, y = beatFreq_low, order = beatFreq_low_beats, label = 'small')\n",
    "ax.set_title('20 Beats with LOWEST Number of Complaint Reports')\n",
    "ax.set_xticklabels(ax.get_xticklabels(),rotation=90)\n",
    "ax.set(xlabel='Beats', ylabel='Number of Complaints')\n",
    "ax.tick_params(labelsize=8.5)\n",
    "plt.show()"
   ]
  },
  {
   "cell_type": "markdown",
   "metadata": {
    "papermill": {
     "duration": 0.107563,
     "end_time": "2021-01-06T18:21:44.611956",
     "exception": false,
     "start_time": "2021-01-06T18:21:44.504393",
     "status": "completed"
    },
    "tags": []
   },
   "source": [
    "Sorting the above graphs by district...(which is the first two digits in the beat name)"
   ]
  },
  {
   "cell_type": "code",
   "execution_count": 36,
   "metadata": {
    "execution": {
     "iopub.execute_input": "2021-01-06T18:21:44.839163Z",
     "iopub.status.busy": "2021-01-06T18:21:44.838214Z",
     "iopub.status.idle": "2021-01-06T18:21:44.843216Z",
     "shell.execute_reply": "2021-01-06T18:21:44.842724Z"
    },
    "papermill": {
     "duration": 0.1219,
     "end_time": "2021-01-06T18:21:44.843338",
     "exception": false,
     "start_time": "2021-01-06T18:21:44.721438",
     "status": "completed"
    },
    "tags": []
   },
   "outputs": [
    {
     "name": "stdout",
     "output_type": "stream",
     "text": [
      "{'02': 4, '11': 2, '25': 2, '01': 2, '22': 2, '07': 2, '06': 2, '05': 1, '04': 1, '08': 1, '19': 1}\n"
     ]
    }
   ],
   "source": [
    "#counter dict for district with most beats in top 20\n",
    "districts_high = {}\n",
    "for beat in beatFreq_beats:\n",
    "    district = beat[:2]\n",
    "    if district in districts_high.keys():\n",
    "        districts_high[district] += 1\n",
    "    else:\n",
    "        districts_high[district] = 1\n",
    "#print(districts_high)\n",
    "districts_high_sorted_keys = sorted(districts_high, key=districts_high.get, reverse=True)\n",
    "districts_high_sort ={}\n",
    "for district in districts_high_sorted_keys:\n",
    "    districts_high_sort[district] = districts_high[district]\n",
    "print(districts_high_sort)"
   ]
  },
  {
   "cell_type": "code",
   "execution_count": 37,
   "metadata": {
    "execution": {
     "iopub.execute_input": "2021-01-06T18:21:45.088497Z",
     "iopub.status.busy": "2021-01-06T18:21:45.087737Z",
     "iopub.status.idle": "2021-01-06T18:21:45.326231Z",
     "shell.execute_reply": "2021-01-06T18:21:45.325578Z"
    },
    "papermill": {
     "duration": 0.374419,
     "end_time": "2021-01-06T18:21:45.326357",
     "exception": false,
     "start_time": "2021-01-06T18:21:44.951938",
     "status": "completed"
    },
    "tags": []
   },
   "outputs": [
    {
     "data": {
      "image/png": "[encoded data removed]",
      "text/plain": [
       "<Figure size 432x288 with 1 Axes>"
      ]
     },
     "metadata": {},
     "output_type": "display_data"
    }
   ],
   "source": [
    "#graph of above counter\n",
    "sns.set(font_scale = 1)\n",
    "ax = sns.barplot(x = list(districts_high_sort.keys()), y = list(districts_high_sort.values()), order = districts_high_sort, label = 'small')\n",
    "ax.set_title('Districts with HIGHEST Number of Complaints')\n",
    "ax.set_xticklabels(ax.get_xticklabels())\n",
    "ax.tick_params(labelsize=8.5)\n",
    "ax.set(xlabel='Districts', ylabel='Number of Complaints')\n",
    "plt.show()"
   ]
  },
  {
   "cell_type": "markdown",
   "metadata": {
    "papermill": {
     "duration": 0.108161,
     "end_time": "2021-01-06T18:21:45.545766",
     "exception": false,
     "start_time": "2021-01-06T18:21:45.437605",
     "status": "completed"
    },
    "tags": []
   },
   "source": [
    "**Key Takeaways:**\n",
    "* Districts 2 and  11 in consistently high across all categories we have measured so far..."
   ]
  },
  {
   "cell_type": "markdown",
   "metadata": {
    "papermill": {
     "duration": 0.109256,
     "end_time": "2021-01-06T18:21:45.764611",
     "exception": false,
     "start_time": "2021-01-06T18:21:45.655355",
     "status": "completed"
    },
    "tags": []
   },
   "source": [
    "*Note: the above graphs represents the frequency of each district in '20 Beats with the Highest Number of Complaints' data (i.e. 4 beats in District 11 were in the 20 Beats with the Highest Number of Complaints' data)*"
   ]
  },
  {
   "cell_type": "code",
   "execution_count": 38,
   "metadata": {
    "execution": {
     "iopub.execute_input": "2021-01-06T18:21:45.994321Z",
     "iopub.status.busy": "2021-01-06T18:21:45.993670Z",
     "iopub.status.idle": "2021-01-06T18:21:45.997968Z",
     "shell.execute_reply": "2021-01-06T18:21:45.997376Z"
    },
    "papermill": {
     "duration": 0.122168,
     "end_time": "2021-01-06T18:21:45.998090",
     "exception": false,
     "start_time": "2021-01-06T18:21:45.875922",
     "status": "completed"
    },
    "tags": []
   },
   "outputs": [
    {
     "name": "stdout",
     "output_type": "stream",
     "text": [
      "{'19': 5, '16': 5, '12': 5, '20': 2, '02': 2, '31': 1}\n"
     ]
    }
   ],
   "source": [
    "#counter dict for district with most beats in bottom 20\n",
    "districts_low = {}\n",
    "for beat in beatFreq_low_beats:\n",
    "    district = beat[:2]\n",
    "    if district in districts_low.keys():\n",
    "        districts_low[district] += 1\n",
    "    else:\n",
    "        districts_low[district] = 1\n",
    "#print(districts_low)\n",
    "districts_low_sorted_keys = sorted(districts_low, key=districts_low.get, reverse=True)\n",
    "districts_low_sort ={}\n",
    "for district in districts_low_sorted_keys:\n",
    "    districts_low_sort[district] = districts_low[district]\n",
    "print(districts_low_sort)"
   ]
  },
  {
   "cell_type": "code",
   "execution_count": 39,
   "metadata": {
    "execution": {
     "iopub.execute_input": "2021-01-06T18:21:46.247196Z",
     "iopub.status.busy": "2021-01-06T18:21:46.237513Z",
     "iopub.status.idle": "2021-01-06T18:21:46.416236Z",
     "shell.execute_reply": "2021-01-06T18:21:46.415664Z"
    },
    "papermill": {
     "duration": 0.309103,
     "end_time": "2021-01-06T18:21:46.416344",
     "exception": false,
     "start_time": "2021-01-06T18:21:46.107241",
     "status": "completed"
    },
    "tags": []
   },
   "outputs": [
    {
     "data": {
      "image/png": "[encoded data removed]",
      "text/plain": [
       "<Figure size 432x288 with 1 Axes>"
      ]
     },
     "metadata": {},
     "output_type": "display_data"
    }
   ],
   "source": [
    "#graph of above counter\n",
    "sns.set(font_scale = 1)\n",
    "ax = sns.barplot(x = list(districts_low_sort.keys()), y = list(districts_low_sort.values()), order = districts_low_sort, label = 'small')\n",
    "ax.set_title('Districts with LOWEST Number of Complaints')\n",
    "ax.set_xticklabels(ax.get_xticklabels())\n",
    "ax.tick_params(labelsize=8.5)\n",
    "ax.set(xlabel='Districts', ylabel='Number of Complaints')\n",
    "plt.show()"
   ]
  },
  {
   "cell_type": "markdown",
   "metadata": {
    "papermill": {
     "duration": 0.110855,
     "end_time": "2021-01-06T18:21:46.637613",
     "exception": false,
     "start_time": "2021-01-06T18:21:46.526758",
     "status": "completed"
    },
    "tags": []
   },
   "source": [
    "**Key Takeaways:**\n",
    "* The prominence of Districts 12, 16, and 19 at the bottom match the trends we saw in the other data"
   ]
  },
  {
   "cell_type": "markdown",
   "metadata": {
    "papermill": {
     "duration": 0.109875,
     "end_time": "2021-01-06T18:21:46.860788",
     "exception": false,
     "start_time": "2021-01-06T18:21:46.750913",
     "status": "completed"
    },
    "tags": []
   },
   "source": [
    "We won't note any observations until we cross-reference with the beat/district data in the 'Baseline EDA' notebook, but we can tell you from first glance we already see some intersting overlaps acorss all beat/district data, which we will go into greater depth with in our cross-reference notebook"
   ]
  },
  {
   "cell_type": "markdown",
   "metadata": {
    "papermill": {
     "duration": 0.110247,
     "end_time": "2021-01-06T18:21:47.083219",
     "exception": false,
     "start_time": "2021-01-06T18:21:46.972972",
     "status": "completed"
    },
    "tags": []
   },
   "source": [
    "We can look at the frequency of complaint reports filed by year too..."
   ]
  },
  {
   "cell_type": "code",
   "execution_count": 40,
   "metadata": {
    "execution": {
     "iopub.execute_input": "2021-01-06T18:21:47.313754Z",
     "iopub.status.busy": "2021-01-06T18:21:47.312933Z",
     "iopub.status.idle": "2021-01-06T18:21:47.316185Z",
     "shell.execute_reply": "2021-01-06T18:21:47.316946Z"
    },
    "papermill": {
     "duration": 0.12214,
     "end_time": "2021-01-06T18:21:47.317135",
     "exception": false,
     "start_time": "2021-01-06T18:21:47.194995",
     "status": "completed"
    },
    "tags": []
   },
   "outputs": [
    {
     "name": "stdout",
     "output_type": "stream",
     "text": [
      "2012    273\n",
      "2011    273\n",
      "2014    273\n",
      "2013    272\n",
      "2010    270\n",
      "2015    269\n",
      "2009    262\n",
      "2008    261\n",
      "2007    257\n",
      "2006    249\n",
      "2016    234\n",
      "2005     79\n",
      "2004     30\n",
      "2001     25\n",
      "2003     12\n",
      "2002     10\n",
      "2000      8\n",
      "Name: incident_year, dtype: int64\n"
     ]
    }
   ],
   "source": [
    "print(df_main.incident_year.value_counts())"
   ]
  },
  {
   "cell_type": "code",
   "execution_count": 41,
   "metadata": {
    "execution": {
     "iopub.execute_input": "2021-01-06T18:21:47.549479Z",
     "iopub.status.busy": "2021-01-06T18:21:47.548794Z",
     "iopub.status.idle": "2021-01-06T18:21:47.845961Z",
     "shell.execute_reply": "2021-01-06T18:21:47.845242Z"
    },
    "papermill": {
     "duration": 0.414735,
     "end_time": "2021-01-06T18:21:47.846076",
     "exception": false,
     "start_time": "2021-01-06T18:21:47.431341",
     "status": "completed"
    },
    "tags": []
   },
   "outputs": [
    {
     "data": {
      "image/png": "[encoded data removed]",
      "text/plain": [
       "<Figure size 432x288 with 1 Axes>"
      ]
     },
     "metadata": {},
     "output_type": "display_data"
    }
   ],
   "source": [
    "#graph of frequency each year appears across all available complaint data\n",
    "ax = sns.countplot(x=\"incident_year\", data=df_main)\n",
    "ax.set_title('Number of Complaints Filed by year')\n",
    "ax.set_xticklabels(ax.get_xticklabels(),rotation=90)\n",
    "plt.show()"
   ]
  },
  {
   "cell_type": "markdown",
   "metadata": {
    "papermill": {
     "duration": 0.113384,
     "end_time": "2021-01-06T18:21:48.072449",
     "exception": false,
     "start_time": "2021-01-06T18:21:47.959065",
     "status": "completed"
    },
    "tags": []
   },
   "source": [
    "**Key Takeaways:**\n",
    "* Complaints are far more frequent since 2005. This could be due to an uptick in complaints in recent years or an increase in digital recoards recently"
   ]
  },
  {
   "cell_type": "markdown",
   "metadata": {
    "papermill": {
     "duration": 0.112264,
     "end_time": "2021-01-06T18:21:48.298299",
     "exception": false,
     "start_time": "2021-01-06T18:21:48.186035",
     "status": "completed"
    },
    "tags": []
   },
   "source": [
    "**DF_VICTIMS**"
   ]
  },
  {
   "cell_type": "code",
   "execution_count": 42,
   "metadata": {
    "execution": {
     "iopub.execute_input": "2021-01-06T18:21:48.536044Z",
     "iopub.status.busy": "2021-01-06T18:21:48.535011Z",
     "iopub.status.idle": "2021-01-06T18:21:48.538516Z",
     "shell.execute_reply": "2021-01-06T18:21:48.539030Z"
    },
    "papermill": {
     "duration": 0.127413,
     "end_time": "2021-01-06T18:21:48.539167",
     "exception": false,
     "start_time": "2021-01-06T18:21:48.411754",
     "status": "completed"
    },
    "tags": []
   },
   "outputs": [
    {
     "data": {
      "text/html": [
       "<div>\n",
       "<style scoped>\n",
       "    .dataframe tbody tr th:only-of-type {\n",
       "        vertical-align: middle;\n",
       "    }\n",
       "\n",
       "    .dataframe tbody tr th {\n",
       "        vertical-align: top;\n",
       "    }\n",
       "\n",
       "    .dataframe thead th {\n",
       "        text-align: right;\n",
       "    }\n",
       "</style>\n",
       "<table border=\"1\" class=\"dataframe\">\n",
       "  <thead>\n",
       "    <tr style=\"text-align: right;\">\n",
       "      <th></th>\n",
       "      <th>gender</th>\n",
       "      <th>age</th>\n",
       "      <th>race</th>\n",
       "    </tr>\n",
       "    <tr>\n",
       "      <th>cr_id</th>\n",
       "      <th></th>\n",
       "      <th></th>\n",
       "      <th></th>\n",
       "    </tr>\n",
       "  </thead>\n",
       "  <tbody>\n",
       "    <tr>\n",
       "      <th>1000009</th>\n",
       "      <td>FEMALE</td>\n",
       "      <td>37.0</td>\n",
       "      <td>HISPANIC</td>\n",
       "    </tr>\n",
       "    <tr>\n",
       "      <th>1000015</th>\n",
       "      <td>FEMALE</td>\n",
       "      <td>35.0</td>\n",
       "      <td>BLACK</td>\n",
       "    </tr>\n",
       "    <tr>\n",
       "      <th>1000015</th>\n",
       "      <td>FEMALE</td>\n",
       "      <td>24.0</td>\n",
       "      <td>BLACK</td>\n",
       "    </tr>\n",
       "    <tr>\n",
       "      <th>1000020</th>\n",
       "      <td>MALE</td>\n",
       "      <td>27.0</td>\n",
       "      <td>BLACK</td>\n",
       "    </tr>\n",
       "    <tr>\n",
       "      <th>1000021</th>\n",
       "      <td>MALE</td>\n",
       "      <td>26.0</td>\n",
       "      <td>BLACK</td>\n",
       "    </tr>\n",
       "  </tbody>\n",
       "</table>\n",
       "</div>"
      ],
      "text/plain": [
       "         gender   age      race\n",
       "cr_id                          \n",
       "1000009  FEMALE  37.0  HISPANIC\n",
       "1000015  FEMALE  35.0     BLACK\n",
       "1000015  FEMALE  24.0     BLACK\n",
       "1000020    MALE  27.0     BLACK\n",
       "1000021    MALE  26.0     BLACK"
      ]
     },
     "execution_count": 42,
     "metadata": {},
     "output_type": "execute_result"
    }
   ],
   "source": [
    "df_victims.head()"
   ]
  },
  {
   "cell_type": "markdown",
   "metadata": {
    "papermill": {
     "duration": 0.111965,
     "end_time": "2021-01-06T18:21:48.763958",
     "exception": false,
     "start_time": "2021-01-06T18:21:48.651993",
     "status": "completed"
    },
    "tags": []
   },
   "source": [
    "Let's look at the breakdown of complainees by gender, race, and age...\n",
    "\n",
    "First, gender:"
   ]
  },
  {
   "cell_type": "code",
   "execution_count": 43,
   "metadata": {
    "execution": {
     "iopub.execute_input": "2021-01-06T18:21:49.003718Z",
     "iopub.status.busy": "2021-01-06T18:21:49.002770Z",
     "iopub.status.idle": "2021-01-06T18:21:49.007827Z",
     "shell.execute_reply": "2021-01-06T18:21:49.007121Z"
    },
    "papermill": {
     "duration": 0.130464,
     "end_time": "2021-01-06T18:21:49.007951",
     "exception": false,
     "start_time": "2021-01-06T18:21:48.877487",
     "status": "completed"
    },
    "tags": []
   },
   "outputs": [
    {
     "name": "stdout",
     "output_type": "stream",
     "text": [
      "MALE      12623\n",
      "FEMALE     6476\n",
      "Name: gender, dtype: int64\n"
     ]
    }
   ],
   "source": [
    "#counter for gender frequency across all available complaints\n",
    "print(df_victims.gender.value_counts())"
   ]
  },
  {
   "cell_type": "code",
   "execution_count": 44,
   "metadata": {
    "execution": {
     "iopub.execute_input": "2021-01-06T18:21:49.249794Z",
     "iopub.status.busy": "2021-01-06T18:21:49.248461Z",
     "iopub.status.idle": "2021-01-06T18:21:49.429607Z",
     "shell.execute_reply": "2021-01-06T18:21:49.428925Z"
    },
    "papermill": {
     "duration": 0.30781,
     "end_time": "2021-01-06T18:21:49.429730",
     "exception": false,
     "start_time": "2021-01-06T18:21:49.121920",
     "status": "completed"
    },
    "tags": []
   },
   "outputs": [
    {
     "data": {
      "image/png": "[encoded data removed]",
      "text/plain": [
       "<Figure size 432x288 with 1 Axes>"
      ]
     },
     "metadata": {},
     "output_type": "display_data"
    }
   ],
   "source": [
    "#graph of above counter\n",
    "ax = sns.countplot(x=\"gender\", data=df_victims,  order = df_victims.gender.value_counts().index)\n",
    "ax.set_title('Breakdown of Complainees by Gender')\n",
    "plt.show()"
   ]
  },
  {
   "cell_type": "markdown",
   "metadata": {
    "papermill": {
     "duration": 0.113674,
     "end_time": "2021-01-06T18:21:49.657460",
     "exception": false,
     "start_time": "2021-01-06T18:21:49.543786",
     "status": "completed"
    },
    "tags": []
   },
   "source": [
    "Now, race:"
   ]
  },
  {
   "cell_type": "code",
   "execution_count": 45,
   "metadata": {
    "execution": {
     "iopub.execute_input": "2021-01-06T18:21:49.899441Z",
     "iopub.status.busy": "2021-01-06T18:21:49.898510Z",
     "iopub.status.idle": "2021-01-06T18:21:49.902056Z",
     "shell.execute_reply": "2021-01-06T18:21:49.902796Z"
    },
    "papermill": {
     "duration": 0.131399,
     "end_time": "2021-01-06T18:21:49.902985",
     "exception": false,
     "start_time": "2021-01-06T18:21:49.771586",
     "status": "completed"
    },
    "tags": []
   },
   "outputs": [
    {
     "name": "stdout",
     "output_type": "stream",
     "text": [
      "BLACK                             13804\n",
      "HISPANIC                           2774\n",
      "WHITE                              2352\n",
      "ASIAN/PACIFIC ISLANDER              159\n",
      "NATIVE AMERICAN/ALASKAN NATIVE       14\n",
      "Name: race, dtype: int64\n"
     ]
    }
   ],
   "source": [
    "#counter for race frequency across all available complaints\n",
    "print(df_victims.race.value_counts())"
   ]
  },
  {
   "cell_type": "code",
   "execution_count": 46,
   "metadata": {
    "execution": {
     "iopub.execute_input": "2021-01-06T18:21:50.145589Z",
     "iopub.status.busy": "2021-01-06T18:21:50.144903Z",
     "iopub.status.idle": "2021-01-06T18:21:50.398327Z",
     "shell.execute_reply": "2021-01-06T18:21:50.397297Z"
    },
    "papermill": {
     "duration": 0.38019,
     "end_time": "2021-01-06T18:21:50.398449",
     "exception": false,
     "start_time": "2021-01-06T18:21:50.018259",
     "status": "completed"
    },
    "tags": []
   },
   "outputs": [
    {
     "data": {
      "image/png": "[encoded data removed]",
      "text/plain": [
       "<Figure size 432x288 with 1 Axes>"
      ]
     },
     "metadata": {},
     "output_type": "display_data"
    }
   ],
   "source": [
    "#graph of above counter\n",
    "ax = sns.countplot(x=\"race\", data=df_victims, order = df_victims.race.value_counts().index)\n",
    "ax.set_title('Breakdown of Complainees by Race')\n",
    "ax.set_xticklabels(ax.get_xticklabels(),rotation=90)\n",
    "plt.show()"
   ]
  },
  {
   "cell_type": "markdown",
   "metadata": {
    "papermill": {
     "duration": 0.114907,
     "end_time": "2021-01-06T18:21:50.628782",
     "exception": false,
     "start_time": "2021-01-06T18:21:50.513875",
     "status": "completed"
    },
    "tags": []
   },
   "source": [
    "Lastly, age... \n",
    "\n",
    "*(We will group ages by certain age ranges in order to make the graphs more readable)*"
   ]
  },
  {
   "cell_type": "code",
   "execution_count": 47,
   "metadata": {
    "execution": {
     "iopub.execute_input": "2021-01-06T18:21:50.870718Z",
     "iopub.status.busy": "2021-01-06T18:21:50.869944Z",
     "iopub.status.idle": "2021-01-06T18:21:50.872855Z",
     "shell.execute_reply": "2021-01-06T18:21:50.872187Z"
    },
    "papermill": {
     "duration": 0.126777,
     "end_time": "2021-01-06T18:21:50.872965",
     "exception": false,
     "start_time": "2021-01-06T18:21:50.746188",
     "status": "completed"
    },
    "tags": []
   },
   "outputs": [],
   "source": [
    "#helper func to create age ranges\n",
    "def bander(age):\n",
    "    if (age<20):\n",
    "        return '<20'\n",
    "    elif(age>=20 and age<30):\n",
    "        return '20-29'\n",
    "    elif(age>=30 and age<40):\n",
    "        return '30-39'\n",
    "    elif(age>=40 and age<50):\n",
    "        return '40-49'\n",
    "    elif(age>=50 and age<60):\n",
    "        return '50-59'\n",
    "    elif(age>=60 and age<70):\n",
    "        return '60-69'\n",
    "    else:\n",
    "        return '>=70'"
   ]
  },
  {
   "cell_type": "code",
   "execution_count": 48,
   "metadata": {
    "execution": {
     "iopub.execute_input": "2021-01-06T18:21:51.130836Z",
     "iopub.status.busy": "2021-01-06T18:21:51.130101Z",
     "iopub.status.idle": "2021-01-06T18:21:51.133712Z",
     "shell.execute_reply": "2021-01-06T18:21:51.133195Z"
    },
    "papermill": {
     "duration": 0.143405,
     "end_time": "2021-01-06T18:21:51.133826",
     "exception": false,
     "start_time": "2021-01-06T18:21:50.990421",
     "status": "completed"
    },
    "tags": []
   },
   "outputs": [],
   "source": [
    "#apply helper func to complete complaints data\n",
    "df_victims['age_band'] = df_victims.age.apply(lambda x: bander(x))"
   ]
  },
  {
   "cell_type": "code",
   "execution_count": 49,
   "metadata": {
    "execution": {
     "iopub.execute_input": "2021-01-06T18:21:51.380401Z",
     "iopub.status.busy": "2021-01-06T18:21:51.379354Z",
     "iopub.status.idle": "2021-01-06T18:21:51.383617Z",
     "shell.execute_reply": "2021-01-06T18:21:51.383081Z"
    },
    "papermill": {
     "duration": 0.132142,
     "end_time": "2021-01-06T18:21:51.383749",
     "exception": false,
     "start_time": "2021-01-06T18:21:51.251607",
     "status": "completed"
    },
    "tags": []
   },
   "outputs": [
    {
     "data": {
      "text/plain": [
       "20-29    5913\n",
       "30-39    3842\n",
       ">=70     3530\n",
       "40-49    2341\n",
       "50-59    1620\n",
       "<20      1199\n",
       "60-69     658\n",
       "Name: age_band, dtype: int64"
      ]
     },
     "execution_count": 49,
     "metadata": {},
     "output_type": "execute_result"
    }
   ],
   "source": [
    "#view of frequency of age band\n",
    "df_victims.age_band.value_counts()"
   ]
  },
  {
   "cell_type": "code",
   "execution_count": 50,
   "metadata": {
    "execution": {
     "iopub.execute_input": "2021-01-06T18:21:51.623389Z",
     "iopub.status.busy": "2021-01-06T18:21:51.622686Z",
     "iopub.status.idle": "2021-01-06T18:21:51.854796Z",
     "shell.execute_reply": "2021-01-06T18:21:51.855253Z"
    },
    "papermill": {
     "duration": 0.355288,
     "end_time": "2021-01-06T18:21:51.855448",
     "exception": false,
     "start_time": "2021-01-06T18:21:51.500160",
     "status": "completed"
    },
    "tags": []
   },
   "outputs": [
    {
     "data": {
      "image/png": "[encoded data removed]",
      "text/plain": [
       "<Figure size 432x288 with 1 Axes>"
      ]
     },
     "metadata": {},
     "output_type": "display_data"
    }
   ],
   "source": [
    "#graph of above counter\n",
    "age_band_order = ['<20', '20-29','30-39','40-49','50-59','60-69', '>=70' ]\n",
    "ax = sns.countplot(x=\"age_band\", data=df_victims, order = age_band_order)\n",
    "ax.set_title('Breakdown of Complainees by Age')\n",
    "plt.show()"
   ]
  },
  {
   "cell_type": "markdown",
   "metadata": {
    "papermill": {
     "duration": 0.11759,
     "end_time": "2021-01-06T18:21:52.091528",
     "exception": false,
     "start_time": "2021-01-06T18:21:51.973938",
     "status": "completed"
    },
    "tags": []
   },
   "source": [
    "Let's put all this data into a useful table..."
   ]
  },
  {
   "cell_type": "code",
   "execution_count": 51,
   "metadata": {
    "execution": {
     "iopub.execute_input": "2021-01-06T18:21:52.334283Z",
     "iopub.status.busy": "2021-01-06T18:21:52.333506Z",
     "iopub.status.idle": "2021-01-06T18:21:52.338499Z",
     "shell.execute_reply": "2021-01-06T18:21:52.337885Z"
    },
    "papermill": {
     "duration": 0.129653,
     "end_time": "2021-01-06T18:21:52.338628",
     "exception": false,
     "start_time": "2021-01-06T18:21:52.208975",
     "status": "completed"
    },
    "tags": []
   },
   "outputs": [],
   "source": [
    "df_victims.drop('age', axis = 1, inplace = True)"
   ]
  },
  {
   "cell_type": "code",
   "execution_count": 52,
   "metadata": {
    "execution": {
     "iopub.execute_input": "2021-01-06T18:21:52.579076Z",
     "iopub.status.busy": "2021-01-06T18:21:52.578379Z",
     "iopub.status.idle": "2021-01-06T18:21:52.606632Z",
     "shell.execute_reply": "2021-01-06T18:21:52.607147Z"
    },
    "papermill": {
     "duration": 0.149426,
     "end_time": "2021-01-06T18:21:52.607291",
     "exception": false,
     "start_time": "2021-01-06T18:21:52.457865",
     "status": "completed"
    },
    "tags": []
   },
   "outputs": [
    {
     "data": {
      "text/plain": [
       "race                            gender  age_band\n",
       "ASIAN/PACIFIC ISLANDER          FEMALE  20-29          6\n",
       "                                        30-39          9\n",
       "                                        40-49          9\n",
       "                                        50-59          2\n",
       "                                        60-69          2\n",
       "                                        >=70          15\n",
       "                                MALE    20-29         29\n",
       "                                        30-39         18\n",
       "                                        40-49         16\n",
       "                                        50-59         11\n",
       "                                        60-69          4\n",
       "                                        <20            1\n",
       "                                        >=70          37\n",
       "BLACK                           FEMALE  20-29       1306\n",
       "                                        30-39        800\n",
       "                                        40-49        585\n",
       "                                        50-59        469\n",
       "                                        60-69        214\n",
       "                                        <20          310\n",
       "                                        >=70         924\n",
       "                                MALE    20-29       3271\n",
       "                                        30-39       1984\n",
       "                                        40-49       1056\n",
       "                                        50-59        667\n",
       "                                        60-69        223\n",
       "                                        <20          617\n",
       "                                        >=70        1375\n",
       "HISPANIC                        FEMALE  20-29        215\n",
       "                                        30-39        162\n",
       "                                        40-49        132\n",
       "                                        50-59         86\n",
       "                                        60-69         36\n",
       "                                        <20           56\n",
       "                                        >=70         205\n",
       "                                MALE    20-29        644\n",
       "                                        30-39        380\n",
       "                                        40-49        190\n",
       "                                        50-59        120\n",
       "                                        60-69         49\n",
       "                                        <20          136\n",
       "                                        >=70         363\n",
       "NATIVE AMERICAN/ALASKAN NATIVE  FEMALE  20-29          2\n",
       "                                        30-39          1\n",
       "                                MALE    20-29          3\n",
       "                                        30-39          3\n",
       "                                        40-49          1\n",
       "                                        >=70           4\n",
       "WHITE                           FEMALE  20-29        140\n",
       "                                        30-39        187\n",
       "                                        40-49        155\n",
       "                                        50-59        106\n",
       "                                        60-69         53\n",
       "                                        <20           25\n",
       "                                        >=70         264\n",
       "                                MALE    20-29        296\n",
       "                                        30-39        298\n",
       "                                        40-49        196\n",
       "                                        50-59        159\n",
       "                                        60-69         76\n",
       "                                        <20           54\n",
       "                                        >=70         342\n",
       "dtype: int64"
      ]
     },
     "execution_count": 52,
     "metadata": {},
     "output_type": "execute_result"
    }
   ],
   "source": [
    "pd.set_option('display.max_rows', None)\n",
    "table = pd.pivot_table(df_victims, index=['race', 'gender', 'age_band'], aggfunc= len, fill_value = 0)\n",
    "table"
   ]
  },
  {
   "cell_type": "markdown",
   "metadata": {
    "papermill": {
     "duration": 0.118399,
     "end_time": "2021-01-06T18:21:52.846200",
     "exception": false,
     "start_time": "2021-01-06T18:21:52.727801",
     "status": "completed"
    },
    "tags": []
   },
   "source": [
    "**Key Takeaways:**\n",
    "* Complaints are filed by black citizens nearly 6x more than any other race group\n",
    "* Roughly twice as many complaints were filed by men than by women\n",
    "* The most common subgroup were black males in their 20's, but black males in general filed many complaints\n",
    "* We also see elderly citizens (>=70 years old) filed a vast number of complaints across every race and gender category"
   ]
  },
  {
   "cell_type": "markdown",
   "metadata": {
    "papermill": {
     "duration": 0.119566,
     "end_time": "2021-01-06T18:21:53.087858",
     "exception": false,
     "start_time": "2021-01-06T18:21:52.968292",
     "status": "completed"
    },
    "tags": []
   },
   "source": [
    "**Key Takeaways:**"
   ]
  },
  {
   "cell_type": "markdown",
   "metadata": {
    "papermill": {
     "duration": 0.118408,
     "end_time": "2021-01-06T18:21:53.326893",
     "exception": false,
     "start_time": "2021-01-06T18:21:53.208485",
     "status": "completed"
    },
    "tags": []
   },
   "source": [
    "**DF_DETAIL**"
   ]
  },
  {
   "cell_type": "code",
   "execution_count": 53,
   "metadata": {
    "execution": {
     "iopub.execute_input": "2021-01-06T18:21:53.569766Z",
     "iopub.status.busy": "2021-01-06T18:21:53.568748Z",
     "iopub.status.idle": "2021-01-06T18:21:53.582620Z",
     "shell.execute_reply": "2021-01-06T18:21:53.583141Z"
    },
    "papermill": {
     "duration": 0.13645,
     "end_time": "2021-01-06T18:21:53.583283",
     "exception": false,
     "start_time": "2021-01-06T18:21:53.446833",
     "status": "completed"
    },
    "tags": []
   },
   "outputs": [
    {
     "data": {
      "text/html": [
       "<div>\n",
       "<style scoped>\n",
       "    .dataframe tbody tr th:only-of-type {\n",
       "        vertical-align: middle;\n",
       "    }\n",
       "\n",
       "    .dataframe tbody tr th {\n",
       "        vertical-align: top;\n",
       "    }\n",
       "\n",
       "    .dataframe thead th {\n",
       "        text-align: right;\n",
       "    }\n",
       "</style>\n",
       "<table border=\"1\" class=\"dataframe\">\n",
       "  <thead>\n",
       "    <tr style=\"text-align: right;\">\n",
       "      <th></th>\n",
       "      <th>row_id</th>\n",
       "      <th>complaint_category</th>\n",
       "      <th>recommended_discipline</th>\n",
       "      <th>final_discipline</th>\n",
       "      <th>recommended_finding</th>\n",
       "      <th>final_finding</th>\n",
       "    </tr>\n",
       "    <tr>\n",
       "      <th>cr_id</th>\n",
       "      <th></th>\n",
       "      <th></th>\n",
       "      <th></th>\n",
       "      <th></th>\n",
       "      <th></th>\n",
       "      <th></th>\n",
       "    </tr>\n",
       "  </thead>\n",
       "  <tbody>\n",
       "    <tr>\n",
       "      <th>1000002</th>\n",
       "      <td>62185</td>\n",
       "      <td>05M-UNNECESSARY PHYSICAL CONTACT - OFF DUTY</td>\n",
       "      <td>600.0</td>\n",
       "      <td>600.0</td>\n",
       "      <td>UN</td>\n",
       "      <td>UN</td>\n",
       "    </tr>\n",
       "    <tr>\n",
       "      <th>1000002</th>\n",
       "      <td>62186</td>\n",
       "      <td>05M-UNNECESSARY PHYSICAL CONTACT - OFF DUTY</td>\n",
       "      <td>600.0</td>\n",
       "      <td>600.0</td>\n",
       "      <td>UN</td>\n",
       "      <td>UN</td>\n",
       "    </tr>\n",
       "    <tr>\n",
       "      <th>1000004</th>\n",
       "      <td>62188</td>\n",
       "      <td>05N-WEAPON - UNNECESSARY DISPLAY OF</td>\n",
       "      <td>5.0</td>\n",
       "      <td>5.0</td>\n",
       "      <td>SU</td>\n",
       "      <td>SU</td>\n",
       "    </tr>\n",
       "    <tr>\n",
       "      <th>1000004</th>\n",
       "      <td>62187</td>\n",
       "      <td>05N-WEAPON - UNNECESSARY DISPLAY OF</td>\n",
       "      <td>5.0</td>\n",
       "      <td>1.0</td>\n",
       "      <td>SU</td>\n",
       "      <td>SU</td>\n",
       "    </tr>\n",
       "    <tr>\n",
       "      <th>1000006</th>\n",
       "      <td>62189</td>\n",
       "      <td>05A-ARRESTEE - DURING ARREST</td>\n",
       "      <td>600.0</td>\n",
       "      <td>600.0</td>\n",
       "      <td>NS</td>\n",
       "      <td>NS</td>\n",
       "    </tr>\n",
       "  </tbody>\n",
       "</table>\n",
       "</div>"
      ],
      "text/plain": [
       "         row_id                           complaint_category  \\\n",
       "cr_id                                                          \n",
       "1000002   62185  05M-UNNECESSARY PHYSICAL CONTACT - OFF DUTY   \n",
       "1000002   62186  05M-UNNECESSARY PHYSICAL CONTACT - OFF DUTY   \n",
       "1000004   62188          05N-WEAPON - UNNECESSARY DISPLAY OF   \n",
       "1000004   62187          05N-WEAPON - UNNECESSARY DISPLAY OF   \n",
       "1000006   62189                 05A-ARRESTEE - DURING ARREST   \n",
       "\n",
       "         recommended_discipline  final_discipline recommended_finding  \\\n",
       "cr_id                                                                   \n",
       "1000002                   600.0             600.0                  UN   \n",
       "1000002                   600.0             600.0                  UN   \n",
       "1000004                     5.0               5.0                  SU   \n",
       "1000004                     5.0               1.0                  SU   \n",
       "1000006                   600.0             600.0                  NS   \n",
       "\n",
       "        final_finding  \n",
       "cr_id                  \n",
       "1000002            UN  \n",
       "1000002            UN  \n",
       "1000004            SU  \n",
       "1000004            SU  \n",
       "1000006            NS  "
      ]
     },
     "execution_count": 53,
     "metadata": {},
     "output_type": "execute_result"
    }
   ],
   "source": [
    "df_detail.head()"
   ]
  },
  {
   "cell_type": "code",
   "execution_count": 54,
   "metadata": {
    "execution": {
     "iopub.execute_input": "2021-01-06T18:21:53.826523Z",
     "iopub.status.busy": "2021-01-06T18:21:53.825522Z",
     "iopub.status.idle": "2021-01-06T18:21:53.837449Z",
     "shell.execute_reply": "2021-01-06T18:21:53.837992Z"
    },
    "papermill": {
     "duration": 0.13469,
     "end_time": "2021-01-06T18:21:53.838161",
     "exception": false,
     "start_time": "2021-01-06T18:21:53.703471",
     "status": "completed"
    },
    "tags": []
   },
   "outputs": [],
   "source": [
    "#store all the complaint categories in a neat list\n",
    "complaint_cat_list = list(df_detail.complaint_category.unique())"
   ]
  },
  {
   "cell_type": "markdown",
   "metadata": {
    "papermill": {
     "duration": 0.119616,
     "end_time": "2021-01-06T18:21:54.079036",
     "exception": false,
     "start_time": "2021-01-06T18:21:53.959420",
     "status": "completed"
    },
    "tags": []
   },
   "source": [
    "Use dict for complaint categories...\n",
    "\n",
    "*Each complaint has a 3 character alphanumeric key and a longer description. We will only display the 3 character alphanumeric key and keep the corresponding description in a seperate space.*"
   ]
  },
  {
   "cell_type": "code",
   "execution_count": 55,
   "metadata": {
    "execution": {
     "iopub.execute_input": "2021-01-06T18:21:54.325807Z",
     "iopub.status.busy": "2021-01-06T18:21:54.324787Z",
     "iopub.status.idle": "2021-01-06T18:21:54.332049Z",
     "shell.execute_reply": "2021-01-06T18:21:54.332521Z"
    },
    "papermill": {
     "duration": 0.130337,
     "end_time": "2021-01-06T18:21:54.332685",
     "exception": false,
     "start_time": "2021-01-06T18:21:54.202348",
     "status": "completed"
    },
    "tags": []
   },
   "outputs": [
    {
     "name": "stdout",
     "output_type": "stream",
     "text": [
      "123\n"
     ]
    }
   ],
   "source": [
    "#create a dict for the above said 3-character key and the corresponding description\n",
    "complaint_cat_dict = {}\n",
    "for x in complaint_cat_list:\n",
    "    desc = str(x)\n",
    "    key = desc[:3]\n",
    "    DESC = desc[4:]\n",
    "    complaint_cat_dict[key] = DESC\n",
    "print(len(complaint_cat_dict))"
   ]
  },
  {
   "cell_type": "code",
   "execution_count": 56,
   "metadata": {
    "execution": {
     "iopub.execute_input": "2021-01-06T18:21:54.578219Z",
     "iopub.status.busy": "2021-01-06T18:21:54.577176Z",
     "iopub.status.idle": "2021-01-06T18:21:54.614578Z",
     "shell.execute_reply": "2021-01-06T18:21:54.615162Z"
    },
    "papermill": {
     "duration": 0.161238,
     "end_time": "2021-01-06T18:21:54.615304",
     "exception": false,
     "start_time": "2021-01-06T18:21:54.454066",
     "status": "completed"
    },
    "tags": []
   },
   "outputs": [],
   "source": [
    "#remove the descriptions from the complaints\n",
    "df_detail['complaint_key'] = df_detail.complaint_category.apply(lambda x: str(x)[:3])"
   ]
  },
  {
   "cell_type": "code",
   "execution_count": 57,
   "metadata": {
    "execution": {
     "iopub.execute_input": "2021-01-06T18:21:54.862169Z",
     "iopub.status.busy": "2021-01-06T18:21:54.861170Z",
     "iopub.status.idle": "2021-01-06T18:21:54.875636Z",
     "shell.execute_reply": "2021-01-06T18:21:54.876212Z"
    },
    "papermill": {
     "duration": 0.14027,
     "end_time": "2021-01-06T18:21:54.876357",
     "exception": false,
     "start_time": "2021-01-06T18:21:54.736087",
     "status": "completed"
    },
    "tags": []
   },
   "outputs": [],
   "source": [
    "#we don't need all full descriptions anymore, so drop\n",
    "df_detail.drop('complaint_category', axis = 1, inplace = True)"
   ]
  },
  {
   "cell_type": "code",
   "execution_count": 58,
   "metadata": {
    "execution": {
     "iopub.execute_input": "2021-01-06T18:21:55.121401Z",
     "iopub.status.busy": "2021-01-06T18:21:55.120335Z",
     "iopub.status.idle": "2021-01-06T18:21:55.130483Z",
     "shell.execute_reply": "2021-01-06T18:21:55.131058Z"
    },
    "papermill": {
     "duration": 0.134998,
     "end_time": "2021-01-06T18:21:55.131208",
     "exception": false,
     "start_time": "2021-01-06T18:21:54.996210",
     "status": "completed"
    },
    "tags": []
   },
   "outputs": [],
   "source": [
    "#replacing null values with 'OTHER'\n",
    "df_detail['complaint_key'].replace('nan', 'OTHER', inplace = True)"
   ]
  },
  {
   "cell_type": "code",
   "execution_count": 59,
   "metadata": {
    "execution": {
     "iopub.execute_input": "2021-01-06T18:21:55.376737Z",
     "iopub.status.busy": "2021-01-06T18:21:55.375765Z",
     "iopub.status.idle": "2021-01-06T18:21:55.379161Z",
     "shell.execute_reply": "2021-01-06T18:21:55.379718Z"
    },
    "papermill": {
     "duration": 0.127202,
     "end_time": "2021-01-06T18:21:55.379867",
     "exception": false,
     "start_time": "2021-01-06T18:21:55.252665",
     "status": "completed"
    },
    "tags": []
   },
   "outputs": [],
   "source": [
    "#before removing dups (uncomment if needed but long)\n",
    "#df_detail.complaint_key.value_counts()"
   ]
  },
  {
   "cell_type": "code",
   "execution_count": 60,
   "metadata": {
    "execution": {
     "iopub.execute_input": "2021-01-06T18:21:55.627493Z",
     "iopub.status.busy": "2021-01-06T18:21:55.626440Z",
     "iopub.status.idle": "2021-01-06T18:21:55.634186Z",
     "shell.execute_reply": "2021-01-06T18:21:55.634661Z"
    },
    "papermill": {
     "duration": 0.132721,
     "end_time": "2021-01-06T18:21:55.634819",
     "exception": false,
     "start_time": "2021-01-06T18:21:55.502098",
     "status": "completed"
    },
    "tags": []
   },
   "outputs": [],
   "source": [
    "#removing some auxilary category\n",
    "df_detail.drop('row_id', axis = 1, inplace = True)"
   ]
  },
  {
   "cell_type": "markdown",
   "metadata": {
    "papermill": {
     "duration": 0.120538,
     "end_time": "2021-01-06T18:21:55.878629",
     "exception": false,
     "start_time": "2021-01-06T18:21:55.758091",
     "status": "completed"
    },
    "tags": []
   },
   "source": [
    "**Important Note:**\n",
    "\n",
    "We found many of the complaints here had identical info across all categories. We labeled such instances as 'duplicates'. As we were unable to discern whether these 'duplicate' complaints were unique incidients under the same complaint ID or cloned data, we will run our remaining analysis on a dataset with all data and on data without said 'duplicates', which we will denote in all our outputs as 'No Dups'"
   ]
  },
  {
   "cell_type": "code",
   "execution_count": 61,
   "metadata": {
    "execution": {
     "iopub.execute_input": "2021-01-06T18:21:56.125905Z",
     "iopub.status.busy": "2021-01-06T18:21:56.124896Z",
     "iopub.status.idle": "2021-01-06T18:21:56.157141Z",
     "shell.execute_reply": "2021-01-06T18:21:56.157694Z"
    },
    "papermill": {
     "duration": 0.15674,
     "end_time": "2021-01-06T18:21:56.157841",
     "exception": false,
     "start_time": "2021-01-06T18:21:56.001101",
     "status": "completed"
    },
    "tags": []
   },
   "outputs": [],
   "source": [
    "#creating our no dups dataframe\n",
    "df_detail_no_dups = df_detail.drop_duplicates()"
   ]
  },
  {
   "cell_type": "code",
   "execution_count": 62,
   "metadata": {
    "execution": {
     "iopub.execute_input": "2021-01-06T18:21:56.406462Z",
     "iopub.status.busy": "2021-01-06T18:21:56.405378Z",
     "iopub.status.idle": "2021-01-06T18:21:56.409163Z",
     "shell.execute_reply": "2021-01-06T18:21:56.409716Z"
    },
    "papermill": {
     "duration": 0.127734,
     "end_time": "2021-01-06T18:21:56.409876",
     "exception": false,
     "start_time": "2021-01-06T18:21:56.282142",
     "status": "completed"
    },
    "tags": []
   },
   "outputs": [],
   "source": [
    "#after removing dups (uncomment if needed but long)\n",
    "#df_detail_no_dups.complaint_key.value_counts()"
   ]
  },
  {
   "cell_type": "markdown",
   "metadata": {
    "papermill": {
     "duration": 0.1222,
     "end_time": "2021-01-06T18:21:56.655642",
     "exception": false,
     "start_time": "2021-01-06T18:21:56.533442",
     "status": "completed"
    },
    "tags": []
   },
   "source": [
    "Looking at complaint types..."
   ]
  },
  {
   "cell_type": "code",
   "execution_count": 63,
   "metadata": {
    "execution": {
     "iopub.execute_input": "2021-01-06T18:21:56.902948Z",
     "iopub.status.busy": "2021-01-06T18:21:56.901946Z",
     "iopub.status.idle": "2021-01-06T18:21:57.347991Z",
     "shell.execute_reply": "2021-01-06T18:21:57.347443Z"
    },
    "papermill": {
     "duration": 0.571195,
     "end_time": "2021-01-06T18:21:57.348110",
     "exception": false,
     "start_time": "2021-01-06T18:21:56.776915",
     "status": "completed"
    },
    "tags": []
   },
   "outputs": [
    {
     "name": "stdout",
     "output_type": "stream",
     "text": [
      "20 Most Frequent Complaint Types (With Duplicates) — Table\n",
      "\n",
      "10U: INADEQUATE/FAILURE TO PROVIDE SERVICE\n",
      "Frequency: 10111\n",
      "--------------------------------------------------\n",
      "05A: ARRESTEE - DURING ARREST\n",
      "Frequency: 6238\n",
      "--------------------------------------------------\n",
      "03D: ILLEGAL ARREST\n",
      "Frequency: 5900\n",
      "--------------------------------------------------\n",
      "03G: MISCELLANEOUS\n",
      "Frequency: 5566\n",
      "--------------------------------------------------\n",
      "03C: SEARCH OF PREMISE/VEHICLE WITHOUT WARRANT\n",
      "Frequency: 4898\n",
      "--------------------------------------------------\n",
      "10Z: MISCELLANEOUS\n",
      "Frequency: 3071\n",
      "--------------------------------------------------\n",
      "10J: NEGLECT OF DUTY/CONDUCT UNBECOMING - ON DUTY\n",
      "Frequency: 2573\n",
      "--------------------------------------------------\n",
      "04E: PRISONER'S PROPERTY - INVENTORY/RECEIPT\n",
      "Frequency: 2391\n",
      "--------------------------------------------------\n",
      "03B: SEARCH OF PERSON WITHOUT WARRANT\n",
      "Frequency: 2345\n",
      "--------------------------------------------------\n",
      "05B: ARRESTEE - AFTER ARREST, PRIOR TO LOCKUP\n",
      "Frequency: 1976\n",
      "--------------------------------------------------\n",
      "OTHER\n",
      "Frequency: 1752\n",
      "--------------------------------------------------\n",
      "10V: INVENTORY PROCEDURES\n",
      "Frequency: 1157\n",
      "--------------------------------------------------\n",
      "05L: UNNECESSARY PHYSICAL CONTACT - ON DUTY\n",
      "Frequency: 1063\n",
      "--------------------------------------------------\n",
      "05Q: CIVIL SUIT - THIRD PARTY\n",
      "Frequency: 1044\n",
      "--------------------------------------------------\n",
      "10T: REPORTS - FAILED TO SUBMIT/IMPROPER\n",
      "Frequency: 927\n",
      "--------------------------------------------------\n",
      "10D: COMMUNICATION OPERATIONS PROCEDURES\n",
      "Frequency: 863\n",
      "--------------------------------------------------\n",
      "01B: RACIAL/ETHNIC, ETC.\n",
      "Frequency: 733\n",
      "--------------------------------------------------\n",
      "05K: DOMESTIC ALTERCATION/INCIDENT - OFF DUTY\n",
      "Frequency: 683\n",
      "--------------------------------------------------\n",
      "09J: MISCELLANEOUS\n",
      "Frequency: 654\n",
      "--------------------------------------------------\n",
      "05M: UNNECESSARY PHYSICAL CONTACT - OFF DUTY\n",
      "Frequency: 637\n",
      "--------------------------------------------------\n"
     ]
    }
   ],
   "source": [
    "#table of 20 most frequent complaint types in duplicates data\n",
    "print('20 Most Frequent Complaint Types (With Duplicates) — Table\\n')\n",
    "for key in df_detail.complaint_key.value_counts()[:20].index:\n",
    "    if(key == 'OTHER'):\n",
    "        print('OTHER')\n",
    "        print(\"Frequency: \"+str(df_detail.complaint_key.value_counts()[key]))\n",
    "        print('-'*50)\n",
    "    else:\n",
    "        print(key+\": \"+complaint_cat_dict[key])\n",
    "        print(\"Frequency: \"+str(df_detail.complaint_key.value_counts()[key]))\n",
    "        print('-'*50)"
   ]
  },
  {
   "cell_type": "markdown",
   "metadata": {
    "papermill": {
     "duration": 0.126435,
     "end_time": "2021-01-06T18:21:57.597697",
     "exception": false,
     "start_time": "2021-01-06T18:21:57.471262",
     "status": "completed"
    },
    "tags": []
   },
   "source": [
    "**Key Takeaways:**\n",
    "* The most common complaint types were usually complaints involving some form of impropoer arrest or search\n",
    "* Rarely do we see any sort of physical abuse or racial prejudice being presented, but such complaints still occur with relative frequency"
   ]
  },
  {
   "cell_type": "code",
   "execution_count": 64,
   "metadata": {
    "execution": {
     "iopub.execute_input": "2021-01-06T18:21:57.913107Z",
     "iopub.status.busy": "2021-01-06T18:21:57.894511Z",
     "iopub.status.idle": "2021-01-06T18:21:58.257443Z",
     "shell.execute_reply": "2021-01-06T18:21:58.256797Z"
    },
    "papermill": {
     "duration": 0.530749,
     "end_time": "2021-01-06T18:21:58.257591",
     "exception": false,
     "start_time": "2021-01-06T18:21:57.726842",
     "status": "completed"
    },
    "tags": []
   },
   "outputs": [
    {
     "data": {
      "image/png": "[encoded data removed]",
      "text/plain": [
       "<Figure size 432x288 with 1 Axes>"
      ]
     },
     "metadata": {},
     "output_type": "display_data"
    }
   ],
   "source": [
    "#graph of above data via frequency\n",
    "sns.set(font_scale = 1)\n",
    "ax = sns.barplot(x = df_detail.complaint_key.value_counts()[:20].index, y = df_detail.complaint_key.value_counts()[:20], order = df_detail.complaint_key.value_counts()[:20].index, label = 'small')\n",
    "ax.set_title('20 Most Frequent Complaint Types (With Duplicates)')\n",
    "ax.set_xticklabels(ax.get_xticklabels(),rotation=90)\n",
    "ax.set(xlabel='Complaint Type', ylabel='Frequency')\n",
    "ax.tick_params(labelsize=8.5)\n",
    "plt.show()"
   ]
  },
  {
   "cell_type": "code",
   "execution_count": 65,
   "metadata": {
    "execution": {
     "iopub.execute_input": "2021-01-06T18:21:58.557084Z",
     "iopub.status.busy": "2021-01-06T18:21:58.543814Z",
     "iopub.status.idle": "2021-01-06T18:21:58.562780Z",
     "shell.execute_reply": "2021-01-06T18:21:58.561812Z"
    },
    "papermill": {
     "duration": 0.181937,
     "end_time": "2021-01-06T18:21:58.562958",
     "exception": false,
     "start_time": "2021-01-06T18:21:58.381021",
     "status": "completed"
    },
    "tags": []
   },
   "outputs": [
    {
     "name": "stdout",
     "output_type": "stream",
     "text": [
      "20 Most Frequent Complaint Types (No Duplicates) — Table\n",
      "\n",
      "10J: NEGLECT OF DUTY/CONDUCT UNBECOMING - ON DUTY\n",
      "Frequency: 141\n",
      "--------------------------------------------------\n",
      "10Z: MISCELLANEOUS\n",
      "Frequency: 120\n",
      "--------------------------------------------------\n",
      "09J: MISCELLANEOUS\n",
      "Frequency: 110\n",
      "--------------------------------------------------\n",
      "10M: INSUBORDINATION\n",
      "Frequency: 90\n",
      "--------------------------------------------------\n",
      "10U: INADEQUATE/FAILURE TO PROVIDE SERVICE\n",
      "Frequency: 86\n",
      "--------------------------------------------------\n",
      "10B: MEDICAL ROLL\n",
      "Frequency: 80\n",
      "--------------------------------------------------\n",
      "10L: WEAPON/AMMUNITION/UNIFORM DEVIATION\n",
      "Frequency: 71\n",
      "--------------------------------------------------\n",
      "10T: REPORTS - FAILED TO SUBMIT/IMPROPER\n",
      "Frequency: 68\n",
      "--------------------------------------------------\n",
      "10P: MISUSE OF DEPARTMENT EQUIPMENT/SUPPLIES\n",
      "Frequency: 67\n",
      "--------------------------------------------------\n",
      "05A: ARRESTEE - DURING ARREST\n",
      "Frequency: 65\n",
      "--------------------------------------------------\n",
      "05K: DOMESTIC ALTERCATION/INCIDENT - OFF DUTY\n",
      "Frequency: 61\n",
      "--------------------------------------------------\n",
      "04F: ESCAPE\n",
      "Frequency: 49\n",
      "--------------------------------------------------\n",
      "03G: MISCELLANEOUS\n",
      "Frequency: 45\n",
      "--------------------------------------------------\n",
      "03D: ILLEGAL ARREST\n",
      "Frequency: 45\n",
      "--------------------------------------------------\n",
      "10V: INVENTORY PROCEDURES\n",
      "Frequency: 40\n",
      "--------------------------------------------------\n",
      "10H: LEAVING ASSIGNMENT (DISTRICT, BEAT, SECTOR, COURT)\n",
      "Frequency: 37\n",
      "--------------------------------------------------\n",
      "05H: MISCELLANEOUS\n",
      "Frequency: 37\n",
      "--------------------------------------------------\n",
      "03C: SEARCH OF PREMISE/VEHICLE WITHOUT WARRANT\n",
      "Frequency: 36\n",
      "--------------------------------------------------\n",
      "02D: D.U.I. - OFF DUTY\n",
      "Frequency: 35\n",
      "--------------------------------------------------\n",
      "09K: INDEBTEDNESS TO CITY\n",
      "Frequency: 35\n",
      "--------------------------------------------------\n"
     ]
    }
   ],
   "source": [
    "#table of 20 most frequent complaint types in no duplicates data\n",
    "print('20 Most Frequent Complaint Types (No Duplicates) — Table\\n')\n",
    "for key in df_detail_no_dups.complaint_key.value_counts()[:20].index:\n",
    "    print(key+\": \"+complaint_cat_dict[key])\n",
    "    print(\"Frequency: \"+str(df_detail_no_dups.complaint_key.value_counts()[key]))\n",
    "    print('-'*50)"
   ]
  },
  {
   "cell_type": "markdown",
   "metadata": {
    "papermill": {
     "duration": 0.124617,
     "end_time": "2021-01-06T18:21:58.817550",
     "exception": false,
     "start_time": "2021-01-06T18:21:58.692933",
     "status": "completed"
    },
    "tags": []
   },
   "source": [
    "**Key Takeaways:**\n",
    "* The complaints listed here are a lot more 'menial' than the complaints in the data with duplicates, suggesting the types of complaints prevelant in the duplicate data are much more common...\n",
    "* The types of complaints listed here are lots of police misuse of equipment or miscellaneous complaints"
   ]
  },
  {
   "cell_type": "code",
   "execution_count": 66,
   "metadata": {
    "execution": {
     "iopub.execute_input": "2021-01-06T18:21:59.109031Z",
     "iopub.status.busy": "2021-01-06T18:21:59.105560Z",
     "iopub.status.idle": "2021-01-06T18:21:59.441380Z",
     "shell.execute_reply": "2021-01-06T18:21:59.441914Z"
    },
    "papermill": {
     "duration": 0.499827,
     "end_time": "2021-01-06T18:21:59.442067",
     "exception": false,
     "start_time": "2021-01-06T18:21:58.942240",
     "status": "completed"
    },
    "tags": []
   },
   "outputs": [
    {
     "data": {
      "image/png": "[encoded data removed]",
      "text/plain": [
       "<Figure size 432x288 with 1 Axes>"
      ]
     },
     "metadata": {},
     "output_type": "display_data"
    }
   ],
   "source": [
    "#graph of above data via frequency\n",
    "sns.set(font_scale = 1)\n",
    "ax = sns.barplot(x = df_detail_no_dups.complaint_key.value_counts()[:20].index, y = df_detail_no_dups.complaint_key.value_counts()[:20], order = df_detail_no_dups.complaint_key.value_counts()[:20].index, label = 'small')\n",
    "ax.set_title('20 Most Frequent Complaint Types (No Duplicates)')\n",
    "ax.set_xticklabels(ax.get_xticklabels(),rotation=90)\n",
    "ax.set(xlabel='Complaint Type', ylabel='Frequency')\n",
    "ax.tick_params(labelsize=8.5)\n",
    "plt.show()"
   ]
  },
  {
   "cell_type": "markdown",
   "metadata": {
    "papermill": {
     "duration": 0.125672,
     "end_time": "2021-01-06T18:21:59.691977",
     "exception": false,
     "start_time": "2021-01-06T18:21:59.566305",
     "status": "completed"
    },
    "tags": []
   },
   "source": [
    "Now looking at disciplines...\n"
   ]
  },
  {
   "cell_type": "code",
   "execution_count": 67,
   "metadata": {
    "execution": {
     "iopub.execute_input": "2021-01-06T18:21:59.951167Z",
     "iopub.status.busy": "2021-01-06T18:21:59.949001Z",
     "iopub.status.idle": "2021-01-06T18:21:59.954233Z",
     "shell.execute_reply": "2021-01-06T18:21:59.953607Z"
    },
    "papermill": {
     "duration": 0.136829,
     "end_time": "2021-01-06T18:21:59.954356",
     "exception": false,
     "start_time": "2021-01-06T18:21:59.817527",
     "status": "completed"
    },
    "tags": []
   },
   "outputs": [],
   "source": [
    "df_detail.reset_index(level = 0, inplace = True)\n",
    "df_detail_no_dups.reset_index(level = 0, inplace = True)"
   ]
  },
  {
   "cell_type": "code",
   "execution_count": 68,
   "metadata": {
    "execution": {
     "iopub.execute_input": "2021-01-06T18:22:00.216855Z",
     "iopub.status.busy": "2021-01-06T18:22:00.215770Z",
     "iopub.status.idle": "2021-01-06T18:22:02.031366Z",
     "shell.execute_reply": "2021-01-06T18:22:02.031950Z"
    },
    "papermill": {
     "duration": 1.954328,
     "end_time": "2021-01-06T18:22:02.032103",
     "exception": false,
     "start_time": "2021-01-06T18:22:00.077775",
     "status": "completed"
    },
    "tags": []
   },
   "outputs": [
    {
     "name": "stdout",
     "output_type": "stream",
     "text": [
      "{'Nothing': 54370, 'x Day Suspension': 3626, 'Reprimanded': 1366, 'Seperation': 362, 'Over 30 Day Suspension': 5, 'Year-long Suspension or Longer': 5, 'Resigned': 4, 'Reinstated': 3, 'Administrative Termination': 1}\n"
     ]
    }
   ],
   "source": [
    "#discipline code counter for duplicate data + sorting (recommended discipline)\n",
    "discipline_dict_rec = {}\n",
    "discipline_dict_rec['x Day Suspension'] = 0\n",
    "discipline_dict_rec['Over 30 Day Suspension'] = 0\n",
    "discipline_dict_rec['Reprimanded'] = 0\n",
    "discipline_dict_rec['Administrative Termination'] = 0\n",
    "discipline_dict_rec['Year-long Suspension or Longer'] = 0\n",
    "discipline_dict_rec['Seperation'] = 0\n",
    "discipline_dict_rec['Reinstated'] = 0\n",
    "discipline_dict_rec['Nothing'] = 0\n",
    "discipline_dict_rec['Resigned'] = 0\n",
    "for ind in df_detail.index:\n",
    "    rec = df_detail['recommended_discipline'][ind]\n",
    "    if rec <199:\n",
    "        discipline_dict_rec['x Day Suspension'] += 1\n",
    "    if rec == 200:\n",
    "        discipline_dict_rec['Over 30 Day Suspension'] +=1\n",
    "    if rec == 0 or rec == 100:\n",
    "        discipline_dict_rec['Reprimanded'] += 1\n",
    "    if rec == 300:\n",
    "        discipline_dict_rec['Administrative Termination'] +=1\n",
    "    if rec == 365:\n",
    "        discipline_dict_rec['Year-long Suspension or Longer'] +=1\n",
    "    if rec == 400:\n",
    "        discipline_dict_rec['Seperation'] += 1\n",
    "    if rec == 500:\n",
    "        discipline_dict_rec['Reinstated'] += 1\n",
    "    if rec == 600 or rec == 900:\n",
    "        discipline_dict_rec['Nothing'] += 1\n",
    "    if rec == 800:\n",
    "        discipline_dict_rec['Resigned'] += 1\n",
    "discipline_dict_rec_keys = sorted(discipline_dict_rec, key=discipline_dict_rec.get, reverse=True)\n",
    "discipline_dict_rec_sort ={}\n",
    "for district in discipline_dict_rec_keys:\n",
    "    discipline_dict_rec_sort[district] = discipline_dict_rec[district]\n",
    "print(discipline_dict_rec_sort)"
   ]
  },
  {
   "cell_type": "code",
   "execution_count": 69,
   "metadata": {
    "execution": {
     "iopub.execute_input": "2021-01-06T18:22:02.324273Z",
     "iopub.status.busy": "2021-01-06T18:22:02.293169Z",
     "iopub.status.idle": "2021-01-06T18:22:04.067768Z",
     "shell.execute_reply": "2021-01-06T18:22:04.067206Z"
    },
    "papermill": {
     "duration": 1.910366,
     "end_time": "2021-01-06T18:22:04.067889",
     "exception": false,
     "start_time": "2021-01-06T18:22:02.157523",
     "status": "completed"
    },
    "tags": []
   },
   "outputs": [
    {
     "name": "stdout",
     "output_type": "stream",
     "text": [
      "{'Nothing': 54566, 'x Day Suspension': 2904, 'Reprimanded': 1294, 'Resigned': 282, 'Seperation': 61, 'Over 30 Day Suspension': 21, 'Administrative Termination': 20, 'Reinstated': 11, 'Year-long Suspension or Longer': 10}\n"
     ]
    }
   ],
   "source": [
    "#discipline code counter for duplicate data + sorting (final discipline)\n",
    "discipline_dict_fin = {}\n",
    "discipline_dict_fin['x Day Suspension'] = 0\n",
    "discipline_dict_fin['Over 30 Day Suspension'] = 0\n",
    "discipline_dict_fin['Reprimanded'] = 0\n",
    "discipline_dict_fin['Administrative Termination'] = 0\n",
    "discipline_dict_fin['Year-long Suspension or Longer'] = 0\n",
    "discipline_dict_fin['Seperation'] = 0\n",
    "discipline_dict_fin['Reinstated'] = 0\n",
    "discipline_dict_fin['Nothing'] = 0\n",
    "discipline_dict_fin['Resigned'] = 0\n",
    "for ind in df_detail.index:\n",
    "    fin = df_detail['final_discipline'][ind]\n",
    "    if fin <199:\n",
    "        discipline_dict_fin['x Day Suspension'] += 1\n",
    "    if fin == 200:\n",
    "        discipline_dict_fin['Over 30 Day Suspension'] +=1\n",
    "    if fin == 0 or fin == 100:\n",
    "        discipline_dict_fin['Reprimanded'] += 1\n",
    "    if fin == 300:\n",
    "        discipline_dict_fin['Administrative Termination'] +=1\n",
    "    if fin == 365:\n",
    "        discipline_dict_fin['Year-long Suspension or Longer'] +=1\n",
    "    if fin == 400:\n",
    "        discipline_dict_fin['Seperation'] += 1\n",
    "    if fin == 500:\n",
    "        discipline_dict_fin['Reinstated'] += 1\n",
    "    if fin == 600 or fin == 900:\n",
    "        discipline_dict_fin['Nothing'] += 1\n",
    "    if fin == 800:\n",
    "        discipline_dict_fin['Resigned'] += 1\n",
    "discipline_dict_fin_keys = sorted(discipline_dict_fin, key=discipline_dict_fin.get, reverse=True)\n",
    "discipline_dict_fin_sort ={}\n",
    "for district in discipline_dict_fin_keys:\n",
    "    discipline_dict_fin_sort[district] = discipline_dict_fin[district]\n",
    "print(discipline_dict_fin_sort)"
   ]
  },
  {
   "cell_type": "code",
   "execution_count": 70,
   "metadata": {
    "execution": {
     "iopub.execute_input": "2021-01-06T18:22:04.331852Z",
     "iopub.status.busy": "2021-01-06T18:22:04.331127Z",
     "iopub.status.idle": "2021-01-06T18:22:04.341337Z",
     "shell.execute_reply": "2021-01-06T18:22:04.341859Z"
    },
    "papermill": {
     "duration": 0.148999,
     "end_time": "2021-01-06T18:22:04.342014",
     "exception": false,
     "start_time": "2021-01-06T18:22:04.193015",
     "status": "completed"
    },
    "tags": []
   },
   "outputs": [
    {
     "name": "stdout",
     "output_type": "stream",
     "text": [
      "DISCIPLINE DATA (with duplictes)\n",
      "\n",
      "Nothing\n",
      "Frequency that Nothing was the Recommended Discipline: 54370\n",
      "Frequency that Nothing was the Final Discipline: 54566\n",
      "Difference between Recommended and Final Frequencies: -196 (196 more Final than Recommended)\n",
      "--------------------------------------------------\n",
      "x Day Suspension\n",
      "Frequency that x Day Suspension was the Recommended Discipline: 3626\n",
      "Frequency that x Day Suspension was the Final Discipline: 2904\n",
      "Difference between Recommended and Final Frequencies: 722 (722 more Recommended than Final)\n",
      "--------------------------------------------------\n",
      "Reprimanded\n",
      "Frequency that Reprimanded was the Recommended Discipline: 1366\n",
      "Frequency that Reprimanded was the Final Discipline: 1294\n",
      "Difference between Recommended and Final Frequencies: 72 (72 more Recommended than Final)\n",
      "--------------------------------------------------\n",
      "Seperation\n",
      "Frequency that Seperation was the Recommended Discipline: 362\n",
      "Frequency that Seperation was the Final Discipline: 61\n",
      "Difference between Recommended and Final Frequencies: 301 (301 more Recommended than Final)\n",
      "--------------------------------------------------\n",
      "Over 30 Day Suspension\n",
      "Frequency that Over 30 Day Suspension was the Recommended Discipline: 5\n",
      "Frequency that Over 30 Day Suspension was the Final Discipline: 21\n",
      "Difference between Recommended and Final Frequencies: -16 (16 more Final than Recommended)\n",
      "--------------------------------------------------\n",
      "Year-long Suspension or Longer\n",
      "Frequency that Year-long Suspension or Longer was the Recommended Discipline: 5\n",
      "Frequency that Year-long Suspension or Longer was the Final Discipline: 10\n",
      "Difference between Recommended and Final Frequencies: -5 (5 more Final than Recommended)\n",
      "--------------------------------------------------\n",
      "Resigned\n",
      "Frequency that Resigned was the Recommended Discipline: 4\n",
      "Frequency that Resigned was the Final Discipline: 282\n",
      "Difference between Recommended and Final Frequencies: -278 (278 more Final than Recommended)\n",
      "--------------------------------------------------\n",
      "Reinstated\n",
      "Frequency that Reinstated was the Recommended Discipline: 3\n",
      "Frequency that Reinstated was the Final Discipline: 11\n",
      "Difference between Recommended and Final Frequencies: -8 (8 more Final than Recommended)\n",
      "--------------------------------------------------\n",
      "Administrative Termination\n",
      "Frequency that Administrative Termination was the Recommended Discipline: 1\n",
      "Frequency that Administrative Termination was the Final Discipline: 20\n",
      "Difference between Recommended and Final Frequencies: -19 (19 more Final than Recommended)\n",
      "--------------------------------------------------\n"
     ]
    }
   ],
   "source": [
    "#putting both counters into an output with some light analysis \n",
    "print('DISCIPLINE DATA (with duplictes)\\n')\n",
    "for disc in discipline_dict_rec_sort:\n",
    "    print(disc)\n",
    "    print('Frequency that '+disc+' was the Recommended Discipline: '+str(discipline_dict_rec[disc]))\n",
    "    print('Frequency that '+disc+' was the Final Discipline: '+str(discipline_dict_fin[disc]))\n",
    "    if discipline_dict_rec[disc]>discipline_dict_fin[disc]:\n",
    "        print('Difference between Recommended and Final Frequencies: '+str(discipline_dict_rec[disc]-discipline_dict_fin[disc])+' ('+ str(abs(discipline_dict_rec[disc]-discipline_dict_fin[disc]))+' more Recommended than Final)')\n",
    "    elif discipline_dict_rec[disc]<discipline_dict_fin[disc]:\n",
    "        print('Difference between Recommended and Final Frequencies: '+str(discipline_dict_rec[disc]-discipline_dict_fin[disc])+' ('+ str(abs(discipline_dict_rec[disc]-discipline_dict_fin[disc]))+' more Final than Recommended)')\n",
    "    else:\n",
    "        print('Frequencies of Recommended and Final are Equal')\n",
    "    print('-'*50)"
   ]
  },
  {
   "cell_type": "markdown",
   "metadata": {
    "papermill": {
     "duration": 0.169818,
     "end_time": "2021-01-06T18:22:04.639168",
     "exception": false,
     "start_time": "2021-01-06T18:22:04.469350",
     "status": "completed"
    },
    "tags": []
   },
   "source": [
    "**Key Takeaways:**\n",
    "* Trends here aren't exactly clear...but we can see some of the less severe dsciplinary actions (i.e. short suspensions, reprimanding, nothing) or recommended more often than they are actually imposed\n",
    "* Conversely, the more severe disciplinary actions (i.e. longer suspensions, administrative termination, resignation) occur more often than they are recommended, though at a realtively low margin exlcuidng resignation.\n",
    "* From this, we can conclude more often than not, the CPD takes disciplinary action more severely than what disciplinary action is recommended.\n",
    "* We also see that although resignation is rarely recommended, it does happen quite often"
   ]
  },
  {
   "cell_type": "code",
   "execution_count": 71,
   "metadata": {
    "execution": {
     "iopub.execute_input": "2021-01-06T18:22:04.947252Z",
     "iopub.status.busy": "2021-01-06T18:22:04.942261Z",
     "iopub.status.idle": "2021-01-06T18:22:04.987193Z",
     "shell.execute_reply": "2021-01-06T18:22:04.986392Z"
    },
    "papermill": {
     "duration": 0.219085,
     "end_time": "2021-01-06T18:22:04.987333",
     "exception": false,
     "start_time": "2021-01-06T18:22:04.768248",
     "status": "completed"
    },
    "tags": []
   },
   "outputs": [
    {
     "name": "stdout",
     "output_type": "stream",
     "text": [
      "{'Nothing': 2126, 'x Day Suspension': 215, 'Reprimanded': 52, 'Seperation': 19, 'Over 30 Day Suspension': 0, 'Administrative Termination': 0, 'Year-long Suspension or Longer': 0, 'Reinstated': 0, 'Resigned': 0}\n"
     ]
    }
   ],
   "source": [
    "#discipline code counter for non-duplicate data + sorting (recommended discipline)\n",
    "discipline_dict_no_dups_rec = {}\n",
    "discipline_dict_no_dups_rec['x Day Suspension'] = 0\n",
    "discipline_dict_no_dups_rec['Over 30 Day Suspension'] = 0\n",
    "discipline_dict_no_dups_rec['Reprimanded'] = 0\n",
    "discipline_dict_no_dups_rec['Administrative Termination'] = 0\n",
    "discipline_dict_no_dups_rec['Year-long Suspension or Longer'] = 0\n",
    "discipline_dict_no_dups_rec['Seperation'] = 0\n",
    "discipline_dict_no_dups_rec['Reinstated'] = 0\n",
    "discipline_dict_no_dups_rec['Nothing'] = 0\n",
    "discipline_dict_no_dups_rec['Resigned'] = 0\n",
    "for ind in df_detail_no_dups.index:\n",
    "    rec = df_detail['recommended_discipline'][ind]\n",
    "    if rec <199:\n",
    "        discipline_dict_no_dups_rec['x Day Suspension'] += 1\n",
    "    if rec == 200:\n",
    "        discipline_dict_no_dups_rec['Over 30 Day Suspension'] +=1\n",
    "    if rec == 0 or rec == 100:\n",
    "        discipline_dict_no_dups_rec['Reprimanded'] += 1\n",
    "    if rec == 300:\n",
    "        discipline_dict_no_dups_rec['Administrative Termination'] +=1\n",
    "    if rec == 365:\n",
    "        discipline_dict_no_dups_rec['Year-long Suspension or Longer'] +=1\n",
    "    if rec == 400:\n",
    "        discipline_dict_no_dups_rec['Seperation'] += 1\n",
    "    if rec == 500:\n",
    "        discipline_dict_no_dups_rec['Reinstated'] += 1\n",
    "    if rec == 600 or rec == 900:\n",
    "        discipline_dict_no_dups_rec['Nothing'] += 1\n",
    "    if rec == 800:\n",
    "        discipline_dict_no_dups_rec['Resigned'] += 1\n",
    "discipline_dict_no_dups_rec_keys = sorted(discipline_dict_no_dups_rec, key=discipline_dict_no_dups_rec.get, reverse=True)\n",
    "discipline_dict_no_dups_rec_sort ={}\n",
    "for district in discipline_dict_no_dups_rec_keys:\n",
    "    discipline_dict_no_dups_rec_sort[district] = discipline_dict_no_dups_rec[district]\n",
    "print(discipline_dict_no_dups_rec_sort)"
   ]
  },
  {
   "cell_type": "code",
   "execution_count": 72,
   "metadata": {
    "execution": {
     "iopub.execute_input": "2021-01-06T18:22:05.283508Z",
     "iopub.status.busy": "2021-01-06T18:22:05.277971Z",
     "iopub.status.idle": "2021-01-06T18:22:05.336969Z",
     "shell.execute_reply": "2021-01-06T18:22:05.336379Z"
    },
    "papermill": {
     "duration": 0.218372,
     "end_time": "2021-01-06T18:22:05.337081",
     "exception": false,
     "start_time": "2021-01-06T18:22:05.118709",
     "status": "completed"
    },
    "tags": []
   },
   "outputs": [
    {
     "name": "stdout",
     "output_type": "stream",
     "text": [
      "{'Nothing': 2145, 'x Day Suspension': 185, 'Reprimanded': 54, 'Resigned': 11, 'Administrative Termination': 4, 'Seperation': 4, 'Over 30 Day Suspension': 1, 'Reinstated': 1, 'Year-long Suspension or Longer': 0}\n"
     ]
    }
   ],
   "source": [
    "#discipline code counter for non-duplicate data + sorting (final discipline)\n",
    "discipline_dict_no_dups_fin = {}\n",
    "discipline_dict_no_dups_fin['x Day Suspension'] = 0\n",
    "discipline_dict_no_dups_fin['Over 30 Day Suspension'] = 0\n",
    "discipline_dict_no_dups_fin['Reprimanded'] = 0\n",
    "discipline_dict_no_dups_fin['Administrative Termination'] = 0\n",
    "discipline_dict_no_dups_fin['Year-long Suspension or Longer'] = 0\n",
    "discipline_dict_no_dups_fin['Seperation'] = 0\n",
    "discipline_dict_no_dups_fin['Reinstated'] = 0\n",
    "discipline_dict_no_dups_fin['Nothing'] = 0\n",
    "discipline_dict_no_dups_fin['Resigned'] = 0\n",
    "for ind in df_detail_no_dups.index:\n",
    "    fin = df_detail['final_discipline'][ind]\n",
    "    if fin <199:\n",
    "        discipline_dict_no_dups_fin['x Day Suspension'] += 1\n",
    "    if fin == 200:\n",
    "        discipline_dict_no_dups_fin['Over 30 Day Suspension'] +=1\n",
    "    if fin == 0 or fin == 100:\n",
    "        discipline_dict_no_dups_fin['Reprimanded'] += 1\n",
    "    if fin == 300:\n",
    "        discipline_dict_no_dups_fin['Administrative Termination'] +=1\n",
    "    if fin == 365:\n",
    "        discipline_dict_no_dups_fin['Year-long Suspension or Longer'] +=1\n",
    "    if fin == 400:\n",
    "        discipline_dict_no_dups_fin['Seperation'] += 1\n",
    "    if fin == 500:\n",
    "        discipline_dict_no_dups_fin['Reinstated'] += 1\n",
    "    if fin == 600 or fin == 900:\n",
    "        discipline_dict_no_dups_fin['Nothing'] += 1\n",
    "    if fin == 800:\n",
    "        discipline_dict_no_dups_fin['Resigned'] += 1\n",
    "discipline_dict_no_dups_fin_keys = sorted(discipline_dict_no_dups_fin, key=discipline_dict_no_dups_fin.get, reverse=True)\n",
    "discipline_dict_no_dups_fin_sort ={}\n",
    "for district in discipline_dict_no_dups_fin_keys:\n",
    "    discipline_dict_no_dups_fin_sort[district] = discipline_dict_no_dups_fin[district]\n",
    "print(discipline_dict_no_dups_fin_sort)"
   ]
  },
  {
   "cell_type": "code",
   "execution_count": 73,
   "metadata": {
    "execution": {
     "iopub.execute_input": "2021-01-06T18:22:05.606830Z",
     "iopub.status.busy": "2021-01-06T18:22:05.604799Z",
     "iopub.status.idle": "2021-01-06T18:22:05.612899Z",
     "shell.execute_reply": "2021-01-06T18:22:05.612203Z"
    },
    "papermill": {
     "duration": 0.146059,
     "end_time": "2021-01-06T18:22:05.613025",
     "exception": false,
     "start_time": "2021-01-06T18:22:05.466966",
     "status": "completed"
    },
    "tags": []
   },
   "outputs": [
    {
     "name": "stdout",
     "output_type": "stream",
     "text": [
      "DISCIPLINE DATA (no duplictes)\n",
      "\n",
      "Nothing\n",
      "Frequency that Nothing was the Recommended Discipline: 2126\n",
      "Frequency that Nothing was the Final Discipline: 2145\n",
      "Difference between Recommended and Final Frequencies: -19 (19 more Final than Recommended)\n",
      "--------------------------------------------------\n",
      "x Day Suspension\n",
      "Frequency that x Day Suspension was the Recommended Discipline: 215\n",
      "Frequency that x Day Suspension was the Final Discipline: 185\n",
      "Difference between Recommended and Final Frequencies: 30 (30 more Recommended than Final)\n",
      "--------------------------------------------------\n",
      "Reprimanded\n",
      "Frequency that Reprimanded was the Recommended Discipline: 52\n",
      "Frequency that Reprimanded was the Final Discipline: 54\n",
      "Difference between Recommended and Final Frequencies: -2 (2 more Final than Recommended)\n",
      "--------------------------------------------------\n",
      "Seperation\n",
      "Frequency that Seperation was the Recommended Discipline: 19\n",
      "Frequency that Seperation was the Final Discipline: 4\n",
      "Difference between Recommended and Final Frequencies: 15 (15 more Recommended than Final)\n",
      "--------------------------------------------------\n",
      "Over 30 Day Suspension\n",
      "Frequency that Over 30 Day Suspension was the Recommended Discipline: 0\n",
      "Frequency that Over 30 Day Suspension was the Final Discipline: 1\n",
      "Difference between Recommended and Final Frequencies: -1 (1 more Final than Recommended)\n",
      "--------------------------------------------------\n",
      "Administrative Termination\n",
      "Frequency that Administrative Termination was the Recommended Discipline: 0\n",
      "Frequency that Administrative Termination was the Final Discipline: 4\n",
      "Difference between Recommended and Final Frequencies: -4 (4 more Final than Recommended)\n",
      "--------------------------------------------------\n",
      "Year-long Suspension or Longer\n",
      "Frequency that Year-long Suspension or Longer was the Recommended Discipline: 0\n",
      "Frequency that Year-long Suspension or Longer was the Final Discipline: 0\n",
      "Frequencies of Recommended and Final are Equal\n",
      "--------------------------------------------------\n",
      "Reinstated\n",
      "Frequency that Reinstated was the Recommended Discipline: 0\n",
      "Frequency that Reinstated was the Final Discipline: 1\n",
      "Difference between Recommended and Final Frequencies: -1 (1 more Final than Recommended)\n",
      "--------------------------------------------------\n",
      "Resigned\n",
      "Frequency that Resigned was the Recommended Discipline: 0\n",
      "Frequency that Resigned was the Final Discipline: 11\n",
      "Difference between Recommended and Final Frequencies: -11 (11 more Final than Recommended)\n",
      "--------------------------------------------------\n"
     ]
    }
   ],
   "source": [
    "#putting both counters into an output with some light analysis \n",
    "print('DISCIPLINE DATA (no duplictes)\\n')\n",
    "for disc in discipline_dict_no_dups_rec_sort:\n",
    "    print(disc)\n",
    "    print('Frequency that '+disc+' was the Recommended Discipline: '+str(discipline_dict_no_dups_rec[disc]))\n",
    "    print('Frequency that '+disc+' was the Final Discipline: '+str(discipline_dict_no_dups_fin[disc]))\n",
    "    if discipline_dict_no_dups_rec[disc]>discipline_dict_no_dups_fin[disc]:\n",
    "        print('Difference between Recommended and Final Frequencies: '+str(discipline_dict_no_dups_rec[disc]-discipline_dict_no_dups_fin[disc])+' ('+ str(abs(discipline_dict_no_dups_rec[disc]-discipline_dict_no_dups_fin[disc]))+' more Recommended than Final)')\n",
    "    elif discipline_dict_no_dups_rec[disc]<discipline_dict_no_dups_fin[disc]:\n",
    "        print('Difference between Recommended and Final Frequencies: '+str(discipline_dict_no_dups_rec[disc]-discipline_dict_no_dups_fin[disc])+' ('+ str(abs(discipline_dict_no_dups_rec[disc]-discipline_dict_no_dups_fin[disc]))+' more Final than Recommended)')\n",
    "    else:\n",
    "        print('Frequencies of Recommended and Final are Equal')\n",
    "    print('-'*50)"
   ]
  },
  {
   "cell_type": "markdown",
   "metadata": {
    "papermill": {
     "duration": 0.128818,
     "end_time": "2021-01-06T18:22:05.871603",
     "exception": false,
     "start_time": "2021-01-06T18:22:05.742785",
     "status": "completed"
    },
    "tags": []
   },
   "source": [
    "**Key Takeaways:**\n",
    "* There are almost no trends in the data without duplicates, unlike the data with duplicates\n",
    "* The differences between recommended and final frequencies within each discipline are all small (<15), thus suggesting that the CPD's disciplinary action follows the recommended action\n",
    "* Unsurprisingly, the less severe dispclianry actions are more commonly recommended and implemented than the more sever ones"
   ]
  },
  {
   "cell_type": "markdown",
   "metadata": {
    "papermill": {
     "duration": 0.128983,
     "end_time": "2021-01-06T18:22:06.131825",
     "exception": false,
     "start_time": "2021-01-06T18:22:06.002842",
     "status": "completed"
    },
    "tags": []
   },
   "source": [
    "Let's look at the incidents where the recommended discipline was a greater punishment, and equal punishment, or a lesser punsihment to the final discipline..."
   ]
  },
  {
   "cell_type": "code",
   "execution_count": 74,
   "metadata": {
    "execution": {
     "iopub.execute_input": "2021-01-06T18:22:06.412432Z",
     "iopub.status.busy": "2021-01-06T18:22:06.411684Z",
     "iopub.status.idle": "2021-01-06T18:22:06.415182Z",
     "shell.execute_reply": "2021-01-06T18:22:06.414682Z"
    },
    "papermill": {
     "duration": 0.139446,
     "end_time": "2021-01-06T18:22:06.415300",
     "exception": false,
     "start_time": "2021-01-06T18:22:06.275854",
     "status": "completed"
    },
    "tags": []
   },
   "outputs": [],
   "source": [
    "#helper func to determine whether the final discipline is more/less/equally severe as recommended\n",
    "def compare(rec, fin):\n",
    "    if pd.isnull(rec) or pd.isnull(fin):\n",
    "        return 'NO DATA'\n",
    "    if rec == fin:\n",
    "        return \"EQUAL\"\n",
    "    if rec<fin and fin != 600 and fin!= 900 and fin!= 500:\n",
    "        return \"GREATER THAN RECOMMENDED\"\n",
    "    else: \n",
    "        return \"LESS THAN RECOMMENDED\""
   ]
  },
  {
   "cell_type": "code",
   "execution_count": 75,
   "metadata": {
    "execution": {
     "iopub.execute_input": "2021-01-06T18:22:06.682092Z",
     "iopub.status.busy": "2021-01-06T18:22:06.681219Z",
     "iopub.status.idle": "2021-01-06T18:22:09.128323Z",
     "shell.execute_reply": "2021-01-06T18:22:09.128902Z"
    },
    "papermill": {
     "duration": 2.584906,
     "end_time": "2021-01-06T18:22:09.129070",
     "exception": false,
     "start_time": "2021-01-06T18:22:06.544164",
     "status": "completed"
    },
    "tags": []
   },
   "outputs": [],
   "source": [
    "#applying helper to both data frames\n",
    "df_detail['compare_discipline'] = df_detail.apply(lambda row: compare(row['recommended_discipline'], row['final_discipline']), axis = 1)\n",
    "df_detail_no_dups['compare_discipline'] = df_detail_no_dups.apply(lambda row: compare(row['recommended_discipline'], row['final_discipline']), axis = 1)"
   ]
  },
  {
   "cell_type": "code",
   "execution_count": 76,
   "metadata": {
    "execution": {
     "iopub.execute_input": "2021-01-06T18:22:09.409248Z",
     "iopub.status.busy": "2021-01-06T18:22:09.402151Z",
     "iopub.status.idle": "2021-01-06T18:22:09.419986Z",
     "shell.execute_reply": "2021-01-06T18:22:09.419438Z"
    },
    "papermill": {
     "duration": 0.160548,
     "end_time": "2021-01-06T18:22:09.420107",
     "exception": false,
     "start_time": "2021-01-06T18:22:09.259559",
     "status": "completed"
    },
    "tags": []
   },
   "outputs": [
    {
     "name": "stdout",
     "output_type": "stream",
     "text": [
      "Compare Disciplines for DF_DETAIL (with duplicates)\n",
      "\n",
      "EQUAL                       55820\n",
      "NO DATA                      5880\n",
      "LESS THAN RECOMMENDED        1253\n",
      "GREATER THAN RECOMMENDED      766\n",
      "Name: compare_discipline, dtype: int64\n",
      "--------------------------------------------------\n",
      "Compare Disciplines for DF_DETAIL (without duplicates)\n",
      "\n",
      "EQUAL                       985\n",
      "LESS THAN RECOMMENDED       760\n",
      "GREATER THAN RECOMMENDED    390\n",
      "NO DATA                     346\n",
      "Name: compare_discipline, dtype: int64\n"
     ]
    }
   ],
   "source": [
    "#printing counter of comparison func in both data sets (as labeled)\n",
    "print('Compare Disciplines for DF_DETAIL (with duplicates)\\n')\n",
    "print(df_detail.compare_discipline.value_counts())\n",
    "print('-'*50)\n",
    "print('Compare Disciplines for DF_DETAIL (without duplicates)\\n')\n",
    "print(df_detail_no_dups.compare_discipline.value_counts())"
   ]
  },
  {
   "cell_type": "markdown",
   "metadata": {
    "papermill": {
     "duration": 0.128812,
     "end_time": "2021-01-06T18:22:09.677996",
     "exception": false,
     "start_time": "2021-01-06T18:22:09.549184",
     "status": "completed"
    },
    "tags": []
   },
   "source": [
    "**Key Takeaways:**\n",
    "* We see that with the duplicate data, most recommended disciplines match the final discipline. \n",
    "* We also see that a final discipline less severe than the recommended discipline occurs with relative frequency\n",
    "* In both cases, the final discipline being more severe than the recommended discipline occured the least"
   ]
  },
  {
   "cell_type": "markdown",
   "metadata": {
    "papermill": {
     "duration": 0.130601,
     "end_time": "2021-01-06T18:22:09.939303",
     "exception": false,
     "start_time": "2021-01-06T18:22:09.808702",
     "status": "completed"
    },
    "tags": []
   },
   "source": [
    "Turning to the 'Finding' category...here is a key to what each finding code means:\n",
    "\n",
    "## Finding Code Key\n",
    "\n",
    "UN, NS, EX, NAF, NC = nothing\n",
    "\n",
    "SU = something\n",
    "\n",
    "800 = resigned\n",
    "\n",
    "600, 900 = nothing\n",
    "\n",
    "500 = reinstated\n",
    "\n",
    "400 = separation\n",
    "\n",
    "365 = ??? a year?\n",
    "\n",
    "300 = administrative termination\n",
    "\n",
    "0, 100 = reprimand\n",
    "\n",
    "200 = over 30 day suspension\n",
    "\n",
    "< 199 = x day suspension"
   ]
  },
  {
   "cell_type": "code",
   "execution_count": 77,
   "metadata": {
    "execution": {
     "iopub.execute_input": "2021-01-06T18:22:10.208316Z",
     "iopub.status.busy": "2021-01-06T18:22:10.207632Z",
     "iopub.status.idle": "2021-01-06T18:22:10.211131Z",
     "shell.execute_reply": "2021-01-06T18:22:10.211760Z"
    },
    "papermill": {
     "duration": 0.143678,
     "end_time": "2021-01-06T18:22:10.211902",
     "exception": false,
     "start_time": "2021-01-06T18:22:10.068224",
     "status": "completed"
    },
    "tags": []
   },
   "outputs": [
    {
     "data": {
      "text/plain": [
       "array(['UN', 'SU', 'NS', 'NAF', nan, 'EX', 'NC'], dtype=object)"
      ]
     },
     "execution_count": 77,
     "metadata": {},
     "output_type": "execute_result"
    }
   ],
   "source": [
    "df_detail.final_finding.unique()"
   ]
  },
  {
   "cell_type": "markdown",
   "metadata": {
    "papermill": {
     "duration": 0.129341,
     "end_time": "2021-01-06T18:22:10.471752",
     "exception": false,
     "start_time": "2021-01-06T18:22:10.342411",
     "status": "completed"
    },
    "tags": []
   },
   "source": [
    "We see that all the findings mean 'nothing' except for one (excluding null), let's do some analysis on this fact..."
   ]
  },
  {
   "cell_type": "code",
   "execution_count": 78,
   "metadata": {
    "execution": {
     "iopub.execute_input": "2021-01-06T18:22:10.734084Z",
     "iopub.status.busy": "2021-01-06T18:22:10.733335Z",
     "iopub.status.idle": "2021-01-06T18:22:12.148609Z",
     "shell.execute_reply": "2021-01-06T18:22:12.147951Z"
    },
    "papermill": {
     "duration": 1.548466,
     "end_time": "2021-01-06T18:22:12.148768",
     "exception": false,
     "start_time": "2021-01-06T18:22:10.600302",
     "status": "completed"
    },
    "tags": []
   },
   "outputs": [
    {
     "name": "stdout",
     "output_type": "stream",
     "text": [
      "Recommended Finding Data (with Duplicates)\n",
      "\n",
      "Number of Findings that were 'Something': 4021\n",
      "Number of Total Findings: 63719\n",
      "Percentage of 'Something' Findings: 6.310519625229523%\n"
     ]
    }
   ],
   "source": [
    "#counting the number and percentage of 'SU' findings in data set with duplicate data (recommneded finding)\n",
    "smthCount = 0\n",
    "for ind in df_detail.index:\n",
    "    recFin = df_detail['recommended_finding'][ind]\n",
    "    if recFin == 'SU':\n",
    "        smthCount += 1\n",
    "totLen = len(df_detail['recommended_finding'].notnull())\n",
    "print('Recommended Finding Data (with Duplicates)\\n')\n",
    "print('Number of Findings that were \\'Something\\': '+ str(smthCount))\n",
    "print('Number of Total Findings: ' + str(totLen))\n",
    "print('Percentage of \\'Something\\' Findings: '+str(smthCount/totLen*100)+'%')"
   ]
  },
  {
   "cell_type": "code",
   "execution_count": 79,
   "metadata": {
    "execution": {
     "iopub.execute_input": "2021-01-06T18:22:12.508071Z",
     "iopub.status.busy": "2021-01-06T18:22:12.471498Z",
     "iopub.status.idle": "2021-01-06T18:22:13.850657Z",
     "shell.execute_reply": "2021-01-06T18:22:13.851147Z"
    },
    "papermill": {
     "duration": 1.556315,
     "end_time": "2021-01-06T18:22:13.851318",
     "exception": false,
     "start_time": "2021-01-06T18:22:12.295003",
     "status": "completed"
    },
    "tags": []
   },
   "outputs": [
    {
     "name": "stdout",
     "output_type": "stream",
     "text": [
      "Final Finding Data (with Duplicates)\n",
      "\n",
      "Number of Findings that were 'Something': 3430\n",
      "Number of Total Findings: 63719\n",
      "Percentage of 'Something' Findings: 5.3830097773034735%\n"
     ]
    }
   ],
   "source": [
    "#counting the number and percentage of 'SU' findings in data set with duplicate data (final finding)\n",
    "smthCount = 0\n",
    "for ind in df_detail.index:\n",
    "    recFin = df_detail['final_finding'][ind]\n",
    "    if recFin == 'SU':\n",
    "        smthCount += 1\n",
    "totLen = len(df_detail['final_finding'].notnull())\n",
    "        \n",
    "print('Final Finding Data (with Duplicates)\\n')\n",
    "print('Number of Findings that were \\'Something\\': '+ str(smthCount))\n",
    "print('Number of Total Findings: ' + str(totLen))\n",
    "print('Percentage of \\'Something\\' Findings: '+str(smthCount/totLen*100)+'%')"
   ]
  },
  {
   "cell_type": "code",
   "execution_count": 80,
   "metadata": {
    "execution": {
     "iopub.execute_input": "2021-01-06T18:22:14.147691Z",
     "iopub.status.busy": "2021-01-06T18:22:14.130523Z",
     "iopub.status.idle": "2021-01-06T18:22:14.210684Z",
     "shell.execute_reply": "2021-01-06T18:22:14.211454Z"
    },
    "papermill": {
     "duration": 0.230181,
     "end_time": "2021-01-06T18:22:14.211686",
     "exception": false,
     "start_time": "2021-01-06T18:22:13.981505",
     "status": "completed"
    },
    "tags": []
   },
   "outputs": [
    {
     "name": "stdout",
     "output_type": "stream",
     "text": [
      "Recommended Finding Data (without Duplicates)\n",
      "\n",
      "Number of Findings that were 'Something': 1636\n",
      "Number of Total Findings: 2481\n",
      "Percentage of 'Something' Findings: 65.94115276098348%\n"
     ]
    }
   ],
   "source": [
    "#counting the number and percentage of 'SU' findings in data set without duplicate data (recommneded finding)\n",
    "smthCount = 0\n",
    "for ind in df_detail_no_dups.index:\n",
    "    recFin = df_detail_no_dups['recommended_finding'][ind]\n",
    "    if recFin == 'SU':\n",
    "        smthCount += 1\n",
    "totLen = len(df_detail_no_dups['recommended_finding'].notnull())\n",
    "\n",
    "print('Recommended Finding Data (without Duplicates)\\n')\n",
    "print('Number of Findings that were \\'Something\\': '+ str(smthCount))\n",
    "print('Number of Total Findings: ' + str(totLen))\n",
    "print('Percentage of \\'Something\\' Findings: '+str(smthCount/totLen*100)+'%')"
   ]
  },
  {
   "cell_type": "code",
   "execution_count": 81,
   "metadata": {
    "execution": {
     "iopub.execute_input": "2021-01-06T18:22:14.537491Z",
     "iopub.status.busy": "2021-01-06T18:22:14.536432Z",
     "iopub.status.idle": "2021-01-06T18:22:14.590173Z",
     "shell.execute_reply": "2021-01-06T18:22:14.590738Z"
    },
    "papermill": {
     "duration": 0.210463,
     "end_time": "2021-01-06T18:22:14.590881",
     "exception": false,
     "start_time": "2021-01-06T18:22:14.380418",
     "status": "completed"
    },
    "tags": []
   },
   "outputs": [
    {
     "name": "stdout",
     "output_type": "stream",
     "text": [
      "Final Finding Data (without Duplicates)\n",
      "\n",
      "Number of Findings that were 'Something': 1342\n",
      "Number of Total Findings: 2481\n",
      "Percentage of 'Something' Findings: 54.09109230149134%\n"
     ]
    }
   ],
   "source": [
    "#counting the number and percentage of 'SU' findings in data set without duplicate data (final finding)\n",
    "smthCount = 0\n",
    "for ind in df_detail_no_dups.index:\n",
    "    recFin = df_detail_no_dups['final_finding'][ind]\n",
    "    if recFin == 'SU':\n",
    "        smthCount += 1\n",
    "totLen = len(df_detail_no_dups['final_finding'].notnull())\n",
    "\n",
    "print('Final Finding Data (without Duplicates)\\n')\n",
    "print('Number of Findings that were \\'Something\\': '+ str(smthCount))\n",
    "print('Number of Total Findings: ' + str(totLen))\n",
    "print('Percentage of \\'Something\\' Findings: '+str(smthCount/totLen*100)+'%')"
   ]
  },
  {
   "cell_type": "markdown",
   "metadata": {
    "papermill": {
     "duration": 0.130805,
     "end_time": "2021-01-06T18:22:14.853648",
     "exception": false,
     "start_time": "2021-01-06T18:22:14.722843",
     "status": "completed"
    },
    "tags": []
   },
   "source": [
    "**Key Takeaways:**\n",
    "\n",
    "* The difference in percetnages from the data with duplicates to the data without duplicates is quite disparaging, but we can still disect some overall trends:\n",
    "    * The percentages of 'Something' findings was lower in the 'Final' category than the 'Recommended' category in both datasets, suggesting that an internal commisions was recommended more often than it was implemented   "
   ]
  },
  {
   "cell_type": "markdown",
   "metadata": {
    "papermill": {
     "duration": 0.129372,
     "end_time": "2021-01-06T18:22:15.113458",
     "exception": false,
     "start_time": "2021-01-06T18:22:14.984086",
     "status": "completed"
    },
    "tags": []
   },
   "source": [
    "Now, let's count out the number and percentage of incidents where the recommended and final findings do not match.... (this will mean when once of the finding columns is a 'Something' and the other isn't, barring null values)"
   ]
  },
  {
   "cell_type": "code",
   "execution_count": 82,
   "metadata": {
    "execution": {
     "iopub.execute_input": "2021-01-06T18:22:15.394365Z",
     "iopub.status.busy": "2021-01-06T18:22:15.393565Z",
     "iopub.status.idle": "2021-01-06T18:22:18.176452Z",
     "shell.execute_reply": "2021-01-06T18:22:18.175659Z"
    },
    "papermill": {
     "duration": 2.922783,
     "end_time": "2021-01-06T18:22:18.176598",
     "exception": false,
     "start_time": "2021-01-06T18:22:15.253815",
     "status": "completed"
    },
    "tags": []
   },
   "outputs": [
    {
     "name": "stdout",
     "output_type": "stream",
     "text": [
      "Finding Comparison Data (with Duplicates)\n",
      "Number of Incidnets where Recommended and Final Findings Do Not Coincide: 442\n",
      "Total Number of Incidents: 63719\n",
      "Percentage of Differenct Recommended and Final Findings: 0.6936706476875029%\n"
     ]
    }
   ],
   "source": [
    "#implementing a 'different' coutner for final and recommended finding on data with duplicates\n",
    "diffCount = 0\n",
    "for ind in df_detail.index:\n",
    "    recFin = df_detail['recommended_finding'][ind]\n",
    "    finFin = df_detail['final_finding'][ind]\n",
    "    if recFin == 'SU' and finFin != 'SU' and pd.notnull(finFin):\n",
    "        diffCount += 1\n",
    "    if finFin == 'SU' and recFin != 'SU' and pd.notnull(recFin):\n",
    "        diffCount+=1\n",
    "totLen = len(df_detail['recommended_finding'].notnull())\n",
    "print('Finding Comparison Data (with Duplicates)')\n",
    "print('Number of Incidnets where Recommended and Final Findings Do Not Coincide: '+str(diffCount))\n",
    "print('Total Number of Incidents: '+str(totLen))\n",
    "print('Percentage of Differenct Recommended and Final Findings: '+str(diffCount/totLen*100)+'%')"
   ]
  },
  {
   "cell_type": "code",
   "execution_count": 83,
   "metadata": {
    "execution": {
     "iopub.execute_input": "2021-01-06T18:22:18.478295Z",
     "iopub.status.busy": "2021-01-06T18:22:18.467842Z",
     "iopub.status.idle": "2021-01-06T18:22:18.562772Z",
     "shell.execute_reply": "2021-01-06T18:22:18.562182Z"
    },
    "papermill": {
     "duration": 0.255139,
     "end_time": "2021-01-06T18:22:18.562885",
     "exception": false,
     "start_time": "2021-01-06T18:22:18.307746",
     "status": "completed"
    },
    "tags": []
   },
   "outputs": [
    {
     "name": "stdout",
     "output_type": "stream",
     "text": [
      "Finding Comparison Data (without Duplicates)\n",
      "Number of Incidnets where Recommended and Final Findings Do Not Coincide: 249\n",
      "Total Number of Incidents: 2481\n",
      "Percentage of Differenct Recommended and Final Findings: 10.036275695284159%\n"
     ]
    }
   ],
   "source": [
    "#implementing a 'different' coutner for final and recommended finding on data without duplicates\n",
    "diffCount = 0\n",
    "for ind in df_detail_no_dups.index:\n",
    "    recFin = df_detail_no_dups['recommended_finding'][ind]\n",
    "    finFin = df_detail_no_dups['final_finding'][ind]\n",
    "    if recFin == 'SU' and finFin != 'SU' and pd.notnull(finFin):\n",
    "        diffCount += 1\n",
    "    if finFin == 'SU' and recFin != 'SU' and pd.notnull(recFin):\n",
    "        diffCount+=1\n",
    "totLen = len(df_detail_no_dups['recommended_finding'].notnull())\n",
    "print('Finding Comparison Data (without Duplicates)')\n",
    "print('Number of Incidnets where Recommended and Final Findings Do Not Coincide: '+str(diffCount))\n",
    "print('Total Number of Incidents: '+str(totLen))\n",
    "print('Percentage of Differenct Recommended and Final Findings: '+str(diffCount/totLen*100)+'%')"
   ]
  },
  {
   "cell_type": "markdown",
   "metadata": {
    "papermill": {
     "duration": 0.135806,
     "end_time": "2021-01-06T18:22:18.831906",
     "exception": false,
     "start_time": "2021-01-06T18:22:18.696100",
     "status": "completed"
    },
    "tags": []
   },
   "source": [
    "**Key Takeaways:**\n",
    "* We see that in the data with duplicates, there are rarely any incidents where the recommended and final findings do not coincide, while in the data without duplicates, this phenomenan happens roughly 10% of the time\n",
    "* What this suggests is that there are some incidents where this phenomenan occurs, but is rarely presents in the greater scheme of all CR incidents\n",
    "\n",
    "*Note: We made no dilineation amongst the 'Nothing' indetifiers although there are 5 differents such identifiers. This is because we really just don't know what they mean :/*"
   ]
  },
  {
   "cell_type": "markdown",
   "metadata": {
    "papermill": {
     "duration": 0.130596,
     "end_time": "2021-01-06T18:22:19.095178",
     "exception": false,
     "start_time": "2021-01-06T18:22:18.964582",
     "status": "completed"
    },
    "tags": []
   },
   "source": [
    "We can further classify these incidents where the Recommended and Final Findings do not coincide into when 'SU' was recommended and when 'SU' was the final finding..."
   ]
  },
  {
   "cell_type": "code",
   "execution_count": 84,
   "metadata": {
    "execution": {
     "iopub.execute_input": "2021-01-06T18:22:19.375257Z",
     "iopub.status.busy": "2021-01-06T18:22:19.374523Z",
     "iopub.status.idle": "2021-01-06T18:22:19.376670Z",
     "shell.execute_reply": "2021-01-06T18:22:19.377131Z"
    },
    "papermill": {
     "duration": 0.143525,
     "end_time": "2021-01-06T18:22:19.377280",
     "exception": false,
     "start_time": "2021-01-06T18:22:19.233755",
     "status": "completed"
    },
    "tags": []
   },
   "outputs": [],
   "source": [
    "#helper func to compare incidents when final and recommended finding didn't coincide\n",
    "noneList = ['UN', 'NS', 'EX', 'NAF', 'NC']\n",
    "def compareFinding (rec, fin):\n",
    "    if pd.isnull(rec) or pd.isnull(fin):\n",
    "        return 'NO DATA'\n",
    "    if rec == 'SU' and fin != 'SU':\n",
    "        return 'LESS THAN RECOMMENDED'\n",
    "    if rec != 'SU' and fin == 'SU':\n",
    "        return 'GREATER THAN RECOMMENDED'\n",
    "    if rec == fin or (rec in noneList and fin in noneList):\n",
    "        return 'EQUAL'"
   ]
  },
  {
   "cell_type": "code",
   "execution_count": 85,
   "metadata": {
    "execution": {
     "iopub.execute_input": "2021-01-06T18:22:19.647373Z",
     "iopub.status.busy": "2021-01-06T18:22:19.646679Z",
     "iopub.status.idle": "2021-01-06T18:22:22.119091Z",
     "shell.execute_reply": "2021-01-06T18:22:22.119659Z"
    },
    "papermill": {
     "duration": 2.608791,
     "end_time": "2021-01-06T18:22:22.119819",
     "exception": false,
     "start_time": "2021-01-06T18:22:19.511028",
     "status": "completed"
    },
    "tags": []
   },
   "outputs": [],
   "source": [
    "#apply aboce func to both datasets\n",
    "df_detail['compare_findings'] = df_detail.apply(lambda row: compareFinding(row['recommended_finding'], row['final_finding']), axis = 1)\n",
    "df_detail_no_dups['compare_findings'] = df_detail_no_dups.apply(lambda row: compareFinding(row['recommended_finding'], row['final_finding']), axis = 1)"
   ]
  },
  {
   "cell_type": "code",
   "execution_count": 86,
   "metadata": {
    "execution": {
     "iopub.execute_input": "2021-01-06T18:22:22.387490Z",
     "iopub.status.busy": "2021-01-06T18:22:22.386817Z",
     "iopub.status.idle": "2021-01-06T18:22:22.416087Z",
     "shell.execute_reply": "2021-01-06T18:22:22.415031Z"
    },
    "papermill": {
     "duration": 0.163545,
     "end_time": "2021-01-06T18:22:22.416257",
     "exception": false,
     "start_time": "2021-01-06T18:22:22.252712",
     "status": "completed"
    },
    "tags": []
   },
   "outputs": [
    {
     "name": "stdout",
     "output_type": "stream",
     "text": [
      "Finding Data on Differences between Recommended and Final Findings (with Duplicates)\n",
      "\n",
      "EQUAL                       57406\n",
      "NO DATA                      5871\n",
      "LESS THAN RECOMMENDED         371\n",
      "GREATER THAN RECOMMENDED       71\n",
      "Name: compare_findings, dtype: int64\n",
      "--------------------------------------------------\n",
      "Finding Data on Differences between Recommended and Final Findings (without Duplicates)\n",
      "\n",
      "EQUAL                       1892\n",
      "NO DATA                      340\n",
      "LESS THAN RECOMMENDED        207\n",
      "GREATER THAN RECOMMENDED      42\n",
      "Name: compare_findings, dtype: int64\n",
      "--------------------------------------------------\n"
     ]
    }
   ],
   "source": [
    "#print a counter of finding comparisons for both dataframes\n",
    "print('Finding Data on Differences between Recommended and Final Findings (with Duplicates)\\n')\n",
    "print(df_detail.compare_findings.value_counts())\n",
    "print('-'*50)\n",
    "print('Finding Data on Differences between Recommended and Final Findings (without Duplicates)\\n')\n",
    "print(df_detail_no_dups.compare_findings.value_counts())\n",
    "print('-'*50)"
   ]
  },
  {
   "cell_type": "markdown",
   "metadata": {
    "papermill": {
     "duration": 0.133373,
     "end_time": "2021-01-06T18:22:22.689796",
     "exception": false,
     "start_time": "2021-01-06T18:22:22.556423",
     "status": "completed"
    },
    "tags": []
   },
   "source": [
    "**Key Takeaways:**\n",
    "* We see the majoirty of Recommened and Final Findings do coincide\n",
    "* When they happen not to coincicde, we see the Final Finding is less severe than the Recommended Finding roughly 80% of the time that the Recommended and Final findings do not coincide for both datasets"
   ]
  },
  {
   "cell_type": "markdown",
   "metadata": {
    "papermill": {
     "duration": 0.135395,
     "end_time": "2021-01-06T18:22:22.959154",
     "exception": false,
     "start_time": "2021-01-06T18:22:22.823759",
     "status": "completed"
    },
    "tags": []
   },
   "source": [
    "We will now put all three datasets (using the one with duplicates for DF_DETAIL) into one big dataframe called 'DF_MERGED'. We won't run any new analysis, rather look at the distributions in data where all possible info is available."
   ]
  },
  {
   "cell_type": "markdown",
   "metadata": {
    "papermill": {
     "duration": 0.147079,
     "end_time": "2021-01-06T18:22:23.240478",
     "exception": false,
     "start_time": "2021-01-06T18:22:23.093399",
     "status": "completed"
    },
    "tags": []
   },
   "source": [
    "**DF_MERGED**"
   ]
  },
  {
   "cell_type": "code",
   "execution_count": 87,
   "metadata": {
    "execution": {
     "iopub.execute_input": "2021-01-06T18:22:23.513301Z",
     "iopub.status.busy": "2021-01-06T18:22:23.512661Z",
     "iopub.status.idle": "2021-01-06T18:22:23.515941Z",
     "shell.execute_reply": "2021-01-06T18:22:23.515336Z"
    },
    "papermill": {
     "duration": 0.141613,
     "end_time": "2021-01-06T18:22:23.516080",
     "exception": false,
     "start_time": "2021-01-06T18:22:23.374467",
     "status": "completed"
    },
    "tags": []
   },
   "outputs": [],
   "source": [
    "df_detail.set_index('cr_id', inplace = True)"
   ]
  },
  {
   "cell_type": "code",
   "execution_count": 88,
   "metadata": {
    "execution": {
     "iopub.execute_input": "2021-01-06T18:22:23.792605Z",
     "iopub.status.busy": "2021-01-06T18:22:23.791566Z",
     "iopub.status.idle": "2021-01-06T18:22:23.850596Z",
     "shell.execute_reply": "2021-01-06T18:22:23.851194Z"
    },
    "papermill": {
     "duration": 0.202273,
     "end_time": "2021-01-06T18:22:23.851344",
     "exception": false,
     "start_time": "2021-01-06T18:22:23.649071",
     "status": "completed"
    },
    "tags": []
   },
   "outputs": [
    {
     "data": {
      "text/html": [
       "<div>\n",
       "<style scoped>\n",
       "    .dataframe tbody tr th:only-of-type {\n",
       "        vertical-align: middle;\n",
       "    }\n",
       "\n",
       "    .dataframe tbody tr th {\n",
       "        vertical-align: top;\n",
       "    }\n",
       "\n",
       "    .dataframe thead th {\n",
       "        text-align: right;\n",
       "    }\n",
       "</style>\n",
       "<table border=\"1\" class=\"dataframe\">\n",
       "  <thead>\n",
       "    <tr style=\"text-align: right;\">\n",
       "      <th></th>\n",
       "      <th>beat</th>\n",
       "      <th>incident_year</th>\n",
       "      <th>gender</th>\n",
       "      <th>race</th>\n",
       "      <th>age_band</th>\n",
       "      <th>recommended_discipline</th>\n",
       "      <th>final_discipline</th>\n",
       "      <th>recommended_finding</th>\n",
       "      <th>final_finding</th>\n",
       "      <th>complaint_key</th>\n",
       "      <th>compare_discipline</th>\n",
       "      <th>compare_findings</th>\n",
       "    </tr>\n",
       "    <tr>\n",
       "      <th>cr_id</th>\n",
       "      <th></th>\n",
       "      <th></th>\n",
       "      <th></th>\n",
       "      <th></th>\n",
       "      <th></th>\n",
       "      <th></th>\n",
       "      <th></th>\n",
       "      <th></th>\n",
       "      <th></th>\n",
       "      <th></th>\n",
       "      <th></th>\n",
       "      <th></th>\n",
       "    </tr>\n",
       "  </thead>\n",
       "  <tbody>\n",
       "    <tr>\n",
       "      <th>1000001</th>\n",
       "      <td>1014</td>\n",
       "      <td>2006.0</td>\n",
       "      <td>NaN</td>\n",
       "      <td>NaN</td>\n",
       "      <td>NaN</td>\n",
       "      <td>NaN</td>\n",
       "      <td>NaN</td>\n",
       "      <td>NaN</td>\n",
       "      <td>NaN</td>\n",
       "      <td>NaN</td>\n",
       "      <td>NaN</td>\n",
       "      <td>NaN</td>\n",
       "    </tr>\n",
       "    <tr>\n",
       "      <th>1000002</th>\n",
       "      <td>NaN</td>\n",
       "      <td>NaN</td>\n",
       "      <td>NaN</td>\n",
       "      <td>NaN</td>\n",
       "      <td>NaN</td>\n",
       "      <td>600.0</td>\n",
       "      <td>600.0</td>\n",
       "      <td>UN</td>\n",
       "      <td>UN</td>\n",
       "      <td>05M</td>\n",
       "      <td>EQUAL</td>\n",
       "      <td>EQUAL</td>\n",
       "    </tr>\n",
       "    <tr>\n",
       "      <th>1000002</th>\n",
       "      <td>NaN</td>\n",
       "      <td>NaN</td>\n",
       "      <td>NaN</td>\n",
       "      <td>NaN</td>\n",
       "      <td>NaN</td>\n",
       "      <td>600.0</td>\n",
       "      <td>600.0</td>\n",
       "      <td>UN</td>\n",
       "      <td>UN</td>\n",
       "      <td>05M</td>\n",
       "      <td>EQUAL</td>\n",
       "      <td>EQUAL</td>\n",
       "    </tr>\n",
       "    <tr>\n",
       "      <th>1000004</th>\n",
       "      <td>0821</td>\n",
       "      <td>2006.0</td>\n",
       "      <td>NaN</td>\n",
       "      <td>NaN</td>\n",
       "      <td>NaN</td>\n",
       "      <td>5.0</td>\n",
       "      <td>5.0</td>\n",
       "      <td>SU</td>\n",
       "      <td>SU</td>\n",
       "      <td>05N</td>\n",
       "      <td>EQUAL</td>\n",
       "      <td>EQUAL</td>\n",
       "    </tr>\n",
       "    <tr>\n",
       "      <th>1000004</th>\n",
       "      <td>0821</td>\n",
       "      <td>2006.0</td>\n",
       "      <td>NaN</td>\n",
       "      <td>NaN</td>\n",
       "      <td>NaN</td>\n",
       "      <td>5.0</td>\n",
       "      <td>1.0</td>\n",
       "      <td>SU</td>\n",
       "      <td>SU</td>\n",
       "      <td>05N</td>\n",
       "      <td>LESS THAN RECOMMENDED</td>\n",
       "      <td>EQUAL</td>\n",
       "    </tr>\n",
       "  </tbody>\n",
       "</table>\n",
       "</div>"
      ],
      "text/plain": [
       "         beat  incident_year gender race age_band  recommended_discipline  \\\n",
       "cr_id                                                                       \n",
       "1000001  1014         2006.0    NaN  NaN      NaN                     NaN   \n",
       "1000002   NaN            NaN    NaN  NaN      NaN                   600.0   \n",
       "1000002   NaN            NaN    NaN  NaN      NaN                   600.0   \n",
       "1000004  0821         2006.0    NaN  NaN      NaN                     5.0   \n",
       "1000004  0821         2006.0    NaN  NaN      NaN                     5.0   \n",
       "\n",
       "         final_discipline recommended_finding final_finding complaint_key  \\\n",
       "cr_id                                                                       \n",
       "1000001               NaN                 NaN           NaN           NaN   \n",
       "1000002             600.0                  UN            UN           05M   \n",
       "1000002             600.0                  UN            UN           05M   \n",
       "1000004               5.0                  SU            SU           05N   \n",
       "1000004               1.0                  SU            SU           05N   \n",
       "\n",
       "            compare_discipline compare_findings  \n",
       "cr_id                                            \n",
       "1000001                    NaN              NaN  \n",
       "1000002                  EQUAL            EQUAL  \n",
       "1000002                  EQUAL            EQUAL  \n",
       "1000004                  EQUAL            EQUAL  \n",
       "1000004  LESS THAN RECOMMENDED            EQUAL  "
      ]
     },
     "execution_count": 88,
     "metadata": {},
     "output_type": "execute_result"
    }
   ],
   "source": [
    "df_merged = df_main.merge(df_victims, how='outer', left_index=True, right_index=True)\n",
    "df_merged = df_merged.merge(df_detail, how = 'outer', left_index = True, right_index = True)\n",
    "df_merged.head()"
   ]
  },
  {
   "cell_type": "code",
   "execution_count": 89,
   "metadata": {
    "execution": {
     "iopub.execute_input": "2021-01-06T18:22:24.121789Z",
     "iopub.status.busy": "2021-01-06T18:22:24.120783Z",
     "iopub.status.idle": "2021-01-06T18:22:24.213350Z",
     "shell.execute_reply": "2021-01-06T18:22:24.213905Z"
    },
    "papermill": {
     "duration": 0.229521,
     "end_time": "2021-01-06T18:22:24.214049",
     "exception": false,
     "start_time": "2021-01-06T18:22:23.984528",
     "status": "completed"
    },
    "tags": []
   },
   "outputs": [],
   "source": [
    "#remove all rows that have a null value\n",
    "df_merged_match = df_merged.dropna(axis = 0, how = 'any')"
   ]
  },
  {
   "cell_type": "code",
   "execution_count": 90,
   "metadata": {
    "execution": {
     "iopub.execute_input": "2021-01-06T18:22:24.520655Z",
     "iopub.status.busy": "2021-01-06T18:22:24.519950Z",
     "iopub.status.idle": "2021-01-06T18:22:24.524087Z",
     "shell.execute_reply": "2021-01-06T18:22:24.523425Z"
    },
    "papermill": {
     "duration": 0.143032,
     "end_time": "2021-01-06T18:22:24.524195",
     "exception": false,
     "start_time": "2021-01-06T18:22:24.381163",
     "status": "completed"
    },
    "tags": []
   },
   "outputs": [
    {
     "data": {
      "text/plain": [
       "1293"
      ]
     },
     "execution_count": 90,
     "metadata": {},
     "output_type": "execute_result"
    }
   ],
   "source": [
    "#see how many actual incidents we are working with\n",
    "len(df_merged_match)"
   ]
  },
  {
   "cell_type": "markdown",
   "metadata": {
    "papermill": {
     "duration": 0.135777,
     "end_time": "2021-01-06T18:22:24.796565",
     "exception": false,
     "start_time": "2021-01-06T18:22:24.660788",
     "status": "completed"
    },
    "tags": []
   },
   "source": [
    "df_merged_match is a dataset where we merged all of the three previous datasets (using the duplicate data for DF_DETAIL) and only took incidents where all possible information was available. We'll look at the trends within this dataset for the remaining analysis...\n",
    "\n",
    "\n",
    "*Note: This dataset is really not going to tell us anything we don't already know and even be a little misleading. This  dataset is simply a reflection on which incidents are most coherent, not a reflection on the overall trends in all complaints filed within our time period (which would be our previous analysis)*"
   ]
  },
  {
   "cell_type": "markdown",
   "metadata": {
    "papermill": {
     "duration": 0.133507,
     "end_time": "2021-01-06T18:22:25.066489",
     "exception": false,
     "start_time": "2021-01-06T18:22:24.932982",
     "status": "completed"
    },
    "tags": []
   },
   "source": [
    "Starting with beat data..."
   ]
  },
  {
   "cell_type": "code",
   "execution_count": 91,
   "metadata": {
    "execution": {
     "iopub.execute_input": "2021-01-06T18:22:25.343633Z",
     "iopub.status.busy": "2021-01-06T18:22:25.342964Z",
     "iopub.status.idle": "2021-01-06T18:22:25.346523Z",
     "shell.execute_reply": "2021-01-06T18:22:25.345991Z"
    },
    "papermill": {
     "duration": 0.14368,
     "end_time": "2021-01-06T18:22:25.346659",
     "exception": false,
     "start_time": "2021-01-06T18:22:25.202979",
     "status": "completed"
    },
    "tags": []
   },
   "outputs": [],
   "source": [
    "#create counter for most common beats in merged\n",
    "merged_match_beats = df_merged_match.beat.value_counts()"
   ]
  },
  {
   "cell_type": "code",
   "execution_count": 92,
   "metadata": {
    "execution": {
     "iopub.execute_input": "2021-01-06T18:22:25.652096Z",
     "iopub.status.busy": "2021-01-06T18:22:25.650426Z",
     "iopub.status.idle": "2021-01-06T18:22:25.991697Z",
     "shell.execute_reply": "2021-01-06T18:22:25.990701Z"
    },
    "papermill": {
     "duration": 0.510628,
     "end_time": "2021-01-06T18:22:25.991886",
     "exception": false,
     "start_time": "2021-01-06T18:22:25.481258",
     "status": "completed"
    },
    "tags": []
   },
   "outputs": [
    {
     "data": {
      "image/png": "[encoded data removed]",
      "text/plain": [
       "<Figure size 432x288 with 1 Axes>"
      ]
     },
     "metadata": {},
     "output_type": "display_data"
    }
   ],
   "source": [
    "#graph above counter with top 20 beats\n",
    "sns.set(font_scale = 1)\n",
    "ax = sns.barplot(x = merged_match_beats[:20].index, y = merged_match_beats[:20], order = merged_match_beats[:20].index, label = 'small')\n",
    "ax.set_title('20 Beats with HIGHEST Number of Complaint Reports (Merged Data)')\n",
    "ax.set_xticklabels(ax.get_xticklabels(),rotation=90)\n",
    "ax.set(xlabel='Beats', ylabel='Number of Complaints')\n",
    "ax.tick_params(labelsize=8.5)\n",
    "plt.show()"
   ]
  },
  {
   "cell_type": "markdown",
   "metadata": {
    "papermill": {
     "duration": 0.138563,
     "end_time": "2021-01-06T18:22:26.267430",
     "exception": false,
     "start_time": "2021-01-06T18:22:26.128867",
     "status": "completed"
    },
    "tags": []
   },
   "source": [
    "Looking at the Beats with the lowest number of complaints isn't really worthwhile since outside of the top 20 Beats, the vast majority of beats have less than 10 complaints.\n",
    "\n",
    "Instead, we will just look at the district data of the Top 20 Beats..."
   ]
  },
  {
   "cell_type": "code",
   "execution_count": 93,
   "metadata": {
    "execution": {
     "iopub.execute_input": "2021-01-06T18:22:26.549397Z",
     "iopub.status.busy": "2021-01-06T18:22:26.548577Z",
     "iopub.status.idle": "2021-01-06T18:22:26.551958Z",
     "shell.execute_reply": "2021-01-06T18:22:26.552492Z"
    },
    "papermill": {
     "duration": 0.150248,
     "end_time": "2021-01-06T18:22:26.552690",
     "exception": false,
     "start_time": "2021-01-06T18:22:26.402442",
     "status": "completed"
    },
    "tags": []
   },
   "outputs": [
    {
     "name": "stdout",
     "output_type": "stream",
     "text": [
      "{'25': 4, '11': 3, '12': 3, '10': 3, '02': 2, '18': 1, '04': 1, '24': 1, '22': 1, '09': 1}\n"
     ]
    }
   ],
   "source": [
    "#break down top 20 beats into frequency by district\n",
    "districts_high = {}\n",
    "for beat in merged_match_beats[:20].index:\n",
    "    district = beat[:2]\n",
    "    if district in districts_high.keys():\n",
    "        districts_high[district] += 1\n",
    "    else:\n",
    "        districts_high[district] = 1\n",
    "#print(districts_high)\n",
    "districts_high_sorted_keys = sorted(districts_high, key=districts_high.get, reverse=True)\n",
    "districts_high_sort ={}\n",
    "for district in districts_high_sorted_keys:\n",
    "    districts_high_sort[district] = districts_high[district]\n",
    "print(districts_high_sort)"
   ]
  },
  {
   "cell_type": "code",
   "execution_count": 94,
   "metadata": {
    "execution": {
     "iopub.execute_input": "2021-01-06T18:22:26.833568Z",
     "iopub.status.busy": "2021-01-06T18:22:26.832821Z",
     "iopub.status.idle": "2021-01-06T18:22:27.079514Z",
     "shell.execute_reply": "2021-01-06T18:22:27.080073Z"
    },
    "papermill": {
     "duration": 0.390629,
     "end_time": "2021-01-06T18:22:27.080231",
     "exception": false,
     "start_time": "2021-01-06T18:22:26.689602",
     "status": "completed"
    },
    "tags": []
   },
   "outputs": [
    {
     "data": {
      "image/png": "[encoded data removed]",
      "text/plain": [
       "<Figure size 432x288 with 1 Axes>"
      ]
     },
     "metadata": {},
     "output_type": "display_data"
    }
   ],
   "source": [
    "#graph above created district data\n",
    "sns.set(font_scale = 1)\n",
    "ax = sns.barplot(x = list(districts_high_sort.keys()), y = list(districts_high_sort.values()), order = list(districts_high_sort.keys()), label = 'small')\n",
    "ax.set_title('Districts with Most Beats in \\'Top 20 Highest Number of Complaint Reports (Merged Data)\\'')\n",
    "ax.set_xticklabels(ax.get_xticklabels())\n",
    "ax.set(xlabel='Beats', ylabel='Number of Complaints')\n",
    "ax.tick_params(labelsize=8.5)\n",
    "plt.show()"
   ]
  },
  {
   "cell_type": "markdown",
   "metadata": {
    "papermill": {
     "duration": 0.138045,
     "end_time": "2021-01-06T18:22:27.356236",
     "exception": false,
     "start_time": "2021-01-06T18:22:27.218191",
     "status": "completed"
    },
    "tags": []
   },
   "source": [
    "Now, race..."
   ]
  },
  {
   "cell_type": "code",
   "execution_count": 95,
   "metadata": {
    "execution": {
     "iopub.execute_input": "2021-01-06T18:22:27.641738Z",
     "iopub.status.busy": "2021-01-06T18:22:27.641065Z",
     "iopub.status.idle": "2021-01-06T18:22:27.650301Z",
     "shell.execute_reply": "2021-01-06T18:22:27.649664Z"
    },
    "papermill": {
     "duration": 0.155038,
     "end_time": "2021-01-06T18:22:27.650417",
     "exception": false,
     "start_time": "2021-01-06T18:22:27.495379",
     "status": "completed"
    },
    "tags": []
   },
   "outputs": [
    {
     "data": {
      "text/plain": [
       "BLACK                     878\n",
       "HISPANIC                  253\n",
       "WHITE                     151\n",
       "ASIAN/PACIFIC ISLANDER     11\n",
       "Name: race, dtype: int64"
      ]
     },
     "execution_count": 95,
     "metadata": {},
     "output_type": "execute_result"
    }
   ],
   "source": [
    "#race counter for merged data\n",
    "df_merged_match.race.value_counts()"
   ]
  },
  {
   "cell_type": "code",
   "execution_count": 96,
   "metadata": {
    "execution": {
     "iopub.execute_input": "2021-01-06T18:22:27.930078Z",
     "iopub.status.busy": "2021-01-06T18:22:27.929359Z",
     "iopub.status.idle": "2021-01-06T18:22:28.115254Z",
     "shell.execute_reply": "2021-01-06T18:22:28.115812Z"
    },
    "papermill": {
     "duration": 0.326919,
     "end_time": "2021-01-06T18:22:28.115956",
     "exception": false,
     "start_time": "2021-01-06T18:22:27.789037",
     "status": "completed"
    },
    "tags": []
   },
   "outputs": [
    {
     "data": {
      "image/png": "[encoded data removed]",
      "text/plain": [
       "<Figure size 432x288 with 1 Axes>"
      ]
     },
     "metadata": {},
     "output_type": "display_data"
    }
   ],
   "source": [
    "#graph of above counter\n",
    "ax = sns.countplot(x=\"race\", data=df_merged_match, order = df_merged_match.race.value_counts().index)\n",
    "ax.set_title('Breakdown of Complainees by Race (Merged Data)')\n",
    "ax.set_xticklabels(ax.get_xticklabels(),rotation=90)\n",
    "plt.show()"
   ]
  },
  {
   "cell_type": "markdown",
   "metadata": {
    "papermill": {
     "duration": 0.138249,
     "end_time": "2021-01-06T18:22:28.394244",
     "exception": false,
     "start_time": "2021-01-06T18:22:28.255995",
     "status": "completed"
    },
    "tags": []
   },
   "source": [
    "Gender..."
   ]
  },
  {
   "cell_type": "code",
   "execution_count": 97,
   "metadata": {
    "execution": {
     "iopub.execute_input": "2021-01-06T18:22:28.682220Z",
     "iopub.status.busy": "2021-01-06T18:22:28.681188Z",
     "iopub.status.idle": "2021-01-06T18:22:28.692176Z",
     "shell.execute_reply": "2021-01-06T18:22:28.691578Z"
    },
    "papermill": {
     "duration": 0.1599,
     "end_time": "2021-01-06T18:22:28.692338",
     "exception": false,
     "start_time": "2021-01-06T18:22:28.532438",
     "status": "completed"
    },
    "tags": []
   },
   "outputs": [
    {
     "data": {
      "text/plain": [
       "MALE      947\n",
       "FEMALE    346\n",
       "Name: gender, dtype: int64"
      ]
     },
     "execution_count": 97,
     "metadata": {},
     "output_type": "execute_result"
    }
   ],
   "source": [
    "#gender counter for merged data\n",
    "df_merged_match.gender.value_counts()"
   ]
  },
  {
   "cell_type": "code",
   "execution_count": 98,
   "metadata": {
    "execution": {
     "iopub.execute_input": "2021-01-06T18:22:29.013496Z",
     "iopub.status.busy": "2021-01-06T18:22:29.012843Z",
     "iopub.status.idle": "2021-01-06T18:22:29.172799Z",
     "shell.execute_reply": "2021-01-06T18:22:29.172192Z"
    },
    "papermill": {
     "duration": 0.316673,
     "end_time": "2021-01-06T18:22:29.172931",
     "exception": false,
     "start_time": "2021-01-06T18:22:28.856258",
     "status": "completed"
    },
    "tags": []
   },
   "outputs": [
    {
     "data": {
      "image/png": "[encoded data removed]",
      "text/plain": [
       "<Figure size 432x288 with 1 Axes>"
      ]
     },
     "metadata": {},
     "output_type": "display_data"
    }
   ],
   "source": [
    "#graph of above counter\n",
    "ax = sns.countplot(x=\"gender\", data=df_merged_match, order = df_merged_match.gender.value_counts().index)\n",
    "ax.set_title('Breakdown of Complainees by Gender (Merged Data)')\n",
    "ax.set_xticklabels(ax.get_xticklabels())\n",
    "plt.show()"
   ]
  },
  {
   "cell_type": "markdown",
   "metadata": {
    "papermill": {
     "duration": 0.142599,
     "end_time": "2021-01-06T18:22:29.455678",
     "exception": false,
     "start_time": "2021-01-06T18:22:29.313079",
     "status": "completed"
    },
    "tags": []
   },
   "source": [
    "Age..."
   ]
  },
  {
   "cell_type": "code",
   "execution_count": 99,
   "metadata": {
    "execution": {
     "iopub.execute_input": "2021-01-06T18:22:29.744277Z",
     "iopub.status.busy": "2021-01-06T18:22:29.743584Z",
     "iopub.status.idle": "2021-01-06T18:22:29.746378Z",
     "shell.execute_reply": "2021-01-06T18:22:29.746891Z"
    },
    "papermill": {
     "duration": 0.15067,
     "end_time": "2021-01-06T18:22:29.747031",
     "exception": false,
     "start_time": "2021-01-06T18:22:29.596361",
     "status": "completed"
    },
    "tags": []
   },
   "outputs": [
    {
     "data": {
      "text/plain": [
       "20-29    409\n",
       "30-39    314\n",
       ">=70     274\n",
       "40-49    120\n",
       "50-59     75\n",
       "<20       71\n",
       "60-69     30\n",
       "Name: age_band, dtype: int64"
      ]
     },
     "execution_count": 99,
     "metadata": {},
     "output_type": "execute_result"
    }
   ],
   "source": [
    "#age range counter for merged data\n",
    "df_merged_match.age_band.value_counts()"
   ]
  },
  {
   "cell_type": "code",
   "execution_count": 100,
   "metadata": {
    "execution": {
     "iopub.execute_input": "2021-01-06T18:22:30.030264Z",
     "iopub.status.busy": "2021-01-06T18:22:30.029492Z",
     "iopub.status.idle": "2021-01-06T18:22:30.244251Z",
     "shell.execute_reply": "2021-01-06T18:22:30.244820Z"
    },
    "papermill": {
     "duration": 0.358109,
     "end_time": "2021-01-06T18:22:30.244967",
     "exception": false,
     "start_time": "2021-01-06T18:22:29.886858",
     "status": "completed"
    },
    "tags": []
   },
   "outputs": [
    {
     "data": {
      "image/png": "[encoded data removed]",
      "text/plain": [
       "<Figure size 432x288 with 1 Axes>"
      ]
     },
     "metadata": {},
     "output_type": "display_data"
    }
   ],
   "source": [
    "#graph of above counter\n",
    "age_order = ['<20', '20-29', '30-39', '40-49', '50-59', '60-69','>=70']\n",
    "ax = sns.countplot(x=\"age_band\", data=df_merged_match, order = age_order)\n",
    "ax.set_title('Breakdown of Complainees by Age (Merged Data)')\n",
    "ax.set_xticklabels(ax.get_xticklabels())\n",
    "plt.show()"
   ]
  },
  {
   "cell_type": "markdown",
   "metadata": {
    "papermill": {
     "duration": 0.140871,
     "end_time": "2021-01-06T18:22:30.526198",
     "exception": false,
     "start_time": "2021-01-06T18:22:30.385327",
     "status": "completed"
    },
    "tags": []
   },
   "source": [
    "Complaint types..."
   ]
  },
  {
   "cell_type": "code",
   "execution_count": 101,
   "metadata": {
    "execution": {
     "iopub.execute_input": "2021-01-06T18:22:30.817589Z",
     "iopub.status.busy": "2021-01-06T18:22:30.816864Z",
     "iopub.status.idle": "2021-01-06T18:22:30.866611Z",
     "shell.execute_reply": "2021-01-06T18:22:30.867108Z"
    },
    "papermill": {
     "duration": 0.19567,
     "end_time": "2021-01-06T18:22:30.867326",
     "exception": false,
     "start_time": "2021-01-06T18:22:30.671656",
     "status": "completed"
    },
    "tags": []
   },
   "outputs": [
    {
     "name": "stdout",
     "output_type": "stream",
     "text": [
      "20 Most Frequent Complaint Types (Merged Data) — Table\n",
      "\n",
      "05A: ARRESTEE - DURING ARREST\n",
      "Frequency: 229\n",
      "--------------------------------------------------\n",
      "03D: ILLEGAL ARREST\n",
      "Frequency: 172\n",
      "--------------------------------------------------\n",
      "10U: INADEQUATE/FAILURE TO PROVIDE SERVICE\n",
      "Frequency: 138\n",
      "--------------------------------------------------\n",
      "03G: MISCELLANEOUS\n",
      "Frequency: 85\n",
      "--------------------------------------------------\n",
      "05Q: CIVIL SUIT - THIRD PARTY\n",
      "Frequency: 70\n",
      "--------------------------------------------------\n",
      "10Z: MISCELLANEOUS\n",
      "Frequency: 70\n",
      "--------------------------------------------------\n",
      "05B: ARRESTEE - AFTER ARREST, PRIOR TO LOCKUP\n",
      "Frequency: 66\n",
      "--------------------------------------------------\n",
      "03B: SEARCH OF PERSON WITHOUT WARRANT\n",
      "Frequency: 59\n",
      "--------------------------------------------------\n",
      "10J: NEGLECT OF DUTY/CONDUCT UNBECOMING - ON DUTY\n",
      "Frequency: 53\n",
      "--------------------------------------------------\n",
      "04E: PRISONER'S PROPERTY - INVENTORY/RECEIPT\n",
      "Frequency: 50\n",
      "--------------------------------------------------\n",
      "03C: SEARCH OF PREMISE/VEHICLE WITHOUT WARRANT\n",
      "Frequency: 48\n",
      "--------------------------------------------------\n",
      "05M: UNNECESSARY PHYSICAL CONTACT - OFF DUTY\n",
      "Frequency: 27\n",
      "--------------------------------------------------\n",
      "05N: WEAPON - UNNECESSARY DISPLAY OF\n",
      "Frequency: 26\n",
      "--------------------------------------------------\n",
      "01A: USE OF PROFANITY\n",
      "Frequency: 22\n",
      "--------------------------------------------------\n",
      "05L: UNNECESSARY PHYSICAL CONTACT - ON DUTY\n",
      "Frequency: 22\n",
      "--------------------------------------------------\n",
      "07F: MISCELLANEOUS\n",
      "Frequency: 15\n",
      "--------------------------------------------------\n",
      "01B: RACIAL/ETHNIC, ETC.\n",
      "Frequency: 13\n",
      "--------------------------------------------------\n",
      "06J: MISCELLANEOUS\n",
      "Frequency: 10\n",
      "--------------------------------------------------\n",
      "04B: ARREST/IMPROPER\n",
      "Frequency: 10\n",
      "--------------------------------------------------\n",
      "10V: INVENTORY PROCEDURES\n",
      "Frequency: 9\n",
      "--------------------------------------------------\n"
     ]
    }
   ],
   "source": [
    "#create counter for most common complaint types in merged data\n",
    "print('20 Most Frequent Complaint Types (Merged Data) — Table\\n')\n",
    "for key in df_merged_match.complaint_key.value_counts()[:20].index:\n",
    "    if(key == 'OTHER'):\n",
    "        print('OTHER')\n",
    "        print(\"Frequency: \"+str(df_merged_match.complaint_key.value_counts()[key]))\n",
    "        print('-'*50)\n",
    "    else:\n",
    "        print(key+\": \"+complaint_cat_dict[key])\n",
    "        print(\"Frequency: \"+str(df_merged_match.complaint_key.value_counts()[key]))\n",
    "        print('-'*50)"
   ]
  },
  {
   "cell_type": "code",
   "execution_count": 102,
   "metadata": {
    "execution": {
     "iopub.execute_input": "2021-01-06T18:22:31.187354Z",
     "iopub.status.busy": "2021-01-06T18:22:31.183923Z",
     "iopub.status.idle": "2021-01-06T18:22:31.204305Z",
     "shell.execute_reply": "2021-01-06T18:22:31.203610Z"
    },
    "papermill": {
     "duration": 0.194673,
     "end_time": "2021-01-06T18:22:31.204418",
     "exception": false,
     "start_time": "2021-01-06T18:22:31.009745",
     "status": "completed"
    },
    "tags": []
   },
   "outputs": [
    {
     "name": "stdout",
     "output_type": "stream",
     "text": [
      "20 Least Frequent Complaint Types (Merged Data) — Table\n",
      "\n",
      "02D: D.U.I. - OFF DUTY\n",
      "Frequency: 6\n",
      "--------------------------------------------------\n",
      "07A: MISCONDUCT DURING ISSUANCE OF CITATION\n",
      "Frequency: 6\n",
      "--------------------------------------------------\n",
      "04J: MISCELLANEOUS\n",
      "Frequency: 6\n",
      "--------------------------------------------------\n",
      "14A: STATE CIVIL SUIT\n",
      "Frequency: 5\n",
      "--------------------------------------------------\n",
      "01C: MISCELLANEOUS\n",
      "Frequency: 5\n",
      "--------------------------------------------------\n",
      "05K: DOMESTIC ALTERCATION/INCIDENT - OFF DUTY\n",
      "Frequency: 5\n",
      "--------------------------------------------------\n",
      "10D: COMMUNICATION OPERATIONS PROCEDURES\n",
      "Frequency: 4\n",
      "--------------------------------------------------\n",
      "12D: FAIL TO OBTAIN A COMPLAINT REGISTER NUMBER\n",
      "Frequency: 4\n",
      "--------------------------------------------------\n",
      "07E: FAIL TO ENFORCE TRAFFIC REGULATIONS\n",
      "Frequency: 4\n",
      "--------------------------------------------------\n",
      "05H: MISCELLANEOUS\n",
      "Frequency: 4\n",
      "--------------------------------------------------\n",
      "10P: MISUSE OF DEPARTMENT EQUIPMENT/SUPPLIES\n",
      "Frequency: 4\n",
      "--------------------------------------------------\n",
      "10S: SEXUAL HARRASSMENT\n",
      "Frequency: 3\n",
      "--------------------------------------------------\n",
      "04F: ESCAPE\n",
      "Frequency: 3\n",
      "--------------------------------------------------\n",
      "05C: ARRESTEE - LOCKUP/DETENTION\n",
      "Frequency: 3\n",
      "--------------------------------------------------\n",
      "09C: ALTERCATION/DISTURBANCE - TRAFFIC\n",
      "Frequency: 2\n",
      "--------------------------------------------------\n",
      "05P: EXCESSIVE FORCE - OFF DUTY (INCLUDES NEIGHBOR, TRAFFIC, TAV)\n",
      "Frequency: 1\n",
      "--------------------------------------------------\n",
      "04G: TELEPHONE - ATTORNEY/RELATIVE PRIVILEGES\n",
      "Frequency: 1\n",
      "--------------------------------------------------\n",
      "08C: RAPE/SEX OFFENSES\n",
      "Frequency: 1\n",
      "--------------------------------------------------\n",
      "05J: \"U\" CONVERTED TO C.R. (RECORDS KEEPING ONLY, INITIAL)\n",
      "Frequency: 1\n",
      "--------------------------------------------------\n",
      "09D: TRAFFIC VIOLATION (OTHER THAN D.U.I.)\n",
      "Frequency: 1\n",
      "--------------------------------------------------\n"
     ]
    }
   ],
   "source": [
    "#create counter for least common complaint types in merged data\n",
    "print('20 Least Frequent Complaint Types (Merged Data) — Table\\n')\n",
    "for key in df_merged_match.complaint_key.value_counts()[-20:].index:\n",
    "    if(key == 'OTHER'):\n",
    "        print('OTHER')\n",
    "        print(\"Frequency: \"+str(df_merged_match.complaint_key.value_counts()[key]))\n",
    "        print('-'*50)\n",
    "    else:\n",
    "        print(key+\": \"+complaint_cat_dict[key])\n",
    "        print(\"Frequency: \"+str(df_merged_match.complaint_key.value_counts()[key]))\n",
    "        print('-'*50)"
   ]
  },
  {
   "cell_type": "code",
   "execution_count": 103,
   "metadata": {
    "execution": {
     "iopub.execute_input": "2021-01-06T18:22:31.496932Z",
     "iopub.status.busy": "2021-01-06T18:22:31.496126Z",
     "iopub.status.idle": "2021-01-06T18:22:31.500219Z",
     "shell.execute_reply": "2021-01-06T18:22:31.499634Z"
    },
    "papermill": {
     "duration": 0.152546,
     "end_time": "2021-01-06T18:22:31.500337",
     "exception": false,
     "start_time": "2021-01-06T18:22:31.347791",
     "status": "completed"
    },
    "tags": []
   },
   "outputs": [],
   "source": [
    "df_merged_match.reset_index(level =0, inplace = True)"
   ]
  },
  {
   "cell_type": "markdown",
   "metadata": {
    "papermill": {
     "duration": 0.143259,
     "end_time": "2021-01-06T18:22:31.786625",
     "exception": false,
     "start_time": "2021-01-06T18:22:31.643366",
     "status": "completed"
    },
    "tags": []
   },
   "source": [
    "Disciplines..."
   ]
  },
  {
   "cell_type": "code",
   "execution_count": 104,
   "metadata": {
    "execution": {
     "iopub.execute_input": "2021-01-06T18:22:32.119815Z",
     "iopub.status.busy": "2021-01-06T18:22:32.114745Z",
     "iopub.status.idle": "2021-01-06T18:22:32.136369Z",
     "shell.execute_reply": "2021-01-06T18:22:32.135663Z"
    },
    "papermill": {
     "duration": 0.205871,
     "end_time": "2021-01-06T18:22:32.136480",
     "exception": false,
     "start_time": "2021-01-06T18:22:31.930609",
     "status": "completed"
    },
    "tags": []
   },
   "outputs": [
    {
     "name": "stdout",
     "output_type": "stream",
     "text": [
      "{'Nothing': 1254, 'x Day Suspension': 34, 'Reprimanded': 8, 'Seperation': 4, 'Reinstated': 1, 'Over 30 Day Suspension': 0, 'Administrative Termination': 0, 'Year-long Suspension or Longer': 0, 'Resigned': 0}\n"
     ]
    }
   ],
   "source": [
    "#counter for recommended disciplines\n",
    "discipline_dict_rec = {}\n",
    "discipline_dict_rec['x Day Suspension'] = 0\n",
    "discipline_dict_rec['Over 30 Day Suspension'] = 0\n",
    "discipline_dict_rec['Reprimanded'] = 0\n",
    "discipline_dict_rec['Administrative Termination'] = 0\n",
    "discipline_dict_rec['Year-long Suspension or Longer'] = 0\n",
    "discipline_dict_rec['Seperation'] = 0\n",
    "discipline_dict_rec['Reinstated'] = 0\n",
    "discipline_dict_rec['Nothing'] = 0\n",
    "discipline_dict_rec['Resigned'] = 0\n",
    "for ind in df_merged_match.index:\n",
    "    rec = df_merged_match['recommended_discipline'][ind]\n",
    "    if rec <199:\n",
    "        discipline_dict_rec['x Day Suspension'] += 1\n",
    "    if rec == 200:\n",
    "        discipline_dict_rec['Over 30 Day Suspension'] +=1\n",
    "    if rec == 0 or rec == 100:\n",
    "        discipline_dict_rec['Reprimanded'] += 1\n",
    "    if rec == 300:\n",
    "        discipline_dict_rec['Administrative Termination'] +=1\n",
    "    if rec == 365:\n",
    "        discipline_dict_rec['Year-long Suspension or Longer'] +=1\n",
    "    if rec == 400:\n",
    "        discipline_dict_rec['Seperation'] += 1\n",
    "    if rec == 500:\n",
    "        discipline_dict_rec['Reinstated'] += 1\n",
    "    if rec == 600 or rec == 900:\n",
    "        discipline_dict_rec['Nothing'] += 1\n",
    "    if rec == 800:\n",
    "        discipline_dict_rec['Resigned'] += 1\n",
    "discipline_dict_rec_keys = sorted(discipline_dict_rec, key=discipline_dict_rec.get, reverse=True)\n",
    "discipline_dict_rec_sort ={}\n",
    "for district in discipline_dict_rec_keys:\n",
    "    discipline_dict_rec_sort[district] = discipline_dict_rec[district]\n",
    "print(discipline_dict_rec_sort)"
   ]
  },
  {
   "cell_type": "code",
   "execution_count": 105,
   "metadata": {
    "execution": {
     "iopub.execute_input": "2021-01-06T18:22:32.469479Z",
     "iopub.status.busy": "2021-01-06T18:22:32.459233Z",
     "iopub.status.idle": "2021-01-06T18:22:32.481011Z",
     "shell.execute_reply": "2021-01-06T18:22:32.481720Z"
    },
    "papermill": {
     "duration": 0.200284,
     "end_time": "2021-01-06T18:22:32.481917",
     "exception": false,
     "start_time": "2021-01-06T18:22:32.281633",
     "status": "completed"
    },
    "tags": []
   },
   "outputs": [
    {
     "name": "stdout",
     "output_type": "stream",
     "text": [
      "{'Nothing': 1261, 'x Day Suspension': 27, 'Reprimanded': 12, 'Resigned': 4, 'Seperation': 1, 'Over 30 Day Suspension': 0, 'Administrative Termination': 0, 'Year-long Suspension or Longer': 0, 'Reinstated': 0}\n"
     ]
    }
   ],
   "source": [
    "#counter for final disciplines\n",
    "discipline_dict_fin = {}\n",
    "discipline_dict_fin['x Day Suspension'] = 0\n",
    "discipline_dict_fin['Over 30 Day Suspension'] = 0\n",
    "discipline_dict_fin['Reprimanded'] = 0\n",
    "discipline_dict_fin['Administrative Termination'] = 0\n",
    "discipline_dict_fin['Year-long Suspension or Longer'] = 0\n",
    "discipline_dict_fin['Seperation'] = 0\n",
    "discipline_dict_fin['Reinstated'] = 0\n",
    "discipline_dict_fin['Nothing'] = 0\n",
    "discipline_dict_fin['Resigned'] = 0\n",
    "for ind in df_merged_match.index:\n",
    "    fin = df_merged_match['final_discipline'][ind]\n",
    "    if fin <199:\n",
    "        discipline_dict_fin['x Day Suspension'] += 1\n",
    "    if fin == 200:\n",
    "        discipline_dict_fin['Over 30 Day Suspension'] +=1\n",
    "    if fin == 0 or fin == 100:\n",
    "        discipline_dict_fin['Reprimanded'] += 1\n",
    "    if fin == 300:\n",
    "        discipline_dict_fin['Administrative Termination'] +=1\n",
    "    if fin == 365:\n",
    "        discipline_dict_fin['Year-long Suspension or Longer'] +=1\n",
    "    if fin == 400:\n",
    "        discipline_dict_fin['Seperation'] += 1\n",
    "    if fin == 500:\n",
    "        discipline_dict_fin['Reinstated'] += 1\n",
    "    if fin == 600 or fin == 900:\n",
    "        discipline_dict_fin['Nothing'] += 1\n",
    "    if fin == 800:\n",
    "        discipline_dict_fin['Resigned'] += 1\n",
    "discipline_dict_fin_keys = sorted(discipline_dict_fin, key=discipline_dict_fin.get, reverse=True)\n",
    "discipline_dict_fin_sort ={}\n",
    "for district in discipline_dict_fin_keys:\n",
    "    discipline_dict_fin_sort[district] = discipline_dict_fin[district]\n",
    "print(discipline_dict_fin_sort)"
   ]
  },
  {
   "cell_type": "code",
   "execution_count": 106,
   "metadata": {
    "execution": {
     "iopub.execute_input": "2021-01-06T18:22:32.784011Z",
     "iopub.status.busy": "2021-01-06T18:22:32.782960Z",
     "iopub.status.idle": "2021-01-06T18:22:32.787405Z",
     "shell.execute_reply": "2021-01-06T18:22:32.788145Z"
    },
    "papermill": {
     "duration": 0.161518,
     "end_time": "2021-01-06T18:22:32.788338",
     "exception": false,
     "start_time": "2021-01-06T18:22:32.626820",
     "status": "completed"
    },
    "tags": []
   },
   "outputs": [
    {
     "name": "stdout",
     "output_type": "stream",
     "text": [
      "DISCIPLINE DATA (Merged Data)\n",
      "\n",
      "Nothing\n",
      "Frequency that Nothing was the Recommended Discipline: 1254\n",
      "Frequency that Nothing was the Final Discipline: 1261\n",
      "Difference between Recommended and Final Frequencies: -7 (7 more Final than Recommended)\n",
      "--------------------------------------------------\n",
      "x Day Suspension\n",
      "Frequency that x Day Suspension was the Recommended Discipline: 34\n",
      "Frequency that x Day Suspension was the Final Discipline: 27\n",
      "Difference between Recommended and Final Frequencies: 7 (7 more Recommended than Final)\n",
      "--------------------------------------------------\n",
      "Reprimanded\n",
      "Frequency that Reprimanded was the Recommended Discipline: 8\n",
      "Frequency that Reprimanded was the Final Discipline: 12\n",
      "Difference between Recommended and Final Frequencies: -4 (4 more Final than Recommended)\n",
      "--------------------------------------------------\n",
      "Seperation\n",
      "Frequency that Seperation was the Recommended Discipline: 4\n",
      "Frequency that Seperation was the Final Discipline: 1\n",
      "Difference between Recommended and Final Frequencies: 3 (3 more Recommended than Final)\n",
      "--------------------------------------------------\n",
      "Reinstated\n",
      "Frequency that Reinstated was the Recommended Discipline: 1\n",
      "Frequency that Reinstated was the Final Discipline: 0\n",
      "Difference between Recommended and Final Frequencies: 1 (1 more Recommended than Final)\n",
      "--------------------------------------------------\n",
      "Over 30 Day Suspension\n",
      "Frequency that Over 30 Day Suspension was the Recommended Discipline: 0\n",
      "Frequency that Over 30 Day Suspension was the Final Discipline: 0\n",
      "Frequencies of Recommended and Final are Equal\n",
      "--------------------------------------------------\n",
      "Administrative Termination\n",
      "Frequency that Administrative Termination was the Recommended Discipline: 0\n",
      "Frequency that Administrative Termination was the Final Discipline: 0\n",
      "Frequencies of Recommended and Final are Equal\n",
      "--------------------------------------------------\n",
      "Year-long Suspension or Longer\n",
      "Frequency that Year-long Suspension or Longer was the Recommended Discipline: 0\n",
      "Frequency that Year-long Suspension or Longer was the Final Discipline: 0\n",
      "Frequencies of Recommended and Final are Equal\n",
      "--------------------------------------------------\n",
      "Resigned\n",
      "Frequency that Resigned was the Recommended Discipline: 0\n",
      "Frequency that Resigned was the Final Discipline: 4\n",
      "Difference between Recommended and Final Frequencies: -4 (4 more Final than Recommended)\n",
      "--------------------------------------------------\n"
     ]
    }
   ],
   "source": [
    "#view all discipline data for merged data set + light analysis\n",
    "print('DISCIPLINE DATA (Merged Data)\\n')\n",
    "for disc in discipline_dict_rec_sort:\n",
    "    print(disc)\n",
    "    print('Frequency that '+disc+' was the Recommended Discipline: '+str(discipline_dict_rec[disc]))\n",
    "    print('Frequency that '+disc+' was the Final Discipline: '+str(discipline_dict_fin[disc]))\n",
    "    if discipline_dict_rec[disc]>discipline_dict_fin[disc]:\n",
    "        print('Difference between Recommended and Final Frequencies: '+str(discipline_dict_rec[disc]-discipline_dict_fin[disc])+' ('+ str(abs(discipline_dict_rec[disc]-discipline_dict_fin[disc]))+' more Recommended than Final)')\n",
    "    elif discipline_dict_rec[disc]<discipline_dict_fin[disc]:\n",
    "        print('Difference between Recommended and Final Frequencies: '+str(discipline_dict_rec[disc]-discipline_dict_fin[disc])+' ('+ str(abs(discipline_dict_rec[disc]-discipline_dict_fin[disc]))+' more Final than Recommended)')\n",
    "    else:\n",
    "        print('Frequencies of Recommended and Final are Equal')\n",
    "    print('-'*50)"
   ]
  },
  {
   "cell_type": "code",
   "execution_count": 107,
   "metadata": {
    "execution": {
     "iopub.execute_input": "2021-01-06T18:22:33.091591Z",
     "iopub.status.busy": "2021-01-06T18:22:33.090884Z",
     "iopub.status.idle": "2021-01-06T18:22:33.099581Z",
     "shell.execute_reply": "2021-01-06T18:22:33.098868Z"
    },
    "papermill": {
     "duration": 0.163527,
     "end_time": "2021-01-06T18:22:33.099722",
     "exception": false,
     "start_time": "2021-01-06T18:22:32.936195",
     "status": "completed"
    },
    "tags": []
   },
   "outputs": [
    {
     "name": "stdout",
     "output_type": "stream",
     "text": [
      "Compare Disciplines for DF_DETAIL (with duplicates)\n",
      "\n",
      "EQUAL                       1267\n",
      "LESS THAN RECOMMENDED         17\n",
      "GREATER THAN RECOMMENDED       9\n",
      "Name: compare_discipline, dtype: int64\n"
     ]
    }
   ],
   "source": [
    "#view of discpline comparison counter\n",
    "print('Compare Disciplines for DF_DETAIL (with duplicates)\\n')\n",
    "print(df_merged_match.compare_discipline.value_counts())"
   ]
  },
  {
   "cell_type": "markdown",
   "metadata": {
    "papermill": {
     "duration": 0.143549,
     "end_time": "2021-01-06T18:22:33.389925",
     "exception": false,
     "start_time": "2021-01-06T18:22:33.246376",
     "status": "completed"
    },
    "tags": []
   },
   "source": [
    "Findings..."
   ]
  },
  {
   "cell_type": "code",
   "execution_count": 108,
   "metadata": {
    "execution": {
     "iopub.execute_input": "2021-01-06T18:22:33.703738Z",
     "iopub.status.busy": "2021-01-06T18:22:33.693322Z",
     "iopub.status.idle": "2021-01-06T18:22:33.722331Z",
     "shell.execute_reply": "2021-01-06T18:22:33.723160Z"
    },
    "papermill": {
     "duration": 0.189812,
     "end_time": "2021-01-06T18:22:33.723377",
     "exception": false,
     "start_time": "2021-01-06T18:22:33.533565",
     "status": "completed"
    },
    "tags": []
   },
   "outputs": [
    {
     "name": "stdout",
     "output_type": "stream",
     "text": [
      "Recommended Finding Data (Merged Data)\n",
      "\n",
      "Number of Findings that were 'Something': 38\n",
      "Number of Total Findings: 1293\n",
      "Percentage of 'Something' Findings: 2.9389017788089715%\n"
     ]
    }
   ],
   "source": [
    "#counter and view for findings (recommended) in merged\n",
    "smthCount = 0\n",
    "for ind in df_merged_match.index:\n",
    "    recFin = df_merged_match['recommended_finding'][ind]\n",
    "    if recFin == 'SU':\n",
    "        smthCount += 1\n",
    "totLen = len(df_merged_match['recommended_finding'].notnull())\n",
    "print('Recommended Finding Data (Merged Data)\\n')\n",
    "print('Number of Findings that were \\'Something\\': '+ str(smthCount))\n",
    "print('Number of Total Findings: ' + str(totLen))\n",
    "print('Percentage of \\'Something\\' Findings: '+str(smthCount/totLen*100)+'%')"
   ]
  },
  {
   "cell_type": "code",
   "execution_count": 109,
   "metadata": {
    "execution": {
     "iopub.execute_input": "2021-01-06T18:22:34.023038Z",
     "iopub.status.busy": "2021-01-06T18:22:34.022357Z",
     "iopub.status.idle": "2021-01-06T18:22:34.060310Z",
     "shell.execute_reply": "2021-01-06T18:22:34.061128Z"
    },
    "papermill": {
     "duration": 0.189919,
     "end_time": "2021-01-06T18:22:34.061337",
     "exception": false,
     "start_time": "2021-01-06T18:22:33.871418",
     "status": "completed"
    },
    "tags": []
   },
   "outputs": [
    {
     "name": "stdout",
     "output_type": "stream",
     "text": [
      "Final Finding Data (Merged Data)\n",
      "\n",
      "Number of Findings that were 'Something': 34\n",
      "Number of Total Findings: 1293\n",
      "Percentage of 'Something' Findings: 2.6295436968290797%\n"
     ]
    }
   ],
   "source": [
    "#counter and view for findings (final) in merged\n",
    "smthCount = 0\n",
    "for ind in df_merged_match.index:\n",
    "    recFin = df_merged_match['final_finding'][ind]\n",
    "    if recFin == 'SU':\n",
    "        smthCount += 1\n",
    "totLen = len(df_merged_match['final_finding'].notnull())\n",
    "print('Final Finding Data (Merged Data)\\n')\n",
    "print('Number of Findings that were \\'Something\\': '+ str(smthCount))\n",
    "print('Number of Total Findings: ' + str(totLen))\n",
    "print('Percentage of \\'Something\\' Findings: '+str(smthCount/totLen*100)+'%')"
   ]
  },
  {
   "cell_type": "code",
   "execution_count": 110,
   "metadata": {
    "execution": {
     "iopub.execute_input": "2021-01-06T18:22:34.406784Z",
     "iopub.status.busy": "2021-01-06T18:22:34.405995Z",
     "iopub.status.idle": "2021-01-06T18:22:34.472728Z",
     "shell.execute_reply": "2021-01-06T18:22:34.471434Z"
    },
    "papermill": {
     "duration": 0.264667,
     "end_time": "2021-01-06T18:22:34.472863",
     "exception": false,
     "start_time": "2021-01-06T18:22:34.208196",
     "status": "completed"
    },
    "tags": []
   },
   "outputs": [
    {
     "name": "stdout",
     "output_type": "stream",
     "text": [
      "Finding Comparison Data (Merged Data)\n",
      "Number of Incidnets where Recommended and Final Findings Do Not Coincide: 4\n",
      "Total Number of Incidents: 1293\n",
      "Percentage of Differenct Recommended and Final Findings: 0.30935808197989173%\n"
     ]
    }
   ],
   "source": [
    "#counter and view for the differences in recommended and final finding\n",
    "diffCount = 0\n",
    "for ind in df_merged_match.index:\n",
    "    recFin = df_merged_match['recommended_finding'][ind]\n",
    "    finFin = df_merged_match['final_finding'][ind]\n",
    "    if recFin == 'SU' and finFin != 'SU' and pd.notnull(finFin):\n",
    "        diffCount += 1\n",
    "    if finFin == 'SU' and recFin != 'SU' and pd.notnull(recFin):\n",
    "        diffCount+=1\n",
    "totLen = len(df_merged_match['recommended_finding'].notnull())\n",
    "print('Finding Comparison Data (Merged Data)')\n",
    "print('Number of Incidnets where Recommended and Final Findings Do Not Coincide: '+str(diffCount))\n",
    "print('Total Number of Incidents: '+str(totLen))\n",
    "print('Percentage of Differenct Recommended and Final Findings: '+str(diffCount/totLen*100)+'%')"
   ]
  },
  {
   "cell_type": "code",
   "execution_count": 111,
   "metadata": {
    "execution": {
     "iopub.execute_input": "2021-01-06T18:22:34.788278Z",
     "iopub.status.busy": "2021-01-06T18:22:34.787495Z",
     "iopub.status.idle": "2021-01-06T18:22:34.791318Z",
     "shell.execute_reply": "2021-01-06T18:22:34.790323Z"
    },
    "papermill": {
     "duration": 0.167061,
     "end_time": "2021-01-06T18:22:34.791486",
     "exception": false,
     "start_time": "2021-01-06T18:22:34.624425",
     "status": "completed"
    },
    "tags": []
   },
   "outputs": [
    {
     "name": "stdout",
     "output_type": "stream",
     "text": [
      "Finding Data on Differences between Recommended and Final Findings (Merged Data)\n",
      "\n",
      "EQUAL                    1289\n",
      "LESS THAN RECOMMENDED       4\n",
      "Name: compare_findings, dtype: int64\n"
     ]
    }
   ],
   "source": [
    "#counter of comparisons on findings for merged data\n",
    "print('Finding Data on Differences between Recommended and Final Findings (Merged Data)\\n')\n",
    "print(df_merged_match.compare_findings.value_counts())"
   ]
  },
  {
   "cell_type": "markdown",
   "metadata": {
    "papermill": {
     "duration": 0.149055,
     "end_time": "2021-01-06T18:22:35.092532",
     "exception": false,
     "start_time": "2021-01-06T18:22:34.943477",
     "status": "completed"
    },
    "tags": []
   },
   "source": [
    "Writing the top and bottom 20 beats in complaints to an output file:"
   ]
  },
  {
   "cell_type": "code",
   "execution_count": 112,
   "metadata": {
    "execution": {
     "iopub.execute_input": "2021-01-06T18:22:35.400333Z",
     "iopub.status.busy": "2021-01-06T18:22:35.399530Z",
     "iopub.status.idle": "2021-01-06T18:22:35.403057Z",
     "shell.execute_reply": "2021-01-06T18:22:35.402517Z"
    },
    "papermill": {
     "duration": 0.159816,
     "end_time": "2021-01-06T18:22:35.403172",
     "exception": false,
     "start_time": "2021-01-06T18:22:35.243356",
     "status": "completed"
    },
    "tags": []
   },
   "outputs": [],
   "source": [
    "outF = open(\"complaints.txt\", \"w\")"
   ]
  },
  {
   "cell_type": "code",
   "execution_count": 113,
   "metadata": {
    "execution": {
     "iopub.execute_input": "2021-01-06T18:22:35.717080Z",
     "iopub.status.busy": "2021-01-06T18:22:35.716013Z",
     "iopub.status.idle": "2021-01-06T18:22:35.720346Z",
     "shell.execute_reply": "2021-01-06T18:22:35.719835Z"
    },
    "papermill": {
     "duration": 0.16535,
     "end_time": "2021-01-06T18:22:35.720459",
     "exception": false,
     "start_time": "2021-01-06T18:22:35.555109",
     "status": "completed"
    },
    "tags": []
   },
   "outputs": [
    {
     "data": {
      "text/plain": [
       "1"
      ]
     },
     "execution_count": 113,
     "metadata": {},
     "output_type": "execute_result"
    }
   ],
   "source": [
    "outF.write('T20 Complaints: \\n')\n",
    "for ind in beatFreq.index:\n",
    "    beat = str(ind)\n",
    "    outF.write(beat+\" \")\n",
    "outF.write('\\n')"
   ]
  },
  {
   "cell_type": "code",
   "execution_count": 114,
   "metadata": {
    "execution": {
     "iopub.execute_input": "2021-01-06T18:22:36.037259Z",
     "iopub.status.busy": "2021-01-06T18:22:36.035997Z",
     "iopub.status.idle": "2021-01-06T18:22:36.039506Z",
     "shell.execute_reply": "2021-01-06T18:22:36.038837Z"
    },
    "papermill": {
     "duration": 0.165293,
     "end_time": "2021-01-06T18:22:36.039667",
     "exception": false,
     "start_time": "2021-01-06T18:22:35.874374",
     "status": "completed"
    },
    "tags": []
   },
   "outputs": [],
   "source": [
    "outF.write('L20 Complaints: \\n')\n",
    "for ind in beatFreq_low.index:\n",
    "    beat = str(ind)\n",
    "    outF.write(beat+\" \")\n",
    "outF.write('\\n')\n",
    "outF.close()"
   ]
  },
  {
   "cell_type": "code",
   "execution_count": null,
   "metadata": {
    "papermill": {
     "duration": 0.152777,
     "end_time": "2021-01-06T18:22:36.345238",
     "exception": false,
     "start_time": "2021-01-06T18:22:36.192461",
     "status": "completed"
    },
    "tags": []
   },
   "outputs": [],
   "source": []
  }
 ],
 "metadata": {
  "kernelspec": {
   "display_name": "Python 3",
   "language": "python",
   "name": "python3"
  },
  "language_info": {
   "codemirror_mode": {
    "name": "ipython",
    "version": 3
   },
   "file_extension": ".py",
   "mimetype": "text/x-python",
   "name": "python",
   "nbconvert_exporter": "python",
   "pygments_lexer": "ipython3",
   "version": "3.7.6"
  },
  "papermill": {
   "duration": 77.369003,
   "end_time": "2021-01-06T18:22:37.589469",
   "environment_variables": {},
   "exception": null,
   "input_path": "__notebook__.ipynb",
   "output_path": "__notebook__.ipynb",
   "parameters": {},
   "start_time": "2021-01-06T18:21:20.220466",
   "version": "2.1.0"
  }
 },
 "nbformat": 4,
 "nbformat_minor": 4
}
