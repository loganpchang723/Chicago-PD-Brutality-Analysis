{
 "cells": [
  {
   "cell_type": "markdown",
   "metadata": {
    "papermill": {
     "duration": 0.051265,
     "end_time": "2021-01-03T03:33:16.485676",
     "exception": false,
     "start_time": "2021-01-03T03:33:16.434411",
     "status": "completed"
    },
    "tags": []
   },
   "source": [
    "# General Brutality Analysis\n",
    "## Logan Chang and Robert Yu\n",
    "## 07/23/20\n",
    "\n",
    "In this notebook, we begin to define police brutality and observe some trends within incidents reporting brutality as we define it. "
   ]
  },
  {
   "cell_type": "code",
   "execution_count": 1,
   "metadata": {
    "_cell_guid": "b1076dfc-b9ad-4769-8c92-a6c4dae69d19",
    "_uuid": "8f2839f25d086af736a60e9eeb907d3b93b6e0e5",
    "execution": {
     "iopub.execute_input": "2021-01-03T03:33:16.598701Z",
     "iopub.status.busy": "2021-01-03T03:33:16.597977Z",
     "iopub.status.idle": "2021-01-03T03:33:17.908086Z",
     "shell.execute_reply": "2021-01-03T03:33:17.907327Z"
    },
    "papermill": {
     "duration": 1.370174,
     "end_time": "2021-01-03T03:33:17.908206",
     "exception": false,
     "start_time": "2021-01-03T03:33:16.538032",
     "status": "completed"
    },
    "tags": []
   },
   "outputs": [
    {
     "name": "stdout",
     "output_type": "stream",
     "text": [
      "/kaggle/input/cpd-trr-data-20042016/trr.csv\n",
      "/kaggle/input/cpd-trr-data-20042016/event_id.csv\n",
      "/kaggle/input/cpd-trr-data-20042016/trr_just_injuries.csv\n",
      "/kaggle/input/cpd-trr-data-20042016/beatlist.txt\n"
     ]
    }
   ],
   "source": [
    "# This Python 3 environment comes with many helpful analytics libraries installed\n",
    "# It is defined by the kaggle/python Docker image: https://github.com/kaggle/docker-python\n",
    "# For example, here's several helpful packages to load\n",
    "\n",
    "import numpy as np # linear algebra\n",
    "import pandas as pd # data processing, CSV file I/O (e.g. pd.read_csv)\n",
    "pd.options.mode.chained_assignment = None \n",
    "# visualization\n",
    "import seaborn as sns\n",
    "import matplotlib.pyplot as plt\n",
    "%matplotlib inline\n",
    "\n",
    "\n",
    "# Input data files are available in the read-only \"../input/\" directory\n",
    "# For example, running this (by clicking run or pressing Shift+Enter) will list all files under the input directory\n",
    "\n",
    "import os\n",
    "for dirname, _, filenames in os.walk('/kaggle/input'):\n",
    "    for filename in filenames:\n",
    "        print(os.path.join(dirname, filename))\n",
    "\n",
    "    \n",
    "\n",
    "# You can write up to 5GB to the current directory (/kaggle/working/) that gets preserved as output when you create a version using \"Save & Run All\" \n",
    "# You can also write temporary files to /kaggle/temp/, but they won't be saved outside of the current session"
   ]
  },
  {
   "cell_type": "code",
   "execution_count": 2,
   "metadata": {
    "_cell_guid": "79c7e3d0-c299-4dcb-8224-4455121ee9b0",
    "_uuid": "d629ff2d2480ee46fbb7e2d37f6b5fab8052498a",
    "execution": {
     "iopub.execute_input": "2021-01-03T03:33:18.019675Z",
     "iopub.status.busy": "2021-01-03T03:33:18.018876Z",
     "iopub.status.idle": "2021-01-03T03:33:18.670570Z",
     "shell.execute_reply": "2021-01-03T03:33:18.669859Z"
    },
    "papermill": {
     "duration": 0.711566,
     "end_time": "2021-01-03T03:33:18.670683",
     "exception": false,
     "start_time": "2021-01-03T03:33:17.959117",
     "status": "completed"
    },
    "tags": []
   },
   "outputs": [],
   "source": [
    "df_trr = pd.read_csv('/kaggle/input/cpd-trr-data-20042016/trr.csv')\n",
    "df_trr_injuries = pd.read_csv('/kaggle/input/cpd-trr-data-20042016/trr_just_injuries.csv')"
   ]
  },
  {
   "cell_type": "code",
   "execution_count": 3,
   "metadata": {
    "execution": {
     "iopub.execute_input": "2021-01-03T03:33:18.777706Z",
     "iopub.status.busy": "2021-01-03T03:33:18.777062Z",
     "iopub.status.idle": "2021-01-03T03:33:18.780439Z",
     "shell.execute_reply": "2021-01-03T03:33:18.781110Z"
    },
    "papermill": {
     "duration": 0.060213,
     "end_time": "2021-01-03T03:33:18.781248",
     "exception": false,
     "start_time": "2021-01-03T03:33:18.721035",
     "status": "completed"
    },
    "tags": []
   },
   "outputs": [
    {
     "data": {
      "text/plain": [
       "Index(['trr_id', 'sr_no', 'se_no', 'beat', 'party_fired_first', 'taser',\n",
       "       'firearm_used', 'trr_year', 'weapon_discharge_yn', 'list_of_subcats',\n",
       "       'list_of_cats', 'number_of_member_actions', 'number_of_subject_actions',\n",
       "       'highest_resistance_level', 'list_of_subject_actions',\n",
       "       'subject_pulled_away', 'subject_disobey_verbal', 'subject_stiffened',\n",
       "       'subject_fled', 'subject_attack_no_weapon', 'subject_battery_threat',\n",
       "       'subject_had_weapon', 'subject_attack_with_weapon',\n",
       "       'subject_deadly_force', 'subject_other', 'subject_armed', 'injured',\n",
       "       'alleged_injury', 'subject_no', 'event_id', 'race'],\n",
       "      dtype='object')"
      ]
     },
     "execution_count": 3,
     "metadata": {},
     "output_type": "execute_result"
    }
   ],
   "source": [
    "df_trr.columns"
   ]
  },
  {
   "cell_type": "code",
   "execution_count": 4,
   "metadata": {
    "execution": {
     "iopub.execute_input": "2021-01-03T03:33:18.886600Z",
     "iopub.status.busy": "2021-01-03T03:33:18.885783Z",
     "iopub.status.idle": "2021-01-03T03:33:18.888770Z",
     "shell.execute_reply": "2021-01-03T03:33:18.889372Z"
    },
    "papermill": {
     "duration": 0.057877,
     "end_time": "2021-01-03T03:33:18.889522",
     "exception": false,
     "start_time": "2021-01-03T03:33:18.831645",
     "status": "completed"
    },
    "tags": []
   },
   "outputs": [],
   "source": [
    "#definitions of police brutality\n",
    "# -police force was used at all\n",
    "# -injuries occured\n",
    "# -police action was at a degree that exceeded the level of resistance (up for speculation) regardless of outcome to subject\n"
   ]
  },
  {
   "cell_type": "markdown",
   "metadata": {
    "papermill": {
     "duration": 0.052909,
     "end_time": "2021-01-03T03:33:18.993318",
     "exception": false,
     "start_time": "2021-01-03T03:33:18.940409",
     "status": "completed"
    },
    "tags": []
   },
   "source": [
    "**First definition of police brutality:**\n",
    "\n",
    "Police force was used at all\n",
    "\n",
    "*NOTE: We will label this as a binary column called 'pb_1' where a value of 1 denotes police force was used and 0 denotes no police force*"
   ]
  },
  {
   "cell_type": "code",
   "execution_count": 5,
   "metadata": {
    "execution": {
     "iopub.execute_input": "2021-01-03T03:33:19.099830Z",
     "iopub.status.busy": "2021-01-03T03:33:19.099157Z",
     "iopub.status.idle": "2021-01-03T03:33:19.194388Z",
     "shell.execute_reply": "2021-01-03T03:33:19.195187Z"
    },
    "papermill": {
     "duration": 0.149205,
     "end_time": "2021-01-03T03:33:19.195379",
     "exception": false,
     "start_time": "2021-01-03T03:33:19.046174",
     "status": "completed"
    },
    "tags": []
   },
   "outputs": [],
   "source": [
    "df_trr['pb_1'] = df_trr.list_of_cats.apply(lambda x: 0 if pd.isna(x) else 1)"
   ]
  },
  {
   "cell_type": "code",
   "execution_count": 6,
   "metadata": {
    "execution": {
     "iopub.execute_input": "2021-01-03T03:33:19.305857Z",
     "iopub.status.busy": "2021-01-03T03:33:19.305156Z",
     "iopub.status.idle": "2021-01-03T03:33:19.503591Z",
     "shell.execute_reply": "2021-01-03T03:33:19.503062Z"
    },
    "papermill": {
     "duration": 0.257105,
     "end_time": "2021-01-03T03:33:19.503708",
     "exception": false,
     "start_time": "2021-01-03T03:33:19.246603",
     "status": "completed"
    },
    "tags": []
   },
   "outputs": [
    {
     "data": {
      "image/png": "[encoded data removed]",
      "text/plain": [
       "<Figure size 432x288 with 1 Axes>"
      ]
     },
     "metadata": {
      "needs_background": "light"
     },
     "output_type": "display_data"
    }
   ],
   "source": [
    "#print(df_trr.pb_1.value_counts())\n",
    "sns.countplot(x=\"pb_1\", data=df_trr)\n",
    "plt.title('Frequency of Police Brutality Incidents (Metric 1)')\n",
    "plt.xticks([0,1],['0: No Police Force Present', '1: Police Force Present'])\n",
    "plt.show()"
   ]
  },
  {
   "cell_type": "markdown",
   "metadata": {
    "papermill": {
     "duration": 0.058065,
     "end_time": "2021-01-03T03:33:19.617175",
     "exception": false,
     "start_time": "2021-01-03T03:33:19.559110",
     "status": "completed"
    },
    "tags": []
   },
   "source": [
    "**First definition of police brutality:**\n",
    "\n",
    "Injuries Occured\n",
    "\n",
    "*NOTE: We will label this as a binary column called 'pb_2' where a value of 1 denotes police force was used and 0 denotes no police force*"
   ]
  },
  {
   "cell_type": "code",
   "execution_count": 7,
   "metadata": {
    "execution": {
     "iopub.execute_input": "2021-01-03T03:33:19.754086Z",
     "iopub.status.busy": "2021-01-03T03:33:19.752991Z",
     "iopub.status.idle": "2021-01-03T03:33:21.118691Z",
     "shell.execute_reply": "2021-01-03T03:33:21.118134Z"
    },
    "papermill": {
     "duration": 1.436403,
     "end_time": "2021-01-03T03:33:21.118812",
     "exception": false,
     "start_time": "2021-01-03T03:33:19.682409",
     "status": "completed"
    },
    "tags": []
   },
   "outputs": [],
   "source": [
    "df_trr['pb_2'] = df_trr.apply(lambda row: 1 if (row['alleged_injury']==1 or row['injured']==1) else 0, axis = 1)"
   ]
  },
  {
   "cell_type": "code",
   "execution_count": 8,
   "metadata": {
    "execution": {
     "iopub.execute_input": "2021-01-03T03:33:21.233814Z",
     "iopub.status.busy": "2021-01-03T03:33:21.233110Z",
     "iopub.status.idle": "2021-01-03T03:33:21.362538Z",
     "shell.execute_reply": "2021-01-03T03:33:21.361810Z"
    },
    "papermill": {
     "duration": 0.191086,
     "end_time": "2021-01-03T03:33:21.362661",
     "exception": false,
     "start_time": "2021-01-03T03:33:21.171575",
     "status": "completed"
    },
    "tags": []
   },
   "outputs": [
    {
     "data": {
      "image/png": "[encoded data removed]",
      "text/plain": [
       "<Figure size 432x288 with 1 Axes>"
      ]
     },
     "metadata": {
      "needs_background": "light"
     },
     "output_type": "display_data"
    }
   ],
   "source": [
    "#print(df_trr.pb_2.value_counts())\n",
    "sns.countplot(x=\"pb_2\", data=df_trr)\n",
    "plt.title('Frequency of Police Brutality Incidents (Metric 2)')\n",
    "plt.xticks([0,1],['0: No Subject Injury Present', '1: Subject Injury Present'])\n",
    "plt.show()"
   ]
  },
  {
   "cell_type": "markdown",
   "metadata": {
    "papermill": {
     "duration": 0.053486,
     "end_time": "2021-01-03T03:33:21.469495",
     "exception": false,
     "start_time": "2021-01-03T03:33:21.416009",
     "status": "completed"
    },
    "tags": []
   },
   "source": [
    "**Third Definition for Police Brutality**\n",
    "\n",
    "Brutality = True if Highest Subject Resistance Level+2<=Highest Officer Action Category Level\n",
    "\n",
    "*NOTE: We will leave out Officer Actions in the 'Other Force' category as some of these actions are 'violent' (i.e. 'Knee on Neck') while others are more 'docile'(i.e. 'Backed Away and Gave Verbal Warning')*\n",
    "\n",
    "*NOTE: We will label this as a binary column called 'pb_3' where a value of 1 denotes police force was used and 0 denotes no police force*"
   ]
  },
  {
   "cell_type": "code",
   "execution_count": 9,
   "metadata": {
    "execution": {
     "iopub.execute_input": "2021-01-03T03:33:21.583481Z",
     "iopub.status.busy": "2021-01-03T03:33:21.582346Z",
     "iopub.status.idle": "2021-01-03T03:33:21.587357Z",
     "shell.execute_reply": "2021-01-03T03:33:21.587904Z"
    },
    "papermill": {
     "duration": 0.065305,
     "end_time": "2021-01-03T03:33:21.588071",
     "exception": false,
     "start_time": "2021-01-03T03:33:21.522766",
     "status": "completed"
    },
    "tags": []
   },
   "outputs": [
    {
     "data": {
      "text/plain": [
       "0                 4.0,\n",
       "1                 4.0,\n",
       "2             4.0,4.0,\n",
       "3                 4.0,\n",
       "4             4.0,3.0,\n",
       "5         3.0,3.0,3.0,\n",
       "6                 3.0,\n",
       "7                 3.0,\n",
       "8             4.0,3.0,\n",
       "9                 3.0,\n",
       "10                 NaN\n",
       "11    4.0,3.0,3.0,3.0,\n",
       "12                4.0,\n",
       "13                4.0,\n",
       "14        3.0,3.0,3.0,\n",
       "15        4.0,3.0,3.0,\n",
       "16                4.0,\n",
       "17                4.0,\n",
       "18                4.0,\n",
       "19                4.0,\n",
       "Name: list_of_cats, dtype: object"
      ]
     },
     "execution_count": 9,
     "metadata": {},
     "output_type": "execute_result"
    }
   ],
   "source": [
    "df_trr.list_of_cats.head(20)"
   ]
  },
  {
   "cell_type": "code",
   "execution_count": 10,
   "metadata": {
    "execution": {
     "iopub.execute_input": "2021-01-03T03:33:21.714619Z",
     "iopub.status.busy": "2021-01-03T03:33:21.709179Z",
     "iopub.status.idle": "2021-01-03T03:33:21.817670Z",
     "shell.execute_reply": "2021-01-03T03:33:21.816919Z"
    },
    "papermill": {
     "duration": 0.176137,
     "end_time": "2021-01-03T03:33:21.817785",
     "exception": false,
     "start_time": "2021-01-03T03:33:21.641648",
     "status": "completed"
    },
    "tags": []
   },
   "outputs": [],
   "source": [
    "df_trr.list_of_cats.fillna(0.0, inplace = True)\n",
    "df_trr['max_officer_action'] = df_trr.list_of_cats.apply(lambda x: float(max(x.split(',')[:-1])) if type(x) != float else 0.0)"
   ]
  },
  {
   "cell_type": "code",
   "execution_count": 11,
   "metadata": {
    "execution": {
     "iopub.execute_input": "2021-01-03T03:33:21.931606Z",
     "iopub.status.busy": "2021-01-03T03:33:21.930442Z",
     "iopub.status.idle": "2021-01-03T03:33:21.998227Z",
     "shell.execute_reply": "2021-01-03T03:33:21.999649Z"
    },
    "papermill": {
     "duration": 0.128171,
     "end_time": "2021-01-03T03:33:21.999887",
     "exception": false,
     "start_time": "2021-01-03T03:33:21.871716",
     "status": "completed"
    },
    "tags": []
   },
   "outputs": [
    {
     "name": "stdout",
     "output_type": "stream",
     "text": [
      "<class 'pandas.core.frame.DataFrame'>\n",
      "RangeIndex: 67019 entries, 0 to 67018\n",
      "Data columns (total 35 columns):\n",
      " #   Column                      Non-Null Count  Dtype  \n",
      "---  ------                      --------------  -----  \n",
      " 0   trr_id                      67019 non-null  int64  \n",
      " 1   sr_no                       67003 non-null  float64\n",
      " 2   se_no                       67015 non-null  float64\n",
      " 3   beat                        67019 non-null  int64  \n",
      " 4   party_fired_first           5741 non-null   object \n",
      " 5   taser                       67019 non-null  int64  \n",
      " 6   firearm_used                67019 non-null  int64  \n",
      " 7   trr_year                    67019 non-null  int64  \n",
      " 8   weapon_discharge_yn         67019 non-null  int64  \n",
      " 9   list_of_subcats             63714 non-null  object \n",
      " 10  list_of_cats                67019 non-null  object \n",
      " 11  number_of_member_actions    63714 non-null  float64\n",
      " 12  number_of_subject_actions   66970 non-null  float64\n",
      " 13  highest_resistance_level    67011 non-null  float64\n",
      " 14  list_of_subject_actions     66970 non-null  object \n",
      " 15  subject_pulled_away         66970 non-null  float64\n",
      " 16  subject_disobey_verbal      66970 non-null  float64\n",
      " 17  subject_stiffened           66970 non-null  float64\n",
      " 18  subject_fled                66970 non-null  float64\n",
      " 19  subject_attack_no_weapon    66970 non-null  float64\n",
      " 20  subject_battery_threat      66970 non-null  float64\n",
      " 21  subject_had_weapon          66970 non-null  float64\n",
      " 22  subject_attack_with_weapon  66970 non-null  float64\n",
      " 23  subject_deadly_force        66970 non-null  float64\n",
      " 24  subject_other               66970 non-null  float64\n",
      " 25  subject_armed               67019 non-null  int64  \n",
      " 26  injured                     67019 non-null  int64  \n",
      " 27  alleged_injury              67019 non-null  int64  \n",
      " 28  subject_no                  63038 non-null  float64\n",
      " 29  event_id                    67019 non-null  int64  \n",
      " 30  race                        67019 non-null  object \n",
      " 31  pb_1                        67019 non-null  int64  \n",
      " 32  pb_2                        67019 non-null  int64  \n",
      " 33  max_officer_action          67019 non-null  float64\n",
      " 34  pb_3                        67019 non-null  int64  \n",
      "dtypes: float64(17), int64(13), object(5)\n",
      "memory usage: 17.9+ MB\n"
     ]
    }
   ],
   "source": [
    "df_trr['pb_3'] = 0\n",
    "df_trr.info()"
   ]
  },
  {
   "cell_type": "code",
   "execution_count": 12,
   "metadata": {
    "execution": {
     "iopub.execute_input": "2021-01-03T03:33:22.123338Z",
     "iopub.status.busy": "2021-01-03T03:33:22.121772Z",
     "iopub.status.idle": "2021-01-03T03:33:26.118048Z",
     "shell.execute_reply": "2021-01-03T03:33:26.117423Z"
    },
    "papermill": {
     "duration": 4.06088,
     "end_time": "2021-01-03T03:33:26.118189",
     "exception": false,
     "start_time": "2021-01-03T03:33:22.057309",
     "status": "completed"
    },
    "tags": []
   },
   "outputs": [],
   "source": [
    "df_trr.assign(pb_3 = 0)\n",
    "for ind in df_trr.index:\n",
    "    subject_resistance = df_trr['highest_resistance_level'][ind]\n",
    "    officer_action = df_trr['max_officer_action'][ind]\n",
    "    if officer_action == 2.0:\n",
    "        continue\n",
    "    if officer_action >= (subject_resistance+2) or officer_action == 6.0:\n",
    "        df_trr['pb_3'][ind] = 1"
   ]
  },
  {
   "cell_type": "code",
   "execution_count": 13,
   "metadata": {
    "execution": {
     "iopub.execute_input": "2021-01-03T03:33:26.233773Z",
     "iopub.status.busy": "2021-01-03T03:33:26.232690Z",
     "iopub.status.idle": "2021-01-03T03:33:26.387641Z",
     "shell.execute_reply": "2021-01-03T03:33:26.387109Z"
    },
    "papermill": {
     "duration": 0.215811,
     "end_time": "2021-01-03T03:33:26.387759",
     "exception": false,
     "start_time": "2021-01-03T03:33:26.171948",
     "status": "completed"
    },
    "tags": []
   },
   "outputs": [
    {
     "data": {
      "image/png": "[encoded data removed]",
      "text/plain": [
       "<Figure size 432x288 with 1 Axes>"
      ]
     },
     "metadata": {
      "needs_background": "light"
     },
     "output_type": "display_data"
    }
   ],
   "source": [
    "#print(df_trr.pb_3.value_counts())\n",
    "sns.countplot(x=\"pb_3\", data=df_trr)\n",
    "plt.title('Frequency of Police Brutality Incidents (Metric 3)')\n",
    "plt.xticks([0,1],['0: No Police Brutality Present (as preivously described)', '1: Police Brutality Present (as preivously described)'], rotation = '30')\n",
    "plt.show()"
   ]
  },
  {
   "cell_type": "code",
   "execution_count": 14,
   "metadata": {
    "execution": {
     "iopub.execute_input": "2021-01-03T03:33:26.505342Z",
     "iopub.status.busy": "2021-01-03T03:33:26.504637Z",
     "iopub.status.idle": "2021-01-03T03:33:26.542628Z",
     "shell.execute_reply": "2021-01-03T03:33:26.541743Z"
    },
    "papermill": {
     "duration": 0.100565,
     "end_time": "2021-01-03T03:33:26.542790",
     "exception": false,
     "start_time": "2021-01-03T03:33:26.442225",
     "status": "completed"
    },
    "tags": []
   },
   "outputs": [
    {
     "name": "stdout",
     "output_type": "stream",
     "text": [
      "12162\n",
      "67019\n"
     ]
    }
   ],
   "source": [
    "print(len(df_trr.loc[(df_trr.pb_1 == 1) & (df_trr.pb_2 == 1) & (df_trr.pb_3 == 1)]))\n",
    "print(len(df_trr))"
   ]
  },
  {
   "cell_type": "markdown",
   "metadata": {
    "papermill": {
     "duration": 0.055248,
     "end_time": "2021-01-03T03:33:26.653820",
     "exception": false,
     "start_time": "2021-01-03T03:33:26.598572",
     "status": "completed"
    },
    "tags": []
   },
   "source": [
    "We will define incidents of police brutality as TRR's where all three metrics of 'police brutality' that we defined are present.\n",
    "\n",
    "Now, we will create a DataFrame where we isolate such incidents:"
   ]
  },
  {
   "cell_type": "code",
   "execution_count": 15,
   "metadata": {
    "execution": {
     "iopub.execute_input": "2021-01-03T03:33:26.771333Z",
     "iopub.status.busy": "2021-01-03T03:33:26.770246Z",
     "iopub.status.idle": "2021-01-03T03:33:26.796771Z",
     "shell.execute_reply": "2021-01-03T03:33:26.797444Z"
    },
    "papermill": {
     "duration": 0.089099,
     "end_time": "2021-01-03T03:33:26.797597",
     "exception": false,
     "start_time": "2021-01-03T03:33:26.708498",
     "status": "completed"
    },
    "tags": []
   },
   "outputs": [
    {
     "name": "stdout",
     "output_type": "stream",
     "text": [
      "<class 'pandas.core.frame.DataFrame'>\n",
      "Int64Index: 12162 entries, 0 to 67009\n",
      "Data columns (total 35 columns):\n",
      " #   Column                      Non-Null Count  Dtype  \n",
      "---  ------                      --------------  -----  \n",
      " 0   trr_id                      12162 non-null  int64  \n",
      " 1   sr_no                       12160 non-null  float64\n",
      " 2   se_no                       12162 non-null  float64\n",
      " 3   beat                        12162 non-null  int64  \n",
      " 4   party_fired_first           1808 non-null   object \n",
      " 5   taser                       12162 non-null  int64  \n",
      " 6   firearm_used                12162 non-null  int64  \n",
      " 7   trr_year                    12162 non-null  int64  \n",
      " 8   weapon_discharge_yn         12162 non-null  int64  \n",
      " 9   list_of_subcats             12162 non-null  object \n",
      " 10  list_of_cats                12162 non-null  object \n",
      " 11  number_of_member_actions    12162 non-null  float64\n",
      " 12  number_of_subject_actions   12157 non-null  float64\n",
      " 13  highest_resistance_level    12162 non-null  float64\n",
      " 14  list_of_subject_actions     12157 non-null  object \n",
      " 15  subject_pulled_away         12157 non-null  float64\n",
      " 16  subject_disobey_verbal      12157 non-null  float64\n",
      " 17  subject_stiffened           12157 non-null  float64\n",
      " 18  subject_fled                12157 non-null  float64\n",
      " 19  subject_attack_no_weapon    12157 non-null  float64\n",
      " 20  subject_battery_threat      12157 non-null  float64\n",
      " 21  subject_had_weapon          12157 non-null  float64\n",
      " 22  subject_attack_with_weapon  12157 non-null  float64\n",
      " 23  subject_deadly_force        12157 non-null  float64\n",
      " 24  subject_other               12157 non-null  float64\n",
      " 25  subject_armed               12162 non-null  int64  \n",
      " 26  injured                     12162 non-null  int64  \n",
      " 27  alleged_injury              12162 non-null  int64  \n",
      " 28  subject_no                  11232 non-null  float64\n",
      " 29  event_id                    12162 non-null  int64  \n",
      " 30  race                        12162 non-null  object \n",
      " 31  pb_1                        12162 non-null  int64  \n",
      " 32  pb_2                        12162 non-null  int64  \n",
      " 33  max_officer_action          12162 non-null  float64\n",
      " 34  pb_3                        12162 non-null  int64  \n",
      "dtypes: float64(17), int64(13), object(5)\n",
      "memory usage: 3.3+ MB\n"
     ]
    }
   ],
   "source": [
    "df_pb = df_trr.loc[(df_trr.pb_1 == 1) & (df_trr.pb_2 == 1) & (df_trr.pb_3 == 1)]\n",
    "df_pb.info()"
   ]
  },
  {
   "cell_type": "markdown",
   "metadata": {
    "papermill": {
     "duration": 0.055222,
     "end_time": "2021-01-03T03:33:26.909211",
     "exception": false,
     "start_time": "2021-01-03T03:33:26.853989",
     "status": "completed"
    },
    "tags": []
   },
   "source": [
    "Comparing agrreagate data for each police brutality metric:\n",
    "\n",
    "First, race:"
   ]
  },
  {
   "cell_type": "code",
   "execution_count": 16,
   "metadata": {
    "execution": {
     "iopub.execute_input": "2021-01-03T03:33:27.055901Z",
     "iopub.status.busy": "2021-01-03T03:33:27.045970Z",
     "iopub.status.idle": "2021-01-03T03:33:27.163115Z",
     "shell.execute_reply": "2021-01-03T03:33:27.162023Z"
    },
    "papermill": {
     "duration": 0.198069,
     "end_time": "2021-01-03T03:33:27.163280",
     "exception": false,
     "start_time": "2021-01-03T03:33:26.965211",
     "status": "completed"
    },
    "tags": []
   },
   "outputs": [
    {
     "name": "stdout",
     "output_type": "stream",
     "text": [
      "TOTAL RACE BREAKDOWN ACROSS ALL TRR INCIDENTS\n",
      "\n",
      "BLACK: 74.20731434369358%\n",
      "HISPANIC: 13.990062519583999%\n",
      "WHITE: 9.750966143929334%\n",
      "OTHER: 1.3294737313299214%\n",
      "ASIAN/PACIFIC ISLANDER: 0.6416090959280204%\n",
      "NATIVE AMERICAN/ALASKAN NATIVE: 0.08057416553514675%\n"
     ]
    }
   ],
   "source": [
    "print('TOTAL RACE BREAKDOWN ACROSS ALL TRR INCIDENTS\\n')\n",
    "for race in df_trr.race.value_counts().index:\n",
    "    print(race, end = ': ')\n",
    "    print(str(df_trr.race.value_counts()[race]/len(df_trr.race)*100)+'%')"
   ]
  },
  {
   "cell_type": "code",
   "execution_count": 17,
   "metadata": {
    "execution": {
     "iopub.execute_input": "2021-01-03T03:33:27.290848Z",
     "iopub.status.busy": "2021-01-03T03:33:27.283251Z",
     "iopub.status.idle": "2021-01-03T03:33:27.419477Z",
     "shell.execute_reply": "2021-01-03T03:33:27.418279Z"
    },
    "papermill": {
     "duration": 0.199251,
     "end_time": "2021-01-03T03:33:27.419673",
     "exception": false,
     "start_time": "2021-01-03T03:33:27.220422",
     "status": "completed"
    },
    "tags": []
   },
   "outputs": [
    {
     "name": "stdout",
     "output_type": "stream",
     "text": [
      "TOTAL RACE BREAKDOWN ACROSS ALL TRR INCIDENTS WHERE METRIC 1 PRESENT\n",
      "\n",
      "BLACK: 74.40593904008537%\n",
      "HISPANIC: 13.871362651850458%\n",
      "WHITE: 9.680760900273096%\n",
      "OTHER: 1.3215305898232728%\n",
      "ASIAN/PACIFIC ISLANDER: 0.6387921022067364%\n",
      "NATIVE AMERICAN/ALASKAN NATIVE: 0.08161471576105722%\n"
     ]
    }
   ],
   "source": [
    "df_temp = df_trr.loc[df_trr.pb_1==1]\n",
    "print('TOTAL RACE BREAKDOWN ACROSS ALL TRR INCIDENTS WHERE METRIC 1 PRESENT\\n')\n",
    "for race in df_temp.race.value_counts().index:\n",
    "    print(race, end = ': ')\n",
    "    print(str(df_temp.race.value_counts()[race]/len(df_temp.race)*100)+'%')"
   ]
  },
  {
   "cell_type": "code",
   "execution_count": 18,
   "metadata": {
    "execution": {
     "iopub.execute_input": "2021-01-03T03:33:27.541429Z",
     "iopub.status.busy": "2021-01-03T03:33:27.540725Z",
     "iopub.status.idle": "2021-01-03T03:33:27.598491Z",
     "shell.execute_reply": "2021-01-03T03:33:27.599494Z"
    },
    "papermill": {
     "duration": 0.122832,
     "end_time": "2021-01-03T03:33:27.599761",
     "exception": false,
     "start_time": "2021-01-03T03:33:27.476929",
     "status": "completed"
    },
    "tags": []
   },
   "outputs": [
    {
     "name": "stdout",
     "output_type": "stream",
     "text": [
      "TOTAL RACE BREAKDOWN ACROSS ALL TRR INCIDENTS WHERE METRIC 2 PRESENT\n",
      "\n",
      "BLACK: 69.60659898477158%\n",
      "HISPANIC: 17.058766106989456%\n",
      "WHITE: 11.289535337758688%\n",
      "OTHER: 1.3373682155408044%\n",
      "ASIAN/PACIFIC ISLANDER: 0.6589222959781336%\n",
      "NATIVE AMERICAN/ALASKAN NATIVE: 0.04880905896134322%\n"
     ]
    }
   ],
   "source": [
    "df_temp = df_trr.loc[df_trr.pb_2==1]\n",
    "print('TOTAL RACE BREAKDOWN ACROSS ALL TRR INCIDENTS WHERE METRIC 2 PRESENT\\n')\n",
    "for race in df_temp.race.value_counts().index:\n",
    "    print(race, end = ': ')\n",
    "    print(str(df_temp.race.value_counts()[race]/len(df_temp.race)*100)+'%')"
   ]
  },
  {
   "cell_type": "code",
   "execution_count": 19,
   "metadata": {
    "execution": {
     "iopub.execute_input": "2021-01-03T03:33:27.729661Z",
     "iopub.status.busy": "2021-01-03T03:33:27.728941Z",
     "iopub.status.idle": "2021-01-03T03:33:27.825121Z",
     "shell.execute_reply": "2021-01-03T03:33:27.824110Z"
    },
    "papermill": {
     "duration": 0.162155,
     "end_time": "2021-01-03T03:33:27.825292",
     "exception": false,
     "start_time": "2021-01-03T03:33:27.663137",
     "status": "completed"
    },
    "tags": []
   },
   "outputs": [
    {
     "name": "stdout",
     "output_type": "stream",
     "text": [
      "TOTAL RACE BREAKDOWN ACROSS ALL TRR INCIDENTS WHERE METRIC 3 PRESENT\n",
      "\n",
      "BLACK: 75.34198789026487%\n",
      "HISPANIC: 13.477686691749932%\n",
      "WHITE: 9.06485934268557%\n",
      "OTHER: 1.3405426955373383%\n",
      "ASIAN/PACIFIC ISLANDER: 0.695188498243341%\n",
      "NATIVE AMERICAN/ALASKAN NATIVE: 0.07973488151894949%\n"
     ]
    }
   ],
   "source": [
    "df_temp = df_trr.loc[df_trr.pb_3==1]\n",
    "print('TOTAL RACE BREAKDOWN ACROSS ALL TRR INCIDENTS WHERE METRIC 3 PRESENT\\n')\n",
    "for race in df_temp.race.value_counts().index:\n",
    "    print(race, end = ': ')\n",
    "    print(str(df_temp.race.value_counts()[race]/len(df_temp.race)*100)+'%')"
   ]
  },
  {
   "cell_type": "markdown",
   "metadata": {
    "papermill": {
     "duration": 0.058359,
     "end_time": "2021-01-03T03:33:27.942109",
     "exception": false,
     "start_time": "2021-01-03T03:33:27.883750",
     "status": "completed"
    },
    "tags": []
   },
   "source": [
    "Looking at the frequency of 'police brutality' in each beat:"
   ]
  },
  {
   "cell_type": "code",
   "execution_count": 20,
   "metadata": {
    "execution": {
     "iopub.execute_input": "2021-01-03T03:33:28.074311Z",
     "iopub.status.busy": "2021-01-03T03:33:28.073427Z",
     "iopub.status.idle": "2021-01-03T03:33:28.078359Z",
     "shell.execute_reply": "2021-01-03T03:33:28.077754Z"
    },
    "papermill": {
     "duration": 0.075247,
     "end_time": "2021-01-03T03:33:28.078474",
     "exception": false,
     "start_time": "2021-01-03T03:33:28.003227",
     "status": "completed"
    },
    "tags": []
   },
   "outputs": [
    {
     "data": {
      "text/plain": [
       "1134    158\n",
       "1533    137\n",
       "621     131\n",
       "1112    124\n",
       "624     124\n",
       "       ... \n",
       "1214      3\n",
       "1654      3\n",
       "1934      3\n",
       "121       3\n",
       "235       1\n",
       "Name: beat, Length: 300, dtype: int64"
      ]
     },
     "execution_count": 20,
     "metadata": {},
     "output_type": "execute_result"
    }
   ],
   "source": [
    "df_pb.beat.value_counts()"
   ]
  },
  {
   "cell_type": "markdown",
   "metadata": {
    "papermill": {
     "duration": 0.058379,
     "end_time": "2021-01-03T03:33:28.196939",
     "exception": false,
     "start_time": "2021-01-03T03:33:28.138560",
     "status": "completed"
    },
    "tags": []
   },
   "source": [
    "Looking at the frequency of 'police brutality' per each race:"
   ]
  },
  {
   "cell_type": "code",
   "execution_count": 21,
   "metadata": {
    "execution": {
     "iopub.execute_input": "2021-01-03T03:33:28.325796Z",
     "iopub.status.busy": "2021-01-03T03:33:28.325105Z",
     "iopub.status.idle": "2021-01-03T03:33:28.330470Z",
     "shell.execute_reply": "2021-01-03T03:33:28.329792Z"
    },
    "papermill": {
     "duration": 0.074523,
     "end_time": "2021-01-03T03:33:28.330581",
     "exception": false,
     "start_time": "2021-01-03T03:33:28.256058",
     "status": "completed"
    },
    "tags": []
   },
   "outputs": [
    {
     "data": {
      "text/plain": [
       "BLACK                             8531\n",
       "HISPANIC                          2076\n",
       "WHITE                             1282\n",
       "OTHER                              168\n",
       "ASIAN/PACIFIC ISLANDER              99\n",
       "NATIVE AMERICAN/ALASKAN NATIVE       6\n",
       "Name: race, dtype: int64"
      ]
     },
     "execution_count": 21,
     "metadata": {},
     "output_type": "execute_result"
    }
   ],
   "source": [
    "df_pb.race.value_counts()"
   ]
  },
  {
   "cell_type": "code",
   "execution_count": 22,
   "metadata": {
    "execution": {
     "iopub.execute_input": "2021-01-03T03:33:28.458536Z",
     "iopub.status.busy": "2021-01-03T03:33:28.457402Z",
     "iopub.status.idle": "2021-01-03T03:33:28.496074Z",
     "shell.execute_reply": "2021-01-03T03:33:28.497369Z"
    },
    "papermill": {
     "duration": 0.105962,
     "end_time": "2021-01-03T03:33:28.497536",
     "exception": false,
     "start_time": "2021-01-03T03:33:28.391574",
     "status": "completed"
    },
    "tags": []
   },
   "outputs": [
    {
     "name": "stdout",
     "output_type": "stream",
     "text": [
      "TOTAL RACE BREAKDOWN ACROSS ALL TRR INCIDENTS WHERE ALL METRICS PRESENT\n",
      "\n",
      "BLACK: 70.14471304061833%\n",
      "HISPANIC: 17.06956092747903%\n",
      "WHITE: 10.541029435948035%\n",
      "OTHER: 1.3813517513566849%\n",
      "ASIAN/PACIFIC ISLANDER: 0.8140108534780464%\n",
      "NATIVE AMERICAN/ALASKAN NATIVE: 0.049333991119881605%\n"
     ]
    }
   ],
   "source": [
    "df_pb = df_pb.loc[df_trr.pb_3==1]\n",
    "print('TOTAL RACE BREAKDOWN ACROSS ALL TRR INCIDENTS WHERE ALL METRICS PRESENT\\n')\n",
    "for race in df_pb.race.value_counts().index:\n",
    "    print(race, end = ': ')\n",
    "    print(str(df_pb.race.value_counts()[race]/len(df_pb.race)*100)+'%')"
   ]
  },
  {
   "cell_type": "markdown",
   "metadata": {
    "papermill": {
     "duration": 0.059097,
     "end_time": "2021-01-03T03:33:28.616083",
     "exception": false,
     "start_time": "2021-01-03T03:33:28.556986",
     "status": "completed"
    },
    "tags": []
   },
   "source": [
    "Looking at the frequency of 'police brutality' per highest subject resistance level:"
   ]
  },
  {
   "cell_type": "code",
   "execution_count": 23,
   "metadata": {
    "execution": {
     "iopub.execute_input": "2021-01-03T03:33:28.748535Z",
     "iopub.status.busy": "2021-01-03T03:33:28.747238Z",
     "iopub.status.idle": "2021-01-03T03:33:28.752046Z",
     "shell.execute_reply": "2021-01-03T03:33:28.751533Z"
    },
    "papermill": {
     "duration": 0.074892,
     "end_time": "2021-01-03T03:33:28.752161",
     "exception": false,
     "start_time": "2021-01-03T03:33:28.677269",
     "status": "completed"
    },
    "tags": []
   },
   "outputs": [
    {
     "data": {
      "text/plain": [
       "1.0    8302\n",
       "2.0    1970\n",
       "3.0    1109\n",
       "5.0     663\n",
       "0.0     118\n",
       "Name: highest_resistance_level, dtype: int64"
      ]
     },
     "execution_count": 23,
     "metadata": {},
     "output_type": "execute_result"
    }
   ],
   "source": [
    "df_pb.highest_resistance_level.value_counts()"
   ]
  },
  {
   "cell_type": "markdown",
   "metadata": {
    "papermill": {
     "duration": 0.060659,
     "end_time": "2021-01-03T03:33:28.873291",
     "exception": false,
     "start_time": "2021-01-03T03:33:28.812632",
     "status": "completed"
    },
    "tags": []
   },
   "source": [
    "Looking at the frequency of 'police brutality' per highest category of officer action:"
   ]
  },
  {
   "cell_type": "code",
   "execution_count": 24,
   "metadata": {
    "execution": {
     "iopub.execute_input": "2021-01-03T03:33:29.000359Z",
     "iopub.status.busy": "2021-01-03T03:33:28.999595Z",
     "iopub.status.idle": "2021-01-03T03:33:29.007836Z",
     "shell.execute_reply": "2021-01-03T03:33:29.008642Z"
    },
    "papermill": {
     "duration": 0.074793,
     "end_time": "2021-01-03T03:33:29.008829",
     "exception": false,
     "start_time": "2021-01-03T03:33:28.934036",
     "status": "completed"
    },
    "tags": []
   },
   "outputs": [
    {
     "data": {
      "text/plain": [
       "4.0    8388\n",
       "5.0    2384\n",
       "3.0     727\n",
       "6.0     663\n",
       "Name: max_officer_action, dtype: int64"
      ]
     },
     "execution_count": 24,
     "metadata": {},
     "output_type": "execute_result"
    }
   ],
   "source": [
    "df_pb.max_officer_action.value_counts()"
   ]
  },
  {
   "cell_type": "markdown",
   "metadata": {
    "papermill": {
     "duration": 0.064952,
     "end_time": "2021-01-03T03:33:29.140591",
     "exception": false,
     "start_time": "2021-01-03T03:33:29.075639",
     "status": "completed"
    },
    "tags": []
   },
   "source": [
    "Looking at breakdown of resistors by beat:"
   ]
  },
  {
   "cell_type": "markdown",
   "metadata": {
    "papermill": {
     "duration": 0.060733,
     "end_time": "2021-01-03T03:33:29.263738",
     "exception": false,
     "start_time": "2021-01-03T03:33:29.203005",
     "status": "completed"
    },
    "tags": []
   },
   "source": [
    "Counting the number of Incidnets that are exlcusive to each respective metric and not included in the intersection of all three metrics (our definition of police brutality is the intersction of all 3 metrics):"
   ]
  },
  {
   "cell_type": "code",
   "execution_count": 25,
   "metadata": {
    "execution": {
     "iopub.execute_input": "2021-01-03T03:33:29.395340Z",
     "iopub.status.busy": "2021-01-03T03:33:29.394211Z",
     "iopub.status.idle": "2021-01-03T03:33:38.514014Z",
     "shell.execute_reply": "2021-01-03T03:33:38.513041Z"
    },
    "papermill": {
     "duration": 9.189395,
     "end_time": "2021-01-03T03:33:38.514202",
     "exception": false,
     "start_time": "2021-01-03T03:33:29.324807",
     "status": "completed"
    },
    "tags": []
   },
   "outputs": [
    {
     "name": "stdout",
     "output_type": "stream",
     "text": [
      "NUMBER OF TRR INCIDENTS EXCLUSIVE TO METRIC 1\n",
      "\n",
      "Number of Incidents exclusive to Metric 1: 51552\n",
      "Number of Total Incidents in Metric 1: 63714\n",
      "Percentage Exclusive to Metric 1: 80.91157359450042%\n"
     ]
    }
   ],
   "source": [
    "print('NUMBER OF TRR INCIDENTS EXCLUSIVE TO METRIC 1\\n')\n",
    "df_temp = df_trr.loc[df_trr.pb_1 == 1]\n",
    "uncommon = 0\n",
    "combinedID = list(df_pb.trr_id)\n",
    "for beat in df_temp.trr_id:\n",
    "    if beat not in combinedID:\n",
    "        uncommon+=1\n",
    "print('Number of Incidents exclusive to Metric 1: '+str(uncommon))\n",
    "print('Number of Total Incidents in Metric 1: '+str(len(df_temp)))\n",
    "print('Percentage Exclusive to Metric 1: ' +str(uncommon/len(df_temp)*100)+'%')"
   ]
  },
  {
   "cell_type": "code",
   "execution_count": 26,
   "metadata": {
    "execution": {
     "iopub.execute_input": "2021-01-03T03:33:38.722398Z",
     "iopub.status.busy": "2021-01-03T03:33:38.721413Z",
     "iopub.status.idle": "2021-01-03T03:33:41.061758Z",
     "shell.execute_reply": "2021-01-03T03:33:41.061228Z"
    },
    "papermill": {
     "duration": 2.473804,
     "end_time": "2021-01-03T03:33:41.061892",
     "exception": false,
     "start_time": "2021-01-03T03:33:38.588088",
     "status": "completed"
    },
    "tags": []
   },
   "outputs": [
    {
     "name": "stdout",
     "output_type": "stream",
     "text": [
      "NUMBER OF TRR INCIDENTS EXCLUSIVE TO METRIC 2\n",
      "\n",
      "Number of Incidents exclusive to Metric 2: 8326\n",
      "Number of Total Incidents in Metric 2: 20488\n",
      "Percentage Exclusive to Metric 2: 40.63842249121437%\n"
     ]
    }
   ],
   "source": [
    "print('NUMBER OF TRR INCIDENTS EXCLUSIVE TO METRIC 2\\n')\n",
    "df_temp = df_trr.loc[df_trr.pb_2 == 1]\n",
    "uncommon = 0\n",
    "combinedID = list(df_pb.trr_id)\n",
    "for beat in df_temp.trr_id:\n",
    "    if beat not in combinedID:\n",
    "        uncommon+=1\n",
    "print('Number of Incidents exclusive to Metric 2: '+str(uncommon))\n",
    "print('Number of Total Incidents in Metric 2: '+str(len(df_temp)))\n",
    "print('Percentage Exclusive to Metric 2: ' +str(uncommon/len(df_temp)*100)+'%')"
   ]
  },
  {
   "cell_type": "code",
   "execution_count": 27,
   "metadata": {
    "execution": {
     "iopub.execute_input": "2021-01-03T03:33:41.198040Z",
     "iopub.status.busy": "2021-01-03T03:33:41.196731Z",
     "iopub.status.idle": "2021-01-03T03:33:46.654730Z",
     "shell.execute_reply": "2021-01-03T03:33:46.655293Z"
    },
    "papermill": {
     "duration": 5.530665,
     "end_time": "2021-01-03T03:33:46.655453",
     "exception": false,
     "start_time": "2021-01-03T03:33:41.124788",
     "status": "completed"
    },
    "tags": []
   },
   "outputs": [
    {
     "name": "stdout",
     "output_type": "stream",
     "text": [
      "NUMBER OF TRR INCIDENTS EXCLUSIVE TO METRIC 3\n",
      "\n",
      "Number of Incidents exclusive to Metric 3: 27971\n",
      "Number of Total Incidents in Metric 3: 40133\n",
      "Percentage Exclusive to Metric 3: 69.69576159270426%\n"
     ]
    }
   ],
   "source": [
    "print('NUMBER OF TRR INCIDENTS EXCLUSIVE TO METRIC 3\\n')\n",
    "df_temp = df_trr.loc[df_trr.pb_3 == 1]\n",
    "uncommon = 0\n",
    "combinedID = list(df_pb.trr_id)\n",
    "for beat in df_temp.trr_id:\n",
    "    if beat not in combinedID:\n",
    "        uncommon+=1\n",
    "print('Number of Incidents exclusive to Metric 3: '+str(uncommon))\n",
    "print('Number of Total Incidents in Metric 3: '+str(len(df_temp)))\n",
    "print('Percentage Exclusive to Metric 3: ' +str(uncommon/len(df_temp)*100)+'%')"
   ]
  },
  {
   "cell_type": "code",
   "execution_count": 28,
   "metadata": {
    "execution": {
     "iopub.execute_input": "2021-01-03T03:33:46.788898Z",
     "iopub.status.busy": "2021-01-03T03:33:46.788084Z",
     "iopub.status.idle": "2021-01-03T03:33:48.983285Z",
     "shell.execute_reply": "2021-01-03T03:33:48.982581Z"
    },
    "papermill": {
     "duration": 2.264253,
     "end_time": "2021-01-03T03:33:48.983423",
     "exception": false,
     "start_time": "2021-01-03T03:33:46.719170",
     "status": "completed"
    },
    "tags": []
   },
   "outputs": [],
   "source": [
    "#download what this dataframe as the final CSV with trr incidents including brutality metrics\n",
    "df_trr.columns\n",
    "df_trr.to_csv('TRR_FINAL_WITH_PB.csv', index = False)"
   ]
  },
  {
   "cell_type": "markdown",
   "metadata": {
    "papermill": {
     "duration": 0.062845,
     "end_time": "2021-01-03T03:33:49.111184",
     "exception": false,
     "start_time": "2021-01-03T03:33:49.048339",
     "status": "completed"
    },
    "tags": []
   },
   "source": [
    "## Collecting relevant TRR data by beat on all TRR's:\n",
    "\n",
    "*I apologize for what is next. As a reader, you can totally skip these next code cells as all I'm doing is creating a new CSV with police brutality stats by beat. The code is repetitive and a hot mess. As it adds no immediate value to our analysis, I will comment the following code out.*"
   ]
  },
  {
   "cell_type": "code",
   "execution_count": 29,
   "metadata": {
    "execution": {
     "iopub.execute_input": "2021-01-03T03:33:49.242536Z",
     "iopub.status.busy": "2021-01-03T03:33:49.241838Z",
     "iopub.status.idle": "2021-01-03T03:33:49.245340Z",
     "shell.execute_reply": "2021-01-03T03:33:49.244675Z"
    },
    "papermill": {
     "duration": 0.071358,
     "end_time": "2021-01-03T03:33:49.245454",
     "exception": false,
     "start_time": "2021-01-03T03:33:49.174096",
     "status": "completed"
    },
    "tags": []
   },
   "outputs": [],
   "source": [
    "# #import json\n",
    "# f = open('/kaggle/input/cpd-trr-data-20042016/beatlist.txt', 'r')\n",
    "# #out = open ('resistance_levels_by_beat.txt', 'w')\n",
    "# formatted_dict = {}\n",
    "# totBeats = int(f.readline())\n",
    "# for i in range (0,totBeats):\n",
    "#     beat = int(f.readline())\n",
    "#     df_beat = df_trr.loc[df_trr.beat == beat]\n",
    "#     #print('Beat: '+str(beat))\n",
    "#     #out.write(str(beat)+'\\n')\n",
    "#     numFired = df_beat.loc[df_beat.firearm_used == 1]\n",
    "#     formatted_dict[beat] = len(numFired) \n",
    "#     #out.write(json.dumps(formatted_dict))\n",
    "#     #out.write('\\n')\n",
    "# #print(formatted_dict)"
   ]
  },
  {
   "cell_type": "code",
   "execution_count": 30,
   "metadata": {
    "execution": {
     "iopub.execute_input": "2021-01-03T03:33:49.379167Z",
     "iopub.status.busy": "2021-01-03T03:33:49.378381Z",
     "iopub.status.idle": "2021-01-03T03:33:49.381658Z",
     "shell.execute_reply": "2021-01-03T03:33:49.381092Z"
    },
    "papermill": {
     "duration": 0.072199,
     "end_time": "2021-01-03T03:33:49.381770",
     "exception": false,
     "start_time": "2021-01-03T03:33:49.309571",
     "status": "completed"
    },
    "tags": []
   },
   "outputs": [],
   "source": [
    "# df_trr_beat = pd.DataFrame.from_dict(formatted_dict, orient = 'index')\n",
    "# df_trr_beat.rename(columns={0: \"num_incidents_firearm\"}, inplace = True)\n",
    "# #df_trr_beat.head()"
   ]
  },
  {
   "cell_type": "code",
   "execution_count": 31,
   "metadata": {
    "execution": {
     "iopub.execute_input": "2021-01-03T03:33:49.516110Z",
     "iopub.status.busy": "2021-01-03T03:33:49.515005Z",
     "iopub.status.idle": "2021-01-03T03:33:49.517525Z",
     "shell.execute_reply": "2021-01-03T03:33:49.518016Z"
    },
    "papermill": {
     "duration": 0.07195,
     "end_time": "2021-01-03T03:33:49.518166",
     "exception": false,
     "start_time": "2021-01-03T03:33:49.446216",
     "status": "completed"
    },
    "tags": []
   },
   "outputs": [],
   "source": [
    "# import json\n",
    "# f = open('/kaggle/input/cpd-trr-data-20042016/beatlist.txt', 'r')\n",
    "# resistance_levels = ['Passive Resistor', 'Active Resistor', 'Assailant Assault', 'Assailant Assault/Battery', 'Assailant Battery', 'Assailant Deadly Force']\n",
    "# out = open ('resistance_levels_by_beat.txt', 'w')\n",
    "# totBeats = int(f.readline())\n",
    "# final_dict = {}\n",
    "# for i in range (0,totBeats):\n",
    "#     beat = int(f.readline())\n",
    "#     df_beat = df_trr.loc[df_trr.beat == beat]\n",
    "#     #print(beat)\n",
    "#     out.write(str(beat)+'\\n')\n",
    "#     freq_dict = (df_beat.highest_resistance_level.value_counts().to_dict())\n",
    "#     formatted_dict = {}\n",
    "#     for resistance in resistance_levels:\n",
    "#         ind = float(resistance_levels.index(resistance))\n",
    "#         try:\n",
    "#             formatted_dict[resistance] = freq_dict[ind]\n",
    "#         except KeyError:\n",
    "#             formatted_dict[resistance] = 0\n",
    "#     #print(formatted_dict)\n",
    "#     final_dict[beat] = formatted_dict\n",
    "#     out.write(json.dumps(formatted_dict))\n",
    "#     out.write('\\n')\n",
    "#     #print()\n",
    "# #print(final_dict)"
   ]
  },
  {
   "cell_type": "code",
   "execution_count": 32,
   "metadata": {
    "execution": {
     "iopub.execute_input": "2021-01-03T03:33:49.658058Z",
     "iopub.status.busy": "2021-01-03T03:33:49.657093Z",
     "iopub.status.idle": "2021-01-03T03:33:49.662172Z",
     "shell.execute_reply": "2021-01-03T03:33:49.661499Z"
    },
    "papermill": {
     "duration": 0.073684,
     "end_time": "2021-01-03T03:33:49.662306",
     "exception": false,
     "start_time": "2021-01-03T03:33:49.588622",
     "status": "completed"
    },
    "tags": []
   },
   "outputs": [],
   "source": [
    "# beats = list(final_dict.keys())\n",
    "# df = pd.DataFrame(beats)\n",
    "# df.rename(columns={0: \"beat\"}, inplace = True)\n",
    "# df.set_index('beat', inplace = True)\n",
    "# for resistance in resistance_levels:\n",
    "#     cat_name = resistance.replace(' ','_')\n",
    "#     cat_name = 'num_{}'.format(cat_name.lower())\n",
    "#     df[cat_name] = 0\n",
    "# for beat in final_dict.keys():\n",
    "#     for category in final_dict[beat]:\n",
    "#         cat_name = category.replace(' ','_')\n",
    "#         cat_name = 'num_{}'.format(cat_name.lower())\n",
    "#         df[cat_name][beat] = final_dict[beat][category]\n",
    "# df_trr_beat = pd.concat([df_trr_beat, df], axis=1)\n",
    "# #df_trr_beat.head()"
   ]
  },
  {
   "cell_type": "code",
   "execution_count": 33,
   "metadata": {
    "execution": {
     "iopub.execute_input": "2021-01-03T03:33:49.798165Z",
     "iopub.status.busy": "2021-01-03T03:33:49.797107Z",
     "iopub.status.idle": "2021-01-03T03:33:49.802390Z",
     "shell.execute_reply": "2021-01-03T03:33:49.801806Z"
    },
    "papermill": {
     "duration": 0.073673,
     "end_time": "2021-01-03T03:33:49.802503",
     "exception": false,
     "start_time": "2021-01-03T03:33:49.728830",
     "status": "completed"
    },
    "tags": []
   },
   "outputs": [],
   "source": [
    "# #import json\n",
    "# f = open('/kaggle/input/cpd-trr-data-20042016/beatlist.txt', 'r')\n",
    "# raceList = ['HISPANIC', 'BLACK', 'ASIAN/PACIFIC ISLANDER', 'WHITE', 'OTHER','NATIVE AMERICAN/ALASKAN NATIVE']\n",
    "# #out = open ('resistance_levels_by_beat.txt', 'w')\n",
    "# totBeats = int(f.readline())\n",
    "# final_dict = {}\n",
    "# for i in range (0,totBeats):\n",
    "#     beat = int(f.readline())\n",
    "#     df_beat = df_trr.loc[df_trr.beat == beat]\n",
    "#     #print(beat)\n",
    "#     #out.write(str(beat)+'\\n')\n",
    "#     freq_dict = (df_beat.race.value_counts().to_dict())\n",
    "#     formatted_dict = {}\n",
    "#     for race in raceList:\n",
    "#         try:\n",
    "#             formatted_dict[race] = freq_dict[race]\n",
    "#         except KeyError:\n",
    "#             formatted_dict[race] = 0\n",
    "#     #print(formatted_dict)\n",
    "#     #out.write(json.dumps(formatted_dict))\n",
    "#     #out.write('\\n')\n",
    "#     #print()\n",
    "#     final_dict[beat] = formatted_dict\n",
    "# #print(final_dict)"
   ]
  },
  {
   "cell_type": "code",
   "execution_count": 34,
   "metadata": {
    "execution": {
     "iopub.execute_input": "2021-01-03T03:33:49.942375Z",
     "iopub.status.busy": "2021-01-03T03:33:49.941640Z",
     "iopub.status.idle": "2021-01-03T03:33:49.945242Z",
     "shell.execute_reply": "2021-01-03T03:33:49.945743Z"
    },
    "papermill": {
     "duration": 0.078586,
     "end_time": "2021-01-03T03:33:49.945923",
     "exception": false,
     "start_time": "2021-01-03T03:33:49.867337",
     "status": "completed"
    },
    "tags": []
   },
   "outputs": [],
   "source": [
    "# beats = list(final_dict.keys())\n",
    "# df = pd.DataFrame(beats)\n",
    "# df.rename(columns={0: \"beat\"}, inplace = True)\n",
    "# df.set_index('beat', inplace = True)\n",
    "# for race in raceList:\n",
    "#     cat_name = race.replace(' ','_')\n",
    "#     cat_name = 'num_{}'.format(cat_name.lower())\n",
    "#     df[cat_name] = 0\n",
    "# for beat in final_dict.keys():\n",
    "#     for category in final_dict[beat]:\n",
    "#         cat_name = category.replace(' ','_')\n",
    "#         cat_name = 'num_{}'.format(cat_name.lower())\n",
    "#         df[cat_name][beat] = final_dict[beat][category]\n",
    "# df_trr_beat = pd.concat([df_trr_beat, df], axis=1)\n",
    "# df_trr_beat.rename(columns = {'num_asian/pacific_islander': 'num_asian', 'num_native_american/alaskan_native': 'num_native'}, inplace = True)\n",
    "# #df_trr_beat.head()"
   ]
  },
  {
   "cell_type": "code",
   "execution_count": 35,
   "metadata": {
    "execution": {
     "iopub.execute_input": "2021-01-03T03:33:50.082201Z",
     "iopub.status.busy": "2021-01-03T03:33:50.081380Z",
     "iopub.status.idle": "2021-01-03T03:33:50.084629Z",
     "shell.execute_reply": "2021-01-03T03:33:50.084081Z"
    },
    "papermill": {
     "duration": 0.072243,
     "end_time": "2021-01-03T03:33:50.084747",
     "exception": false,
     "start_time": "2021-01-03T03:33:50.012504",
     "status": "completed"
    },
    "tags": []
   },
   "outputs": [],
   "source": [
    "# #import json\n",
    "# f = open('/kaggle/input/cpd-trr-data-20042016/beatlist.txt', 'r')\n",
    "# partyList = ['MEMBER', 'OTHER', 'OFFENDER']\n",
    "# #out = open ('resistance_levels_by_beat.txt', 'w')\n",
    "# final_dict = {}\n",
    "# totBeats = int(f.readline())\n",
    "# for i in range (0,totBeats):\n",
    "#     beat = int(f.readline())\n",
    "#     df_beat = df_trr.loc[df_trr.beat == beat]\n",
    "#     #print('PARTY FIRED FIRST IN BEAT '+str(beat))\n",
    "#     #out.write(str(beat)+'\\n')\n",
    "#     freq_dict = (df_beat.party_fired_first.value_counts().to_dict())\n",
    "#     formatted_dict = {}\n",
    "#     for race in partyList:\n",
    "#         try:\n",
    "#             formatted_dict[race] = freq_dict[race]\n",
    "#         except KeyError:\n",
    "#             formatted_dict[race] = 0\n",
    "#     #print(formatted_dict)\n",
    "#     #out.write(json.dumps(formatted_dict))\n",
    "#     #out.write('\\n')\n",
    "#     #print()\n",
    "#     final_dict[beat] = formatted_dict\n",
    "# #print(final_dict)"
   ]
  },
  {
   "cell_type": "code",
   "execution_count": 36,
   "metadata": {
    "execution": {
     "iopub.execute_input": "2021-01-03T03:33:50.218099Z",
     "iopub.status.busy": "2021-01-03T03:33:50.217084Z",
     "iopub.status.idle": "2021-01-03T03:33:50.222599Z",
     "shell.execute_reply": "2021-01-03T03:33:50.221886Z"
    },
    "papermill": {
     "duration": 0.072978,
     "end_time": "2021-01-03T03:33:50.222714",
     "exception": false,
     "start_time": "2021-01-03T03:33:50.149736",
     "status": "completed"
    },
    "tags": []
   },
   "outputs": [],
   "source": [
    "# beats = list(final_dict.keys())\n",
    "# df = pd.DataFrame(beats)\n",
    "# df.rename(columns={0: \"beat\"}, inplace = True)\n",
    "# df.set_index('beat', inplace = True)\n",
    "# for party in partyList:\n",
    "#     cat_name = party.replace(' ','_')\n",
    "#     cat_name = 'num_{}_fired_first'.format(cat_name.lower())\n",
    "#     df[cat_name] = 0\n",
    "# for beat in final_dict.keys():\n",
    "#     for category in final_dict[beat]:\n",
    "#         cat_name = category.replace(' ','_')\n",
    "#         cat_name = 'num_{}_fired_first'.format(cat_name.lower())\n",
    "#         df[cat_name][beat] = final_dict[beat][category]\n",
    "# df_trr_beat = pd.concat([df_trr_beat, df], axis=1)\n",
    "# #df_trr_beat.head()"
   ]
  },
  {
   "cell_type": "code",
   "execution_count": 37,
   "metadata": {
    "execution": {
     "iopub.execute_input": "2021-01-03T03:33:50.358978Z",
     "iopub.status.busy": "2021-01-03T03:33:50.357878Z",
     "iopub.status.idle": "2021-01-03T03:33:50.361572Z",
     "shell.execute_reply": "2021-01-03T03:33:50.360841Z"
    },
    "papermill": {
     "duration": 0.074481,
     "end_time": "2021-01-03T03:33:50.361691",
     "exception": false,
     "start_time": "2021-01-03T03:33:50.287210",
     "status": "completed"
    },
    "tags": []
   },
   "outputs": [],
   "source": [
    "# #import json\n",
    "# f = open('/kaggle/input/cpd-trr-data-20042016/beatlist.txt', 'r')\n",
    "# officer_actions = ['','','OTHER FORCE', 'PHYSICAL FORCE-HOLDING, TASER DISPLAY', 'PHYSICAL FORCE-STUNNING, CHEMICAL', 'IMPACT WEAPON, TASER, PHYSICAL FORCE-DIRECT MECHANICAL,', 'FIREARM']\n",
    "# #out = open ('resistance_levels_by_beat.txt', 'w')\n",
    "# totBeats = int(f.readline())\n",
    "# final_dict = {}\n",
    "# for i in range (0,totBeats):\n",
    "#     beat = int(f.readline())\n",
    "#     df_beat = df_trr.loc[df_trr.beat == beat]\n",
    "#     #print(beat)\n",
    "#     #out.write(str(beat)+'\\n')\n",
    "#     freq_dict = (df_beat.max_officer_action.value_counts().to_dict())\n",
    "#     formatted_dict = {}\n",
    "#     for resistance in officer_actions[2:]:\n",
    "#         ind = float(officer_actions.index(resistance))\n",
    "#         try:\n",
    "#             formatted_dict[resistance] = freq_dict[ind]\n",
    "#         except KeyError:\n",
    "#             formatted_dict[resistance] = 0\n",
    "#     #print(formatted_dict)\n",
    "#     #out.write(json.dumps(formatted_dict))\n",
    "#     #out.write('\\n')\n",
    "#     #print()\n",
    "#     final_dict[beat] = formatted_dict\n",
    "# #print(final_dict)"
   ]
  },
  {
   "cell_type": "code",
   "execution_count": 38,
   "metadata": {
    "execution": {
     "iopub.execute_input": "2021-01-03T03:33:50.498600Z",
     "iopub.status.busy": "2021-01-03T03:33:50.497875Z",
     "iopub.status.idle": "2021-01-03T03:33:50.501729Z",
     "shell.execute_reply": "2021-01-03T03:33:50.501090Z"
    },
    "papermill": {
     "duration": 0.073351,
     "end_time": "2021-01-03T03:33:50.501856",
     "exception": false,
     "start_time": "2021-01-03T03:33:50.428505",
     "status": "completed"
    },
    "tags": []
   },
   "outputs": [],
   "source": [
    "# beats = list(final_dict.keys())\n",
    "# df = pd.DataFrame(beats)\n",
    "# df.rename(columns={0: \"beat\"}, inplace = True)\n",
    "# df.set_index('beat', inplace = True)\n",
    "# for action in officer_actions[2:]:\n",
    "#     cat_name = action.replace(', ','/').replace(' ','_')\n",
    "#     cat_name = 'num_{}'.format(cat_name.lower())\n",
    "#     df[cat_name] = 0\n",
    "# for beat in list(final_dict.keys()):\n",
    "#     for category in final_dict[beat]:\n",
    "#         cat_name = category.replace(', ','/').replace(' ','_')\n",
    "#         cat_name = 'num_{}'.format(cat_name.lower())\n",
    "#         df[cat_name][beat] = final_dict[beat][category]\n",
    "# df_trr_beat = pd.concat([df_trr_beat, df], axis=1)\n",
    "# #df_trr_beat.head()"
   ]
  },
  {
   "cell_type": "code",
   "execution_count": 39,
   "metadata": {
    "execution": {
     "iopub.execute_input": "2021-01-03T03:33:50.640213Z",
     "iopub.status.busy": "2021-01-03T03:33:50.639484Z",
     "iopub.status.idle": "2021-01-03T03:33:50.644499Z",
     "shell.execute_reply": "2021-01-03T03:33:50.645011Z"
    },
    "papermill": {
     "duration": 0.073464,
     "end_time": "2021-01-03T03:33:50.645171",
     "exception": false,
     "start_time": "2021-01-03T03:33:50.571707",
     "status": "completed"
    },
    "tags": []
   },
   "outputs": [],
   "source": [
    "# #import json\n",
    "# f = open('/kaggle/input/cpd-trr-data-20042016/beatlist.txt', 'r')\n",
    "# #out = open ('resistance_levels_by_beat.txt', 'w')\n",
    "# totBeats = int(f.readline())\n",
    "# formatted_dict = {}\n",
    "# for i in range (0,totBeats):\n",
    "#     beat = int(f.readline())\n",
    "#     df_beat = df_trr.loc[df_trr.beat == beat]\n",
    "#     #print('Beat: '+str(beat))\n",
    "#     #out.write(str(beat)+'\\n')\n",
    "#     numInjured = df_beat.loc[(df_beat.injured == 1) | (df_beat.alleged_injury == 1)]\n",
    "#     formatted_dict[beat] = len(numInjured) \n",
    "#     #out.write(json.dumps(formatted_dict))\n",
    "#     #out.write('\\n')\n",
    "# #print(formatted_dict)"
   ]
  },
  {
   "cell_type": "code",
   "execution_count": 40,
   "metadata": {
    "execution": {
     "iopub.execute_input": "2021-01-03T03:33:50.782183Z",
     "iopub.status.busy": "2021-01-03T03:33:50.780920Z",
     "iopub.status.idle": "2021-01-03T03:33:50.784696Z",
     "shell.execute_reply": "2021-01-03T03:33:50.784082Z"
    },
    "papermill": {
     "duration": 0.074252,
     "end_time": "2021-01-03T03:33:50.784817",
     "exception": false,
     "start_time": "2021-01-03T03:33:50.710565",
     "status": "completed"
    },
    "tags": []
   },
   "outputs": [],
   "source": [
    "# df = pd.DataFrame.from_dict(formatted_dict, orient = 'index')\n",
    "# df.rename(columns={0: \"num_incidents_injury\"}, inplace = True)\n",
    "# df_trr_beat = pd.concat([df_trr_beat, df], axis=1)\n",
    "# #df_trr_beat.head()"
   ]
  },
  {
   "cell_type": "code",
   "execution_count": 41,
   "metadata": {
    "execution": {
     "iopub.execute_input": "2021-01-03T03:33:50.925053Z",
     "iopub.status.busy": "2021-01-03T03:33:50.923943Z",
     "iopub.status.idle": "2021-01-03T03:33:50.927135Z",
     "shell.execute_reply": "2021-01-03T03:33:50.926426Z"
    },
    "papermill": {
     "duration": 0.075982,
     "end_time": "2021-01-03T03:33:50.927256",
     "exception": false,
     "start_time": "2021-01-03T03:33:50.851274",
     "status": "completed"
    },
    "tags": []
   },
   "outputs": [],
   "source": [
    "# #import json\n",
    "# f = open('/kaggle/input/cpd-trr-data-20042016/beatlist.txt', 'r')\n",
    "# #out = open ('resistance_levels_by_beat.txt', 'w')\n",
    "# formatted_dict = {}\n",
    "# totBeats = int(f.readline())\n",
    "# for i in range (0,totBeats):\n",
    "#     beat = int(f.readline())\n",
    "#     df_beat = df_trr.loc[df_trr.beat == beat]\n",
    "#     #print('Beat: '+str(beat))\n",
    "#     #out.write(str(beat)+'\\n')\n",
    "#     numPB_1 = df_beat.loc[(df_beat.pb_1 == 1)]\n",
    "#     formatted_dict[beat] = len(numPB_1) \n",
    "#     #out.write(json.dumps(formatted_dict))\n",
    "#     #out.write('\\n')\n",
    "# #print(formatted_dict)"
   ]
  },
  {
   "cell_type": "code",
   "execution_count": 42,
   "metadata": {
    "execution": {
     "iopub.execute_input": "2021-01-03T03:33:51.067951Z",
     "iopub.status.busy": "2021-01-03T03:33:51.067190Z",
     "iopub.status.idle": "2021-01-03T03:33:51.070077Z",
     "shell.execute_reply": "2021-01-03T03:33:51.069478Z"
    },
    "papermill": {
     "duration": 0.076939,
     "end_time": "2021-01-03T03:33:51.070198",
     "exception": false,
     "start_time": "2021-01-03T03:33:50.993259",
     "status": "completed"
    },
    "tags": []
   },
   "outputs": [],
   "source": [
    "# df = pd.DataFrame.from_dict(formatted_dict, orient = 'index')\n",
    "# df.rename(columns={0: \"num_incidents_pb_1\"}, inplace = True)\n",
    "# df_trr_beat = pd.concat([df_trr_beat, df], axis=1)\n",
    "# #df_trr_beat.head()"
   ]
  },
  {
   "cell_type": "code",
   "execution_count": 43,
   "metadata": {
    "execution": {
     "iopub.execute_input": "2021-01-03T03:33:51.207869Z",
     "iopub.status.busy": "2021-01-03T03:33:51.207207Z",
     "iopub.status.idle": "2021-01-03T03:33:51.210527Z",
     "shell.execute_reply": "2021-01-03T03:33:51.209841Z"
    },
    "papermill": {
     "duration": 0.074783,
     "end_time": "2021-01-03T03:33:51.210646",
     "exception": false,
     "start_time": "2021-01-03T03:33:51.135863",
     "status": "completed"
    },
    "tags": []
   },
   "outputs": [],
   "source": [
    "# #import json\n",
    "# f = open('/kaggle/input/cpd-trr-data-20042016/beatlist.txt', 'r')\n",
    "# #out = open ('resistance_levels_by_beat.txt', 'w')\n",
    "# formatted_dict = {}\n",
    "# totBeats = int(f.readline())\n",
    "# for i in range (0,totBeats):\n",
    "#     beat = int(f.readline())\n",
    "#     df_beat = df_trr.loc[df_trr.beat == beat]\n",
    "#     #print('Beat: '+str(beat))\n",
    "#     #out.write(str(beat)+'\\n')\n",
    "#     numPB_2 = df_beat.loc[(df_beat.pb_2 == 1)]\n",
    "#     formatted_dict[beat] = len(numPB_2) \n",
    "#     #out.write(json.dumps(formatted_dict))\n",
    "#     #out.write('\\n')\n",
    "# #print(formatted_dict)"
   ]
  },
  {
   "cell_type": "code",
   "execution_count": 44,
   "metadata": {
    "execution": {
     "iopub.execute_input": "2021-01-03T03:33:51.346507Z",
     "iopub.status.busy": "2021-01-03T03:33:51.345739Z",
     "iopub.status.idle": "2021-01-03T03:33:51.348504Z",
     "shell.execute_reply": "2021-01-03T03:33:51.349121Z"
    },
    "papermill": {
     "duration": 0.073248,
     "end_time": "2021-01-03T03:33:51.349289",
     "exception": false,
     "start_time": "2021-01-03T03:33:51.276041",
     "status": "completed"
    },
    "tags": []
   },
   "outputs": [],
   "source": [
    "# df = pd.DataFrame.from_dict(formatted_dict, orient = 'index')\n",
    "# df.rename(columns={0: \"num_incidents_pb_2\"}, inplace = True)\n",
    "# df_trr_beat = pd.concat([df_trr_beat, df], axis=1)\n",
    "# #df_trr_beat.head()"
   ]
  },
  {
   "cell_type": "code",
   "execution_count": 45,
   "metadata": {
    "execution": {
     "iopub.execute_input": "2021-01-03T03:33:51.490648Z",
     "iopub.status.busy": "2021-01-03T03:33:51.489904Z",
     "iopub.status.idle": "2021-01-03T03:33:51.492382Z",
     "shell.execute_reply": "2021-01-03T03:33:51.493157Z"
    },
    "papermill": {
     "duration": 0.075513,
     "end_time": "2021-01-03T03:33:51.493361",
     "exception": false,
     "start_time": "2021-01-03T03:33:51.417848",
     "status": "completed"
    },
    "tags": []
   },
   "outputs": [],
   "source": [
    "# #import json\n",
    "# f = open('/kaggle/input/cpd-trr-data-20042016/beatlist.txt', 'r')\n",
    "# #out = open ('resistance_levels_by_beat.txt', 'w')\n",
    "# formatted_dict = {}\n",
    "# totBeats = int(f.readline())\n",
    "# for i in range (0,totBeats):\n",
    "#     beat = int(f.readline())\n",
    "#     df_beat = df_trr.loc[df_trr.beat == beat]\n",
    "#     #print('Beat: '+str(beat))\n",
    "#     #out.write(str(beat)+'\\n')\n",
    "#     numPB_3 = df_beat.loc[(df_beat.pb_3 == 1)]\n",
    "#     formatted_dict[beat] = len(numPB_3) \n",
    "#     #out.write(json.dumps(formatted_dict))\n",
    "#     #out.write('\\n')\n",
    "# #print(formatted_dict)"
   ]
  },
  {
   "cell_type": "code",
   "execution_count": 46,
   "metadata": {
    "execution": {
     "iopub.execute_input": "2021-01-03T03:33:51.644233Z",
     "iopub.status.busy": "2021-01-03T03:33:51.643480Z",
     "iopub.status.idle": "2021-01-03T03:33:51.645843Z",
     "shell.execute_reply": "2021-01-03T03:33:51.646466Z"
    },
    "papermill": {
     "duration": 0.085841,
     "end_time": "2021-01-03T03:33:51.646617",
     "exception": false,
     "start_time": "2021-01-03T03:33:51.560776",
     "status": "completed"
    },
    "tags": []
   },
   "outputs": [],
   "source": [
    "# df = df_trr.beat.value_counts()\n",
    "# #df.head()\n",
    "# df_trr_beat = pd.concat([df_trr_beat, df], axis=1)\n",
    "# #len(df)\n",
    "# df_trr_beat.rename(columns={'beat': \"num_trr\"}, inplace = True)"
   ]
  },
  {
   "cell_type": "code",
   "execution_count": 47,
   "metadata": {
    "execution": {
     "iopub.execute_input": "2021-01-03T03:33:51.790357Z",
     "iopub.status.busy": "2021-01-03T03:33:51.789590Z",
     "iopub.status.idle": "2021-01-03T03:33:51.793288Z",
     "shell.execute_reply": "2021-01-03T03:33:51.793924Z"
    },
    "papermill": {
     "duration": 0.077556,
     "end_time": "2021-01-03T03:33:51.794093",
     "exception": false,
     "start_time": "2021-01-03T03:33:51.716537",
     "status": "completed"
    },
    "tags": []
   },
   "outputs": [],
   "source": [
    "# df = pd.DataFrame.from_dict(formatted_dict, orient = 'index')\n",
    "# df.rename(columns={0: \"num_incidents_pb_3\"}, inplace = True)\n",
    "# df_trr_beat = pd.concat([df_trr_beat, df], axis=1)\n",
    "# df_trr_beat.head()"
   ]
  },
  {
   "cell_type": "code",
   "execution_count": 48,
   "metadata": {
    "execution": {
     "iopub.execute_input": "2021-01-03T03:33:51.936363Z",
     "iopub.status.busy": "2021-01-03T03:33:51.935416Z",
     "iopub.status.idle": "2021-01-03T03:33:51.938800Z",
     "shell.execute_reply": "2021-01-03T03:33:51.939366Z"
    },
    "papermill": {
     "duration": 0.076791,
     "end_time": "2021-01-03T03:33:51.939533",
     "exception": false,
     "start_time": "2021-01-03T03:33:51.862742",
     "status": "completed"
    },
    "tags": []
   },
   "outputs": [],
   "source": [
    "# df_trr_beat.index.name = 'beat'\n",
    "# #df_trr_beat.columns\n",
    "# #df_trr_beat.reset_index(inplace = True)\n",
    "# df_trr_beat.drop([0], inplace = True)\n",
    "# df_trr_beat.head()\n",
    "# #df_trr_beat.to_csv('df_trr_by_beat.csv', index = False)"
   ]
  },
  {
   "cell_type": "markdown",
   "metadata": {
    "papermill": {
     "duration": 0.067661,
     "end_time": "2021-01-03T03:33:52.080860",
     "exception": false,
     "start_time": "2021-01-03T03:33:52.013199",
     "status": "completed"
    },
    "tags": []
   },
   "source": [
    "Collecting relevant TRR data by beat on TRR's deemed as \"police brutality\" incidents as we have previosuly determined:"
   ]
  },
  {
   "cell_type": "code",
   "execution_count": 49,
   "metadata": {
    "execution": {
     "iopub.execute_input": "2021-01-03T03:33:52.222531Z",
     "iopub.status.busy": "2021-01-03T03:33:52.221747Z",
     "iopub.status.idle": "2021-01-03T03:33:52.226469Z",
     "shell.execute_reply": "2021-01-03T03:33:52.225924Z"
    },
    "papermill": {
     "duration": 0.079012,
     "end_time": "2021-01-03T03:33:52.226592",
     "exception": false,
     "start_time": "2021-01-03T03:33:52.147580",
     "status": "completed"
    },
    "tags": []
   },
   "outputs": [],
   "source": [
    "# #import json\n",
    "# f = open('/kaggle/input/cpd-trr-data-20042016/beatlist.txt', 'r')\n",
    "# #out = open ('resistance_levels_by_beat.txt', 'w')\n",
    "# formatted_dict = {}\n",
    "# totBeats = int(f.readline())\n",
    "# for i in range (0,totBeats):\n",
    "#     beat = int(f.readline())\n",
    "#     df_beat = df_pb.loc[df_pb.beat == beat]\n",
    "#     #print('Beat: '+str(beat))\n",
    "#     #out.write(str(beat)+'\\n')\n",
    "#     numFired = df_beat.loc[df_beat.firearm_used == 1]\n",
    "#     formatted_dict[beat] = len(numFired) \n",
    "#     #out.write(json.dumps(formatted_dict))\n",
    "#     #out.write('\\n')\n",
    "# #print(formatted_dict)"
   ]
  },
  {
   "cell_type": "code",
   "execution_count": 50,
   "metadata": {
    "execution": {
     "iopub.execute_input": "2021-01-03T03:33:52.369244Z",
     "iopub.status.busy": "2021-01-03T03:33:52.368538Z",
     "iopub.status.idle": "2021-01-03T03:33:52.371120Z",
     "shell.execute_reply": "2021-01-03T03:33:52.371821Z"
    },
    "papermill": {
     "duration": 0.078658,
     "end_time": "2021-01-03T03:33:52.371990",
     "exception": false,
     "start_time": "2021-01-03T03:33:52.293332",
     "status": "completed"
    },
    "tags": []
   },
   "outputs": [],
   "source": [
    "# df_pb_beat = pd.DataFrame.from_dict(formatted_dict, orient = 'index')\n",
    "# df_pb_beat.rename(columns={0: \"num_incidents_firearm\"}, inplace = True)\n",
    "# #df_pb_beat.head()"
   ]
  },
  {
   "cell_type": "code",
   "execution_count": 51,
   "metadata": {
    "execution": {
     "iopub.execute_input": "2021-01-03T03:33:52.508838Z",
     "iopub.status.busy": "2021-01-03T03:33:52.508191Z",
     "iopub.status.idle": "2021-01-03T03:33:52.512048Z",
     "shell.execute_reply": "2021-01-03T03:33:52.512649Z"
    },
    "papermill": {
     "duration": 0.073445,
     "end_time": "2021-01-03T03:33:52.512794",
     "exception": false,
     "start_time": "2021-01-03T03:33:52.439349",
     "status": "completed"
    },
    "tags": []
   },
   "outputs": [],
   "source": [
    "# #import json\n",
    "# f = open('/kaggle/input/cpd-trr-data-20042016/beatlist.txt', 'r')\n",
    "# resistance_levels = ['Passive Resistor', 'Active Resistor', 'Assailant Assault', 'Assailant Assault/Battery', 'Assailant Battery', 'Assailant Deadly Force']\n",
    "# #out = open ('resistance_levels_by_beat.txt', 'w')\n",
    "# totBeats = int(f.readline())\n",
    "# final_dict = {}\n",
    "# for i in range (0,totBeats):\n",
    "#     beat = int(f.readline())\n",
    "#     df_beat = df_pb.loc[df_pb.beat == beat]\n",
    "#     #print(beat)\n",
    "#     out.write(str(beat)+'\\n')\n",
    "#     freq_dict = (df_beat.highest_resistance_level.value_counts().to_dict())\n",
    "#     formatted_dict = {}\n",
    "#     for resistance in resistance_levels:\n",
    "#         ind = float(resistance_levels.index(resistance))\n",
    "#         try:\n",
    "#             formatted_dict[resistance] = freq_dict[ind]\n",
    "#         except KeyError:\n",
    "#             formatted_dict[resistance] = 0\n",
    "#     #print(formatted_dict)\n",
    "#     final_dict[beat] = formatted_dict\n",
    "#     #out.write(json.dumps(formatted_dict))\n",
    "#     #out.write('\\n')\n",
    "#     #print()\n",
    "# #print(final_dict)"
   ]
  },
  {
   "cell_type": "code",
   "execution_count": 52,
   "metadata": {
    "execution": {
     "iopub.execute_input": "2021-01-03T03:33:52.652519Z",
     "iopub.status.busy": "2021-01-03T03:33:52.651810Z",
     "iopub.status.idle": "2021-01-03T03:33:52.656860Z",
     "shell.execute_reply": "2021-01-03T03:33:52.656217Z"
    },
    "papermill": {
     "duration": 0.075309,
     "end_time": "2021-01-03T03:33:52.656999",
     "exception": false,
     "start_time": "2021-01-03T03:33:52.581690",
     "status": "completed"
    },
    "tags": []
   },
   "outputs": [],
   "source": [
    "# beats = list(final_dict.keys())\n",
    "# df = pd.DataFrame(beats)\n",
    "# df.rename(columns={0: \"beat\"}, inplace = True)\n",
    "# df.set_index('beat', inplace = True)\n",
    "# for resistance in resistance_levels:\n",
    "#     cat_name = resistance.replace(' ','_')\n",
    "#     cat_name = 'num_{}'.format(cat_name.lower())\n",
    "#     df[cat_name] = 0\n",
    "# for beat in final_dict.keys():\n",
    "#     for category in final_dict[beat]:\n",
    "#         cat_name = category.replace(' ','_')\n",
    "#         cat_name = 'num_{}'.format(cat_name.lower())\n",
    "#         df[cat_name][beat] = final_dict[beat][category]\n",
    "# df_pb_beat = pd.concat([df_pb_beat, df], axis=1)\n",
    "# #df_pb_beat.head()"
   ]
  },
  {
   "cell_type": "code",
   "execution_count": 53,
   "metadata": {
    "execution": {
     "iopub.execute_input": "2021-01-03T03:33:52.796560Z",
     "iopub.status.busy": "2021-01-03T03:33:52.795829Z",
     "iopub.status.idle": "2021-01-03T03:33:52.799768Z",
     "shell.execute_reply": "2021-01-03T03:33:52.800334Z"
    },
    "papermill": {
     "duration": 0.074955,
     "end_time": "2021-01-03T03:33:52.800486",
     "exception": false,
     "start_time": "2021-01-03T03:33:52.725531",
     "status": "completed"
    },
    "tags": []
   },
   "outputs": [],
   "source": [
    "# #import json\n",
    "# f = open('/kaggle/input/cpd-trr-data-20042016/beatlist.txt', 'r')\n",
    "# raceList = ['HISPANIC', 'BLACK', 'ASIAN/PACIFIC ISLANDER', 'WHITE', 'OTHER','NATIVE AMERICAN/ALASKAN NATIVE']\n",
    "# #out = open ('resistance_levels_by_beat.txt', 'w')\n",
    "# totBeats = int(f.readline())\n",
    "# final_dict = {}\n",
    "# for i in range (0,totBeats):\n",
    "#     beat = int(f.readline())\n",
    "#     df_beat = df_pb.loc[df_pb.beat == beat]\n",
    "#     #print(beat)\n",
    "#     #out.write(str(beat)+'\\n')\n",
    "#     freq_dict = (df_beat.race.value_counts().to_dict())\n",
    "#     formatted_dict = {}\n",
    "#     for race in raceList:\n",
    "#         try:\n",
    "#             formatted_dict[race] = freq_dict[race]\n",
    "#         except KeyError:\n",
    "#             formatted_dict[race] = 0\n",
    "#     #print(formatted_dict)\n",
    "#     #out.write(json.dumps(formatted_dict))\n",
    "#     #out.write('\\n')\n",
    "#     #print()\n",
    "#     final_dict[beat] = formatted_dict\n",
    "# #print(final_dict)"
   ]
  },
  {
   "cell_type": "code",
   "execution_count": 54,
   "metadata": {
    "execution": {
     "iopub.execute_input": "2021-01-03T03:33:52.940082Z",
     "iopub.status.busy": "2021-01-03T03:33:52.939298Z",
     "iopub.status.idle": "2021-01-03T03:33:52.943043Z",
     "shell.execute_reply": "2021-01-03T03:33:52.943645Z"
    },
    "papermill": {
     "duration": 0.075374,
     "end_time": "2021-01-03T03:33:52.943785",
     "exception": false,
     "start_time": "2021-01-03T03:33:52.868411",
     "status": "completed"
    },
    "tags": []
   },
   "outputs": [],
   "source": [
    "# beats = list(final_dict.keys())\n",
    "# df = pd.DataFrame(beats)\n",
    "# df.rename(columns={0: \"beat\"}, inplace = True)\n",
    "# df.set_index('beat', inplace = True)\n",
    "# for race in raceList:\n",
    "#     cat_name = race.replace(' ','_')\n",
    "#     cat_name = 'num_{}'.format(cat_name.lower())\n",
    "#     df[cat_name] = 0\n",
    "# for beat in final_dict.keys():\n",
    "#     for category in final_dict[beat]:\n",
    "#         cat_name = category.replace(' ','_')\n",
    "#         cat_name = 'num_{}'.format(cat_name.lower())\n",
    "#         df[cat_name][beat] = final_dict[beat][category]\n",
    "# df_pb_beat = pd.concat([df_pb_beat, df], axis=1)\n",
    "# df_pb_beat.rename(columns = {'num_asian/pacific_islander': 'num_asian', 'num_native_american/alaskan_native': 'num_native'}, inplace = True)\n",
    "# #df_pb_beat.head()"
   ]
  },
  {
   "cell_type": "code",
   "execution_count": 55,
   "metadata": {
    "execution": {
     "iopub.execute_input": "2021-01-03T03:33:53.083538Z",
     "iopub.status.busy": "2021-01-03T03:33:53.082861Z",
     "iopub.status.idle": "2021-01-03T03:33:53.086858Z",
     "shell.execute_reply": "2021-01-03T03:33:53.087590Z"
    },
    "papermill": {
     "duration": 0.076158,
     "end_time": "2021-01-03T03:33:53.087741",
     "exception": false,
     "start_time": "2021-01-03T03:33:53.011583",
     "status": "completed"
    },
    "tags": []
   },
   "outputs": [],
   "source": [
    "# #import json\n",
    "# f = open('/kaggle/input/cpd-trr-data-20042016/beatlist.txt', 'r')\n",
    "# partyList = ['MEMBER', 'OTHER', 'OFFENDER']\n",
    "# #out = open ('resistance_levels_by_beat.txt', 'w')\n",
    "# final_dict = {}\n",
    "# totBeats = int(f.readline())\n",
    "# for i in range (0,totBeats):\n",
    "#     beat = int(f.readline())\n",
    "#     df_beat = df_pb.loc[df_pb.beat == beat]\n",
    "#     #print('PARTY FIRED FIRST IN BEAT '+str(beat))\n",
    "#     #out.write(str(beat)+'\\n')\n",
    "#     freq_dict = (df_beat.party_fired_first.value_counts().to_dict())\n",
    "#     formatted_dict = {}\n",
    "#     for race in partyList:\n",
    "#         try:\n",
    "#             formatted_dict[race] = freq_dict[race]\n",
    "#         except KeyError:\n",
    "#             formatted_dict[race] = 0\n",
    "#     #print(formatted_dict)\n",
    "#     #out.write(json.dumps(formatted_dict))\n",
    "#     #out.write('\\n')\n",
    "#     #print()\n",
    "#     final_dict[beat] = formatted_dict\n",
    "# #print(final_dict)"
   ]
  },
  {
   "cell_type": "code",
   "execution_count": 56,
   "metadata": {
    "execution": {
     "iopub.execute_input": "2021-01-03T03:33:53.227679Z",
     "iopub.status.busy": "2021-01-03T03:33:53.227008Z",
     "iopub.status.idle": "2021-01-03T03:33:53.232667Z",
     "shell.execute_reply": "2021-01-03T03:33:53.233173Z"
    },
    "papermill": {
     "duration": 0.077784,
     "end_time": "2021-01-03T03:33:53.233323",
     "exception": false,
     "start_time": "2021-01-03T03:33:53.155539",
     "status": "completed"
    },
    "tags": []
   },
   "outputs": [],
   "source": [
    "# beats = list(final_dict.keys())\n",
    "# df = pd.DataFrame(beats)\n",
    "# df.rename(columns={0: \"beat\"}, inplace = True)\n",
    "# df.set_index('beat', inplace = True)\n",
    "# for party in partyList:\n",
    "#     cat_name = party.replace(' ','_')\n",
    "#     cat_name = 'num_{}_fired_first'.format(cat_name.lower())\n",
    "#     df[cat_name] = 0\n",
    "# for beat in final_dict.keys():\n",
    "#     for category in final_dict[beat]:\n",
    "#         cat_name = category.replace(' ','_')\n",
    "#         cat_name = 'num_{}_fired_first'.format(cat_name.lower())\n",
    "#         df[cat_name][beat] = final_dict[beat][category]\n",
    "# df_pb_beat = pd.concat([df_pb_beat, df], axis=1)\n",
    "# #df_pb_beat.head()"
   ]
  },
  {
   "cell_type": "code",
   "execution_count": 57,
   "metadata": {
    "execution": {
     "iopub.execute_input": "2021-01-03T03:33:53.378422Z",
     "iopub.status.busy": "2021-01-03T03:33:53.377226Z",
     "iopub.status.idle": "2021-01-03T03:33:53.380022Z",
     "shell.execute_reply": "2021-01-03T03:33:53.380604Z"
    },
    "papermill": {
     "duration": 0.078826,
     "end_time": "2021-01-03T03:33:53.380758",
     "exception": false,
     "start_time": "2021-01-03T03:33:53.301932",
     "status": "completed"
    },
    "tags": []
   },
   "outputs": [],
   "source": [
    "# #import json\n",
    "# f = open('/kaggle/input/cpd-trr-data-20042016/beatlist.txt', 'r')\n",
    "# officer_actions = ['','','OTHER FORCE', 'PHYSICAL FORCE-HOLDING, TASER DISPLAY', 'PHYSICAL FORCE-STUNNING, CHEMICAL', 'IMPACT WEAPON, TASER, PHYSICAL FORCE-DIRECT MECHANICAL,', 'FIREARM']\n",
    "# #out = open ('resistance_levels_by_beat.txt', 'w')\n",
    "# totBeats = int(f.readline())\n",
    "# final_dict = {}\n",
    "# for i in range (0,totBeats):\n",
    "#     beat = int(f.readline())\n",
    "#     df_beat = df_pb.loc[df_pb.beat == beat]\n",
    "#     #print(beat)\n",
    "#     #out.write(str(beat)+'\\n')\n",
    "#     freq_dict = (df_beat.max_officer_action.value_counts().to_dict())\n",
    "#     formatted_dict = {}\n",
    "#     for resistance in officer_actions[2:]:\n",
    "#         ind = float(officer_actions.index(resistance))\n",
    "#         try:\n",
    "#             formatted_dict[resistance] = freq_dict[ind]\n",
    "#         except KeyError:\n",
    "#             formatted_dict[resistance] = 0\n",
    "#     #print(formatted_dict)\n",
    "#     #out.write(json.dumps(formatted_dict))\n",
    "#     #out.write('\\n')\n",
    "#     #print()\n",
    "#     final_dict[beat] = formatted_dict\n",
    "# #print(final_dict)"
   ]
  },
  {
   "cell_type": "code",
   "execution_count": 58,
   "metadata": {
    "execution": {
     "iopub.execute_input": "2021-01-03T03:33:53.530493Z",
     "iopub.status.busy": "2021-01-03T03:33:53.529476Z",
     "iopub.status.idle": "2021-01-03T03:33:53.533703Z",
     "shell.execute_reply": "2021-01-03T03:33:53.534318Z"
    },
    "papermill": {
     "duration": 0.080023,
     "end_time": "2021-01-03T03:33:53.534465",
     "exception": false,
     "start_time": "2021-01-03T03:33:53.454442",
     "status": "completed"
    },
    "tags": []
   },
   "outputs": [],
   "source": [
    "# beats = list(final_dict.keys())\n",
    "# df = pd.DataFrame(beats)\n",
    "# df.rename(columns={0: \"beat\"}, inplace = True)\n",
    "# df.set_index('beat', inplace = True)\n",
    "# for action in officer_actions[2:]:\n",
    "#     cat_name = action.replace(', ','/').replace(' ','_')\n",
    "#     cat_name = 'num_{}'.format(cat_name.lower())\n",
    "#     df[cat_name] = 0\n",
    "# for beat in list(final_dict.keys()):\n",
    "#     for category in final_dict[beat]:\n",
    "#         cat_name = category.replace(', ','/').replace(' ','_')\n",
    "#         cat_name = 'num_{}'.format(cat_name.lower())\n",
    "#         df[cat_name][beat] = final_dict[beat][category]\n",
    "# df_pb_beat = pd.concat([df_pb_beat, df], axis=1)\n",
    "# #df_pb_beat.head()"
   ]
  },
  {
   "cell_type": "code",
   "execution_count": 59,
   "metadata": {
    "execution": {
     "iopub.execute_input": "2021-01-03T03:33:53.708529Z",
     "iopub.status.busy": "2021-01-03T03:33:53.707585Z",
     "iopub.status.idle": "2021-01-03T03:33:53.710275Z",
     "shell.execute_reply": "2021-01-03T03:33:53.711051Z"
    },
    "papermill": {
     "duration": 0.09109,
     "end_time": "2021-01-03T03:33:53.711242",
     "exception": false,
     "start_time": "2021-01-03T03:33:53.620152",
     "status": "completed"
    },
    "tags": []
   },
   "outputs": [],
   "source": [
    "# #import json\n",
    "# f = open('/kaggle/input/cpd-trr-data-20042016/beatlist.txt', 'r')\n",
    "# #out = open ('resistance_levels_by_beat.txt', 'w')\n",
    "# totBeats = int(f.readline())\n",
    "# formatted_dict = {}\n",
    "# for i in range (0,totBeats):\n",
    "#     beat = int(f.readline())\n",
    "#     df_beat = df_pb.loc[df_pb.beat == beat]\n",
    "#     #print('Beat: '+str(beat))\n",
    "#     #out.write(str(beat)+'\\n')\n",
    "#     numInjured = df_beat.loc[(df_beat.injured == 1) | (df_beat.alleged_injury == 1)]\n",
    "#     formatted_dict[beat] = len(numInjured) \n",
    "#     #out.write(json.dumps(formatted_dict))\n",
    "#     #out.write('\\n')\n",
    "# #print(formatted_dict)"
   ]
  },
  {
   "cell_type": "code",
   "execution_count": 60,
   "metadata": {
    "execution": {
     "iopub.execute_input": "2021-01-03T03:33:53.856025Z",
     "iopub.status.busy": "2021-01-03T03:33:53.855071Z",
     "iopub.status.idle": "2021-01-03T03:33:53.858581Z",
     "shell.execute_reply": "2021-01-03T03:33:53.859070Z"
    },
    "papermill": {
     "duration": 0.074472,
     "end_time": "2021-01-03T03:33:53.859220",
     "exception": false,
     "start_time": "2021-01-03T03:33:53.784748",
     "status": "completed"
    },
    "tags": []
   },
   "outputs": [],
   "source": [
    "# df = pd.DataFrame.from_dict(formatted_dict, orient = 'index')\n",
    "# df.rename(columns={0: \"num_incidents_injury\"}, inplace = True)\n",
    "# df_pb_beat = pd.concat([df_pb_beat, df], axis=1)\n",
    "# #df_pb_beat.head()"
   ]
  },
  {
   "cell_type": "code",
   "execution_count": 61,
   "metadata": {
    "execution": {
     "iopub.execute_input": "2021-01-03T03:33:54.000033Z",
     "iopub.status.busy": "2021-01-03T03:33:53.998820Z",
     "iopub.status.idle": "2021-01-03T03:33:54.002662Z",
     "shell.execute_reply": "2021-01-03T03:33:54.001710Z"
    },
    "papermill": {
     "duration": 0.076218,
     "end_time": "2021-01-03T03:33:54.002846",
     "exception": false,
     "start_time": "2021-01-03T03:33:53.926628",
     "status": "completed"
    },
    "tags": []
   },
   "outputs": [],
   "source": [
    "# #import json\n",
    "# f = open('/kaggle/input/cpd-trr-data-20042016/beatlist.txt', 'r')\n",
    "# #out = open ('resistance_levels_by_beat.txt', 'w')\n",
    "# formatted_dict = {}\n",
    "# totBeats = int(f.readline())\n",
    "# for i in range (0,totBeats):\n",
    "#     beat = int(f.readline())\n",
    "#     df_beat = df_pb.loc[df_pb.beat == beat]\n",
    "#     #print('Beat: '+str(beat))\n",
    "#     #out.write(str(beat)+'\\n')\n",
    "#     numPB_1 = df_beat.loc[(df_beat.pb_1 == 1)]\n",
    "#     formatted_dict[beat] = len(numPB_1) \n",
    "#     #out.write(json.dumps(formatted_dict))\n",
    "#     #out.write('\\n')\n",
    "# #print(formatted_dict)"
   ]
  },
  {
   "cell_type": "code",
   "execution_count": 62,
   "metadata": {
    "execution": {
     "iopub.execute_input": "2021-01-03T03:33:54.154777Z",
     "iopub.status.busy": "2021-01-03T03:33:54.154113Z",
     "iopub.status.idle": "2021-01-03T03:33:54.157749Z",
     "shell.execute_reply": "2021-01-03T03:33:54.157031Z"
    },
    "papermill": {
     "duration": 0.077568,
     "end_time": "2021-01-03T03:33:54.157866",
     "exception": false,
     "start_time": "2021-01-03T03:33:54.080298",
     "status": "completed"
    },
    "tags": []
   },
   "outputs": [],
   "source": [
    "# df = pd.DataFrame.from_dict(formatted_dict, orient = 'index')\n",
    "# df.rename(columns={0: \"num_incidents_pb_1\"}, inplace = True)\n",
    "# df_pb_beat = pd.concat([df_pb_beat, df], axis=1)\n",
    "# #df_pb_beat.head()"
   ]
  },
  {
   "cell_type": "code",
   "execution_count": 63,
   "metadata": {
    "execution": {
     "iopub.execute_input": "2021-01-03T03:33:54.297110Z",
     "iopub.status.busy": "2021-01-03T03:33:54.296346Z",
     "iopub.status.idle": "2021-01-03T03:33:54.299869Z",
     "shell.execute_reply": "2021-01-03T03:33:54.300436Z"
    },
    "papermill": {
     "duration": 0.075026,
     "end_time": "2021-01-03T03:33:54.300584",
     "exception": false,
     "start_time": "2021-01-03T03:33:54.225558",
     "status": "completed"
    },
    "tags": []
   },
   "outputs": [],
   "source": [
    "# #import json\n",
    "# f = open('/kaggle/input/cpd-trr-data-20042016/beatlist.txt', 'r')\n",
    "# #out = open ('resistance_levels_by_beat.txt', 'w')\n",
    "# formatted_dict = {}\n",
    "# totBeats = int(f.readline())\n",
    "# for i in range (0,totBeats):\n",
    "#     beat = int(f.readline())\n",
    "#     df_beat = df_pb.loc[df_pb.beat == beat]\n",
    "#     #print('Beat: '+str(beat))\n",
    "#     #out.write(str(beat)+'\\n')\n",
    "#     numPB_2 = df_beat.loc[(df_beat.pb_2 == 1)]\n",
    "#     formatted_dict[beat] = len(numPB_2) \n",
    "#     #out.write(json.dumps(formatted_dict))\n",
    "#     #out.write('\\n')\n",
    "# #print(formatted_dict)"
   ]
  },
  {
   "cell_type": "code",
   "execution_count": 64,
   "metadata": {
    "execution": {
     "iopub.execute_input": "2021-01-03T03:33:54.442129Z",
     "iopub.status.busy": "2021-01-03T03:33:54.441415Z",
     "iopub.status.idle": "2021-01-03T03:33:54.444704Z",
     "shell.execute_reply": "2021-01-03T03:33:54.445319Z"
    },
    "papermill": {
     "duration": 0.075778,
     "end_time": "2021-01-03T03:33:54.445477",
     "exception": false,
     "start_time": "2021-01-03T03:33:54.369699",
     "status": "completed"
    },
    "tags": []
   },
   "outputs": [],
   "source": [
    "# df = pd.DataFrame.from_dict(formatted_dict, orient = 'index')\n",
    "# df.rename(columns={0: \"num_incidents_pb_2\"}, inplace = True)\n",
    "# df_pb_beat = pd.concat([df_pb_beat, df], axis=1)\n",
    "# #df_pb_beat.head()"
   ]
  },
  {
   "cell_type": "code",
   "execution_count": 65,
   "metadata": {
    "execution": {
     "iopub.execute_input": "2021-01-03T03:33:54.590479Z",
     "iopub.status.busy": "2021-01-03T03:33:54.589754Z",
     "iopub.status.idle": "2021-01-03T03:33:54.592579Z",
     "shell.execute_reply": "2021-01-03T03:33:54.591824Z"
    },
    "papermill": {
     "duration": 0.077815,
     "end_time": "2021-01-03T03:33:54.592699",
     "exception": false,
     "start_time": "2021-01-03T03:33:54.514884",
     "status": "completed"
    },
    "tags": []
   },
   "outputs": [],
   "source": [
    "# #import json\n",
    "# f = open('/kaggle/input/cpd-trr-data-20042016/beatlist.txt', 'r')\n",
    "# #out = open ('resistance_levels_by_beat.txt', 'w')\n",
    "# formatted_dict = {}\n",
    "# totBeats = int(f.readline())\n",
    "# for i in range (0,totBeats):\n",
    "#     beat = int(f.readline())\n",
    "#     df_beat = df_pb.loc[df_pb.beat == beat]\n",
    "#     #print('Beat: '+str(beat))\n",
    "#     #out.write(str(beat)+'\\n')\n",
    "#     numPB_3 = df_beat.loc[(df_beat.pb_3 == 1)]\n",
    "#     formatted_dict[beat] = len(numPB_3) \n",
    "#     #out.write(json.dumps(formatted_dict))\n",
    "#     #out.write('\\n')\n",
    "# #print(formatted_dict)"
   ]
  },
  {
   "cell_type": "code",
   "execution_count": 66,
   "metadata": {
    "execution": {
     "iopub.execute_input": "2021-01-03T03:33:54.734736Z",
     "iopub.status.busy": "2021-01-03T03:33:54.734016Z",
     "iopub.status.idle": "2021-01-03T03:33:54.738316Z",
     "shell.execute_reply": "2021-01-03T03:33:54.737774Z"
    },
    "papermill": {
     "duration": 0.075177,
     "end_time": "2021-01-03T03:33:54.738445",
     "exception": false,
     "start_time": "2021-01-03T03:33:54.663268",
     "status": "completed"
    },
    "tags": []
   },
   "outputs": [],
   "source": [
    "# df = df_pb.beat.value_counts()\n",
    "# #df.head()\n",
    "# df_pb_beat = pd.concat([df_pb_beat, df], axis=1)\n",
    "# #len(df)\n",
    "# df_pb_beat.rename(columns={'beat': \"num_trr\"}, inplace = True)"
   ]
  },
  {
   "cell_type": "code",
   "execution_count": 67,
   "metadata": {
    "execution": {
     "iopub.execute_input": "2021-01-03T03:33:54.880547Z",
     "iopub.status.busy": "2021-01-03T03:33:54.879867Z",
     "iopub.status.idle": "2021-01-03T03:33:54.883075Z",
     "shell.execute_reply": "2021-01-03T03:33:54.882438Z"
    },
    "papermill": {
     "duration": 0.076109,
     "end_time": "2021-01-03T03:33:54.883185",
     "exception": false,
     "start_time": "2021-01-03T03:33:54.807076",
     "status": "completed"
    },
    "tags": []
   },
   "outputs": [],
   "source": [
    "# df = pd.DataFrame.from_dict(formatted_dict, orient = 'index')\n",
    "# df.rename(columns={0: \"num_incidents_pb_3\"}, inplace = True)\n",
    "# df_pb_beat = pd.concat([df_pb_beat, df], axis=1)\n",
    "# df_pb_beat.head()"
   ]
  },
  {
   "cell_type": "code",
   "execution_count": 68,
   "metadata": {
    "execution": {
     "iopub.execute_input": "2021-01-03T03:33:55.025320Z",
     "iopub.status.busy": "2021-01-03T03:33:55.024632Z",
     "iopub.status.idle": "2021-01-03T03:33:55.028220Z",
     "shell.execute_reply": "2021-01-03T03:33:55.028759Z"
    },
    "papermill": {
     "duration": 0.07749,
     "end_time": "2021-01-03T03:33:55.028910",
     "exception": false,
     "start_time": "2021-01-03T03:33:54.951420",
     "status": "completed"
    },
    "tags": []
   },
   "outputs": [],
   "source": [
    "# #df_pb_beat.index.name = 'beat'\n",
    "# #df_pb_beat.columns\n",
    "# #df_pb_beat.reset_index(inplace = True)\n",
    "# #df_pb_beat.drop([0], inplace = True)\n",
    "# #df_pb_beat.head(20)\n",
    "# df_pb_beat.to_csv('df_pb_by_beat.csv', index = False)"
   ]
  },
  {
   "cell_type": "code",
   "execution_count": null,
   "metadata": {
    "papermill": {
     "duration": 0.068593,
     "end_time": "2021-01-03T03:33:55.166318",
     "exception": false,
     "start_time": "2021-01-03T03:33:55.097725",
     "status": "completed"
    },
    "tags": []
   },
   "outputs": [],
   "source": []
  }
 ],
 "metadata": {
  "kernelspec": {
   "display_name": "Python 3",
   "language": "python",
   "name": "python3"
  },
  "language_info": {
   "codemirror_mode": {
    "name": "ipython",
    "version": 3
   },
   "file_extension": ".py",
   "mimetype": "text/x-python",
   "name": "python",
   "nbconvert_exporter": "python",
   "pygments_lexer": "ipython3",
   "version": "3.7.6"
  },
  "papermill": {
   "duration": 44.100043,
   "end_time": "2021-01-03T03:33:55.343458",
   "environment_variables": {},
   "exception": null,
   "input_path": "__notebook__.ipynb",
   "output_path": "__notebook__.ipynb",
   "parameters": {},
   "start_time": "2021-01-03T03:33:11.243415",
   "version": "2.1.0"
  }
 },
 "nbformat": 4,
 "nbformat_minor": 4
}
