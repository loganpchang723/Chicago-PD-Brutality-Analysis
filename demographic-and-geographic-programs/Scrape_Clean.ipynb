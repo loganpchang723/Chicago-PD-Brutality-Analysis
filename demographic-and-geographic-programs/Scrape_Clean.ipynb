{
 "cells": [
  {
   "cell_type": "code",
   "execution_count": null,
   "metadata": {
    "collapsed": true
   },
   "outputs": [],
   "source": [
    "from urlparse import urljoin\n",
    "from bs4 import BeautifulSoup\n",
    "import requests"
   ]
  },
  {
   "cell_type": "code",
   "execution_count": null,
   "metadata": {
    "collapsed": true
   },
   "outputs": [],
   "source": [
    "# Lists of charts to find on StatisticalAtlas\n",
    "\n",
    "pd = [\"Population Density by Block Group\"]\n",
    "# aas = [\"Detailed Age and Sex\", \"Detailed Sex Ratio\"]\n",
    "aas = [\"Age Structure\"]\n",
    "rae = [\"Race and Ethnicity\"]\n",
    "ht = [\"Household Types\"]\n",
    "ms = [\"Marital Status\"]\n",
    "no = [\"Citizenship and National Origin\"]\n",
    "# hi = [\"Household Income Percentiles\"]\n",
    "hi = [\"Median Household Income by Race\"]\n",
    "es = [\"Employment Status\"]\n",
    "# fs = [\"On Food Stamps by Race\"]\n",
    "fs = [\"Most Food Stamps by Tract\"]\n",
    "ea = [\"Educational Attainment\", \"Lacking High School Diploma By Race\", \"College Graduates By Race\"]\n",
    "ee = [\"School Enrollment\", \"School Enrollment By Age\"]\n",
    "link = \"https://statisticalatlas.com/block-group/Illinois/Cook-County/010503-1/Age-and-Sex\"\n",
    "# link = \"https://statisticalatlas.com/block-group/Illinois/Cook-County/834800-2/Race-and-Ethnicity\"\n",
    "# link = \"https://statisticalatlas.com/block-group/Illinois/Cook-County/834800-2/Household-Types\"\n",
    "# link = \"https://statisticalatlas.com/block-group/Illinois/Cook-County/834800-2/Marital-Status\"\n",
    "resp = requests.get(link)\n",
    "soup = BeautifulSoup(resp.content)\n",
    "\n",
    "\n",
    "otls = get_charts(soup, aas)\n",
    "# pops = get_pop(soup)\n",
    "for tp in otls:\n",
    "    print tp[0]\n",
    "    print \"\\n\"*3\n",
    "    print tp[1]\n",
    "    print \"\\n\"*10"
   ]
  },
  {
   "cell_type": "code",
   "execution_count": null,
   "metadata": {
    "collapsed": true
   },
   "outputs": [],
   "source": [
    "# def check_has(sp):\n",
    "#     lizt = sp.find_all(\"h2\")\n",
    "#     for h2 in lizt:\n",
    "#         if h2.text == \"Where Are the Charts?\":\n",
    "#             return False\n",
    "#     return True\n",
    "\n",
    "# Custom scraper for pop density\n",
    "\n",
    "def get_pop(sp):\n",
    "    lst = get_charts(sp, [\"Population Density by Block Group\"])\n",
    "    if (lst == \"ERROR\"):\n",
    "        return \"ERROR\"\n",
    "    for tp in lst:\n",
    "        if (len(tp[0]) != len(tp[1])):\n",
    "            return \"ERROR\"\n",
    "        return (tp[0],tp[1])    \n",
    "    \n",
    "def tilc(string, cr):\n",
    "    ans = \"\"\n",
    "    for c in string:\n",
    "        if c == cr:\n",
    "            break\n",
    "        ans += c\n",
    "    return ans\n",
    "\n",
    "# scrapes data from charts\n",
    "\n",
    "def get_charts(sp, title_list):\n",
    "#     lizt = sp.find_all(\"div\", \"row figure-row gray-rounded-box\")\n",
    "    lizt = sp.find_all(\"div\", \"figure-container\")\n",
    "    outlist = []\n",
    "    gdct = 0\n",
    "    for i in lizt:\n",
    "        title = i.find(\"h4\")\n",
    "        if (title == None or (not title.has_attr(\"class\")) or title[\"class\"][0] != \"figure-title\"):\n",
    "            continue\n",
    "#         print title.text\n",
    "        xlist = []\n",
    "        ylist = []\n",
    "        \n",
    "        if (title_list[0] == \"Population Density by Block Group\" or title_list[0] == \"Most Food Stamps by Tract\"):\n",
    "            l1 = i.find_all('a')\n",
    "            for j in l1:\n",
    "                if j.find(\"text\") and j.find(\"text\").has_attr(\"font-style\"):\n",
    "                    xlist.append(j.find(\"text\").text)\n",
    "                    \n",
    "        l2 = i.find_all('g')\n",
    "        \n",
    "        for j in l2:\n",
    "            if j.find(\"title\") and not j.find(\"line\"):\n",
    "                ylist.append(j.find(\"title\").text)\n",
    "            if j.find(\"text\") and j.find(\"text\").has_attr(\"font-style\"):\n",
    "                xlist.append(j.find(\"text\").text)\n",
    "        if (tilc(title.text,'#')[1:] in title_list):\n",
    "            outlist.append((xlist, ylist))\n",
    "            gdct += 1\n",
    "    print gdct\n",
    "    if (gdct != len(title_list)):\n",
    "        return \"ERROR\"\n",
    "    return outlist"
   ]
  },
  {
   "cell_type": "code",
   "execution_count": null,
   "metadata": {
    "collapsed": true
   },
   "outputs": [],
   "source": [
    "# Main scraping operations here\n",
    "\n",
    "plist = []\n",
    "badlist = []\n",
    "# sufs = [\"Population\"]\n",
    "# sufs = [\"Marital-Status\"]\n",
    "# sufs = [\"Household-Income\"]\n",
    "sufs = [\"Age-and-Sex\"]\n",
    "\n",
    "bgf = open(\"/Users/ryu/Desktop/bglist.txt\", 'r')\n",
    "N = int(bgf.readline()[:-1])\n",
    "\n",
    "S = requests.Session()\n",
    "for i in range(N):\n",
    "    name = bgf.readline()[:-1]\n",
    "    print \"Processing:\", name\n",
    "    base = \"https://statisticalatlas.com/block-group/Illinois/Cook-County/\"+name[:-1]+'-'+name[-1]+'/'\n",
    "    for sf in sufs:\n",
    "        link = base + sf\n",
    "        resp = S.get(link)\n",
    "        sp = BeautifulSoup(resp.content)\n",
    "        lx2 = get_charts(sp, aas)\n",
    "#         lx2 = get_pop(sp)\n",
    "        if lx2 == \"ERROR\":\n",
    "            badlist.append(name)\n",
    "            print \"ERROR\"\n",
    "            continue\n",
    "        print \"SUCCESS\"\n",
    "        plist.append((name,lx2))"
   ]
  },
  {
   "cell_type": "code",
   "execution_count": null,
   "metadata": {
    "collapsed": true
   },
   "outputs": [],
   "source": [
    "# Format and print out data\n",
    "\n",
    "bins = [u'35+', u'25-34 ', u'20-24 ', u'18-19', u'15-17', u'10-14', u'5-9', u'3-4']\n",
    "# 0-12, 13-14, 15-17, 18-18, 19-19, 20-20, 21-21, 22-22\n",
    "print str(len(plist))\n",
    "for pl in plist:\n",
    "    print pl[0]\n",
    "    tpt = [0 for i in range(8)]\n",
    "    for i,a in enumerate(pl[1][1][1]):\n",
    "        if (i%2):\n",
    "            tpt[bins.index(pl[1][1][0][i/2])] = a[:-1]\n",
    "    for i in tpt:\n",
    "        print i,\n",
    "#     if len(pl[1][1][0])*2 != len(pl[1][1][1]) or len(pl[1][1][0]) != 8:\n",
    "#         print \"BOOHBAH\"\n",
    "#     for i,a in enumerate(pl[1][1][1]):\n",
    "#         if (i%2):\n",
    "#             print a[:-1],\n",
    "    print"
   ]
  }
 ],
 "metadata": {
  "kernelspec": {
   "display_name": "Python 2",
   "language": "python",
   "name": "python2"
  },
  "language_info": {
   "codemirror_mode": {
    "name": "ipython",
    "version": 2
   },
   "file_extension": ".py",
   "mimetype": "text/x-python",
   "name": "python",
   "nbconvert_exporter": "python",
   "pygments_lexer": "ipython2",
   "version": "2.7.3"
  }
 },
 "nbformat": 4,
 "nbformat_minor": 2
}
